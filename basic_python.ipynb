{
  "nbformat": 4,
  "nbformat_minor": 0,
  "metadata": {
    "colab": {
      "name": "CHE1147_01A_Ishant.ipynb",
      "provenance": [],
      "collapsed_sections": []
    },
    "kernelspec": {
      "name": "python3",
      "display_name": "Python 3"
    },
    "language_info": {
      "name": "python"
    }
  },
  "cells": [
    {
      "cell_type": "markdown",
      "metadata": {
        "id": "yRotpP9_k8IV"
      },
      "source": [
        "**Name: Ishant Rawat**\n",
        "\n",
        "**Student ID - 1007084824**"
      ]
    },
    {
      "cell_type": "markdown",
      "metadata": {
        "id": "6VHWhtmpyuiw"
      },
      "source": [
        "**1.1 TUPLES**"
      ]
    },
    {
      "cell_type": "code",
      "metadata": {
        "id": "0CdIJ7T7uIZG"
      },
      "source": [
        "import pandas as pd\n",
        "import numpy as np\n",
        "import matplotlib.pyplot as plt\n",
        "import datetime\n",
        "import io\n",
        "import warnings\n",
        "warnings.filterwarnings('ignore')"
      ],
      "execution_count": null,
      "outputs": []
    },
    {
      "cell_type": "markdown",
      "metadata": {
        "id": "kSGW39NqlVyJ"
      },
      "source": [
        "1.  Create the tuple named appstuple with the string elements ”Google”, ”Facebook”,”Amazon”, ”Netflix”, ”AirBnB”, ”Instagram”."
      ]
    },
    {
      "cell_type": "code",
      "metadata": {
        "id": "710DBPNey3Qe",
        "colab": {
          "base_uri": "https://localhost:8080/"
        },
        "outputId": "7ee3620d-081a-47ac-8e7b-67cdc6428d3a"
      },
      "source": [
        "apps_tuples = (\"Google\",\"Facebook\",\"Amazon\",\"Netflix\",\"AirBnB\",\"Instagram\")\n",
        "print(apps_tuples)"
      ],
      "execution_count": null,
      "outputs": [
        {
          "output_type": "stream",
          "name": "stdout",
          "text": [
            "('Google', 'Facebook', 'Amazon', 'Netflix', 'AirBnB', 'Instagram')\n"
          ]
        }
      ]
    },
    {
      "cell_type": "markdown",
      "metadata": {
        "id": "HVLtg6H2lX_w"
      },
      "source": [
        "2.  Extract the second element by using its index and the last element by using itsneg-ativeindex."
      ]
    },
    {
      "cell_type": "code",
      "metadata": {
        "colab": {
          "base_uri": "https://localhost:8080/"
        },
        "id": "tTd7OiV3zNUX",
        "outputId": "2b7a6165-55cb-4da7-8b05-f41bd321d5d1"
      },
      "source": [
        "print('Second element:',apps_tuples[1])\n",
        "print('Last element:',apps_tuples[-1])"
      ],
      "execution_count": null,
      "outputs": [
        {
          "output_type": "stream",
          "name": "stdout",
          "text": [
            "Second element: Facebook\n",
            "Last element: Instagram\n"
          ]
        }
      ]
    },
    {
      "cell_type": "markdown",
      "metadata": {
        "id": "eoo4ILKDl2Ja"
      },
      "source": [
        "\n",
        "3.  Slice the elements from ”Facebook” to ”Netflix”inclusiveon both ends."
      ]
    },
    {
      "cell_type": "code",
      "metadata": {
        "colab": {
          "base_uri": "https://localhost:8080/"
        },
        "id": "g0_8AZ4Ez7aX",
        "outputId": "7bc05ed3-3538-487c-ed3d-a06ec59db0b6"
      },
      "source": [
        "apps_tuples[1:4]"
      ],
      "execution_count": null,
      "outputs": [
        {
          "output_type": "execute_result",
          "data": {
            "text/plain": [
              "('Facebook', 'Amazon', 'Netflix')"
            ]
          },
          "metadata": {},
          "execution_count": 24
        }
      ]
    },
    {
      "cell_type": "markdown",
      "metadata": {
        "id": "xtUVEsaKl6Vp"
      },
      "source": [
        "4.  Try appending the element ”Messenger” to the tuple.  What do you observe?  Why?"
      ]
    },
    {
      "cell_type": "markdown",
      "metadata": {
        "id": "eayQ8v0Rl-Uj"
      },
      "source": [
        "Tuples are immutable meaning we cannot alter or change the elements of a tuple unlike lists and dictionaries."
      ]
    },
    {
      "cell_type": "markdown",
      "metadata": {
        "id": "0YSC1l6C05Xf"
      },
      "source": [
        "**1.2 Lists**"
      ]
    },
    {
      "cell_type": "markdown",
      "metadata": {
        "id": "ay67YVPTmNDt"
      },
      "source": [
        "1.  Define the listappslistwith the same elements as the tuple above."
      ]
    },
    {
      "cell_type": "code",
      "metadata": {
        "id": "JGuCKo_D0uZN",
        "colab": {
          "base_uri": "https://localhost:8080/"
        },
        "outputId": "bd2ead21-ae31-4723-8013-cc57286b24c6"
      },
      "source": [
        "apps_lists = [\"Google\",\"Facebook\",\"Amazon\",\"Netflix\",\"AirBnB\",\"Instagram\"]\n",
        "print(apps_lists)"
      ],
      "execution_count": null,
      "outputs": [
        {
          "output_type": "stream",
          "name": "stdout",
          "text": [
            "['Google', 'Facebook', 'Amazon', 'Netflix', 'AirBnB', 'Instagram']\n"
          ]
        }
      ]
    },
    {
      "cell_type": "markdown",
      "metadata": {
        "id": "34TXB7TdmUG3"
      },
      "source": [
        "2.  Slice the first three elements of the list with theshorthandsyntax, i.e.notby typingexplicitly all the indexes 0, 1, and 2; use the symbol:instead."
      ]
    },
    {
      "cell_type": "code",
      "metadata": {
        "colab": {
          "base_uri": "https://localhost:8080/"
        },
        "id": "_8IeqFMB0TTM",
        "outputId": "12fbdb22-a953-44b8-c365-885b87bf4416"
      },
      "source": [
        "print('First three elements:', apps_lists[:3])"
      ],
      "execution_count": null,
      "outputs": [
        {
          "output_type": "stream",
          "name": "stdout",
          "text": [
            "First three elements: ['Google', 'Facebook', 'Amazon']\n"
          ]
        }
      ]
    },
    {
      "cell_type": "markdown",
      "metadata": {
        "id": "uK52ztxzmi-Y"
      },
      "source": [
        "3.  Slice all the elements after index 3 inclusively with the shorthand syntax."
      ]
    },
    {
      "cell_type": "code",
      "metadata": {
        "colab": {
          "base_uri": "https://localhost:8080/"
        },
        "id": "6fvfVZbi4xqX",
        "outputId": "e73ed21d-635f-461f-9bb5-ac21afeac19d"
      },
      "source": [
        "print('All elements after index 3:',apps_lists[3:])"
      ],
      "execution_count": null,
      "outputs": [
        {
          "output_type": "stream",
          "name": "stdout",
          "text": [
            "All elements after index 3: ['Netflix', 'AirBnB', 'Instagram']\n"
          ]
        }
      ]
    },
    {
      "cell_type": "markdown",
      "metadata": {
        "id": "diSbo5lwmuJX"
      },
      "source": [
        "4.  Append the element ’Messenger’ to the end of the list and insert the element ’Youtube’at index 1."
      ]
    },
    {
      "cell_type": "code",
      "metadata": {
        "colab": {
          "base_uri": "https://localhost:8080/"
        },
        "id": "ylkJ2NQP5uXZ",
        "outputId": "f2be227c-ae28-4b02-f15a-3ac53c76e0fe"
      },
      "source": [
        "apps_lists.append(\"Messenger\")\n",
        "apps_lists.insert(1,\"Youtube\")\n",
        "apps_lists"
      ],
      "execution_count": null,
      "outputs": [
        {
          "output_type": "execute_result",
          "data": {
            "text/plain": [
              "['Google',\n",
              " 'Youtube',\n",
              " 'Facebook',\n",
              " 'Amazon',\n",
              " 'Netflix',\n",
              " 'AirBnB',\n",
              " 'Instagram',\n",
              " 'Messenger']"
            ]
          },
          "metadata": {},
          "execution_count": 40
        }
      ]
    },
    {
      "cell_type": "markdown",
      "metadata": {
        "id": "n9DXkbsAm0Yg"
      },
      "source": [
        "5.  Remove element ’Facebook’ and confirm with the functioninwhether ’Facebook’ hasbeen removed from the list."
      ]
    },
    {
      "cell_type": "code",
      "metadata": {
        "id": "ZvqqbmAU6dFn"
      },
      "source": [
        "apps_lists.remove(\"Facebook\")"
      ],
      "execution_count": null,
      "outputs": []
    },
    {
      "cell_type": "code",
      "metadata": {
        "id": "Lc9HmzT3f0WY"
      },
      "source": [
        "def check(word):\n",
        "\n",
        "  if 'Facebook' in apps_lists:\n",
        "    print('Element found:')\n",
        "  else:\n",
        "    print('Element not present')"
      ],
      "execution_count": null,
      "outputs": []
    },
    {
      "cell_type": "code",
      "metadata": {
        "colab": {
          "base_uri": "https://localhost:8080/"
        },
        "id": "kzMFLntJhC5t",
        "outputId": "e09faadf-6c34-41ae-f619-f473a053413f"
      },
      "source": [
        "check('Facebook')"
      ],
      "execution_count": null,
      "outputs": [
        {
          "output_type": "stream",
          "name": "stdout",
          "text": [
            "Element not present\n"
          ]
        }
      ]
    },
    {
      "cell_type": "markdown",
      "metadata": {
        "id": "7fkaZVHUm-z-"
      },
      "source": [
        "6.  Concatenate the last list with the list [’Linkedin’, ’Twitter’]."
      ]
    },
    {
      "cell_type": "code",
      "metadata": {
        "colab": {
          "base_uri": "https://localhost:8080/"
        },
        "id": "ikfeAQHw7XtE",
        "outputId": "8fad61be-e079-4a0a-b7d4-6554303f4870"
      },
      "source": [
        "new_list = [\"LinkedIn\",\"Twitter\"]\n",
        "apps_lists = apps_lists + new_list\n",
        "apps_lists"
      ],
      "execution_count": null,
      "outputs": [
        {
          "output_type": "execute_result",
          "data": {
            "text/plain": [
              "['Google',\n",
              " 'Youtube',\n",
              " 'Amazon',\n",
              " 'Netflix',\n",
              " 'AirBnB',\n",
              " 'Instagram',\n",
              " 'Messenger',\n",
              " 'LinkedIn',\n",
              " 'Twitter']"
            ]
          },
          "metadata": {},
          "execution_count": 46
        }
      ]
    },
    {
      "cell_type": "markdown",
      "metadata": {
        "id": "FBnd8HHy7zXX"
      },
      "source": [
        "**1.3 Dictionaries**"
      ]
    },
    {
      "cell_type": "markdown",
      "metadata": {
        "id": "jrdlcB53nET7"
      },
      "source": [
        "1.  Create the dict namedappsdictwith the samevaluesas in 1.1.1.  andkeys:  app0,app1, etc."
      ]
    },
    {
      "cell_type": "code",
      "metadata": {
        "id": "JlNT1Ygv7np6",
        "colab": {
          "base_uri": "https://localhost:8080/"
        },
        "outputId": "4a66f79b-50e1-4de8-b888-03acd0670331"
      },
      "source": [
        "apps_dict = {\"app0\": \"Google\",\"app1\": \"Facebook\", \"app2\": \"Amazon\",\\\n",
        "             \"app3\":\"Netflix\",\"app4\":\"AirBnb\",\"app5\":\"Instagram\"}\n",
        "print(apps_dict)"
      ],
      "execution_count": null,
      "outputs": [
        {
          "output_type": "stream",
          "name": "stdout",
          "text": [
            "{'app0': 'Google', 'app1': 'Facebook', 'app2': 'Amazon', 'app3': 'Netflix', 'app4': 'AirBnb', 'app5': 'Instagram'}\n"
          ]
        }
      ]
    },
    {
      "cell_type": "markdown",
      "metadata": {
        "id": "9oJbfLqbnOJa"
      },
      "source": [
        "2.  Access the element with key app1; then replace its value with ’Youtube’."
      ]
    },
    {
      "cell_type": "code",
      "metadata": {
        "colab": {
          "base_uri": "https://localhost:8080/",
          "height": 35
        },
        "id": "pOl97JBM8dYu",
        "outputId": "9d2d02cc-95ce-4c38-d49a-56b9c179a457"
      },
      "source": [
        "apps_dict[\"app1\"]"
      ],
      "execution_count": null,
      "outputs": [
        {
          "output_type": "execute_result",
          "data": {
            "application/vnd.google.colaboratory.intrinsic+json": {
              "type": "string"
            },
            "text/plain": [
              "'Facebook'"
            ]
          },
          "metadata": {},
          "execution_count": 14
        }
      ]
    },
    {
      "cell_type": "code",
      "metadata": {
        "id": "SFlhOU1T9JO8",
        "colab": {
          "base_uri": "https://localhost:8080/"
        },
        "outputId": "945f81df-7449-4a54-ffec-c54728b387cb"
      },
      "source": [
        "apps_dict[\"app1\"]=\"Youtube\"\n",
        "print('after replacement a1:',apps_dict[\"app1\"])\n"
      ],
      "execution_count": null,
      "outputs": [
        {
          "output_type": "stream",
          "name": "stdout",
          "text": [
            "after replacement a1: Youtube\n"
          ]
        }
      ]
    },
    {
      "cell_type": "markdown",
      "metadata": {
        "id": "rzR9xU6Jni5-"
      },
      "source": [
        "3.  Add a new key-value pair:  app6-Messenger."
      ]
    },
    {
      "cell_type": "code",
      "metadata": {
        "id": "mzrwb_3d9jZz",
        "colab": {
          "base_uri": "https://localhost:8080/"
        },
        "outputId": "fdf84698-40ae-4174-a5dc-00c94ce8b366"
      },
      "source": [
        "apps_dict[\"app6\"]=\"Messenger\"\n",
        "print(apps_dict['app6'])"
      ],
      "execution_count": null,
      "outputs": [
        {
          "output_type": "stream",
          "name": "stdout",
          "text": [
            "Messenger\n"
          ]
        }
      ]
    },
    {
      "cell_type": "markdown",
      "metadata": {
        "id": "saDWsinKnzVb"
      },
      "source": [
        "4.  What does the syntax:  appsdict[”app1”]=”Messenger” do?\n",
        "**Answer: The above syntax replaces the word associated with key \"app1\" = facebook to messenger**"
      ]
    },
    {
      "cell_type": "code",
      "metadata": {
        "colab": {
          "base_uri": "https://localhost:8080/"
        },
        "id": "ZU-Jmjt198Fn",
        "outputId": "9cc494e5-f9bc-4c3f-84e9-e06f38315cb5"
      },
      "source": [
        "apps_dict[\"app1\"]=\"Messenger\"\n",
        "apps_dict"
      ],
      "execution_count": null,
      "outputs": [
        {
          "output_type": "execute_result",
          "data": {
            "text/plain": [
              "{'app0': 'Google',\n",
              " 'app1': 'Messenger',\n",
              " 'app2': 'Amazon',\n",
              " 'app3': 'Netflix',\n",
              " 'app4': 'AirBnb',\n",
              " 'app5': 'Instagram',\n",
              " 'app6': 'Messenger'}"
            ]
          },
          "metadata": {},
          "execution_count": 17
        }
      ]
    },
    {
      "cell_type": "markdown",
      "metadata": {
        "id": "6-TuQf8VoI41"
      },
      "source": [
        "5.  What does the syntax:  appsdict[”App1”]=”Facebook” do?  Why?\n",
        "**The above syntax adds a new key-value pair to the dictionary because dictionaries are case sensitive**"
      ]
    },
    {
      "cell_type": "code",
      "metadata": {
        "colab": {
          "base_uri": "https://localhost:8080/"
        },
        "id": "pU_p4ZkZAxTy",
        "outputId": "932a8806-230e-4256-f2f6-22fc8b98f817"
      },
      "source": [
        "apps_dict[\"App1\"]=\"Facebook\" \n",
        "apps_dict"
      ],
      "execution_count": null,
      "outputs": [
        {
          "output_type": "execute_result",
          "data": {
            "text/plain": [
              "{'App1': 'Facebook',\n",
              " 'app0': 'Google',\n",
              " 'app1': 'Messenger',\n",
              " 'app2': 'Amazon',\n",
              " 'app3': 'Netflix',\n",
              " 'app4': 'AirBnb',\n",
              " 'app5': 'Instagram',\n",
              " 'app6': 'Messenger'}"
            ]
          },
          "metadata": {},
          "execution_count": 18
        }
      ]
    },
    {
      "cell_type": "markdown",
      "metadata": {
        "id": "C-mi5mgcojMU"
      },
      "source": [
        "6.  What does the syntax:  del appsdict[”App1”] do?\n",
        "**The above syntax deletes the key 'A1' from the dicitonary**"
      ]
    },
    {
      "cell_type": "code",
      "metadata": {
        "id": "C5RWub1VBXas"
      },
      "source": [
        "del apps_dict[\"App1\"] "
      ],
      "execution_count": null,
      "outputs": []
    },
    {
      "cell_type": "code",
      "metadata": {
        "colab": {
          "base_uri": "https://localhost:8080/"
        },
        "id": "rbPnIfpCBsIb",
        "outputId": "b1ca896f-a672-4ac6-9842-7d8169f57cbe"
      },
      "source": [
        "apps_dict"
      ],
      "execution_count": null,
      "outputs": [
        {
          "output_type": "execute_result",
          "data": {
            "text/plain": [
              "{'app0': 'Google',\n",
              " 'app1': 'Messenger',\n",
              " 'app2': 'Amazon',\n",
              " 'app3': 'Netflix',\n",
              " 'app4': 'AirBnb',\n",
              " 'app5': 'Instagram',\n",
              " 'app6': 'Messenger'}"
            ]
          },
          "metadata": {},
          "execution_count": 20
        }
      ]
    },
    {
      "cell_type": "markdown",
      "metadata": {
        "id": "fyjYDTYlB320"
      },
      "source": [
        "**1.4    List comprehension**"
      ]
    },
    {
      "cell_type": "markdown",
      "metadata": {
        "id": "wYWKT_caoytT"
      },
      "source": [
        "1.  Create the list namedvalueswith integers:  7, 12, 9, 18, 15.\n",
        "Create a list comprehension that takes the objectvaluesand returns the square ofevery value."
      ]
    },
    {
      "cell_type": "code",
      "metadata": {
        "id": "ilJbDKhEBxIK",
        "colab": {
          "base_uri": "https://localhost:8080/"
        },
        "outputId": "47e81861-3217-4e93-f38e-ec384085e498"
      },
      "source": [
        "values = [7,12,9,18,15]\n",
        "square_values = [x**2 for x in values]\n",
        "print(square_values)"
      ],
      "execution_count": null,
      "outputs": [
        {
          "output_type": "stream",
          "name": "stdout",
          "text": [
            "[49, 144, 81, 324, 225]\n"
          ]
        }
      ]
    },
    {
      "cell_type": "markdown",
      "metadata": {
        "id": "e572HQjjqDxX"
      },
      "source": [
        "1.  Generate  a  sample  of  10  random  integer  numbers  between  600  and  900  (hint:   useNumpy’s randomintegers function).\n",
        "2.  Create a function calledcreditscorethat reads the sample and returns the output’Low’ when the input is [600, 699], ’Medium’ when in [700, 799] and ’High’ when in[800, 900]."
      ]
    },
    {
      "cell_type": "code",
      "metadata": {
        "id": "QucS6H7Dzwm6",
        "colab": {
          "base_uri": "https://localhost:8080/"
        },
        "outputId": "05e8246a-c310-4fa8-96b4-8e0592500fa2"
      },
      "source": [
        "samples = np.random.randint(600,900,10)\n",
        "def credit_score(x):\n",
        "  #for x in samples:\n",
        "  if x in range(600,699):\n",
        "    print(x,'Low')\n",
        "  elif x in range(700,799):\n",
        "    print(x,'Medium')\n",
        "  elif x in range(800,900):\n",
        "    print(x,'High')\n",
        "  else:\n",
        "    print(x,'invalid')\n",
        "for x in samples:\n",
        "  credit_score(x)"
      ],
      "execution_count": null,
      "outputs": [
        {
          "output_type": "stream",
          "name": "stdout",
          "text": [
            "610 Low\n",
            "844 High\n",
            "802 High\n",
            "671 Low\n",
            "649 Low\n",
            "681 Low\n",
            "860 High\n",
            "700 Medium\n",
            "747 Medium\n",
            "714 Medium\n"
          ]
        }
      ]
    },
    {
      "cell_type": "markdown",
      "metadata": {
        "id": "kQrxYy9q12cH"
      },
      "source": [
        "**2. Linear Algebra in numpy**\n",
        "\n",
        "**2.1 Matrix Calculations**"
      ]
    },
    {
      "cell_type": "markdown",
      "metadata": {
        "id": "sDD6yrZgrBPH"
      },
      "source": [
        "1.  Create matrices A and B as numpy arrays and calculate2A, -3BandA+B"
      ]
    },
    {
      "cell_type": "code",
      "metadata": {
        "id": "-ei9AoAk1s8q"
      },
      "source": [
        "A = np.array([[2,1],[1,1],[2,3]])\n",
        "B = np.array([[-4,1],[3,-1],[-2,1]])"
      ],
      "execution_count": null,
      "outputs": []
    },
    {
      "cell_type": "code",
      "metadata": {
        "colab": {
          "base_uri": "https://localhost:8080/"
        },
        "id": "KlCG1ua12zZc",
        "outputId": "aa8660cf-914c-414a-8f0d-705f5e9832d7"
      },
      "source": [
        "2*A"
      ],
      "execution_count": null,
      "outputs": [
        {
          "output_type": "execute_result",
          "data": {
            "text/plain": [
              "array([[4, 2],\n",
              "       [2, 2],\n",
              "       [4, 6]])"
            ]
          },
          "metadata": {},
          "execution_count": 24
        }
      ]
    },
    {
      "cell_type": "code",
      "metadata": {
        "id": "g2u7LvVe3J3y"
      },
      "source": [
        "mat_1 = (-3*B)"
      ],
      "execution_count": null,
      "outputs": []
    },
    {
      "cell_type": "code",
      "metadata": {
        "id": "zuNuw0v23M5q"
      },
      "source": [
        "mat_2 = (A+B)"
      ],
      "execution_count": null,
      "outputs": []
    },
    {
      "cell_type": "markdown",
      "metadata": {
        "id": "1srn6AaXrIXW"
      },
      "source": [
        "2.  Create matrices A and B as numpy arrays and calculate A*B and the inverse of B"
      ]
    },
    {
      "cell_type": "code",
      "metadata": {
        "id": "jYMEqhtl3TEP"
      },
      "source": [
        "A = np.array([[2,-6],[-4,0],[1,5]])\n",
        "B = np.array([[1,1],[2,3]])"
      ],
      "execution_count": null,
      "outputs": []
    },
    {
      "cell_type": "code",
      "metadata": {
        "id": "qQGFdUT_3qXE"
      },
      "source": [
        "mat_3 = A@B"
      ],
      "execution_count": null,
      "outputs": []
    },
    {
      "cell_type": "code",
      "metadata": {
        "colab": {
          "base_uri": "https://localhost:8080/"
        },
        "id": "iwh0errp3v5D",
        "outputId": "df11a8ec-87f8-4826-8b69-e9788c537543"
      },
      "source": [
        "mat_inv = print(np.linalg.inv(B))"
      ],
      "execution_count": null,
      "outputs": [
        {
          "output_type": "stream",
          "name": "stdout",
          "text": [
            "[[ 3. -1.]\n",
            " [-2.  1.]]\n"
          ]
        }
      ]
    },
    {
      "cell_type": "markdown",
      "metadata": {
        "id": "AiE2ejY_rSpk"
      },
      "source": [
        "3.  Replace the values of the elements with abs(value)≥3 with the value 3.  Also, calculatethedeterminantof the original matrix A"
      ]
    },
    {
      "cell_type": "code",
      "metadata": {
        "colab": {
          "base_uri": "https://localhost:8080/"
        },
        "id": "0MLDBF-14tSt",
        "outputId": "8abfce4e-4adf-4c3d-f6b7-9ce63e5d9bfe"
      },
      "source": [
        "A = np.array([[1,0,4,1],[-2,1,-3,2],[0,0,0,2],[3,2,1,-1]])\n",
        "A"
      ],
      "execution_count": null,
      "outputs": [
        {
          "output_type": "execute_result",
          "data": {
            "text/plain": [
              "array([[ 1,  0,  4,  1],\n",
              "       [-2,  1, -3,  2],\n",
              "       [ 0,  0,  0,  2],\n",
              "       [ 3,  2,  1, -1]])"
            ]
          },
          "metadata": {},
          "execution_count": 30
        }
      ]
    },
    {
      "cell_type": "code",
      "metadata": {
        "colab": {
          "base_uri": "https://localhost:8080/"
        },
        "id": "WtoCkOMe6KzL",
        "outputId": "d5378ef6-d841-4c2a-81d0-ae07c4f94010"
      },
      "source": [
        "new_A = np.where(abs(A) >= 3,3, A)\n",
        "new_A"
      ],
      "execution_count": null,
      "outputs": [
        {
          "output_type": "execute_result",
          "data": {
            "text/plain": [
              "array([[ 1,  0,  3,  1],\n",
              "       [-2,  1,  3,  2],\n",
              "       [ 0,  0,  0,  2],\n",
              "       [ 3,  2,  1, -1]])"
            ]
          },
          "metadata": {},
          "execution_count": 31
        }
      ]
    },
    {
      "cell_type": "code",
      "metadata": {
        "colab": {
          "base_uri": "https://localhost:8080/"
        },
        "id": "ABkCxeaP8tmq",
        "outputId": "6be7902f-aa31-46ff-b906-422ea83966f6"
      },
      "source": [
        "det_A = np.linalg.det(new_A)\n",
        "det_A"
      ],
      "execution_count": null,
      "outputs": [
        {
          "output_type": "execute_result",
          "data": {
            "text/plain": [
              "51.999999999999986"
            ]
          },
          "metadata": {},
          "execution_count": 32
        }
      ]
    },
    {
      "cell_type": "markdown",
      "metadata": {
        "id": "9I40NBObPeUL"
      },
      "source": [
        "**2.2    Norms and eigenvalues**"
      ]
    },
    {
      "cell_type": "markdown",
      "metadata": {
        "id": "jA1XZ3H6rdV4"
      },
      "source": [
        "1.  Calculate themaximumandEuclidean or Frobenius norm of each of the three vectors:"
      ]
    },
    {
      "cell_type": "code",
      "metadata": {
        "id": "EgFRWbRb6Txd",
        "colab": {
          "base_uri": "https://localhost:8080/"
        },
        "outputId": "e5028f74-1298-4ba2-cf50-0812572c057b"
      },
      "source": [
        "x1 = np.array([1,-2,3])\n",
        "x2 = np.array([2,0,1,-2])\n",
        "x3 = np.array([0,1,-4,2,-1])\n",
        "print('Infinty norm of x1:', np.linalg.norm(x1,ord=np.inf))\n",
        "print('Infinty norm of x2:', np.linalg.norm(x2,ord=np.inf))\n",
        "print('Infinty norm of x3:', np.linalg.norm(x3,ord=np.inf))\n",
        "\n",
        "print('Euclidean norm of x1:', np.linalg.norm(x1,ord=2))\n",
        "print('Euclidean norm of x2:', np.linalg.norm(x2,ord=2))\n",
        "print('Euclidean norm of x3:', np.linalg.norm(x3,ord=2))"
      ],
      "execution_count": null,
      "outputs": [
        {
          "output_type": "stream",
          "name": "stdout",
          "text": [
            "Infinty norm of x1: 3.0\n",
            "Infinty norm of x2: 2.0\n",
            "Infinty norm of x3: 4.0\n",
            "Euclidean norm of x1: 3.7416573867739413\n",
            "Euclidean norm of x2: 3.0\n",
            "Euclidean norm of x3: 4.69041575982343\n"
          ]
        }
      ]
    },
    {
      "cell_type": "markdown",
      "metadata": {
        "id": "4tbN_l47rpi0"
      },
      "source": [
        "2.  Calculate the l2 and l∞ norms of the matrices:"
      ]
    },
    {
      "cell_type": "code",
      "metadata": {
        "colab": {
          "base_uri": "https://localhost:8080/"
        },
        "id": "4e7XNoMdF4n2",
        "outputId": "ccf0a986-a86f-4959-9750-1145608c9365"
      },
      "source": [
        "A_1 = np.array([[1,-2],[4,3]])\n",
        "A_2 = np.array([[1,0,2],[0,1,-1],[-1,1,1]])\n",
        "\n",
        "print('L2 norm of A_1', np.linalg.norm(A_1,2) )\n",
        "print('L2 norm of A_2', np.linalg.norm(A_2,2) )\n",
        "\n",
        "print('L-infinty norm of A_1', np.linalg.norm(A_1,np.inf) )\n",
        "print('L-infinty norm of A_2', np.linalg.norm(A_2,np.inf) )"
      ],
      "execution_count": null,
      "outputs": [
        {
          "output_type": "stream",
          "name": "stdout",
          "text": [
            "L2 norm of A_1 5.0197648378370845\n",
            "L2 norm of A_2 2.4998281017161057\n",
            "L-infinty norm of A_1 7.0\n",
            "L-infinty norm of A_2 3.0\n"
          ]
        }
      ]
    },
    {
      "cell_type": "markdown",
      "metadata": {
        "id": "I1tHyy29sFkx"
      },
      "source": [
        "3.  Calculate the eigenvalues of the matrix:"
      ]
    },
    {
      "cell_type": "code",
      "metadata": {
        "colab": {
          "base_uri": "https://localhost:8080/"
        },
        "id": "nhaO3JRL60zq",
        "outputId": "149951a9-2cae-4349-f8f7-a9779669efc6"
      },
      "source": [
        "A = np.array([[-2,-2,3],[-10,-1,6],[10,-2,-9]])\n",
        "print(np.linalg.eigvals(A))"
      ],
      "execution_count": null,
      "outputs": [
        {
          "output_type": "stream",
          "name": "stdout",
          "text": [
            "[-12.   3.  -3.]\n"
          ]
        }
      ]
    },
    {
      "cell_type": "markdown",
      "metadata": {
        "id": "kmf_woB08R6w"
      },
      "source": [
        "**3.    Pandas manipulations**"
      ]
    },
    {
      "cell_type": "markdown",
      "metadata": {
        "id": "KqzyYDIBsLhc"
      },
      "source": [
        "1.  Import fileGasprices.xlsas a pandas DataFrame.  Create a function that replacesNaN with the interpolation between the adjacent values (i.e.  the prior and the subse-quent to the NaN). Donotuse existing interpolation functions, built your own."
      ]
    },
    {
      "cell_type": "code",
      "metadata": {
        "id": "-gPS0kH1Dg5n",
        "colab": {
          "base_uri": "https://localhost:8080/",
          "height": 204
        },
        "outputId": "ce0242db-f27f-4b77-d9b9-19018c6658e8"
      },
      "source": [
        "df = pd.read_excel('/content/Gas_prices-1.xlsx')\n",
        "df.head()"
      ],
      "execution_count": null,
      "outputs": [
        {
          "output_type": "execute_result",
          "data": {
            "text/html": [
              "<div>\n",
              "<style scoped>\n",
              "    .dataframe tbody tr th:only-of-type {\n",
              "        vertical-align: middle;\n",
              "    }\n",
              "\n",
              "    .dataframe tbody tr th {\n",
              "        vertical-align: top;\n",
              "    }\n",
              "\n",
              "    .dataframe thead th {\n",
              "        text-align: right;\n",
              "    }\n",
              "</style>\n",
              "<table border=\"1\" class=\"dataframe\">\n",
              "  <thead>\n",
              "    <tr style=\"text-align: right;\">\n",
              "      <th></th>\n",
              "      <th>Date</th>\n",
              "      <th>Price_pl</th>\n",
              "    </tr>\n",
              "  </thead>\n",
              "  <tbody>\n",
              "    <tr>\n",
              "      <th>0</th>\n",
              "      <td>12/11/2015</td>\n",
              "      <td>1.049</td>\n",
              "    </tr>\n",
              "    <tr>\n",
              "      <th>1</th>\n",
              "      <td>19/11/2015</td>\n",
              "      <td>0.999</td>\n",
              "    </tr>\n",
              "    <tr>\n",
              "      <th>2</th>\n",
              "      <td>7/12/2015</td>\n",
              "      <td>0.999</td>\n",
              "    </tr>\n",
              "    <tr>\n",
              "      <th>3</th>\n",
              "      <td>19/12/2015</td>\n",
              "      <td>1.019</td>\n",
              "    </tr>\n",
              "    <tr>\n",
              "      <th>4</th>\n",
              "      <td>04/01/2016</td>\n",
              "      <td>1.019</td>\n",
              "    </tr>\n",
              "  </tbody>\n",
              "</table>\n",
              "</div>"
            ],
            "text/plain": [
              "         Date  Price_pl\n",
              "0  12/11/2015     1.049\n",
              "1  19/11/2015     0.999\n",
              "2   7/12/2015     0.999\n",
              "3  19/12/2015     1.019\n",
              "4  04/01/2016     1.019"
            ]
          },
          "metadata": {},
          "execution_count": 3
        }
      ]
    },
    {
      "cell_type": "code",
      "metadata": {
        "id": "hy--DK36-Izk",
        "colab": {
          "base_uri": "https://localhost:8080/"
        },
        "outputId": "ad2de769-81a5-4d4e-8696-0d49e773a7bf"
      },
      "source": [
        "df.isna().sum()"
      ],
      "execution_count": null,
      "outputs": [
        {
          "output_type": "execute_result",
          "data": {
            "text/plain": [
              "Date        0\n",
              "Price_pl    4\n",
              "dtype: int64"
            ]
          },
          "metadata": {},
          "execution_count": 4
        }
      ]
    },
    {
      "cell_type": "code",
      "metadata": {
        "colab": {
          "base_uri": "https://localhost:8080/",
          "height": 173
        },
        "id": "1g9c4PAV3E26",
        "outputId": "6e17a5c9-6d23-48ab-c27f-16d9dc8e3fcd"
      },
      "source": [
        "df[df['Price_pl'].isnull()==True]\n"
      ],
      "execution_count": null,
      "outputs": [
        {
          "output_type": "execute_result",
          "data": {
            "text/html": [
              "<div>\n",
              "<style scoped>\n",
              "    .dataframe tbody tr th:only-of-type {\n",
              "        vertical-align: middle;\n",
              "    }\n",
              "\n",
              "    .dataframe tbody tr th {\n",
              "        vertical-align: top;\n",
              "    }\n",
              "\n",
              "    .dataframe thead th {\n",
              "        text-align: right;\n",
              "    }\n",
              "</style>\n",
              "<table border=\"1\" class=\"dataframe\">\n",
              "  <thead>\n",
              "    <tr style=\"text-align: right;\">\n",
              "      <th></th>\n",
              "      <th>Date</th>\n",
              "      <th>Price_pl</th>\n",
              "    </tr>\n",
              "  </thead>\n",
              "  <tbody>\n",
              "    <tr>\n",
              "      <th>12</th>\n",
              "      <td>15/04/2016</td>\n",
              "      <td>NaN</td>\n",
              "    </tr>\n",
              "    <tr>\n",
              "      <th>25</th>\n",
              "      <td>02/08/2016</td>\n",
              "      <td>NaN</td>\n",
              "    </tr>\n",
              "    <tr>\n",
              "      <th>54</th>\n",
              "      <td>10/08/2017</td>\n",
              "      <td>NaN</td>\n",
              "    </tr>\n",
              "    <tr>\n",
              "      <th>70</th>\n",
              "      <td>24/04/2018</td>\n",
              "      <td>NaN</td>\n",
              "    </tr>\n",
              "  </tbody>\n",
              "</table>\n",
              "</div>"
            ],
            "text/plain": [
              "          Date  Price_pl\n",
              "12  15/04/2016       NaN\n",
              "25  02/08/2016       NaN\n",
              "54  10/08/2017       NaN\n",
              "70  24/04/2018       NaN"
            ]
          },
          "metadata": {},
          "execution_count": 5
        }
      ]
    },
    {
      "cell_type": "code",
      "metadata": {
        "id": "xF_snHkoDoWV"
      },
      "source": [
        "def interpolation(df):\n",
        "  df_int = df['Price_pl']\n",
        "  indx = df_int[df_int.isna()].index\n",
        "  for i in indx:\n",
        "    df_int[i] = (df_int[i-1]+df_int[i+1])/2\n",
        "  df['Price_pl']=df_int\n",
        "  return df"
      ],
      "execution_count": null,
      "outputs": []
    },
    {
      "cell_type": "code",
      "metadata": {
        "colab": {
          "base_uri": "https://localhost:8080/",
          "height": 419
        },
        "id": "PC3xgS3qHdz1",
        "outputId": "70e41337-ac2d-4ad4-98b4-63378ad63cd3"
      },
      "source": [
        "df = interpolation(df)\n",
        "df"
      ],
      "execution_count": null,
      "outputs": [
        {
          "output_type": "execute_result",
          "data": {
            "text/html": [
              "<div>\n",
              "<style scoped>\n",
              "    .dataframe tbody tr th:only-of-type {\n",
              "        vertical-align: middle;\n",
              "    }\n",
              "\n",
              "    .dataframe tbody tr th {\n",
              "        vertical-align: top;\n",
              "    }\n",
              "\n",
              "    .dataframe thead th {\n",
              "        text-align: right;\n",
              "    }\n",
              "</style>\n",
              "<table border=\"1\" class=\"dataframe\">\n",
              "  <thead>\n",
              "    <tr style=\"text-align: right;\">\n",
              "      <th></th>\n",
              "      <th>Date</th>\n",
              "      <th>Price_pl</th>\n",
              "    </tr>\n",
              "  </thead>\n",
              "  <tbody>\n",
              "    <tr>\n",
              "      <th>0</th>\n",
              "      <td>12/11/2015</td>\n",
              "      <td>1.049</td>\n",
              "    </tr>\n",
              "    <tr>\n",
              "      <th>1</th>\n",
              "      <td>19/11/2015</td>\n",
              "      <td>0.999</td>\n",
              "    </tr>\n",
              "    <tr>\n",
              "      <th>2</th>\n",
              "      <td>7/12/2015</td>\n",
              "      <td>0.999</td>\n",
              "    </tr>\n",
              "    <tr>\n",
              "      <th>3</th>\n",
              "      <td>19/12/2015</td>\n",
              "      <td>1.019</td>\n",
              "    </tr>\n",
              "    <tr>\n",
              "      <th>4</th>\n",
              "      <td>04/01/2016</td>\n",
              "      <td>1.019</td>\n",
              "    </tr>\n",
              "    <tr>\n",
              "      <th>...</th>\n",
              "      <td>...</td>\n",
              "      <td>...</td>\n",
              "    </tr>\n",
              "    <tr>\n",
              "      <th>77</th>\n",
              "      <td>17/10/2018</td>\n",
              "      <td>1.209</td>\n",
              "    </tr>\n",
              "    <tr>\n",
              "      <th>78</th>\n",
              "      <td>01/11/2018</td>\n",
              "      <td>1.196</td>\n",
              "    </tr>\n",
              "    <tr>\n",
              "      <th>79</th>\n",
              "      <td>12/11/2018</td>\n",
              "      <td>1.126</td>\n",
              "    </tr>\n",
              "    <tr>\n",
              "      <th>80</th>\n",
              "      <td>27/11/2018</td>\n",
              "      <td>1.059</td>\n",
              "    </tr>\n",
              "    <tr>\n",
              "      <th>81</th>\n",
              "      <td>06/12/2018</td>\n",
              "      <td>1.016</td>\n",
              "    </tr>\n",
              "  </tbody>\n",
              "</table>\n",
              "<p>82 rows × 2 columns</p>\n",
              "</div>"
            ],
            "text/plain": [
              "          Date  Price_pl\n",
              "0   12/11/2015     1.049\n",
              "1   19/11/2015     0.999\n",
              "2    7/12/2015     0.999\n",
              "3   19/12/2015     1.019\n",
              "4   04/01/2016     1.019\n",
              "..         ...       ...\n",
              "77  17/10/2018     1.209\n",
              "78  01/11/2018     1.196\n",
              "79  12/11/2018     1.126\n",
              "80  27/11/2018     1.059\n",
              "81  06/12/2018     1.016\n",
              "\n",
              "[82 rows x 2 columns]"
            ]
          },
          "metadata": {},
          "execution_count": 30
        }
      ]
    },
    {
      "cell_type": "markdown",
      "metadata": {
        "id": "o8oJLmuNsTiu"
      },
      "source": [
        "2.  Find the index, the date and the value of theminandmaxgas price."
      ]
    },
    {
      "cell_type": "code",
      "metadata": {
        "id": "FGxfJxIC92MX",
        "colab": {
          "base_uri": "https://localhost:8080/"
        },
        "outputId": "259c33a0-14e4-40c0-e7e2-1a4e08970c1f"
      },
      "source": [
        "max_gas_price = df.loc[df['Price_pl'].idxmax()]\n",
        "min_gas_price = df.loc[df['Price_pl'].idxmin()]\n",
        "print(max_gas_price)"
      ],
      "execution_count": null,
      "outputs": [
        {
          "output_type": "stream",
          "name": "stdout",
          "text": [
            "Date        23/05/2018\n",
            "Price_pl         1.336\n",
            "Name: 73, dtype: object\n"
          ]
        }
      ]
    },
    {
      "cell_type": "code",
      "metadata": {
        "id": "D9o3d50R_4du",
        "colab": {
          "base_uri": "https://localhost:8080/"
        },
        "outputId": "e056c3cf-5b78-4020-df29-01abc3be1d2b"
      },
      "source": [
        "print(min_gas_price)"
      ],
      "execution_count": null,
      "outputs": [
        {
          "output_type": "stream",
          "name": "stdout",
          "text": [
            "Date        20/2/2016\n",
            "Price_pl        0.889\n",
            "Name: 9, dtype: object\n"
          ]
        }
      ]
    },
    {
      "cell_type": "markdown",
      "metadata": {
        "id": "KIIx3kS9sWI9"
      },
      "source": [
        "3.  Calculate the following descriptive statistics:  mean,  median,  quantile,  skewness  and kurtosis."
      ]
    },
    {
      "cell_type": "code",
      "metadata": {
        "id": "odTxyUq-A4aO",
        "colab": {
          "base_uri": "https://localhost:8080/"
        },
        "outputId": "f48ebbbb-ebfc-4268-fe8a-20df2cc13cc2"
      },
      "source": [
        "print('Mean :', df['Price_pl'].mean())\n",
        "print('Median :', df['Price_pl'].median())\n",
        "print('kurtosis :', df['Price_pl'].kurtosis())\n",
        "print('Skewness :', df['Price_pl'].skew())\n",
        "print('quantile :', df['Price_pl'].quantile([0.25,0.50,0.75]))\n"
      ],
      "execution_count": null,
      "outputs": [
        {
          "output_type": "stream",
          "name": "stdout",
          "text": [
            "Mean : 1.0953717948717947\n",
            "Median : 1.079\n",
            "kurtosis : -0.20600570829994425\n",
            "Skewness : 0.43538521272099423\n",
            "quantile : 0.25    1.02625\n",
            "0.50    1.07900\n",
            "0.75    1.17175\n",
            "Name: Price_pl, dtype: float64\n"
          ]
        }
      ]
    },
    {
      "cell_type": "markdown",
      "metadata": {
        "id": "wQ7wofl_sgQQ"
      },
      "source": [
        "4.  Create two new columns with the Month and Year.  Pivot the table by Month(index)and Year(columns).  Calculate and plot the monthly average gas price.  This should give you one line per year."
      ]
    },
    {
      "cell_type": "code",
      "metadata": {
        "id": "4IhGbzd9Dn7F",
        "colab": {
          "base_uri": "https://localhost:8080/",
          "height": 419
        },
        "outputId": "6517df59-3b98-4e62-dd1d-9fac4799dc24"
      },
      "source": [
        "df['Month'] = pd.DatetimeIndex(df['Date']).month\n",
        "df['Year'] = pd.DatetimeIndex(df['Date']).year\n",
        "df"
      ],
      "execution_count": null,
      "outputs": [
        {
          "output_type": "execute_result",
          "data": {
            "text/html": [
              "<div>\n",
              "<style scoped>\n",
              "    .dataframe tbody tr th:only-of-type {\n",
              "        vertical-align: middle;\n",
              "    }\n",
              "\n",
              "    .dataframe tbody tr th {\n",
              "        vertical-align: top;\n",
              "    }\n",
              "\n",
              "    .dataframe thead th {\n",
              "        text-align: right;\n",
              "    }\n",
              "</style>\n",
              "<table border=\"1\" class=\"dataframe\">\n",
              "  <thead>\n",
              "    <tr style=\"text-align: right;\">\n",
              "      <th></th>\n",
              "      <th>Date</th>\n",
              "      <th>Price_pl</th>\n",
              "      <th>Month</th>\n",
              "      <th>Year</th>\n",
              "    </tr>\n",
              "  </thead>\n",
              "  <tbody>\n",
              "    <tr>\n",
              "      <th>0</th>\n",
              "      <td>12/11/2015</td>\n",
              "      <td>1.049</td>\n",
              "      <td>12</td>\n",
              "      <td>2015</td>\n",
              "    </tr>\n",
              "    <tr>\n",
              "      <th>1</th>\n",
              "      <td>19/11/2015</td>\n",
              "      <td>0.999</td>\n",
              "      <td>11</td>\n",
              "      <td>2015</td>\n",
              "    </tr>\n",
              "    <tr>\n",
              "      <th>2</th>\n",
              "      <td>7/12/2015</td>\n",
              "      <td>0.999</td>\n",
              "      <td>7</td>\n",
              "      <td>2015</td>\n",
              "    </tr>\n",
              "    <tr>\n",
              "      <th>3</th>\n",
              "      <td>19/12/2015</td>\n",
              "      <td>1.019</td>\n",
              "      <td>12</td>\n",
              "      <td>2015</td>\n",
              "    </tr>\n",
              "    <tr>\n",
              "      <th>4</th>\n",
              "      <td>04/01/2016</td>\n",
              "      <td>1.019</td>\n",
              "      <td>4</td>\n",
              "      <td>2016</td>\n",
              "    </tr>\n",
              "    <tr>\n",
              "      <th>...</th>\n",
              "      <td>...</td>\n",
              "      <td>...</td>\n",
              "      <td>...</td>\n",
              "      <td>...</td>\n",
              "    </tr>\n",
              "    <tr>\n",
              "      <th>77</th>\n",
              "      <td>17/10/2018</td>\n",
              "      <td>1.209</td>\n",
              "      <td>10</td>\n",
              "      <td>2018</td>\n",
              "    </tr>\n",
              "    <tr>\n",
              "      <th>78</th>\n",
              "      <td>01/11/2018</td>\n",
              "      <td>1.196</td>\n",
              "      <td>1</td>\n",
              "      <td>2018</td>\n",
              "    </tr>\n",
              "    <tr>\n",
              "      <th>79</th>\n",
              "      <td>12/11/2018</td>\n",
              "      <td>1.126</td>\n",
              "      <td>12</td>\n",
              "      <td>2018</td>\n",
              "    </tr>\n",
              "    <tr>\n",
              "      <th>80</th>\n",
              "      <td>27/11/2018</td>\n",
              "      <td>1.059</td>\n",
              "      <td>11</td>\n",
              "      <td>2018</td>\n",
              "    </tr>\n",
              "    <tr>\n",
              "      <th>81</th>\n",
              "      <td>06/12/2018</td>\n",
              "      <td>1.016</td>\n",
              "      <td>6</td>\n",
              "      <td>2018</td>\n",
              "    </tr>\n",
              "  </tbody>\n",
              "</table>\n",
              "<p>82 rows × 4 columns</p>\n",
              "</div>"
            ],
            "text/plain": [
              "          Date  Price_pl  Month  Year\n",
              "0   12/11/2015     1.049     12  2015\n",
              "1   19/11/2015     0.999     11  2015\n",
              "2    7/12/2015     0.999      7  2015\n",
              "3   19/12/2015     1.019     12  2015\n",
              "4   04/01/2016     1.019      4  2016\n",
              "..         ...       ...    ...   ...\n",
              "77  17/10/2018     1.209     10  2018\n",
              "78  01/11/2018     1.196      1  2018\n",
              "79  12/11/2018     1.126     12  2018\n",
              "80  27/11/2018     1.059     11  2018\n",
              "81  06/12/2018     1.016      6  2018\n",
              "\n",
              "[82 rows x 4 columns]"
            ]
          },
          "metadata": {},
          "execution_count": 34
        }
      ]
    },
    {
      "cell_type": "code",
      "metadata": {
        "id": "0Y0UeZWXDFYW",
        "colab": {
          "base_uri": "https://localhost:8080/",
          "height": 483
        },
        "outputId": "d1033cf6-3918-4f3f-e946-173fc52949ae"
      },
      "source": [
        "pivot_df = pd.pivot_table(df,index='Month',columns='Year')\n",
        "pivot_df"
      ],
      "execution_count": null,
      "outputs": [
        {
          "output_type": "execute_result",
          "data": {
            "text/html": [
              "<div>\n",
              "<style scoped>\n",
              "    .dataframe tbody tr th:only-of-type {\n",
              "        vertical-align: middle;\n",
              "    }\n",
              "\n",
              "    .dataframe tbody tr th {\n",
              "        vertical-align: top;\n",
              "    }\n",
              "\n",
              "    .dataframe thead tr th {\n",
              "        text-align: left;\n",
              "    }\n",
              "\n",
              "    .dataframe thead tr:last-of-type th {\n",
              "        text-align: right;\n",
              "    }\n",
              "</style>\n",
              "<table border=\"1\" class=\"dataframe\">\n",
              "  <thead>\n",
              "    <tr>\n",
              "      <th></th>\n",
              "      <th colspan=\"4\" halign=\"left\">Price_pl</th>\n",
              "    </tr>\n",
              "    <tr>\n",
              "      <th>Year</th>\n",
              "      <th>2015</th>\n",
              "      <th>2016</th>\n",
              "      <th>2017</th>\n",
              "      <th>2018</th>\n",
              "    </tr>\n",
              "    <tr>\n",
              "      <th>Month</th>\n",
              "      <th></th>\n",
              "      <th></th>\n",
              "      <th></th>\n",
              "      <th></th>\n",
              "    </tr>\n",
              "  </thead>\n",
              "  <tbody>\n",
              "    <tr>\n",
              "      <th>1</th>\n",
              "      <td>NaN</td>\n",
              "      <td>0.979000</td>\n",
              "      <td>1.109000</td>\n",
              "      <td>1.196000</td>\n",
              "    </tr>\n",
              "    <tr>\n",
              "      <th>2</th>\n",
              "      <td>NaN</td>\n",
              "      <td>0.974500</td>\n",
              "      <td>1.085667</td>\n",
              "      <td>1.242750</td>\n",
              "    </tr>\n",
              "    <tr>\n",
              "      <th>3</th>\n",
              "      <td>NaN</td>\n",
              "      <td>1.004000</td>\n",
              "      <td>1.075667</td>\n",
              "      <td>1.258333</td>\n",
              "    </tr>\n",
              "    <tr>\n",
              "      <th>4</th>\n",
              "      <td>NaN</td>\n",
              "      <td>1.027333</td>\n",
              "      <td>1.184000</td>\n",
              "      <td>1.259250</td>\n",
              "    </tr>\n",
              "    <tr>\n",
              "      <th>5</th>\n",
              "      <td>NaN</td>\n",
              "      <td>1.049000</td>\n",
              "      <td>1.089000</td>\n",
              "      <td>1.336000</td>\n",
              "    </tr>\n",
              "    <tr>\n",
              "      <th>6</th>\n",
              "      <td>NaN</td>\n",
              "      <td>1.013250</td>\n",
              "      <td>1.085500</td>\n",
              "      <td>1.152500</td>\n",
              "    </tr>\n",
              "    <tr>\n",
              "      <th>7</th>\n",
              "      <td>0.999</td>\n",
              "      <td>0.999000</td>\n",
              "      <td>1.059000</td>\n",
              "      <td>1.299000</td>\n",
              "    </tr>\n",
              "    <tr>\n",
              "      <th>8</th>\n",
              "      <td>NaN</td>\n",
              "      <td>0.996667</td>\n",
              "      <td>1.104000</td>\n",
              "      <td>1.176000</td>\n",
              "    </tr>\n",
              "    <tr>\n",
              "      <th>9</th>\n",
              "      <td>NaN</td>\n",
              "      <td>1.024000</td>\n",
              "      <td>1.121333</td>\n",
              "      <td>1.196000</td>\n",
              "    </tr>\n",
              "    <tr>\n",
              "      <th>10</th>\n",
              "      <td>NaN</td>\n",
              "      <td>1.019000</td>\n",
              "      <td>1.126333</td>\n",
              "      <td>1.209000</td>\n",
              "    </tr>\n",
              "    <tr>\n",
              "      <th>11</th>\n",
              "      <td>0.999</td>\n",
              "      <td>0.949000</td>\n",
              "      <td>1.183000</td>\n",
              "      <td>1.059000</td>\n",
              "    </tr>\n",
              "    <tr>\n",
              "      <th>12</th>\n",
              "      <td>1.034</td>\n",
              "      <td>1.074000</td>\n",
              "      <td>1.203000</td>\n",
              "      <td>1.226000</td>\n",
              "    </tr>\n",
              "  </tbody>\n",
              "</table>\n",
              "</div>"
            ],
            "text/plain": [
              "      Price_pl                              \n",
              "Year      2015      2016      2017      2018\n",
              "Month                                       \n",
              "1          NaN  0.979000  1.109000  1.196000\n",
              "2          NaN  0.974500  1.085667  1.242750\n",
              "3          NaN  1.004000  1.075667  1.258333\n",
              "4          NaN  1.027333  1.184000  1.259250\n",
              "5          NaN  1.049000  1.089000  1.336000\n",
              "6          NaN  1.013250  1.085500  1.152500\n",
              "7        0.999  0.999000  1.059000  1.299000\n",
              "8          NaN  0.996667  1.104000  1.176000\n",
              "9          NaN  1.024000  1.121333  1.196000\n",
              "10         NaN  1.019000  1.126333  1.209000\n",
              "11       0.999  0.949000  1.183000  1.059000\n",
              "12       1.034  1.074000  1.203000  1.226000"
            ]
          },
          "metadata": {},
          "execution_count": 35
        }
      ]
    },
    {
      "cell_type": "code",
      "metadata": {
        "id": "OwfUekCTLMv7",
        "colab": {
          "base_uri": "https://localhost:8080/",
          "height": 388
        },
        "outputId": "4cd50791-c448-4499-80a0-373f67dedc50"
      },
      "source": [
        "plt.figure(figsize=(10,6))\n",
        "for i in pivot_df.columns:\n",
        "  plt.plot(pivot_df.index,pivot_df[i],label = i)\n",
        "  plt.legend()\n",
        "  plt.xlabel('Months')\n",
        "  plt.ylabel('Gas price')\n",
        "plt.show()"
      ],
      "execution_count": null,
      "outputs": [
        {
          "output_type": "display_data",
          "data": {
            "image/png": "[encoded data removed]",
            "text/plain": [
              "<Figure size 720x432 with 1 Axes>"
            ]
          },
          "metadata": {
            "needs_background": "light"
          }
        }
      ]
    },
    {
      "cell_type": "markdown",
      "metadata": {
        "id": "2Enz0kBmsyTL"
      },
      "source": [
        "5.  Create  a  new  column  with  theseasonof  the  year,  set  it  as  a  secondary  index  andcalculate the average of every season (regardless of the year) to create the followingtable:"
      ]
    },
    {
      "cell_type": "code",
      "metadata": {
        "id": "W8E8PpjVHk-e",
        "colab": {
          "base_uri": "https://localhost:8080/",
          "height": 419
        },
        "outputId": "72dcdac6-e335-4735-cca4-06845d375d28"
      },
      "source": [
        "df_month = df['Month'].copy()\n",
        "df['seasons'] = 0\n",
        "df_seasons = df['seasons'].copy()\n",
        "for i in range(df.shape[0]):\n",
        "  if df_month[i] in [1,2,12]:\n",
        "    df['seasons'][i] = 'Winter'\n",
        "  elif df_month[i] in [3,4,5]:\n",
        "    df['seasons'][i] = 'Spring'\n",
        "  elif df_month[i] in [6,7,8]:\n",
        "    df['seasons'][i] = 'Summer'\n",
        "  else:\n",
        "    df['seasons'][i] = 'Fall'\n",
        "df"
      ],
      "execution_count": null,
      "outputs": [
        {
          "output_type": "execute_result",
          "data": {
            "text/html": [
              "<div>\n",
              "<style scoped>\n",
              "    .dataframe tbody tr th:only-of-type {\n",
              "        vertical-align: middle;\n",
              "    }\n",
              "\n",
              "    .dataframe tbody tr th {\n",
              "        vertical-align: top;\n",
              "    }\n",
              "\n",
              "    .dataframe thead th {\n",
              "        text-align: right;\n",
              "    }\n",
              "</style>\n",
              "<table border=\"1\" class=\"dataframe\">\n",
              "  <thead>\n",
              "    <tr style=\"text-align: right;\">\n",
              "      <th></th>\n",
              "      <th>Date</th>\n",
              "      <th>Price_pl</th>\n",
              "      <th>Month</th>\n",
              "      <th>Year</th>\n",
              "      <th>seasons</th>\n",
              "    </tr>\n",
              "  </thead>\n",
              "  <tbody>\n",
              "    <tr>\n",
              "      <th>0</th>\n",
              "      <td>12/11/2015</td>\n",
              "      <td>1.049</td>\n",
              "      <td>12</td>\n",
              "      <td>2015</td>\n",
              "      <td>Winter</td>\n",
              "    </tr>\n",
              "    <tr>\n",
              "      <th>1</th>\n",
              "      <td>19/11/2015</td>\n",
              "      <td>0.999</td>\n",
              "      <td>11</td>\n",
              "      <td>2015</td>\n",
              "      <td>Fall</td>\n",
              "    </tr>\n",
              "    <tr>\n",
              "      <th>2</th>\n",
              "      <td>7/12/2015</td>\n",
              "      <td>0.999</td>\n",
              "      <td>7</td>\n",
              "      <td>2015</td>\n",
              "      <td>Summer</td>\n",
              "    </tr>\n",
              "    <tr>\n",
              "      <th>3</th>\n",
              "      <td>19/12/2015</td>\n",
              "      <td>1.019</td>\n",
              "      <td>12</td>\n",
              "      <td>2015</td>\n",
              "      <td>Winter</td>\n",
              "    </tr>\n",
              "    <tr>\n",
              "      <th>4</th>\n",
              "      <td>04/01/2016</td>\n",
              "      <td>1.019</td>\n",
              "      <td>4</td>\n",
              "      <td>2016</td>\n",
              "      <td>Spring</td>\n",
              "    </tr>\n",
              "    <tr>\n",
              "      <th>...</th>\n",
              "      <td>...</td>\n",
              "      <td>...</td>\n",
              "      <td>...</td>\n",
              "      <td>...</td>\n",
              "      <td>...</td>\n",
              "    </tr>\n",
              "    <tr>\n",
              "      <th>77</th>\n",
              "      <td>17/10/2018</td>\n",
              "      <td>1.209</td>\n",
              "      <td>10</td>\n",
              "      <td>2018</td>\n",
              "      <td>Fall</td>\n",
              "    </tr>\n",
              "    <tr>\n",
              "      <th>78</th>\n",
              "      <td>01/11/2018</td>\n",
              "      <td>1.196</td>\n",
              "      <td>1</td>\n",
              "      <td>2018</td>\n",
              "      <td>Winter</td>\n",
              "    </tr>\n",
              "    <tr>\n",
              "      <th>79</th>\n",
              "      <td>12/11/2018</td>\n",
              "      <td>1.126</td>\n",
              "      <td>12</td>\n",
              "      <td>2018</td>\n",
              "      <td>Winter</td>\n",
              "    </tr>\n",
              "    <tr>\n",
              "      <th>80</th>\n",
              "      <td>27/11/2018</td>\n",
              "      <td>1.059</td>\n",
              "      <td>11</td>\n",
              "      <td>2018</td>\n",
              "      <td>Fall</td>\n",
              "    </tr>\n",
              "    <tr>\n",
              "      <th>81</th>\n",
              "      <td>06/12/2018</td>\n",
              "      <td>1.016</td>\n",
              "      <td>6</td>\n",
              "      <td>2018</td>\n",
              "      <td>Summer</td>\n",
              "    </tr>\n",
              "  </tbody>\n",
              "</table>\n",
              "<p>82 rows × 5 columns</p>\n",
              "</div>"
            ],
            "text/plain": [
              "          Date  Price_pl  Month  Year seasons\n",
              "0   12/11/2015     1.049     12  2015  Winter\n",
              "1   19/11/2015     0.999     11  2015    Fall\n",
              "2    7/12/2015     0.999      7  2015  Summer\n",
              "3   19/12/2015     1.019     12  2015  Winter\n",
              "4   04/01/2016     1.019      4  2016  Spring\n",
              "..         ...       ...    ...   ...     ...\n",
              "77  17/10/2018     1.209     10  2018    Fall\n",
              "78  01/11/2018     1.196      1  2018  Winter\n",
              "79  12/11/2018     1.126     12  2018  Winter\n",
              "80  27/11/2018     1.059     11  2018    Fall\n",
              "81  06/12/2018     1.016      6  2018  Summer\n",
              "\n",
              "[82 rows x 5 columns]"
            ]
          },
          "metadata": {},
          "execution_count": 37
        }
      ]
    },
    {
      "cell_type": "code",
      "metadata": {
        "id": "Do5DY4W80f1I",
        "colab": {
          "base_uri": "https://localhost:8080/",
          "height": 204
        },
        "outputId": "74a4c94f-d42b-400e-d690-bbe00fbed8db"
      },
      "source": [
        "df_mean  = df.groupby('seasons').mean()\n",
        "df_mean = df_mean.rename(columns = {'Price_pl':'Average price ($)'})\n",
        "df_mean = df_mean.drop(['Month','Year'],axis=1)\n",
        "df_mean"
      ],
      "execution_count": null,
      "outputs": [
        {
          "output_type": "execute_result",
          "data": {
            "text/html": [
              "<div>\n",
              "<style scoped>\n",
              "    .dataframe tbody tr th:only-of-type {\n",
              "        vertical-align: middle;\n",
              "    }\n",
              "\n",
              "    .dataframe tbody tr th {\n",
              "        vertical-align: top;\n",
              "    }\n",
              "\n",
              "    .dataframe thead th {\n",
              "        text-align: right;\n",
              "    }\n",
              "</style>\n",
              "<table border=\"1\" class=\"dataframe\">\n",
              "  <thead>\n",
              "    <tr style=\"text-align: right;\">\n",
              "      <th></th>\n",
              "      <th>Average price ($)</th>\n",
              "    </tr>\n",
              "    <tr>\n",
              "      <th>seasons</th>\n",
              "      <th></th>\n",
              "    </tr>\n",
              "  </thead>\n",
              "  <tbody>\n",
              "    <tr>\n",
              "      <th>Fall</th>\n",
              "      <td>1.077333</td>\n",
              "    </tr>\n",
              "    <tr>\n",
              "      <th>Spring</th>\n",
              "      <td>1.122205</td>\n",
              "    </tr>\n",
              "    <tr>\n",
              "      <th>Summer</th>\n",
              "      <td>1.069944</td>\n",
              "    </tr>\n",
              "    <tr>\n",
              "      <th>Winter</th>\n",
              "      <td>1.103438</td>\n",
              "    </tr>\n",
              "  </tbody>\n",
              "</table>\n",
              "</div>"
            ],
            "text/plain": [
              "         Average price ($)\n",
              "seasons                   \n",
              "Fall              1.077333\n",
              "Spring            1.122205\n",
              "Summer            1.069944\n",
              "Winter            1.103438"
            ]
          },
          "metadata": {},
          "execution_count": 38
        }
      ]
    },
    {
      "cell_type": "markdown",
      "metadata": {
        "id": "4iPf81j72upf"
      },
      "source": [
        "2.4 **Treb-Data**"
      ]
    },
    {
      "cell_type": "markdown",
      "metadata": {
        "id": "z90W3jC0tCwU"
      },
      "source": [
        "1.  Import file TREBdata.xlsas a pandas DataFrame.  Create the necessary columns to pivotand generate the table below with the value of Sales(hint:  use the split()function to split the MonthYear column to Month and Year)."
      ]
    },
    {
      "cell_type": "code",
      "metadata": {
        "id": "sRfLM4glH-Xg",
        "colab": {
          "base_uri": "https://localhost:8080/",
          "height": 204
        },
        "outputId": "51d19444-eaf3-4a75-836d-73fb2aea2f67"
      },
      "source": [
        "df = pd.read_excel('/content/TREB_Data.xlsx')\n",
        "df.head()"
      ],
      "execution_count": null,
      "outputs": [
        {
          "output_type": "execute_result",
          "data": {
            "text/html": [
              "<div>\n",
              "<style scoped>\n",
              "    .dataframe tbody tr th:only-of-type {\n",
              "        vertical-align: middle;\n",
              "    }\n",
              "\n",
              "    .dataframe tbody tr th {\n",
              "        vertical-align: top;\n",
              "    }\n",
              "\n",
              "    .dataframe thead th {\n",
              "        text-align: right;\n",
              "    }\n",
              "</style>\n",
              "<table border=\"1\" class=\"dataframe\">\n",
              "  <thead>\n",
              "    <tr style=\"text-align: right;\">\n",
              "      <th></th>\n",
              "      <th>MonthYear</th>\n",
              "      <th>Sales</th>\n",
              "      <th>AveragePrice</th>\n",
              "    </tr>\n",
              "  </thead>\n",
              "  <tbody>\n",
              "    <tr>\n",
              "      <th>0</th>\n",
              "      <td>January-2017</td>\n",
              "      <td>5155</td>\n",
              "      <td>768351</td>\n",
              "    </tr>\n",
              "    <tr>\n",
              "      <th>1</th>\n",
              "      <td>February-2017</td>\n",
              "      <td>7955</td>\n",
              "      <td>876363</td>\n",
              "    </tr>\n",
              "    <tr>\n",
              "      <th>2</th>\n",
              "      <td>March-2017</td>\n",
              "      <td>11959</td>\n",
              "      <td>915353</td>\n",
              "    </tr>\n",
              "    <tr>\n",
              "      <th>3</th>\n",
              "      <td>April-2017</td>\n",
              "      <td>11470</td>\n",
              "      <td>918138</td>\n",
              "    </tr>\n",
              "    <tr>\n",
              "      <th>4</th>\n",
              "      <td>May-2017</td>\n",
              "      <td>10068</td>\n",
              "      <td>862109</td>\n",
              "    </tr>\n",
              "  </tbody>\n",
              "</table>\n",
              "</div>"
            ],
            "text/plain": [
              "       MonthYear  Sales  AveragePrice\n",
              "0   January-2017   5155        768351\n",
              "1  February-2017   7955        876363\n",
              "2     March-2017  11959        915353\n",
              "3     April-2017  11470        918138\n",
              "4       May-2017  10068        862109"
            ]
          },
          "metadata": {},
          "execution_count": 40
        }
      ]
    },
    {
      "cell_type": "code",
      "metadata": {
        "id": "xCYiIAl26CPH",
        "colab": {
          "base_uri": "https://localhost:8080/",
          "height": 204
        },
        "outputId": "0f8563e6-ce7d-480a-f31f-17d895c86de8"
      },
      "source": [
        "df = df.join(df['MonthYear'].str.split('-', 1, expand=True).rename(columns={0:'Month', 1:'Year'}))\n",
        "df.head()"
      ],
      "execution_count": null,
      "outputs": [
        {
          "output_type": "execute_result",
          "data": {
            "text/html": [
              "<div>\n",
              "<style scoped>\n",
              "    .dataframe tbody tr th:only-of-type {\n",
              "        vertical-align: middle;\n",
              "    }\n",
              "\n",
              "    .dataframe tbody tr th {\n",
              "        vertical-align: top;\n",
              "    }\n",
              "\n",
              "    .dataframe thead th {\n",
              "        text-align: right;\n",
              "    }\n",
              "</style>\n",
              "<table border=\"1\" class=\"dataframe\">\n",
              "  <thead>\n",
              "    <tr style=\"text-align: right;\">\n",
              "      <th></th>\n",
              "      <th>MonthYear</th>\n",
              "      <th>Sales</th>\n",
              "      <th>AveragePrice</th>\n",
              "      <th>Month</th>\n",
              "      <th>Year</th>\n",
              "    </tr>\n",
              "  </thead>\n",
              "  <tbody>\n",
              "    <tr>\n",
              "      <th>0</th>\n",
              "      <td>January-2017</td>\n",
              "      <td>5155</td>\n",
              "      <td>768351</td>\n",
              "      <td>January</td>\n",
              "      <td>2017</td>\n",
              "    </tr>\n",
              "    <tr>\n",
              "      <th>1</th>\n",
              "      <td>February-2017</td>\n",
              "      <td>7955</td>\n",
              "      <td>876363</td>\n",
              "      <td>February</td>\n",
              "      <td>2017</td>\n",
              "    </tr>\n",
              "    <tr>\n",
              "      <th>2</th>\n",
              "      <td>March-2017</td>\n",
              "      <td>11959</td>\n",
              "      <td>915353</td>\n",
              "      <td>March</td>\n",
              "      <td>2017</td>\n",
              "    </tr>\n",
              "    <tr>\n",
              "      <th>3</th>\n",
              "      <td>April-2017</td>\n",
              "      <td>11470</td>\n",
              "      <td>918138</td>\n",
              "      <td>April</td>\n",
              "      <td>2017</td>\n",
              "    </tr>\n",
              "    <tr>\n",
              "      <th>4</th>\n",
              "      <td>May-2017</td>\n",
              "      <td>10068</td>\n",
              "      <td>862109</td>\n",
              "      <td>May</td>\n",
              "      <td>2017</td>\n",
              "    </tr>\n",
              "  </tbody>\n",
              "</table>\n",
              "</div>"
            ],
            "text/plain": [
              "       MonthYear  Sales  AveragePrice     Month  Year\n",
              "0   January-2017   5155        768351   January  2017\n",
              "1  February-2017   7955        876363  February  2017\n",
              "2     March-2017  11959        915353     March  2017\n",
              "3     April-2017  11470        918138     April  2017\n",
              "4       May-2017  10068        862109       May  2017"
            ]
          },
          "metadata": {},
          "execution_count": 41
        }
      ]
    },
    {
      "cell_type": "code",
      "metadata": {
        "id": "P7laVo2O4DuA",
        "colab": {
          "base_uri": "https://localhost:8080/",
          "height": 235
        },
        "outputId": "5748830b-f332-4aa1-c987-9aa95322b659"
      },
      "source": [
        "pivot_df_sales = pd.pivot_table(df,index='Month',columns='Year',values='Sales')\n",
        "pivot_df_sales.head()"
      ],
      "execution_count": null,
      "outputs": [
        {
          "output_type": "execute_result",
          "data": {
            "text/html": [
              "<div>\n",
              "<style scoped>\n",
              "    .dataframe tbody tr th:only-of-type {\n",
              "        vertical-align: middle;\n",
              "    }\n",
              "\n",
              "    .dataframe tbody tr th {\n",
              "        vertical-align: top;\n",
              "    }\n",
              "\n",
              "    .dataframe thead th {\n",
              "        text-align: right;\n",
              "    }\n",
              "</style>\n",
              "<table border=\"1\" class=\"dataframe\">\n",
              "  <thead>\n",
              "    <tr style=\"text-align: right;\">\n",
              "      <th>Year</th>\n",
              "      <th>2013</th>\n",
              "      <th>2014</th>\n",
              "      <th>2015</th>\n",
              "      <th>2016</th>\n",
              "      <th>2017</th>\n",
              "    </tr>\n",
              "    <tr>\n",
              "      <th>Month</th>\n",
              "      <th></th>\n",
              "      <th></th>\n",
              "      <th></th>\n",
              "      <th></th>\n",
              "      <th></th>\n",
              "    </tr>\n",
              "  </thead>\n",
              "  <tbody>\n",
              "    <tr>\n",
              "      <th>April</th>\n",
              "      <td>9537</td>\n",
              "      <td>9660</td>\n",
              "      <td>11254</td>\n",
              "      <td>12016</td>\n",
              "      <td>11470</td>\n",
              "    </tr>\n",
              "    <tr>\n",
              "      <th>August</th>\n",
              "      <td>7390</td>\n",
              "      <td>7568</td>\n",
              "      <td>7943</td>\n",
              "      <td>9748</td>\n",
              "      <td>6310</td>\n",
              "    </tr>\n",
              "    <tr>\n",
              "      <th>December</th>\n",
              "      <td>4058</td>\n",
              "      <td>4418</td>\n",
              "      <td>4917</td>\n",
              "      <td>5305</td>\n",
              "      <td>4930</td>\n",
              "    </tr>\n",
              "    <tr>\n",
              "      <th>February</th>\n",
              "      <td>5615</td>\n",
              "      <td>5696</td>\n",
              "      <td>6294</td>\n",
              "      <td>7582</td>\n",
              "      <td>7955</td>\n",
              "    </tr>\n",
              "    <tr>\n",
              "      <th>January</th>\n",
              "      <td>4230</td>\n",
              "      <td>4103</td>\n",
              "      <td>4318</td>\n",
              "      <td>4640</td>\n",
              "      <td>5155</td>\n",
              "    </tr>\n",
              "  </tbody>\n",
              "</table>\n",
              "</div>"
            ],
            "text/plain": [
              "Year      2013  2014   2015   2016   2017\n",
              "Month                                    \n",
              "April     9537  9660  11254  12016  11470\n",
              "August    7390  7568   7943   9748   6310\n",
              "December  4058  4418   4917   5305   4930\n",
              "February  5615  5696   6294   7582   7955\n",
              "January   4230  4103   4318   4640   5155"
            ]
          },
          "metadata": {},
          "execution_count": 42
        }
      ]
    },
    {
      "cell_type": "markdown",
      "metadata": {
        "id": "vnP7CwoStRI4"
      },
      "source": [
        "2.  In one figure, plot5 lines(one line per year) with the monthly sales versus the month of the year."
      ]
    },
    {
      "cell_type": "code",
      "metadata": {
        "id": "Dl4kvqxN7iWC",
        "colab": {
          "base_uri": "https://localhost:8080/",
          "height": 301
        },
        "outputId": "453df2c3-73ca-4e3a-b18e-0e70b1ae7251"
      },
      "source": [
        "for i in pivot_df_sales.columns:\n",
        "  plt.plot(pivot_df_sales.index,pivot_df_sales[i],label=i)\n",
        "  plt.xticks(rotation=45)\n",
        "  plt.legend()"
      ],
      "execution_count": null,
      "outputs": [
        {
          "output_type": "display_data",
          "data": {
            "image/png": "[encoded data removed]",
            "text/plain": [
              "<Figure size 432x288 with 1 Axes>"
            ]
          },
          "metadata": {
            "needs_background": "light"
          }
        }
      ]
    },
    {
      "cell_type": "markdown",
      "metadata": {
        "id": "rsk9zobitcwY"
      },
      "source": [
        "\n",
        "\n",
        "3.  Calculate the totalSalesper year and create a bar chart. Do this intwodifferent ways:a) group by year the table pre-pivoting, b) summing up the five columns post-pivoting"
      ]
    },
    {
      "cell_type": "markdown",
      "metadata": {
        "id": "XVhgxB_qenGJ"
      },
      "source": [
        "a) group by year the table pre-pivoting"
      ]
    },
    {
      "cell_type": "code",
      "metadata": {
        "id": "iaJk-MeYen6D"
      },
      "source": [
        ""
      ],
      "execution_count": null,
      "outputs": []
    },
    {
      "cell_type": "code",
      "metadata": {
        "id": "jcv70ppmUtyq",
        "colab": {
          "base_uri": "https://localhost:8080/",
          "height": 296
        },
        "outputId": "ea7a3eb8-42f9-4dac-c812-e9d9cbac514e"
      },
      "source": [
        "plt.bar(df['Year'],df['Sales'])\n",
        "plt.xlabel('Year')\n",
        "plt.ylabel('Sales')"
      ],
      "execution_count": null,
      "outputs": [
        {
          "output_type": "execute_result",
          "data": {
            "text/plain": [
              "Text(0, 0.5, 'Sales')"
            ]
          },
          "metadata": {},
          "execution_count": 44
        },
        {
          "output_type": "display_data",
          "data": {
            "image/png": "[encoded data removed]",
            "text/plain": [
              "<Figure size 432x288 with 1 Axes>"
            ]
          },
          "metadata": {
            "needs_background": "light"
          }
        }
      ]
    },
    {
      "cell_type": "markdown",
      "metadata": {
        "id": "MFbSPdZZtgd3"
      },
      "source": [
        "b) summing up the five columns post-pivoting"
      ]
    },
    {
      "cell_type": "code",
      "metadata": {
        "id": "z64okvkgUuf_",
        "colab": {
          "base_uri": "https://localhost:8080/",
          "height": 296
        },
        "outputId": "1a3c8ac9-f411-4d12-b5b3-2bd110402206"
      },
      "source": [
        "columns = pivot_df_sales.columns.to_list()\n",
        "plt.bar(columns,pivot_df_sales.sum())\n",
        "plt.xlabel('Year')\n",
        "plt.ylabel('Sales')"
      ],
      "execution_count": null,
      "outputs": [
        {
          "output_type": "execute_result",
          "data": {
            "text/plain": [
              "Text(0, 0.5, 'Sales')"
            ]
          },
          "metadata": {},
          "execution_count": 45
        },
        {
          "output_type": "display_data",
          "data": {
            "image/png": "[encoded data removed]",
            "text/plain": [
              "<Figure size 432x288 with 1 Axes>"
            ]
          },
          "metadata": {
            "needs_background": "light"
          }
        }
      ]
    }
  ]
}
