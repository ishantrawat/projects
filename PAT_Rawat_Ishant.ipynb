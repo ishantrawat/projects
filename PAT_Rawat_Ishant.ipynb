{
  "nbformat": 4,
  "nbformat_minor": 0,
  "metadata": {
    "colab": {
      "name": "PAT_Rawat_Ishant.ipynb",
      "provenance": [],
      "collapsed_sections": []
    },
    "kernelspec": {
      "name": "python3",
      "display_name": "Python 3"
    },
    "language_info": {
      "name": "python"
    }
  },
  "cells": [
    {
      "cell_type": "code",
      "metadata": {
        "id": "270gJcqEj5bm"
      },
      "source": [
        "import pandas as pd \n",
        "import numpy as np\n",
        "import matplotlib.pyplot as plt\n",
        "import seaborn as sns\n",
        "from sklearn.model_selection import train_test_split\n",
        "from sklearn.decomposition import PCA\n",
        "from sklearn.linear_model import LinearRegression\n",
        "from sklearn.cross_decomposition import PLSRegression \n",
        "from sklearn.preprocessing import StandardScaler\n",
        "from sklearn.preprocessing import MaxAbsScaler\n",
        "from matplotlib.ticker import MaxNLocator\n",
        "import warnings\n",
        "warnings.filterwarnings(\"ignore\")"
      ],
      "execution_count": 69,
      "outputs": []
    },
    {
      "cell_type": "markdown",
      "metadata": {
        "id": "aSHsjbbpzhce"
      },
      "source": [
        "3.2    Task #1:  Unsupervised learning, PCA of NIR dataA.  \n",
        "Generate the plot of all the training set raw NIR data."
      ]
    },
    {
      "cell_type": "code",
      "metadata": {
        "id": "g4v60QZ1kBmQ"
      },
      "source": [
        "#loading train data\n",
        "df = pd.read_excel('/content/sawdust_train.xlsx')"
      ],
      "execution_count": 70,
      "outputs": []
    },
    {
      "cell_type": "code",
      "metadata": {
        "id": "RxzML8iDzJv_"
      },
      "source": [
        "#loading test data\n",
        "df_test = pd.read_excel('/content/sawdust_pred.xlsx')"
      ],
      "execution_count": 71,
      "outputs": []
    },
    {
      "cell_type": "code",
      "metadata": {
        "colab": {
          "base_uri": "https://localhost:8080/"
        },
        "id": "qdJKf5_CkY42",
        "outputId": "b80a53b7-b2b5-4388-86b6-ce7753a7496c"
      },
      "source": [
        "df.shape"
      ],
      "execution_count": 72,
      "outputs": [
        {
          "output_type": "execute_result",
          "data": {
            "text/plain": [
              "(30, 1206)"
            ]
          },
          "metadata": {},
          "execution_count": 72
        }
      ]
    },
    {
      "cell_type": "code",
      "metadata": {
        "colab": {
          "base_uri": "https://localhost:8080/"
        },
        "id": "1k3lq3eLltLo",
        "outputId": "a9bc1e5a-0da9-446c-a6df-b0f97fe9badb"
      },
      "source": [
        "df.columns"
      ],
      "execution_count": 73,
      "outputs": [
        {
          "output_type": "execute_result",
          "data": {
            "text/plain": [
              "Index(['Primary ID', 'OBSNAM', 'w1100', 'w1101', 'w1102', 'w1103', 'w1104',\n",
              "       'w1105', 'w1106', 'w1107',\n",
              "       ...\n",
              "       'w2294', 'w2295', 'w2296', 'w2297', 'w2298', 'w2299', 'w2300', 'Spruce',\n",
              "       'Pine', 'Birch'],\n",
              "      dtype='object', length=1206)"
            ]
          },
          "metadata": {},
          "execution_count": 73
        }
      ]
    },
    {
      "cell_type": "code",
      "metadata": {
        "colab": {
          "base_uri": "https://localhost:8080/"
        },
        "id": "HanJXxg0pQK6",
        "outputId": "1456fcb0-29cb-4513-c7da-c944ef23d082"
      },
      "source": [
        "#checking null values\n",
        "df.isnull().sum()"
      ],
      "execution_count": 74,
      "outputs": [
        {
          "output_type": "execute_result",
          "data": {
            "text/plain": [
              "Primary ID    0\n",
              "OBSNAM        0\n",
              "w1100         0\n",
              "w1101         0\n",
              "w1102         0\n",
              "             ..\n",
              "w2299         0\n",
              "w2300         0\n",
              "Spruce        0\n",
              "Pine          0\n",
              "Birch         0\n",
              "Length: 1206, dtype: int64"
            ]
          },
          "metadata": {},
          "execution_count": 74
        }
      ]
    },
    {
      "cell_type": "code",
      "metadata": {
        "colab": {
          "base_uri": "https://localhost:8080/"
        },
        "id": "U8PNz1DTmasE",
        "outputId": "260df648-b0b5-46f7-d853-a8ce525fbbab"
      },
      "source": [
        "#defining target variable\n",
        "x_train = df.iloc[:,2:1203]\n",
        "y_train = df.iloc[:,1203:]\n",
        "print(x_train.shape)\n",
        "print(y_train.shape)"
      ],
      "execution_count": 75,
      "outputs": [
        {
          "output_type": "stream",
          "name": "stdout",
          "text": [
            "(30, 1201)\n",
            "(30, 3)\n"
          ]
        }
      ]
    },
    {
      "cell_type": "code",
      "metadata": {
        "colab": {
          "base_uri": "https://localhost:8080/",
          "height": 421
        },
        "id": "OR6ku_6bkdWO",
        "outputId": "71df4d4a-7d5b-481f-e954-155467cab6f8"
      },
      "source": [
        "x_train.transpose().plot(legend=None,\n",
        "                            figsize=(8,6),\n",
        "                            title='plot for training data',\n",
        "                            xlabel='NIR spectra data',\n",
        "                            ylabel='ratio of final wood product')"
      ],
      "execution_count": 76,
      "outputs": [
        {
          "output_type": "execute_result",
          "data": {
            "text/plain": [
              "<matplotlib.axes._subplots.AxesSubplot at 0x7fb8230ccad0>"
            ]
          },
          "metadata": {},
          "execution_count": 76
        },
        {
          "output_type": "display_data",
          "data": {
            "image/png": "[encoded data removed]",
            "text/plain": [
              "<Figure size 576x432 with 1 Axes>"
            ]
          },
          "metadata": {
            "needs_background": "light"
          }
        }
      ]
    },
    {
      "cell_type": "markdown",
      "metadata": {
        "id": "O3NTBV2rzo3C"
      },
      "source": [
        "B.  Pre-process the NIR data and perform PCA for 5 components."
      ]
    },
    {
      "cell_type": "code",
      "metadata": {
        "id": "1PaCMNffqC-X"
      },
      "source": [
        "#Standardise training data\n",
        "sc = StandardScaler(with_std=False)\n",
        "X_train = sc.fit_transform(x_train)"
      ],
      "execution_count": 77,
      "outputs": []
    },
    {
      "cell_type": "code",
      "metadata": {
        "id": "JCqHMxHMsIeR"
      },
      "source": [
        "pca = PCA(n_components=5, svd_solver='full')"
      ],
      "execution_count": 78,
      "outputs": []
    },
    {
      "cell_type": "code",
      "metadata": {
        "colab": {
          "base_uri": "https://localhost:8080/"
        },
        "id": "5Gl3yKO1skVv",
        "outputId": "28bc1829-f3db-41d5-94ba-3eb8336407f7"
      },
      "source": [
        "pca_scores = pca.fit_transform(X_train)\n",
        "pca_scores.shape"
      ],
      "execution_count": 79,
      "outputs": [
        {
          "output_type": "execute_result",
          "data": {
            "text/plain": [
              "(30, 5)"
            ]
          },
          "metadata": {},
          "execution_count": 79
        }
      ]
    },
    {
      "cell_type": "code",
      "metadata": {
        "colab": {
          "base_uri": "https://localhost:8080/",
          "height": 979
        },
        "id": "O3xtsQ4DsrrA",
        "outputId": "a3ef6bac-c50d-43e0-d6b4-cd888906d6ab"
      },
      "source": [
        "scores_pd = pd.DataFrame(data = pca_scores\n",
        "                         ,columns = ['PC1', 'PC2','PC3','PC4','PC5']\n",
        "                         ,index = x_train.index)\n",
        "scores_pd"
      ],
      "execution_count": 80,
      "outputs": [
        {
          "output_type": "execute_result",
          "data": {
            "text/html": [
              "<div>\n",
              "<style scoped>\n",
              "    .dataframe tbody tr th:only-of-type {\n",
              "        vertical-align: middle;\n",
              "    }\n",
              "\n",
              "    .dataframe tbody tr th {\n",
              "        vertical-align: top;\n",
              "    }\n",
              "\n",
              "    .dataframe thead th {\n",
              "        text-align: right;\n",
              "    }\n",
              "</style>\n",
              "<table border=\"1\" class=\"dataframe\">\n",
              "  <thead>\n",
              "    <tr style=\"text-align: right;\">\n",
              "      <th></th>\n",
              "      <th>PC1</th>\n",
              "      <th>PC2</th>\n",
              "      <th>PC3</th>\n",
              "      <th>PC4</th>\n",
              "      <th>PC5</th>\n",
              "    </tr>\n",
              "  </thead>\n",
              "  <tbody>\n",
              "    <tr>\n",
              "      <th>0</th>\n",
              "      <td>-1.078295</td>\n",
              "      <td>-0.047001</td>\n",
              "      <td>0.251280</td>\n",
              "      <td>0.024857</td>\n",
              "      <td>0.003036</td>\n",
              "    </tr>\n",
              "    <tr>\n",
              "      <th>1</th>\n",
              "      <td>-0.929153</td>\n",
              "      <td>-0.060230</td>\n",
              "      <td>0.245587</td>\n",
              "      <td>0.000213</td>\n",
              "      <td>-0.003432</td>\n",
              "    </tr>\n",
              "    <tr>\n",
              "      <th>2</th>\n",
              "      <td>-1.022756</td>\n",
              "      <td>-0.305001</td>\n",
              "      <td>-0.042607</td>\n",
              "      <td>0.020161</td>\n",
              "      <td>-0.021894</td>\n",
              "    </tr>\n",
              "    <tr>\n",
              "      <th>3</th>\n",
              "      <td>-1.019964</td>\n",
              "      <td>-0.295982</td>\n",
              "      <td>-0.037858</td>\n",
              "      <td>0.021896</td>\n",
              "      <td>-0.026418</td>\n",
              "    </tr>\n",
              "    <tr>\n",
              "      <th>4</th>\n",
              "      <td>-1.184856</td>\n",
              "      <td>-0.018965</td>\n",
              "      <td>0.083824</td>\n",
              "      <td>-0.021246</td>\n",
              "      <td>-0.009141</td>\n",
              "    </tr>\n",
              "    <tr>\n",
              "      <th>5</th>\n",
              "      <td>-1.095564</td>\n",
              "      <td>0.004305</td>\n",
              "      <td>0.085434</td>\n",
              "      <td>-0.023682</td>\n",
              "      <td>-0.008591</td>\n",
              "    </tr>\n",
              "    <tr>\n",
              "      <th>6</th>\n",
              "      <td>-0.429080</td>\n",
              "      <td>0.383454</td>\n",
              "      <td>-0.016684</td>\n",
              "      <td>0.107723</td>\n",
              "      <td>-0.004963</td>\n",
              "    </tr>\n",
              "    <tr>\n",
              "      <th>7</th>\n",
              "      <td>-0.482592</td>\n",
              "      <td>0.379079</td>\n",
              "      <td>-0.008178</td>\n",
              "      <td>0.101704</td>\n",
              "      <td>-0.004043</td>\n",
              "    </tr>\n",
              "    <tr>\n",
              "      <th>8</th>\n",
              "      <td>0.070632</td>\n",
              "      <td>-0.290886</td>\n",
              "      <td>-0.044821</td>\n",
              "      <td>0.048580</td>\n",
              "      <td>-0.003262</td>\n",
              "    </tr>\n",
              "    <tr>\n",
              "      <th>9</th>\n",
              "      <td>0.198855</td>\n",
              "      <td>-0.264795</td>\n",
              "      <td>-0.043709</td>\n",
              "      <td>0.049472</td>\n",
              "      <td>-0.002781</td>\n",
              "    </tr>\n",
              "    <tr>\n",
              "      <th>10</th>\n",
              "      <td>-0.610884</td>\n",
              "      <td>0.243945</td>\n",
              "      <td>-0.035453</td>\n",
              "      <td>-0.047288</td>\n",
              "      <td>-0.003191</td>\n",
              "    </tr>\n",
              "    <tr>\n",
              "      <th>11</th>\n",
              "      <td>-0.828971</td>\n",
              "      <td>0.216661</td>\n",
              "      <td>-0.040770</td>\n",
              "      <td>-0.048944</td>\n",
              "      <td>0.003218</td>\n",
              "    </tr>\n",
              "    <tr>\n",
              "      <th>12</th>\n",
              "      <td>0.227416</td>\n",
              "      <td>-0.407778</td>\n",
              "      <td>-0.045642</td>\n",
              "      <td>0.091186</td>\n",
              "      <td>0.029033</td>\n",
              "    </tr>\n",
              "    <tr>\n",
              "      <th>13</th>\n",
              "      <td>0.221183</td>\n",
              "      <td>-0.391883</td>\n",
              "      <td>-0.038846</td>\n",
              "      <td>0.095018</td>\n",
              "      <td>0.029813</td>\n",
              "    </tr>\n",
              "    <tr>\n",
              "      <th>14</th>\n",
              "      <td>1.326561</td>\n",
              "      <td>0.027463</td>\n",
              "      <td>0.133061</td>\n",
              "      <td>-0.026643</td>\n",
              "      <td>-0.004502</td>\n",
              "    </tr>\n",
              "    <tr>\n",
              "      <th>15</th>\n",
              "      <td>1.142904</td>\n",
              "      <td>0.009691</td>\n",
              "      <td>0.128507</td>\n",
              "      <td>-0.020320</td>\n",
              "      <td>-0.000660</td>\n",
              "    </tr>\n",
              "    <tr>\n",
              "      <th>16</th>\n",
              "      <td>0.414529</td>\n",
              "      <td>-0.362516</td>\n",
              "      <td>-0.139470</td>\n",
              "      <td>-0.043758</td>\n",
              "      <td>-0.021488</td>\n",
              "    </tr>\n",
              "    <tr>\n",
              "      <th>17</th>\n",
              "      <td>0.476379</td>\n",
              "      <td>-0.338854</td>\n",
              "      <td>-0.132059</td>\n",
              "      <td>-0.038967</td>\n",
              "      <td>-0.020765</td>\n",
              "    </tr>\n",
              "    <tr>\n",
              "      <th>18</th>\n",
              "      <td>-0.098228</td>\n",
              "      <td>0.641871</td>\n",
              "      <td>-0.095914</td>\n",
              "      <td>0.017322</td>\n",
              "      <td>-0.005151</td>\n",
              "    </tr>\n",
              "    <tr>\n",
              "      <th>19</th>\n",
              "      <td>-0.161071</td>\n",
              "      <td>0.655334</td>\n",
              "      <td>-0.085890</td>\n",
              "      <td>0.032047</td>\n",
              "      <td>0.003590</td>\n",
              "    </tr>\n",
              "    <tr>\n",
              "      <th>20</th>\n",
              "      <td>1.537091</td>\n",
              "      <td>-0.098448</td>\n",
              "      <td>0.048597</td>\n",
              "      <td>0.029101</td>\n",
              "      <td>-0.008293</td>\n",
              "    </tr>\n",
              "    <tr>\n",
              "      <th>21</th>\n",
              "      <td>1.571948</td>\n",
              "      <td>-0.065933</td>\n",
              "      <td>0.051310</td>\n",
              "      <td>0.030785</td>\n",
              "      <td>-0.004956</td>\n",
              "    </tr>\n",
              "    <tr>\n",
              "      <th>22</th>\n",
              "      <td>-0.198521</td>\n",
              "      <td>-0.090091</td>\n",
              "      <td>0.055307</td>\n",
              "      <td>-0.089002</td>\n",
              "      <td>0.018638</td>\n",
              "    </tr>\n",
              "    <tr>\n",
              "      <th>23</th>\n",
              "      <td>-0.143869</td>\n",
              "      <td>-0.083972</td>\n",
              "      <td>0.061989</td>\n",
              "      <td>-0.095450</td>\n",
              "      <td>0.019138</td>\n",
              "    </tr>\n",
              "    <tr>\n",
              "      <th>24</th>\n",
              "      <td>-0.876433</td>\n",
              "      <td>-0.065945</td>\n",
              "      <td>-0.147367</td>\n",
              "      <td>-0.060845</td>\n",
              "      <td>0.012860</td>\n",
              "    </tr>\n",
              "    <tr>\n",
              "      <th>25</th>\n",
              "      <td>-0.889051</td>\n",
              "      <td>-0.042971</td>\n",
              "      <td>-0.140968</td>\n",
              "      <td>-0.052702</td>\n",
              "      <td>0.020384</td>\n",
              "    </tr>\n",
              "    <tr>\n",
              "      <th>26</th>\n",
              "      <td>0.421034</td>\n",
              "      <td>0.111483</td>\n",
              "      <td>-0.012677</td>\n",
              "      <td>-0.005452</td>\n",
              "      <td>0.008337</td>\n",
              "    </tr>\n",
              "    <tr>\n",
              "      <th>27</th>\n",
              "      <td>0.445885</td>\n",
              "      <td>0.123937</td>\n",
              "      <td>-0.016507</td>\n",
              "      <td>-0.012087</td>\n",
              "      <td>0.014250</td>\n",
              "    </tr>\n",
              "    <tr>\n",
              "      <th>28</th>\n",
              "      <td>1.510365</td>\n",
              "      <td>0.222776</td>\n",
              "      <td>-0.004117</td>\n",
              "      <td>-0.039102</td>\n",
              "      <td>-0.005413</td>\n",
              "    </tr>\n",
              "    <tr>\n",
              "      <th>29</th>\n",
              "      <td>1.484506</td>\n",
              "      <td>0.211254</td>\n",
              "      <td>-0.015361</td>\n",
              "      <td>-0.044578</td>\n",
              "      <td>-0.003353</td>\n",
              "    </tr>\n",
              "  </tbody>\n",
              "</table>\n",
              "</div>"
            ],
            "text/plain": [
              "         PC1       PC2       PC3       PC4       PC5\n",
              "0  -1.078295 -0.047001  0.251280  0.024857  0.003036\n",
              "1  -0.929153 -0.060230  0.245587  0.000213 -0.003432\n",
              "2  -1.022756 -0.305001 -0.042607  0.020161 -0.021894\n",
              "3  -1.019964 -0.295982 -0.037858  0.021896 -0.026418\n",
              "4  -1.184856 -0.018965  0.083824 -0.021246 -0.009141\n",
              "5  -1.095564  0.004305  0.085434 -0.023682 -0.008591\n",
              "6  -0.429080  0.383454 -0.016684  0.107723 -0.004963\n",
              "7  -0.482592  0.379079 -0.008178  0.101704 -0.004043\n",
              "8   0.070632 -0.290886 -0.044821  0.048580 -0.003262\n",
              "9   0.198855 -0.264795 -0.043709  0.049472 -0.002781\n",
              "10 -0.610884  0.243945 -0.035453 -0.047288 -0.003191\n",
              "11 -0.828971  0.216661 -0.040770 -0.048944  0.003218\n",
              "12  0.227416 -0.407778 -0.045642  0.091186  0.029033\n",
              "13  0.221183 -0.391883 -0.038846  0.095018  0.029813\n",
              "14  1.326561  0.027463  0.133061 -0.026643 -0.004502\n",
              "15  1.142904  0.009691  0.128507 -0.020320 -0.000660\n",
              "16  0.414529 -0.362516 -0.139470 -0.043758 -0.021488\n",
              "17  0.476379 -0.338854 -0.132059 -0.038967 -0.020765\n",
              "18 -0.098228  0.641871 -0.095914  0.017322 -0.005151\n",
              "19 -0.161071  0.655334 -0.085890  0.032047  0.003590\n",
              "20  1.537091 -0.098448  0.048597  0.029101 -0.008293\n",
              "21  1.571948 -0.065933  0.051310  0.030785 -0.004956\n",
              "22 -0.198521 -0.090091  0.055307 -0.089002  0.018638\n",
              "23 -0.143869 -0.083972  0.061989 -0.095450  0.019138\n",
              "24 -0.876433 -0.065945 -0.147367 -0.060845  0.012860\n",
              "25 -0.889051 -0.042971 -0.140968 -0.052702  0.020384\n",
              "26  0.421034  0.111483 -0.012677 -0.005452  0.008337\n",
              "27  0.445885  0.123937 -0.016507 -0.012087  0.014250\n",
              "28  1.510365  0.222776 -0.004117 -0.039102 -0.005413\n",
              "29  1.484506  0.211254 -0.015361 -0.044578 -0.003353"
            ]
          },
          "metadata": {},
          "execution_count": 80
        }
      ]
    },
    {
      "cell_type": "code",
      "metadata": {
        "colab": {
          "base_uri": "https://localhost:8080/",
          "height": 419
        },
        "id": "P0wzb9ISs3nS",
        "outputId": "2c6be264-6cc8-4c9a-e528-e031af17750e"
      },
      "source": [
        "loadings_pd = pd.DataFrame(data = pca.components_.T\n",
        "                           ,columns = ['PC1', 'PC2','PC3','PC4','PC5']\n",
        "                           ,index = x_train.columns)\n",
        "loadings_pd"
      ],
      "execution_count": 81,
      "outputs": [
        {
          "output_type": "execute_result",
          "data": {
            "text/html": [
              "<div>\n",
              "<style scoped>\n",
              "    .dataframe tbody tr th:only-of-type {\n",
              "        vertical-align: middle;\n",
              "    }\n",
              "\n",
              "    .dataframe tbody tr th {\n",
              "        vertical-align: top;\n",
              "    }\n",
              "\n",
              "    .dataframe thead th {\n",
              "        text-align: right;\n",
              "    }\n",
              "</style>\n",
              "<table border=\"1\" class=\"dataframe\">\n",
              "  <thead>\n",
              "    <tr style=\"text-align: right;\">\n",
              "      <th></th>\n",
              "      <th>PC1</th>\n",
              "      <th>PC2</th>\n",
              "      <th>PC3</th>\n",
              "      <th>PC4</th>\n",
              "      <th>PC5</th>\n",
              "    </tr>\n",
              "  </thead>\n",
              "  <tbody>\n",
              "    <tr>\n",
              "      <th>w1100</th>\n",
              "      <td>-0.034221</td>\n",
              "      <td>-0.065116</td>\n",
              "      <td>0.005665</td>\n",
              "      <td>-0.036834</td>\n",
              "      <td>0.034033</td>\n",
              "    </tr>\n",
              "    <tr>\n",
              "      <th>w1101</th>\n",
              "      <td>-0.034276</td>\n",
              "      <td>-0.064894</td>\n",
              "      <td>0.005843</td>\n",
              "      <td>-0.036801</td>\n",
              "      <td>0.029723</td>\n",
              "    </tr>\n",
              "    <tr>\n",
              "      <th>w1102</th>\n",
              "      <td>-0.034303</td>\n",
              "      <td>-0.064643</td>\n",
              "      <td>0.005948</td>\n",
              "      <td>-0.037266</td>\n",
              "      <td>0.025164</td>\n",
              "    </tr>\n",
              "    <tr>\n",
              "      <th>w1103</th>\n",
              "      <td>-0.034311</td>\n",
              "      <td>-0.064478</td>\n",
              "      <td>0.006022</td>\n",
              "      <td>-0.037800</td>\n",
              "      <td>0.022163</td>\n",
              "    </tr>\n",
              "    <tr>\n",
              "      <th>w1104</th>\n",
              "      <td>-0.034327</td>\n",
              "      <td>-0.064430</td>\n",
              "      <td>0.005969</td>\n",
              "      <td>-0.038608</td>\n",
              "      <td>0.021055</td>\n",
              "    </tr>\n",
              "    <tr>\n",
              "      <th>...</th>\n",
              "      <td>...</td>\n",
              "      <td>...</td>\n",
              "      <td>...</td>\n",
              "      <td>...</td>\n",
              "      <td>...</td>\n",
              "    </tr>\n",
              "    <tr>\n",
              "      <th>w2296</th>\n",
              "      <td>-0.017195</td>\n",
              "      <td>-0.007921</td>\n",
              "      <td>0.029052</td>\n",
              "      <td>0.075289</td>\n",
              "      <td>-0.059924</td>\n",
              "    </tr>\n",
              "    <tr>\n",
              "      <th>w2297</th>\n",
              "      <td>-0.017148</td>\n",
              "      <td>-0.007882</td>\n",
              "      <td>0.028378</td>\n",
              "      <td>0.076721</td>\n",
              "      <td>-0.057624</td>\n",
              "    </tr>\n",
              "    <tr>\n",
              "      <th>w2298</th>\n",
              "      <td>-0.017126</td>\n",
              "      <td>-0.007856</td>\n",
              "      <td>0.028030</td>\n",
              "      <td>0.078477</td>\n",
              "      <td>-0.056627</td>\n",
              "    </tr>\n",
              "    <tr>\n",
              "      <th>w2299</th>\n",
              "      <td>-0.017170</td>\n",
              "      <td>-0.007917</td>\n",
              "      <td>0.027927</td>\n",
              "      <td>0.080656</td>\n",
              "      <td>-0.059458</td>\n",
              "    </tr>\n",
              "    <tr>\n",
              "      <th>w2300</th>\n",
              "      <td>-0.017321</td>\n",
              "      <td>-0.008178</td>\n",
              "      <td>0.028578</td>\n",
              "      <td>0.082912</td>\n",
              "      <td>-0.066693</td>\n",
              "    </tr>\n",
              "  </tbody>\n",
              "</table>\n",
              "<p>1201 rows × 5 columns</p>\n",
              "</div>"
            ],
            "text/plain": [
              "            PC1       PC2       PC3       PC4       PC5\n",
              "w1100 -0.034221 -0.065116  0.005665 -0.036834  0.034033\n",
              "w1101 -0.034276 -0.064894  0.005843 -0.036801  0.029723\n",
              "w1102 -0.034303 -0.064643  0.005948 -0.037266  0.025164\n",
              "w1103 -0.034311 -0.064478  0.006022 -0.037800  0.022163\n",
              "w1104 -0.034327 -0.064430  0.005969 -0.038608  0.021055\n",
              "...         ...       ...       ...       ...       ...\n",
              "w2296 -0.017195 -0.007921  0.029052  0.075289 -0.059924\n",
              "w2297 -0.017148 -0.007882  0.028378  0.076721 -0.057624\n",
              "w2298 -0.017126 -0.007856  0.028030  0.078477 -0.056627\n",
              "w2299 -0.017170 -0.007917  0.027927  0.080656 -0.059458\n",
              "w2300 -0.017321 -0.008178  0.028578  0.082912 -0.066693\n",
              "\n",
              "[1201 rows x 5 columns]"
            ]
          },
          "metadata": {},
          "execution_count": 81
        }
      ]
    },
    {
      "cell_type": "markdown",
      "metadata": {
        "id": "mqJpveCxzuoH"
      },
      "source": [
        "C.  Plot the cumulative explained variance versus the number of components.  How manycomponents do we need to capture 99% of the variance?\n",
        "\n",
        "**Answer: Two PCs capture 99% variance**"
      ]
    },
    {
      "cell_type": "code",
      "metadata": {
        "colab": {
          "base_uri": "https://localhost:8080/",
          "height": 445
        },
        "id": "2zlnwwJCwtOa",
        "outputId": "0b77e437-bf27-4cff-852a-03cc93fc4d88"
      },
      "source": [
        "fig = plt.figure(figsize=(9, 6))\n",
        "sub0 = fig.add_subplot(111)\n",
        "plt.plot(range(1,pca.n_components+1), np.cumsum(pca.explained_variance_ratio_),'b-s')\n",
        "sub0.set_xlabel('Number of components', fontsize=20)\n",
        "sub0.set_ylabel('Cumulative explained variance', fontsize=20)\n",
        "sub0.set_title('Cumulative explained variance \\n as a function of the number of components', fontsize=20)\n",
        "sub0.xaxis.set_major_locator(MaxNLocator(integer=True))\n",
        "plt.tick_params(labelsize=16)\n",
        "plt.ylim(0,1)\n",
        "plt.show()"
      ],
      "execution_count": 82,
      "outputs": [
        {
          "output_type": "display_data",
          "data": {
            "image/png": "[encoded data removed]",
            "text/plain": [
              "<Figure size 648x432 with 1 Axes>"
            ]
          },
          "metadata": {
            "needs_background": "light"
          }
        }
      ]
    },
    {
      "cell_type": "markdown",
      "metadata": {
        "id": "D-Vb5Fsi0PbX"
      },
      "source": [
        "D.  Plot the PCA scores for the first two components.  Comment on any outliers, trends,clusters etc (if any).\n",
        "\n",
        "**Our plot show trends of overlapping clusters with consecutive adjacent values(eg:16,17 & 12,13 etc.). Since the clusters are randomly distributed we cannot comment on outliers from this graph**"
      ]
    },
    {
      "cell_type": "code",
      "metadata": {
        "id": "azgnyZJkw1T5"
      },
      "source": [
        "def score_plot(scores, score_labels=None):\n",
        "    \n",
        "    xt = scores[:,0]\n",
        "    yt = scores[:,1]\n",
        "    scalext = 1.0/(xt.max() - xt.min())\n",
        "    scaleyt = 1.0/(yt.max() - yt.min())\n",
        "    xt_scaled = xt * scalext\n",
        "    yt_scaled = yt * scaleyt\n",
        "    \n",
        "    fig = plt.figure(figsize=(9, 9))\n",
        "    for (x,y), label in zip(np.vstack((xt_scaled, yt_scaled)).T, score_labels):\n",
        "        plt.text(x, y, label, ha='center', size=11)\n",
        "        \n",
        "    plt.hlines(0, -1, 1, linestyles='solid', linewidth=3)\n",
        "    plt.vlines(0, -1, 1, linestyles='solid', linewidth=3)\n",
        "    \n",
        "    plt.xlim(-1,1)\n",
        "    plt.ylim(-1,1)\n",
        "    plt.xlabel(\"PC{}\".format(1), fontsize=20);\n",
        "    plt.ylabel(\"PC{}\".format(2), fontsize=20);\n",
        "    plt.tick_params(labelsize=16)\n",
        "    plt.grid()"
      ],
      "execution_count": 83,
      "outputs": []
    },
    {
      "cell_type": "code",
      "metadata": {
        "colab": {
          "base_uri": "https://localhost:8080/",
          "height": 571
        },
        "id": "kVMB5CWgxI3x",
        "outputId": "a4bc68ab-3599-4bf7-de1a-06a5cfa4dfed"
      },
      "source": [
        "score_plot(pca_scores[:,:2], score_labels=scores_pd.index)\n",
        "plt.show()"
      ],
      "execution_count": 84,
      "outputs": [
        {
          "output_type": "display_data",
          "data": {
            "image/png": "[encoded data removed]",
            "text/plain": [
              "<Figure size 648x648 with 1 Axes>"
            ]
          },
          "metadata": {
            "needs_background": "light"
          }
        }
      ]
    },
    {
      "cell_type": "markdown",
      "metadata": {
        "id": "URBpmpvp1roC"
      },
      "source": [
        "E.  Plot  the  loadings  of  the  first  two  components  and  comment  on  which  wavelengths seem to be important for different PCs.Don’t describe the graphs in words.  In two sentences, describe any significant trends or signals (if any).\n",
        "\n",
        "**Answer: PC1: Although the graph for PC1 has a lot irregularities, we can observe that PC1 capture more information for wavelengths w2200, w2100, w2150\n",
        "PC2 descibes more information about wavelengths w1550, w2000.**\n"
      ]
    },
    {
      "cell_type": "code",
      "metadata": {
        "colab": {
          "base_uri": "https://localhost:8080/",
          "height": 415
        },
        "id": "0-SXDSoOxKxo",
        "outputId": "a089427c-b588-4674-b975-cd98bbe6d36c"
      },
      "source": [
        "fig0 = plt.figure(figsize=(16, 6))\n",
        "sub1 = fig0.add_subplot(121)\n",
        "plt.plot(loadings_pd['PC1'],'-')\n",
        "sub1.set_xlabel('Wavelength', fontsize=15)\n",
        "sub1.set_ylabel('Loading value', fontsize=15)\n",
        "sub1.set_title('Loadings of PC #1', fontsize=15)\n",
        "sub1.xaxis.set_major_locator(MaxNLocator(integer=True))\n",
        "plt.tick_params(labelsize=14)\n",
        "\n",
        "sub2 = fig0.add_subplot(122)\n",
        "plt.plot(loadings_pd['PC2'],'-')\n",
        "sub2.set_xlabel('Wavelength', fontsize=15)\n",
        "sub2.set_title('Loadings of PC #2', fontsize=15)\n",
        "sub2.xaxis.set_major_locator(MaxNLocator(integer=True))\n",
        "plt.tick_params(labelsize=14)\n",
        "\n",
        "plt.show()"
      ],
      "execution_count": 85,
      "outputs": [
        {
          "output_type": "display_data",
          "data": {
            "image/png": "[encoded data removed]",
            "text/plain": [
              "<Figure size 1152x432 with 2 Axes>"
            ]
          },
          "metadata": {
            "needs_background": "light"
          }
        }
      ]
    },
    {
      "cell_type": "markdown",
      "metadata": {
        "id": "-cFQlKwj6VVn"
      },
      "source": [
        "F.  Apply the dimensionality reduction with the PCA model you developed in step B for the test set using the transform method."
      ]
    },
    {
      "cell_type": "code",
      "metadata": {
        "colab": {
          "base_uri": "https://localhost:8080/",
          "height": 270
        },
        "id": "6It6SXcoxdZO",
        "outputId": "5b5c9461-8200-4585-be4b-bfa15698738d"
      },
      "source": [
        "df_test.tail()"
      ],
      "execution_count": 86,
      "outputs": [
        {
          "output_type": "execute_result",
          "data": {
            "text/html": [
              "<div>\n",
              "<style scoped>\n",
              "    .dataframe tbody tr th:only-of-type {\n",
              "        vertical-align: middle;\n",
              "    }\n",
              "\n",
              "    .dataframe tbody tr th {\n",
              "        vertical-align: top;\n",
              "    }\n",
              "\n",
              "    .dataframe thead th {\n",
              "        text-align: right;\n",
              "    }\n",
              "</style>\n",
              "<table border=\"1\" class=\"dataframe\">\n",
              "  <thead>\n",
              "    <tr style=\"text-align: right;\">\n",
              "      <th></th>\n",
              "      <th>Primary ID</th>\n",
              "      <th>OBSNAM</th>\n",
              "      <th>w1100</th>\n",
              "      <th>w1101</th>\n",
              "      <th>w1102</th>\n",
              "      <th>w1103</th>\n",
              "      <th>w1104</th>\n",
              "      <th>w1105</th>\n",
              "      <th>w1106</th>\n",
              "      <th>w1107</th>\n",
              "      <th>w1108</th>\n",
              "      <th>w1109</th>\n",
              "      <th>w1110</th>\n",
              "      <th>w1111</th>\n",
              "      <th>w1112</th>\n",
              "      <th>w1113</th>\n",
              "      <th>w1114</th>\n",
              "      <th>w1115</th>\n",
              "      <th>w1116</th>\n",
              "      <th>w1117</th>\n",
              "      <th>w1118</th>\n",
              "      <th>w1119</th>\n",
              "      <th>w1120</th>\n",
              "      <th>w1121</th>\n",
              "      <th>w1122</th>\n",
              "      <th>w1123</th>\n",
              "      <th>w1124</th>\n",
              "      <th>w1125</th>\n",
              "      <th>w1126</th>\n",
              "      <th>w1127</th>\n",
              "      <th>w1128</th>\n",
              "      <th>w1129</th>\n",
              "      <th>w1130</th>\n",
              "      <th>w1131</th>\n",
              "      <th>w1132</th>\n",
              "      <th>w1133</th>\n",
              "      <th>w1134</th>\n",
              "      <th>w1135</th>\n",
              "      <th>w1136</th>\n",
              "      <th>w1137</th>\n",
              "      <th>...</th>\n",
              "      <th>w2264</th>\n",
              "      <th>w2265</th>\n",
              "      <th>w2266</th>\n",
              "      <th>w2267</th>\n",
              "      <th>w2268</th>\n",
              "      <th>w2269</th>\n",
              "      <th>w2270</th>\n",
              "      <th>w2271</th>\n",
              "      <th>w2272</th>\n",
              "      <th>w2273</th>\n",
              "      <th>w2274</th>\n",
              "      <th>w2275</th>\n",
              "      <th>w2276</th>\n",
              "      <th>w2277</th>\n",
              "      <th>w2278</th>\n",
              "      <th>w2279</th>\n",
              "      <th>w2280</th>\n",
              "      <th>w2281</th>\n",
              "      <th>w2282</th>\n",
              "      <th>w2283</th>\n",
              "      <th>w2284</th>\n",
              "      <th>w2285</th>\n",
              "      <th>w2286</th>\n",
              "      <th>w2287</th>\n",
              "      <th>w2288</th>\n",
              "      <th>w2289</th>\n",
              "      <th>w2290</th>\n",
              "      <th>w2291</th>\n",
              "      <th>w2292</th>\n",
              "      <th>w2293</th>\n",
              "      <th>w2294</th>\n",
              "      <th>w2295</th>\n",
              "      <th>w2296</th>\n",
              "      <th>w2297</th>\n",
              "      <th>w2298</th>\n",
              "      <th>w2299</th>\n",
              "      <th>w2300</th>\n",
              "      <th>Spruce</th>\n",
              "      <th>Pine</th>\n",
              "      <th>Birch</th>\n",
              "    </tr>\n",
              "  </thead>\n",
              "  <tbody>\n",
              "    <tr>\n",
              "      <th>19</th>\n",
              "      <td>46</td>\n",
              "      <td>22b</td>\n",
              "      <td>1.77995</td>\n",
              "      <td>1.77966</td>\n",
              "      <td>1.77923</td>\n",
              "      <td>1.77846</td>\n",
              "      <td>1.77725</td>\n",
              "      <td>1.77574</td>\n",
              "      <td>1.77431</td>\n",
              "      <td>1.77312</td>\n",
              "      <td>1.77233</td>\n",
              "      <td>1.77172</td>\n",
              "      <td>1.77140</td>\n",
              "      <td>1.77125</td>\n",
              "      <td>1.77122</td>\n",
              "      <td>1.77095</td>\n",
              "      <td>1.77042</td>\n",
              "      <td>1.76977</td>\n",
              "      <td>1.76903</td>\n",
              "      <td>1.76809</td>\n",
              "      <td>1.76705</td>\n",
              "      <td>1.76604</td>\n",
              "      <td>1.76516</td>\n",
              "      <td>1.76451</td>\n",
              "      <td>1.76386</td>\n",
              "      <td>1.76313</td>\n",
              "      <td>1.76217</td>\n",
              "      <td>1.76117</td>\n",
              "      <td>1.76009</td>\n",
              "      <td>1.75886</td>\n",
              "      <td>1.75743</td>\n",
              "      <td>1.75594</td>\n",
              "      <td>1.75430</td>\n",
              "      <td>1.75257</td>\n",
              "      <td>1.75052</td>\n",
              "      <td>1.74817</td>\n",
              "      <td>1.74545</td>\n",
              "      <td>1.74266</td>\n",
              "      <td>1.73973</td>\n",
              "      <td>1.73661</td>\n",
              "      <td>...</td>\n",
              "      <td>0.431652</td>\n",
              "      <td>0.432587</td>\n",
              "      <td>0.433511</td>\n",
              "      <td>0.434995</td>\n",
              "      <td>0.437014</td>\n",
              "      <td>0.439554</td>\n",
              "      <td>0.442457</td>\n",
              "      <td>0.445154</td>\n",
              "      <td>0.447773</td>\n",
              "      <td>0.450900</td>\n",
              "      <td>0.453942</td>\n",
              "      <td>0.456913</td>\n",
              "      <td>0.459356</td>\n",
              "      <td>0.461966</td>\n",
              "      <td>0.464982</td>\n",
              "      <td>0.468257</td>\n",
              "      <td>0.471824</td>\n",
              "      <td>0.475689</td>\n",
              "      <td>0.479674</td>\n",
              "      <td>0.484519</td>\n",
              "      <td>0.489790</td>\n",
              "      <td>0.494317</td>\n",
              "      <td>0.498685</td>\n",
              "      <td>0.502920</td>\n",
              "      <td>0.507885</td>\n",
              "      <td>0.512540</td>\n",
              "      <td>0.516862</td>\n",
              "      <td>0.521615</td>\n",
              "      <td>0.526644</td>\n",
              "      <td>0.532004</td>\n",
              "      <td>0.537554</td>\n",
              "      <td>0.542684</td>\n",
              "      <td>0.547631</td>\n",
              "      <td>0.553138</td>\n",
              "      <td>0.558637</td>\n",
              "      <td>0.563911</td>\n",
              "      <td>0.568172</td>\n",
              "      <td>40</td>\n",
              "      <td>10</td>\n",
              "      <td>50</td>\n",
              "    </tr>\n",
              "    <tr>\n",
              "      <th>20</th>\n",
              "      <td>49</td>\n",
              "      <td>19a</td>\n",
              "      <td>1.73468</td>\n",
              "      <td>1.73445</td>\n",
              "      <td>1.73383</td>\n",
              "      <td>1.73266</td>\n",
              "      <td>1.73098</td>\n",
              "      <td>1.72904</td>\n",
              "      <td>1.72734</td>\n",
              "      <td>1.72608</td>\n",
              "      <td>1.72527</td>\n",
              "      <td>1.72460</td>\n",
              "      <td>1.72412</td>\n",
              "      <td>1.72361</td>\n",
              "      <td>1.72324</td>\n",
              "      <td>1.72255</td>\n",
              "      <td>1.72166</td>\n",
              "      <td>1.72076</td>\n",
              "      <td>1.71988</td>\n",
              "      <td>1.71899</td>\n",
              "      <td>1.71808</td>\n",
              "      <td>1.71709</td>\n",
              "      <td>1.71622</td>\n",
              "      <td>1.71553</td>\n",
              "      <td>1.71482</td>\n",
              "      <td>1.71403</td>\n",
              "      <td>1.71298</td>\n",
              "      <td>1.71193</td>\n",
              "      <td>1.71081</td>\n",
              "      <td>1.70952</td>\n",
              "      <td>1.70803</td>\n",
              "      <td>1.70650</td>\n",
              "      <td>1.70486</td>\n",
              "      <td>1.70323</td>\n",
              "      <td>1.70140</td>\n",
              "      <td>1.69933</td>\n",
              "      <td>1.69699</td>\n",
              "      <td>1.69465</td>\n",
              "      <td>1.69225</td>\n",
              "      <td>1.68966</td>\n",
              "      <td>...</td>\n",
              "      <td>0.419773</td>\n",
              "      <td>0.420838</td>\n",
              "      <td>0.421676</td>\n",
              "      <td>0.422858</td>\n",
              "      <td>0.424130</td>\n",
              "      <td>0.425481</td>\n",
              "      <td>0.427069</td>\n",
              "      <td>0.428530</td>\n",
              "      <td>0.430296</td>\n",
              "      <td>0.432966</td>\n",
              "      <td>0.436042</td>\n",
              "      <td>0.439202</td>\n",
              "      <td>0.441717</td>\n",
              "      <td>0.444234</td>\n",
              "      <td>0.447029</td>\n",
              "      <td>0.449697</td>\n",
              "      <td>0.452247</td>\n",
              "      <td>0.455003</td>\n",
              "      <td>0.457700</td>\n",
              "      <td>0.461149</td>\n",
              "      <td>0.465041</td>\n",
              "      <td>0.468575</td>\n",
              "      <td>0.472507</td>\n",
              "      <td>0.476742</td>\n",
              "      <td>0.482092</td>\n",
              "      <td>0.487234</td>\n",
              "      <td>0.491900</td>\n",
              "      <td>0.496695</td>\n",
              "      <td>0.501542</td>\n",
              "      <td>0.506513</td>\n",
              "      <td>0.511648</td>\n",
              "      <td>0.516482</td>\n",
              "      <td>0.521279</td>\n",
              "      <td>0.526603</td>\n",
              "      <td>0.531749</td>\n",
              "      <td>0.536373</td>\n",
              "      <td>0.540071</td>\n",
              "      <td>50</td>\n",
              "      <td>40</td>\n",
              "      <td>10</td>\n",
              "    </tr>\n",
              "    <tr>\n",
              "      <th>21</th>\n",
              "      <td>50</td>\n",
              "      <td>19b</td>\n",
              "      <td>1.73263</td>\n",
              "      <td>1.73230</td>\n",
              "      <td>1.73186</td>\n",
              "      <td>1.73107</td>\n",
              "      <td>1.72986</td>\n",
              "      <td>1.72831</td>\n",
              "      <td>1.72686</td>\n",
              "      <td>1.72571</td>\n",
              "      <td>1.72492</td>\n",
              "      <td>1.72415</td>\n",
              "      <td>1.72355</td>\n",
              "      <td>1.72304</td>\n",
              "      <td>1.72269</td>\n",
              "      <td>1.72206</td>\n",
              "      <td>1.72131</td>\n",
              "      <td>1.72029</td>\n",
              "      <td>1.71925</td>\n",
              "      <td>1.71815</td>\n",
              "      <td>1.71702</td>\n",
              "      <td>1.71594</td>\n",
              "      <td>1.71500</td>\n",
              "      <td>1.71438</td>\n",
              "      <td>1.71386</td>\n",
              "      <td>1.71311</td>\n",
              "      <td>1.71219</td>\n",
              "      <td>1.71130</td>\n",
              "      <td>1.71033</td>\n",
              "      <td>1.70923</td>\n",
              "      <td>1.70792</td>\n",
              "      <td>1.70652</td>\n",
              "      <td>1.70497</td>\n",
              "      <td>1.70334</td>\n",
              "      <td>1.70146</td>\n",
              "      <td>1.69933</td>\n",
              "      <td>1.69693</td>\n",
              "      <td>1.69456</td>\n",
              "      <td>1.69218</td>\n",
              "      <td>1.68962</td>\n",
              "      <td>...</td>\n",
              "      <td>0.421477</td>\n",
              "      <td>0.422098</td>\n",
              "      <td>0.422510</td>\n",
              "      <td>0.423270</td>\n",
              "      <td>0.424240</td>\n",
              "      <td>0.425609</td>\n",
              "      <td>0.427365</td>\n",
              "      <td>0.429012</td>\n",
              "      <td>0.430748</td>\n",
              "      <td>0.432964</td>\n",
              "      <td>0.435362</td>\n",
              "      <td>0.437887</td>\n",
              "      <td>0.440214</td>\n",
              "      <td>0.442736</td>\n",
              "      <td>0.445793</td>\n",
              "      <td>0.449156</td>\n",
              "      <td>0.452780</td>\n",
              "      <td>0.456401</td>\n",
              "      <td>0.459821</td>\n",
              "      <td>0.463550</td>\n",
              "      <td>0.467491</td>\n",
              "      <td>0.470827</td>\n",
              "      <td>0.474246</td>\n",
              "      <td>0.477824</td>\n",
              "      <td>0.482367</td>\n",
              "      <td>0.486963</td>\n",
              "      <td>0.491433</td>\n",
              "      <td>0.496179</td>\n",
              "      <td>0.501179</td>\n",
              "      <td>0.506419</td>\n",
              "      <td>0.511755</td>\n",
              "      <td>0.516684</td>\n",
              "      <td>0.521484</td>\n",
              "      <td>0.526615</td>\n",
              "      <td>0.531580</td>\n",
              "      <td>0.536271</td>\n",
              "      <td>0.540210</td>\n",
              "      <td>50</td>\n",
              "      <td>40</td>\n",
              "      <td>10</td>\n",
              "    </tr>\n",
              "    <tr>\n",
              "      <th>22</th>\n",
              "      <td>51</td>\n",
              "      <td>24a</td>\n",
              "      <td>1.77784</td>\n",
              "      <td>1.77755</td>\n",
              "      <td>1.77692</td>\n",
              "      <td>1.77584</td>\n",
              "      <td>1.77437</td>\n",
              "      <td>1.77268</td>\n",
              "      <td>1.77125</td>\n",
              "      <td>1.77023</td>\n",
              "      <td>1.76968</td>\n",
              "      <td>1.76924</td>\n",
              "      <td>1.76904</td>\n",
              "      <td>1.76890</td>\n",
              "      <td>1.76894</td>\n",
              "      <td>1.76876</td>\n",
              "      <td>1.76835</td>\n",
              "      <td>1.76787</td>\n",
              "      <td>1.76726</td>\n",
              "      <td>1.76646</td>\n",
              "      <td>1.76549</td>\n",
              "      <td>1.76436</td>\n",
              "      <td>1.76326</td>\n",
              "      <td>1.76235</td>\n",
              "      <td>1.76144</td>\n",
              "      <td>1.76050</td>\n",
              "      <td>1.75939</td>\n",
              "      <td>1.75828</td>\n",
              "      <td>1.75714</td>\n",
              "      <td>1.75584</td>\n",
              "      <td>1.75430</td>\n",
              "      <td>1.75261</td>\n",
              "      <td>1.75075</td>\n",
              "      <td>1.74881</td>\n",
              "      <td>1.74674</td>\n",
              "      <td>1.74447</td>\n",
              "      <td>1.74198</td>\n",
              "      <td>1.73947</td>\n",
              "      <td>1.73688</td>\n",
              "      <td>1.73404</td>\n",
              "      <td>...</td>\n",
              "      <td>0.423835</td>\n",
              "      <td>0.424437</td>\n",
              "      <td>0.424900</td>\n",
              "      <td>0.425753</td>\n",
              "      <td>0.427082</td>\n",
              "      <td>0.428996</td>\n",
              "      <td>0.431355</td>\n",
              "      <td>0.433705</td>\n",
              "      <td>0.436090</td>\n",
              "      <td>0.439153</td>\n",
              "      <td>0.442434</td>\n",
              "      <td>0.445738</td>\n",
              "      <td>0.448626</td>\n",
              "      <td>0.451525</td>\n",
              "      <td>0.454725</td>\n",
              "      <td>0.457978</td>\n",
              "      <td>0.461278</td>\n",
              "      <td>0.464707</td>\n",
              "      <td>0.468258</td>\n",
              "      <td>0.472627</td>\n",
              "      <td>0.477539</td>\n",
              "      <td>0.481885</td>\n",
              "      <td>0.486175</td>\n",
              "      <td>0.490378</td>\n",
              "      <td>0.495201</td>\n",
              "      <td>0.499790</td>\n",
              "      <td>0.504154</td>\n",
              "      <td>0.508909</td>\n",
              "      <td>0.513924</td>\n",
              "      <td>0.519348</td>\n",
              "      <td>0.524911</td>\n",
              "      <td>0.530095</td>\n",
              "      <td>0.534893</td>\n",
              "      <td>0.540095</td>\n",
              "      <td>0.545327</td>\n",
              "      <td>0.550271</td>\n",
              "      <td>0.554393</td>\n",
              "      <td>10</td>\n",
              "      <td>40</td>\n",
              "      <td>50</td>\n",
              "    </tr>\n",
              "    <tr>\n",
              "      <th>23</th>\n",
              "      <td>52</td>\n",
              "      <td>24b</td>\n",
              "      <td>1.78323</td>\n",
              "      <td>1.78251</td>\n",
              "      <td>1.78175</td>\n",
              "      <td>1.78079</td>\n",
              "      <td>1.77954</td>\n",
              "      <td>1.77807</td>\n",
              "      <td>1.77681</td>\n",
              "      <td>1.77582</td>\n",
              "      <td>1.77525</td>\n",
              "      <td>1.77468</td>\n",
              "      <td>1.77436</td>\n",
              "      <td>1.77409</td>\n",
              "      <td>1.77393</td>\n",
              "      <td>1.77355</td>\n",
              "      <td>1.77297</td>\n",
              "      <td>1.77228</td>\n",
              "      <td>1.77151</td>\n",
              "      <td>1.77063</td>\n",
              "      <td>1.76971</td>\n",
              "      <td>1.76874</td>\n",
              "      <td>1.76787</td>\n",
              "      <td>1.76721</td>\n",
              "      <td>1.76658</td>\n",
              "      <td>1.76582</td>\n",
              "      <td>1.76476</td>\n",
              "      <td>1.76363</td>\n",
              "      <td>1.76238</td>\n",
              "      <td>1.76092</td>\n",
              "      <td>1.75921</td>\n",
              "      <td>1.75733</td>\n",
              "      <td>1.75530</td>\n",
              "      <td>1.75317</td>\n",
              "      <td>1.75093</td>\n",
              "      <td>1.74846</td>\n",
              "      <td>1.74576</td>\n",
              "      <td>1.74305</td>\n",
              "      <td>1.74032</td>\n",
              "      <td>1.73744</td>\n",
              "      <td>...</td>\n",
              "      <td>0.425390</td>\n",
              "      <td>0.426223</td>\n",
              "      <td>0.426981</td>\n",
              "      <td>0.427963</td>\n",
              "      <td>0.429206</td>\n",
              "      <td>0.430891</td>\n",
              "      <td>0.432877</td>\n",
              "      <td>0.434923</td>\n",
              "      <td>0.437104</td>\n",
              "      <td>0.439929</td>\n",
              "      <td>0.443096</td>\n",
              "      <td>0.446227</td>\n",
              "      <td>0.448990</td>\n",
              "      <td>0.451998</td>\n",
              "      <td>0.455424</td>\n",
              "      <td>0.459226</td>\n",
              "      <td>0.463229</td>\n",
              "      <td>0.467273</td>\n",
              "      <td>0.471333</td>\n",
              "      <td>0.475782</td>\n",
              "      <td>0.480528</td>\n",
              "      <td>0.484625</td>\n",
              "      <td>0.488508</td>\n",
              "      <td>0.492450</td>\n",
              "      <td>0.497081</td>\n",
              "      <td>0.501480</td>\n",
              "      <td>0.505779</td>\n",
              "      <td>0.510302</td>\n",
              "      <td>0.515209</td>\n",
              "      <td>0.520447</td>\n",
              "      <td>0.525636</td>\n",
              "      <td>0.530429</td>\n",
              "      <td>0.534841</td>\n",
              "      <td>0.539714</td>\n",
              "      <td>0.544764</td>\n",
              "      <td>0.549556</td>\n",
              "      <td>0.553724</td>\n",
              "      <td>10</td>\n",
              "      <td>40</td>\n",
              "      <td>50</td>\n",
              "    </tr>\n",
              "  </tbody>\n",
              "</table>\n",
              "<p>5 rows × 1206 columns</p>\n",
              "</div>"
            ],
            "text/plain": [
              "    Primary ID OBSNAM    w1100    w1101  ...     w2300  Spruce  Pine  Birch\n",
              "19          46    22b  1.77995  1.77966  ...  0.568172      40    10     50\n",
              "20          49    19a  1.73468  1.73445  ...  0.540071      50    40     10\n",
              "21          50    19b  1.73263  1.73230  ...  0.540210      50    40     10\n",
              "22          51    24a  1.77784  1.77755  ...  0.554393      10    40     50\n",
              "23          52    24b  1.78323  1.78251  ...  0.553724      10    40     50\n",
              "\n",
              "[5 rows x 1206 columns]"
            ]
          },
          "metadata": {},
          "execution_count": 86
        }
      ]
    },
    {
      "cell_type": "code",
      "metadata": {
        "colab": {
          "base_uri": "https://localhost:8080/"
        },
        "id": "G0zTrPO7DSEK",
        "outputId": "80b57c4e-123b-46fd-e8d7-6a9e0926e17e"
      },
      "source": [
        "#checking null values in the test datatset\n",
        "df_test.isnull().sum()"
      ],
      "execution_count": 87,
      "outputs": [
        {
          "output_type": "execute_result",
          "data": {
            "text/plain": [
              "Primary ID    0\n",
              "OBSNAM        0\n",
              "w1100         0\n",
              "w1101         0\n",
              "w1102         0\n",
              "             ..\n",
              "w2299         0\n",
              "w2300         0\n",
              "Spruce        0\n",
              "Pine          0\n",
              "Birch         0\n",
              "Length: 1206, dtype: int64"
            ]
          },
          "metadata": {},
          "execution_count": 87
        }
      ]
    },
    {
      "cell_type": "code",
      "metadata": {
        "colab": {
          "base_uri": "https://localhost:8080/"
        },
        "id": "52W7rtwCzijJ",
        "outputId": "fd3fbca7-8967-4a5f-e940-2d1fd49f706f"
      },
      "source": [
        "#defining x and y for test data\n",
        "x_test = df_test.iloc[:,2:1203]\n",
        "y_test = df_test.iloc[:,1203:]\n",
        "print(y_test.shape)\n",
        "print(x_test.shape)"
      ],
      "execution_count": 88,
      "outputs": [
        {
          "output_type": "stream",
          "name": "stdout",
          "text": [
            "(24, 3)\n",
            "(24, 1201)\n"
          ]
        }
      ]
    },
    {
      "cell_type": "code",
      "metadata": {
        "id": "DeOf4sWf9c9B"
      },
      "source": [
        "# Using the train set scalar to transform the test set\n",
        "X_test = sc.transform(x_test)"
      ],
      "execution_count": 89,
      "outputs": []
    },
    {
      "cell_type": "code",
      "metadata": {
        "id": "urgjvHTvzrEq"
      },
      "source": [
        "pca_scores_test = pca.transform(X_test)"
      ],
      "execution_count": 90,
      "outputs": []
    },
    {
      "cell_type": "code",
      "metadata": {
        "colab": {
          "base_uri": "https://localhost:8080/",
          "height": 793
        },
        "id": "96ZpssrYz-W4",
        "outputId": "460b6cee-6166-4f93-e6c9-2f19fe24a86f"
      },
      "source": [
        "scores_pd_test = pd.DataFrame(data = pca_scores_test\n",
        "                         ,columns = ['PC1', 'PC2','PC3','PC4','PC5']\n",
        "                         ,index = x_test.index)\n",
        "scores_pd_test"
      ],
      "execution_count": 91,
      "outputs": [
        {
          "output_type": "execute_result",
          "data": {
            "text/html": [
              "<div>\n",
              "<style scoped>\n",
              "    .dataframe tbody tr th:only-of-type {\n",
              "        vertical-align: middle;\n",
              "    }\n",
              "\n",
              "    .dataframe tbody tr th {\n",
              "        vertical-align: top;\n",
              "    }\n",
              "\n",
              "    .dataframe thead th {\n",
              "        text-align: right;\n",
              "    }\n",
              "</style>\n",
              "<table border=\"1\" class=\"dataframe\">\n",
              "  <thead>\n",
              "    <tr style=\"text-align: right;\">\n",
              "      <th></th>\n",
              "      <th>PC1</th>\n",
              "      <th>PC2</th>\n",
              "      <th>PC3</th>\n",
              "      <th>PC4</th>\n",
              "      <th>PC5</th>\n",
              "    </tr>\n",
              "  </thead>\n",
              "  <tbody>\n",
              "    <tr>\n",
              "      <th>0</th>\n",
              "      <td>-0.755046</td>\n",
              "      <td>0.082224</td>\n",
              "      <td>-0.106194</td>\n",
              "      <td>-0.006280</td>\n",
              "      <td>-0.046023</td>\n",
              "    </tr>\n",
              "    <tr>\n",
              "      <th>1</th>\n",
              "      <td>-0.741493</td>\n",
              "      <td>0.043018</td>\n",
              "      <td>-0.104981</td>\n",
              "      <td>-0.027725</td>\n",
              "      <td>-0.054997</td>\n",
              "    </tr>\n",
              "    <tr>\n",
              "      <th>2</th>\n",
              "      <td>0.526514</td>\n",
              "      <td>-0.235156</td>\n",
              "      <td>0.004148</td>\n",
              "      <td>0.154854</td>\n",
              "      <td>-0.024401</td>\n",
              "    </tr>\n",
              "    <tr>\n",
              "      <th>3</th>\n",
              "      <td>0.670262</td>\n",
              "      <td>-0.195146</td>\n",
              "      <td>0.011119</td>\n",
              "      <td>0.151286</td>\n",
              "      <td>-0.022596</td>\n",
              "    </tr>\n",
              "    <tr>\n",
              "      <th>4</th>\n",
              "      <td>0.795253</td>\n",
              "      <td>-0.046558</td>\n",
              "      <td>0.035398</td>\n",
              "      <td>-0.030072</td>\n",
              "      <td>-0.035528</td>\n",
              "    </tr>\n",
              "    <tr>\n",
              "      <th>5</th>\n",
              "      <td>0.901669</td>\n",
              "      <td>0.006261</td>\n",
              "      <td>0.039356</td>\n",
              "      <td>-0.028244</td>\n",
              "      <td>-0.028235</td>\n",
              "    </tr>\n",
              "    <tr>\n",
              "      <th>6</th>\n",
              "      <td>-0.215814</td>\n",
              "      <td>-0.066147</td>\n",
              "      <td>-0.061746</td>\n",
              "      <td>0.075020</td>\n",
              "      <td>-0.013988</td>\n",
              "    </tr>\n",
              "    <tr>\n",
              "      <th>7</th>\n",
              "      <td>-0.286806</td>\n",
              "      <td>-0.037825</td>\n",
              "      <td>-0.066603</td>\n",
              "      <td>0.083834</td>\n",
              "      <td>-0.004424</td>\n",
              "    </tr>\n",
              "    <tr>\n",
              "      <th>8</th>\n",
              "      <td>0.614048</td>\n",
              "      <td>-0.071040</td>\n",
              "      <td>0.078673</td>\n",
              "      <td>-0.036015</td>\n",
              "      <td>-0.001160</td>\n",
              "    </tr>\n",
              "    <tr>\n",
              "      <th>9</th>\n",
              "      <td>0.470886</td>\n",
              "      <td>-0.084499</td>\n",
              "      <td>0.079847</td>\n",
              "      <td>-0.041845</td>\n",
              "      <td>0.004262</td>\n",
              "    </tr>\n",
              "    <tr>\n",
              "      <th>10</th>\n",
              "      <td>0.679394</td>\n",
              "      <td>-0.000552</td>\n",
              "      <td>0.073359</td>\n",
              "      <td>0.053413</td>\n",
              "      <td>-0.010526</td>\n",
              "    </tr>\n",
              "    <tr>\n",
              "      <th>11</th>\n",
              "      <td>0.586643</td>\n",
              "      <td>-0.019655</td>\n",
              "      <td>0.073923</td>\n",
              "      <td>0.050973</td>\n",
              "      <td>-0.008073</td>\n",
              "    </tr>\n",
              "    <tr>\n",
              "      <th>12</th>\n",
              "      <td>0.748720</td>\n",
              "      <td>0.011734</td>\n",
              "      <td>-0.007437</td>\n",
              "      <td>0.012648</td>\n",
              "      <td>-0.008514</td>\n",
              "    </tr>\n",
              "    <tr>\n",
              "      <th>13</th>\n",
              "      <td>0.828042</td>\n",
              "      <td>0.058019</td>\n",
              "      <td>0.002039</td>\n",
              "      <td>0.023728</td>\n",
              "      <td>-0.002365</td>\n",
              "    </tr>\n",
              "    <tr>\n",
              "      <th>14</th>\n",
              "      <td>0.658901</td>\n",
              "      <td>0.285294</td>\n",
              "      <td>-0.022652</td>\n",
              "      <td>0.011712</td>\n",
              "      <td>-0.004521</td>\n",
              "    </tr>\n",
              "    <tr>\n",
              "      <th>15</th>\n",
              "      <td>0.648924</td>\n",
              "      <td>0.299353</td>\n",
              "      <td>-0.019179</td>\n",
              "      <td>0.012803</td>\n",
              "      <td>0.000424</td>\n",
              "    </tr>\n",
              "    <tr>\n",
              "      <th>16</th>\n",
              "      <td>1.497236</td>\n",
              "      <td>0.353007</td>\n",
              "      <td>0.025432</td>\n",
              "      <td>-0.054150</td>\n",
              "      <td>-0.013440</td>\n",
              "    </tr>\n",
              "    <tr>\n",
              "      <th>17</th>\n",
              "      <td>1.488356</td>\n",
              "      <td>0.336465</td>\n",
              "      <td>0.015409</td>\n",
              "      <td>-0.066639</td>\n",
              "      <td>-0.008485</td>\n",
              "    </tr>\n",
              "    <tr>\n",
              "      <th>18</th>\n",
              "      <td>0.116753</td>\n",
              "      <td>0.140655</td>\n",
              "      <td>-0.066374</td>\n",
              "      <td>0.042601</td>\n",
              "      <td>0.013683</td>\n",
              "    </tr>\n",
              "    <tr>\n",
              "      <th>19</th>\n",
              "      <td>0.132957</td>\n",
              "      <td>0.150202</td>\n",
              "      <td>-0.063759</td>\n",
              "      <td>0.039499</td>\n",
              "      <td>0.014908</td>\n",
              "    </tr>\n",
              "    <tr>\n",
              "      <th>20</th>\n",
              "      <td>1.682563</td>\n",
              "      <td>0.047786</td>\n",
              "      <td>0.018093</td>\n",
              "      <td>-0.001295</td>\n",
              "      <td>0.001647</td>\n",
              "    </tr>\n",
              "    <tr>\n",
              "      <th>21</th>\n",
              "      <td>1.670696</td>\n",
              "      <td>0.062499</td>\n",
              "      <td>0.021030</td>\n",
              "      <td>0.002191</td>\n",
              "      <td>0.003114</td>\n",
              "    </tr>\n",
              "    <tr>\n",
              "      <th>22</th>\n",
              "      <td>0.327633</td>\n",
              "      <td>0.093077</td>\n",
              "      <td>-0.077651</td>\n",
              "      <td>-0.082394</td>\n",
              "      <td>-0.006835</td>\n",
              "    </tr>\n",
              "    <tr>\n",
              "      <th>23</th>\n",
              "      <td>0.220457</td>\n",
              "      <td>0.084158</td>\n",
              "      <td>-0.080650</td>\n",
              "      <td>-0.075484</td>\n",
              "      <td>-0.002098</td>\n",
              "    </tr>\n",
              "  </tbody>\n",
              "</table>\n",
              "</div>"
            ],
            "text/plain": [
              "         PC1       PC2       PC3       PC4       PC5\n",
              "0  -0.755046  0.082224 -0.106194 -0.006280 -0.046023\n",
              "1  -0.741493  0.043018 -0.104981 -0.027725 -0.054997\n",
              "2   0.526514 -0.235156  0.004148  0.154854 -0.024401\n",
              "3   0.670262 -0.195146  0.011119  0.151286 -0.022596\n",
              "4   0.795253 -0.046558  0.035398 -0.030072 -0.035528\n",
              "5   0.901669  0.006261  0.039356 -0.028244 -0.028235\n",
              "6  -0.215814 -0.066147 -0.061746  0.075020 -0.013988\n",
              "7  -0.286806 -0.037825 -0.066603  0.083834 -0.004424\n",
              "8   0.614048 -0.071040  0.078673 -0.036015 -0.001160\n",
              "9   0.470886 -0.084499  0.079847 -0.041845  0.004262\n",
              "10  0.679394 -0.000552  0.073359  0.053413 -0.010526\n",
              "11  0.586643 -0.019655  0.073923  0.050973 -0.008073\n",
              "12  0.748720  0.011734 -0.007437  0.012648 -0.008514\n",
              "13  0.828042  0.058019  0.002039  0.023728 -0.002365\n",
              "14  0.658901  0.285294 -0.022652  0.011712 -0.004521\n",
              "15  0.648924  0.299353 -0.019179  0.012803  0.000424\n",
              "16  1.497236  0.353007  0.025432 -0.054150 -0.013440\n",
              "17  1.488356  0.336465  0.015409 -0.066639 -0.008485\n",
              "18  0.116753  0.140655 -0.066374  0.042601  0.013683\n",
              "19  0.132957  0.150202 -0.063759  0.039499  0.014908\n",
              "20  1.682563  0.047786  0.018093 -0.001295  0.001647\n",
              "21  1.670696  0.062499  0.021030  0.002191  0.003114\n",
              "22  0.327633  0.093077 -0.077651 -0.082394 -0.006835\n",
              "23  0.220457  0.084158 -0.080650 -0.075484 -0.002098"
            ]
          },
          "metadata": {},
          "execution_count": 91
        }
      ]
    },
    {
      "cell_type": "code",
      "metadata": {
        "colab": {
          "base_uri": "https://localhost:8080/",
          "height": 419
        },
        "id": "xrvCo6YT0dUz",
        "outputId": "4c96964f-6f3e-4a0d-9b9c-80ea42918300"
      },
      "source": [
        "loadings_pd_test = pd.DataFrame(data = pca.components_.T\n",
        "                           ,columns = ['PC1', 'PC2','PC3','PC4','PC5']\n",
        "                           ,index = x_test.columns)\n",
        "loadings_pd_test"
      ],
      "execution_count": 92,
      "outputs": [
        {
          "output_type": "execute_result",
          "data": {
            "text/html": [
              "<div>\n",
              "<style scoped>\n",
              "    .dataframe tbody tr th:only-of-type {\n",
              "        vertical-align: middle;\n",
              "    }\n",
              "\n",
              "    .dataframe tbody tr th {\n",
              "        vertical-align: top;\n",
              "    }\n",
              "\n",
              "    .dataframe thead th {\n",
              "        text-align: right;\n",
              "    }\n",
              "</style>\n",
              "<table border=\"1\" class=\"dataframe\">\n",
              "  <thead>\n",
              "    <tr style=\"text-align: right;\">\n",
              "      <th></th>\n",
              "      <th>PC1</th>\n",
              "      <th>PC2</th>\n",
              "      <th>PC3</th>\n",
              "      <th>PC4</th>\n",
              "      <th>PC5</th>\n",
              "    </tr>\n",
              "  </thead>\n",
              "  <tbody>\n",
              "    <tr>\n",
              "      <th>w1100</th>\n",
              "      <td>-0.034221</td>\n",
              "      <td>-0.065116</td>\n",
              "      <td>0.005665</td>\n",
              "      <td>-0.036834</td>\n",
              "      <td>0.034033</td>\n",
              "    </tr>\n",
              "    <tr>\n",
              "      <th>w1101</th>\n",
              "      <td>-0.034276</td>\n",
              "      <td>-0.064894</td>\n",
              "      <td>0.005843</td>\n",
              "      <td>-0.036801</td>\n",
              "      <td>0.029723</td>\n",
              "    </tr>\n",
              "    <tr>\n",
              "      <th>w1102</th>\n",
              "      <td>-0.034303</td>\n",
              "      <td>-0.064643</td>\n",
              "      <td>0.005948</td>\n",
              "      <td>-0.037266</td>\n",
              "      <td>0.025164</td>\n",
              "    </tr>\n",
              "    <tr>\n",
              "      <th>w1103</th>\n",
              "      <td>-0.034311</td>\n",
              "      <td>-0.064478</td>\n",
              "      <td>0.006022</td>\n",
              "      <td>-0.037800</td>\n",
              "      <td>0.022163</td>\n",
              "    </tr>\n",
              "    <tr>\n",
              "      <th>w1104</th>\n",
              "      <td>-0.034327</td>\n",
              "      <td>-0.064430</td>\n",
              "      <td>0.005969</td>\n",
              "      <td>-0.038608</td>\n",
              "      <td>0.021055</td>\n",
              "    </tr>\n",
              "    <tr>\n",
              "      <th>...</th>\n",
              "      <td>...</td>\n",
              "      <td>...</td>\n",
              "      <td>...</td>\n",
              "      <td>...</td>\n",
              "      <td>...</td>\n",
              "    </tr>\n",
              "    <tr>\n",
              "      <th>w2296</th>\n",
              "      <td>-0.017195</td>\n",
              "      <td>-0.007921</td>\n",
              "      <td>0.029052</td>\n",
              "      <td>0.075289</td>\n",
              "      <td>-0.059924</td>\n",
              "    </tr>\n",
              "    <tr>\n",
              "      <th>w2297</th>\n",
              "      <td>-0.017148</td>\n",
              "      <td>-0.007882</td>\n",
              "      <td>0.028378</td>\n",
              "      <td>0.076721</td>\n",
              "      <td>-0.057624</td>\n",
              "    </tr>\n",
              "    <tr>\n",
              "      <th>w2298</th>\n",
              "      <td>-0.017126</td>\n",
              "      <td>-0.007856</td>\n",
              "      <td>0.028030</td>\n",
              "      <td>0.078477</td>\n",
              "      <td>-0.056627</td>\n",
              "    </tr>\n",
              "    <tr>\n",
              "      <th>w2299</th>\n",
              "      <td>-0.017170</td>\n",
              "      <td>-0.007917</td>\n",
              "      <td>0.027927</td>\n",
              "      <td>0.080656</td>\n",
              "      <td>-0.059458</td>\n",
              "    </tr>\n",
              "    <tr>\n",
              "      <th>w2300</th>\n",
              "      <td>-0.017321</td>\n",
              "      <td>-0.008178</td>\n",
              "      <td>0.028578</td>\n",
              "      <td>0.082912</td>\n",
              "      <td>-0.066693</td>\n",
              "    </tr>\n",
              "  </tbody>\n",
              "</table>\n",
              "<p>1201 rows × 5 columns</p>\n",
              "</div>"
            ],
            "text/plain": [
              "            PC1       PC2       PC3       PC4       PC5\n",
              "w1100 -0.034221 -0.065116  0.005665 -0.036834  0.034033\n",
              "w1101 -0.034276 -0.064894  0.005843 -0.036801  0.029723\n",
              "w1102 -0.034303 -0.064643  0.005948 -0.037266  0.025164\n",
              "w1103 -0.034311 -0.064478  0.006022 -0.037800  0.022163\n",
              "w1104 -0.034327 -0.064430  0.005969 -0.038608  0.021055\n",
              "...         ...       ...       ...       ...       ...\n",
              "w2296 -0.017195 -0.007921  0.029052  0.075289 -0.059924\n",
              "w2297 -0.017148 -0.007882  0.028378  0.076721 -0.057624\n",
              "w2298 -0.017126 -0.007856  0.028030  0.078477 -0.056627\n",
              "w2299 -0.017170 -0.007917  0.027927  0.080656 -0.059458\n",
              "w2300 -0.017321 -0.008178  0.028578  0.082912 -0.066693\n",
              "\n",
              "[1201 rows x 5 columns]"
            ]
          },
          "metadata": {},
          "execution_count": 92
        }
      ]
    },
    {
      "cell_type": "markdown",
      "metadata": {
        "id": "_TwHNXoZ6db5"
      },
      "source": [
        "G.  Create a scatter plot of the scores in PC1, PC2 of all 54 points in the train and test data set, coloured by the set they belong to (suggestion:  use sns.scatterplot).  Why isit important to overlap the scores of both train and test set in one graph?  What are you checking to see?\n",
        "\n",
        "**Answer: From the plot we can observe that data points belonging to test and train category are clustered distinctly. This means that the our principal components capture enough information to discriminate between the data from the sets. This in turn verifies that the scores and loadings of our data points are not completely random and can be used to predict the target variable and has potential to generalize**\n"
      ]
    },
    {
      "cell_type": "code",
      "metadata": {
        "colab": {
          "base_uri": "https://localhost:8080/",
          "height": 334
        },
        "id": "VTYYKLti6Nrs",
        "outputId": "d120a683-7414-47d6-bd39-eafab9cc6760"
      },
      "source": [
        "plt.figure(figsize=(8,5))\n",
        "sns.scatterplot(scores_pd['PC1'],scores_pd['PC2'])\n",
        "sns.scatterplot(scores_pd_test['PC1'],scores_pd_test['PC2'])\n",
        "plt.legend(['Train set', 'Test set'])\n",
        "plt.show()"
      ],
      "execution_count": 93,
      "outputs": [
        {
          "output_type": "display_data",
          "data": {
            "image/png": "[encoded data removed]",
            "text/plain": [
              "<Figure size 576x360 with 1 Axes>"
            ]
          },
          "metadata": {
            "needs_background": "light"
          }
        }
      ]
    },
    {
      "cell_type": "markdown",
      "metadata": {
        "id": "nG0xGZB-6ilG"
      },
      "source": [
        "A.  Run  the  PLS  regression  to  model  all  3  outputs  with  the  scaled  train  set  spectra.Increase the number of components to achieve R2 value of at least 0.92 (use PLSRe-gression’s method score to estimate R2)."
      ]
    },
    {
      "cell_type": "code",
      "metadata": {
        "colab": {
          "base_uri": "https://localhost:8080/"
        },
        "id": "Rzoq3iKX58O7",
        "outputId": "07a17914-f9e2-4d28-f5f7-70d170914985"
      },
      "source": [
        "pls_sklearn = PLSRegression(n_components=2, scale=False)\n",
        "pls_sklearn.fit(X_train, y_train)"
      ],
      "execution_count": 94,
      "outputs": [
        {
          "output_type": "execute_result",
          "data": {
            "text/plain": [
              "PLSRegression(copy=True, max_iter=500, n_components=2, scale=False, tol=1e-06)"
            ]
          },
          "metadata": {},
          "execution_count": 94
        }
      ]
    },
    {
      "cell_type": "code",
      "metadata": {
        "colab": {
          "base_uri": "https://localhost:8080/"
        },
        "id": "UWIt2YfOAUct",
        "outputId": "e7bfd948-e1ff-4cc7-9a6f-d68efe45d5e0"
      },
      "source": [
        "print('Score when number of components equal to 2 :', (pls_sklearn.score(X_train,y_train))*100)"
      ],
      "execution_count": 95,
      "outputs": [
        {
          "output_type": "stream",
          "name": "stdout",
          "text": [
            "Score when number of components equal to 2 : 46.52050027019713\n"
          ]
        }
      ]
    },
    {
      "cell_type": "code",
      "metadata": {
        "colab": {
          "base_uri": "https://localhost:8080/"
        },
        "id": "6MthBXcmo235",
        "outputId": "2ccbc528-7cb1-48b4-8fb8-71613375ea13"
      },
      "source": [
        "pls_sklearn = PLSRegression(n_components=3, scale=False)\n",
        "pls_sklearn.fit(X_train, y_train)"
      ],
      "execution_count": 96,
      "outputs": [
        {
          "output_type": "execute_result",
          "data": {
            "text/plain": [
              "PLSRegression(copy=True, max_iter=500, n_components=3, scale=False, tol=1e-06)"
            ]
          },
          "metadata": {},
          "execution_count": 96
        }
      ]
    },
    {
      "cell_type": "code",
      "metadata": {
        "colab": {
          "base_uri": "https://localhost:8080/"
        },
        "id": "RQHKr7m4o5Il",
        "outputId": "c4786b2b-f2b5-48c5-dddc-23dc4bbc18f4"
      },
      "source": [
        "print('Score when number of components equal to 3 :', (pls_sklearn.score(X_train,y_train))*100)"
      ],
      "execution_count": 97,
      "outputs": [
        {
          "output_type": "stream",
          "name": "stdout",
          "text": [
            "Score when number of components equal to 3 : 92.40392024759805\n"
          ]
        }
      ]
    },
    {
      "cell_type": "code",
      "metadata": {
        "colab": {
          "base_uri": "https://localhost:8080/"
        },
        "id": "BWcOQxLjo7-h",
        "outputId": "6fcada3b-d264-48e5-9e31-882452f15558"
      },
      "source": [
        "pls_sklearn = PLSRegression(n_components=4, scale=False)\n",
        "pls_sklearn.fit(X_train, y_train)\n",
        "print('Score when number of components equal to 4 :', (pls_sklearn.score(X_train,y_train))*100)"
      ],
      "execution_count": 98,
      "outputs": [
        {
          "output_type": "stream",
          "name": "stdout",
          "text": [
            "Score when number of components equal to 4 : 97.90465508514916\n"
          ]
        }
      ]
    },
    {
      "cell_type": "markdown",
      "metadata": {
        "id": "R6GN87rM7SmZ"
      },
      "source": [
        "B.  Predict  the  output  values  for  the  inputs  in  the  test  set  and  compare  them  by  plot-ting  the  24  actual  vs  predicted  values  in  a  1x3  subplot  (for  spruce,  pine  and  birch,respectively).  Also, include the y=x line for reference."
      ]
    },
    {
      "cell_type": "code",
      "metadata": {
        "id": "j7MDNU9FpGFG"
      },
      "source": [
        "y_train_predicted = pls_sklearn.predict(X_train)\n",
        "y_test_predicted = pls_sklearn.predict(X_test)"
      ],
      "execution_count": 99,
      "outputs": []
    },
    {
      "cell_type": "code",
      "metadata": {
        "colab": {
          "base_uri": "https://localhost:8080/",
          "height": 421
        },
        "id": "-xtglrKX7zBj",
        "outputId": "8ef68f6d-4c1f-45b7-c09e-9ff04a97b697"
      },
      "source": [
        "fig, axes = plt.subplots(1,3,figsize=(16,6))\n",
        "axes[0].scatter(y_test_predicted[:,0],y_test.iloc[:,0],color = 'orange',marker = 'x')\n",
        "axes[0].set_title('Spruce')\n",
        "axes[0].set_ylabel('Predicted')\n",
        "axes[0].set_xlabel('Actual')\n",
        "axes[0].plot([0, 100], [0, 100])\n",
        "axes[0].set_xlim([0, 100])\n",
        "axes[0].set_ylim([0, 100])\n",
        "\n",
        "axes[1].scatter(y_test_predicted[:,1],y_test.iloc[:,1],color = 'red',marker = 'x')\n",
        "axes[1].set_title('Pine')\n",
        "axes[1].set_ylabel('Predicted')\n",
        "axes[1].set_xlabel('Actual')\n",
        "axes[1].plot([0, 100], [0, 100])\n",
        "axes[1].set_xlim([0, 100])\n",
        "axes[1].set_ylim([0, 100])\n",
        "\n",
        "axes[2].scatter(y_test_predicted[:,2],y_test.iloc[:,2],  color = 'g',marker = 'x')\n",
        "axes[2].set_title('Birch')\n",
        "axes[2].set_ylabel('Predicted')\n",
        "axes[2].set_xlabel('Actual')\n",
        "axes[2].plot([0, 100], [0, 100])\n",
        "axes[2].set_xlim([0, 100])\n",
        "axes[2].set_ylim([0, 100])\n"
      ],
      "execution_count": 100,
      "outputs": [
        {
          "output_type": "execute_result",
          "data": {
            "text/plain": [
              "(0.0, 100.0)"
            ]
          },
          "metadata": {},
          "execution_count": 100
        },
        {
          "output_type": "display_data",
          "data": {
            "image/png": "[encoded data removed]",
            "text/plain": [
              "<Figure size 1152x432 with 3 Axes>"
            ]
          },
          "metadata": {
            "needs_background": "light"
          }
        }
      ]
    }
  ]
}