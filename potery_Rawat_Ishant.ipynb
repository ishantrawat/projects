{
  "nbformat": 4,
  "nbformat_minor": 0,
  "metadata": {
    "colab": {
      "name": "potery_Rawat_Ishant.ipynb",
      "provenance": [],
      "collapsed_sections": []
    },
    "kernelspec": {
      "name": "python3",
      "display_name": "Python 3"
    },
    "language_info": {
      "name": "python"
    }
  },
  "cells": [
    {
      "cell_type": "code",
      "metadata": {
        "id": "uX7H-9oiL5RH"
      },
      "source": [
        "import pandas as pd\n",
        "import numpy as np\n",
        "import matplotlib.pyplot as plt\n",
        "import seaborn as sns\n",
        "from sklearn.decomposition import PCA\n",
        "from sklearn.preprocessing import StandardScaler\n",
        "from sklearn.preprocessing import MaxAbsScaler\n",
        "import warnings\n",
        "warnings.filterwarnings(\"ignore\")"
      ],
      "execution_count": 1,
      "outputs": []
    },
    {
      "cell_type": "markdown",
      "metadata": {
        "id": "e8gF90XVM1We"
      },
      "source": [
        "**1.1    Data exploration with PCA**\n",
        "1.  Import and view the data.  How many columns do you have?  Which columns will you use in your PCA ?"
      ]
    },
    {
      "cell_type": "code",
      "metadata": {
        "id": "3D251jkCMaqL"
      },
      "source": [
        "df = pd.read_csv('/content/Pottery.csv')"
      ],
      "execution_count": 2,
      "outputs": []
    },
    {
      "cell_type": "code",
      "metadata": {
        "colab": {
          "base_uri": "https://localhost:8080/",
          "height": 204
        },
        "id": "nrKmnZlNMoUW",
        "outputId": "8c570a0e-84b2-4a38-ad91-9addb97f4a12"
      },
      "source": [
        "df.head()"
      ],
      "execution_count": 3,
      "outputs": [
        {
          "output_type": "execute_result",
          "data": {
            "text/html": [
              "<div>\n",
              "<style scoped>\n",
              "    .dataframe tbody tr th:only-of-type {\n",
              "        vertical-align: middle;\n",
              "    }\n",
              "\n",
              "    .dataframe tbody tr th {\n",
              "        vertical-align: top;\n",
              "    }\n",
              "\n",
              "    .dataframe thead th {\n",
              "        text-align: right;\n",
              "    }\n",
              "</style>\n",
              "<table border=\"1\" class=\"dataframe\">\n",
              "  <thead>\n",
              "    <tr style=\"text-align: right;\">\n",
              "      <th></th>\n",
              "      <th>Unnamed: 0</th>\n",
              "      <th>Site</th>\n",
              "      <th>Al</th>\n",
              "      <th>Fe</th>\n",
              "      <th>Mg</th>\n",
              "      <th>Ca</th>\n",
              "      <th>Na</th>\n",
              "    </tr>\n",
              "  </thead>\n",
              "  <tbody>\n",
              "    <tr>\n",
              "      <th>0</th>\n",
              "      <td>1</td>\n",
              "      <td>Llanedyrn</td>\n",
              "      <td>14.4</td>\n",
              "      <td>7.00</td>\n",
              "      <td>4.30</td>\n",
              "      <td>0.15</td>\n",
              "      <td>0.51</td>\n",
              "    </tr>\n",
              "    <tr>\n",
              "      <th>1</th>\n",
              "      <td>2</td>\n",
              "      <td>Llanedyrn</td>\n",
              "      <td>13.8</td>\n",
              "      <td>7.08</td>\n",
              "      <td>3.43</td>\n",
              "      <td>0.12</td>\n",
              "      <td>0.17</td>\n",
              "    </tr>\n",
              "    <tr>\n",
              "      <th>2</th>\n",
              "      <td>3</td>\n",
              "      <td>Llanedyrn</td>\n",
              "      <td>14.6</td>\n",
              "      <td>7.09</td>\n",
              "      <td>3.88</td>\n",
              "      <td>0.13</td>\n",
              "      <td>0.20</td>\n",
              "    </tr>\n",
              "    <tr>\n",
              "      <th>3</th>\n",
              "      <td>4</td>\n",
              "      <td>Llanedyrn</td>\n",
              "      <td>11.5</td>\n",
              "      <td>6.37</td>\n",
              "      <td>5.64</td>\n",
              "      <td>0.16</td>\n",
              "      <td>0.14</td>\n",
              "    </tr>\n",
              "    <tr>\n",
              "      <th>4</th>\n",
              "      <td>5</td>\n",
              "      <td>Llanedyrn</td>\n",
              "      <td>13.8</td>\n",
              "      <td>7.06</td>\n",
              "      <td>5.34</td>\n",
              "      <td>0.20</td>\n",
              "      <td>0.20</td>\n",
              "    </tr>\n",
              "  </tbody>\n",
              "</table>\n",
              "</div>"
            ],
            "text/plain": [
              "   Unnamed: 0       Site    Al    Fe    Mg    Ca    Na\n",
              "0           1  Llanedyrn  14.4  7.00  4.30  0.15  0.51\n",
              "1           2  Llanedyrn  13.8  7.08  3.43  0.12  0.17\n",
              "2           3  Llanedyrn  14.6  7.09  3.88  0.13  0.20\n",
              "3           4  Llanedyrn  11.5  6.37  5.64  0.16  0.14\n",
              "4           5  Llanedyrn  13.8  7.06  5.34  0.20  0.20"
            ]
          },
          "metadata": {},
          "execution_count": 3
        }
      ]
    },
    {
      "cell_type": "code",
      "metadata": {
        "colab": {
          "base_uri": "https://localhost:8080/"
        },
        "id": "stKoFVMAMpc6",
        "outputId": "ce898c21-fbe5-43e4-d77f-1168dabd5987"
      },
      "source": [
        "df.shape"
      ],
      "execution_count": 4,
      "outputs": [
        {
          "output_type": "execute_result",
          "data": {
            "text/plain": [
              "(26, 7)"
            ]
          },
          "metadata": {},
          "execution_count": 4
        }
      ]
    },
    {
      "cell_type": "markdown",
      "metadata": {
        "id": "WK9nuz0Z7bDA"
      },
      "source": [
        "**Answer :** \n",
        "We have 7 columns in our dataset out of which we will only use six namely:\n",
        "\n",
        "1.Site\n",
        "\n",
        "2.Al\n",
        "\n",
        "3.Fe\n",
        "\n",
        "4.Mg\n",
        "\n",
        "5.Ca\n",
        "\n",
        "6.Na "
      ]
    },
    {
      "cell_type": "code",
      "metadata": {
        "colab": {
          "base_uri": "https://localhost:8080/"
        },
        "id": "8om02zwEMteL",
        "outputId": "d091e082-63dc-4f25-ae6b-7e1a99affff3"
      },
      "source": [
        "#checking null values if any\n",
        "df.isnull().sum()"
      ],
      "execution_count": 5,
      "outputs": [
        {
          "output_type": "execute_result",
          "data": {
            "text/plain": [
              "Unnamed: 0    0\n",
              "Site          0\n",
              "Al            0\n",
              "Fe            0\n",
              "Mg            0\n",
              "Ca            0\n",
              "Na            0\n",
              "dtype: int64"
            ]
          },
          "metadata": {},
          "execution_count": 5
        }
      ]
    },
    {
      "cell_type": "markdown",
      "metadata": {
        "id": "4JSlvRCAPaiI"
      },
      "source": [
        "2.  Pre-process the data and perform PCA with 3 PCs."
      ]
    },
    {
      "cell_type": "code",
      "metadata": {
        "id": "mA2DvSp9N_MS"
      },
      "source": [
        "#dropping unwanted columns\n",
        "df.drop(labels = ['Unnamed: 0'],axis=1,inplace=True)"
      ],
      "execution_count": 6,
      "outputs": []
    },
    {
      "cell_type": "code",
      "metadata": {
        "colab": {
          "base_uri": "https://localhost:8080/",
          "height": 204
        },
        "id": "jYItghXFOgMk",
        "outputId": "11e17760-1747-4d22-f812-a129b532bf7a"
      },
      "source": [
        "df.head()"
      ],
      "execution_count": 7,
      "outputs": [
        {
          "output_type": "execute_result",
          "data": {
            "text/html": [
              "<div>\n",
              "<style scoped>\n",
              "    .dataframe tbody tr th:only-of-type {\n",
              "        vertical-align: middle;\n",
              "    }\n",
              "\n",
              "    .dataframe tbody tr th {\n",
              "        vertical-align: top;\n",
              "    }\n",
              "\n",
              "    .dataframe thead th {\n",
              "        text-align: right;\n",
              "    }\n",
              "</style>\n",
              "<table border=\"1\" class=\"dataframe\">\n",
              "  <thead>\n",
              "    <tr style=\"text-align: right;\">\n",
              "      <th></th>\n",
              "      <th>Site</th>\n",
              "      <th>Al</th>\n",
              "      <th>Fe</th>\n",
              "      <th>Mg</th>\n",
              "      <th>Ca</th>\n",
              "      <th>Na</th>\n",
              "    </tr>\n",
              "  </thead>\n",
              "  <tbody>\n",
              "    <tr>\n",
              "      <th>0</th>\n",
              "      <td>Llanedyrn</td>\n",
              "      <td>14.4</td>\n",
              "      <td>7.00</td>\n",
              "      <td>4.30</td>\n",
              "      <td>0.15</td>\n",
              "      <td>0.51</td>\n",
              "    </tr>\n",
              "    <tr>\n",
              "      <th>1</th>\n",
              "      <td>Llanedyrn</td>\n",
              "      <td>13.8</td>\n",
              "      <td>7.08</td>\n",
              "      <td>3.43</td>\n",
              "      <td>0.12</td>\n",
              "      <td>0.17</td>\n",
              "    </tr>\n",
              "    <tr>\n",
              "      <th>2</th>\n",
              "      <td>Llanedyrn</td>\n",
              "      <td>14.6</td>\n",
              "      <td>7.09</td>\n",
              "      <td>3.88</td>\n",
              "      <td>0.13</td>\n",
              "      <td>0.20</td>\n",
              "    </tr>\n",
              "    <tr>\n",
              "      <th>3</th>\n",
              "      <td>Llanedyrn</td>\n",
              "      <td>11.5</td>\n",
              "      <td>6.37</td>\n",
              "      <td>5.64</td>\n",
              "      <td>0.16</td>\n",
              "      <td>0.14</td>\n",
              "    </tr>\n",
              "    <tr>\n",
              "      <th>4</th>\n",
              "      <td>Llanedyrn</td>\n",
              "      <td>13.8</td>\n",
              "      <td>7.06</td>\n",
              "      <td>5.34</td>\n",
              "      <td>0.20</td>\n",
              "      <td>0.20</td>\n",
              "    </tr>\n",
              "  </tbody>\n",
              "</table>\n",
              "</div>"
            ],
            "text/plain": [
              "        Site    Al    Fe    Mg    Ca    Na\n",
              "0  Llanedyrn  14.4  7.00  4.30  0.15  0.51\n",
              "1  Llanedyrn  13.8  7.08  3.43  0.12  0.17\n",
              "2  Llanedyrn  14.6  7.09  3.88  0.13  0.20\n",
              "3  Llanedyrn  11.5  6.37  5.64  0.16  0.14\n",
              "4  Llanedyrn  13.8  7.06  5.34  0.20  0.20"
            ]
          },
          "metadata": {},
          "execution_count": 7
        }
      ]
    },
    {
      "cell_type": "code",
      "metadata": {
        "id": "N9sF9B1U1UtF"
      },
      "source": [
        "df.set_index('Site', inplace=True)"
      ],
      "execution_count": 8,
      "outputs": []
    },
    {
      "cell_type": "code",
      "metadata": {
        "colab": {
          "base_uri": "https://localhost:8080/"
        },
        "id": "ndwRCm7ZOpff",
        "outputId": "380ea972-1ed0-4df9-952f-b4bb01116db8"
      },
      "source": [
        "#Standardising dataset\n",
        "scaler = StandardScaler()\n",
        "df_scaled = scaler.fit_transform(df)\n",
        "df_scaled"
      ],
      "execution_count": 9,
      "outputs": [
        {
          "output_type": "execute_result",
          "data": {
            "text/plain": [
              "array([[-0.03145568,  1.07166989,  0.54199637,  0.03487194,  2.64999905],\n",
              "       [-0.23591756,  1.1055258 ,  0.13495926, -0.26735151,  0.08698028],\n",
              "       [ 0.03669829,  1.10975779,  0.3454957 , -0.16661036,  0.31312899],\n",
              "       [-1.01968814,  0.80505457,  1.1689271 ,  0.13561308, -0.13916844],\n",
              "       [-0.23591756,  1.09706182,  1.02856948,  0.53857767,  0.31312899],\n",
              "       [-1.22415003,  0.75850268,  0.15367361,  0.23635423,  0.4638948 ],\n",
              "       [-1.49676588, -0.08789516,  0.52328202,  0.53857767,  0.16236318],\n",
              "       [-0.98561116,  0.5553672 ,  1.29524897,  0.33709538,  0.01159737],\n",
              "       [-1.15599607,  0.43263951,  0.6449253 ,  1.44524799,  1.06695804],\n",
              "       [-0.37222549,  1.03781397,  1.91282252,  1.34450685,  0.31312899],\n",
              "       [-0.71299531,  0.70348682,  1.19232004,  0.74005996,  2.87614776],\n",
              "       [-0.47445644,  0.91931828,  1.10810547,  1.64673029,  0.61466061],\n",
              "       [-0.61076436,  0.94047822,  0.61217519,  0.53857767,  0.4638948 ],\n",
              "       [-0.67891832,  0.83467849,  0.37356722,  0.74005996,  0.53927771],\n",
              "       [-0.9174572 ,  0.41147957,  0.37356722,  1.54598914, -0.89299749],\n",
              "       [-0.98561116,  0.39031962,  0.29403123,  1.44524799, -0.74223168],\n",
              "       [ 1.29754661, -1.34902795, -1.15633091, -1.17402183, -0.9683804 ],\n",
              "       [ 0.44562207, -0.87927715, -1.17504526, -1.37550412, -0.89299749],\n",
              "       [ 1.19531566, -1.25592419, -1.15633091, -1.37550412, -0.74223168],\n",
              "       [ 1.19531566, -1.0951086 , -1.15165232, -1.37550412, -0.89299749],\n",
              "       [ 2.14947114, -1.2516922 , -1.13293797, -0.77105724, -0.44070006],\n",
              "       [ 1.09308472, -1.41673978, -1.20779537, -0.87179839, -0.74223168],\n",
              "       [ 1.29754661, -1.4082758 , -1.15633091, -0.87179839, -0.81761459],\n",
              "       [ 0.7523149 , -1.50137956, -1.22183113, -1.37550412, -0.81761459],\n",
              "       [ 0.10485225, -0.73115752, -1.15633091, -1.17402183, -0.81761459],\n",
              "       [ 1.57016246, -1.19667634, -1.18908102, -0.4688338 , -0.9683804 ]])"
            ]
          },
          "metadata": {},
          "execution_count": 9
        }
      ]
    },
    {
      "cell_type": "code",
      "metadata": {
        "colab": {
          "base_uri": "https://localhost:8080/"
        },
        "id": "NksSIVgPO-ee",
        "outputId": "aea4cde3-ba2e-4a96-bae3-f6c6e6804680"
      },
      "source": [
        "df_scaled.mean(axis = 0)"
      ],
      "execution_count": 10,
      "outputs": [
        {
          "output_type": "execute_result",
          "data": {
            "text/plain": [
              "array([5.12410627e-17, 1.70803542e-17, 4.27008856e-17, 3.84307970e-17,\n",
              "       5.97812398e-17])"
            ]
          },
          "metadata": {},
          "execution_count": 10
        }
      ]
    },
    {
      "cell_type": "code",
      "metadata": {
        "colab": {
          "base_uri": "https://localhost:8080/"
        },
        "id": "oCrnQA1OPSjc",
        "outputId": "77ff4083-4cf1-4ec0-9f77-520d2de3393b"
      },
      "source": [
        "df_scaled.std(axis = 0)"
      ],
      "execution_count": 11,
      "outputs": [
        {
          "output_type": "execute_result",
          "data": {
            "text/plain": [
              "array([1., 1., 1., 1., 1.])"
            ]
          },
          "metadata": {},
          "execution_count": 11
        }
      ]
    },
    {
      "cell_type": "code",
      "metadata": {
        "colab": {
          "base_uri": "https://localhost:8080/",
          "height": 235
        },
        "id": "rKwAlRPH43tE",
        "outputId": "deddd111-627f-4764-980b-37db4d905902"
      },
      "source": [
        "df.head()"
      ],
      "execution_count": 12,
      "outputs": [
        {
          "output_type": "execute_result",
          "data": {
            "text/html": [
              "<div>\n",
              "<style scoped>\n",
              "    .dataframe tbody tr th:only-of-type {\n",
              "        vertical-align: middle;\n",
              "    }\n",
              "\n",
              "    .dataframe tbody tr th {\n",
              "        vertical-align: top;\n",
              "    }\n",
              "\n",
              "    .dataframe thead th {\n",
              "        text-align: right;\n",
              "    }\n",
              "</style>\n",
              "<table border=\"1\" class=\"dataframe\">\n",
              "  <thead>\n",
              "    <tr style=\"text-align: right;\">\n",
              "      <th></th>\n",
              "      <th>Al</th>\n",
              "      <th>Fe</th>\n",
              "      <th>Mg</th>\n",
              "      <th>Ca</th>\n",
              "      <th>Na</th>\n",
              "    </tr>\n",
              "    <tr>\n",
              "      <th>Site</th>\n",
              "      <th></th>\n",
              "      <th></th>\n",
              "      <th></th>\n",
              "      <th></th>\n",
              "      <th></th>\n",
              "    </tr>\n",
              "  </thead>\n",
              "  <tbody>\n",
              "    <tr>\n",
              "      <th>Llanedyrn</th>\n",
              "      <td>14.4</td>\n",
              "      <td>7.00</td>\n",
              "      <td>4.30</td>\n",
              "      <td>0.15</td>\n",
              "      <td>0.51</td>\n",
              "    </tr>\n",
              "    <tr>\n",
              "      <th>Llanedyrn</th>\n",
              "      <td>13.8</td>\n",
              "      <td>7.08</td>\n",
              "      <td>3.43</td>\n",
              "      <td>0.12</td>\n",
              "      <td>0.17</td>\n",
              "    </tr>\n",
              "    <tr>\n",
              "      <th>Llanedyrn</th>\n",
              "      <td>14.6</td>\n",
              "      <td>7.09</td>\n",
              "      <td>3.88</td>\n",
              "      <td>0.13</td>\n",
              "      <td>0.20</td>\n",
              "    </tr>\n",
              "    <tr>\n",
              "      <th>Llanedyrn</th>\n",
              "      <td>11.5</td>\n",
              "      <td>6.37</td>\n",
              "      <td>5.64</td>\n",
              "      <td>0.16</td>\n",
              "      <td>0.14</td>\n",
              "    </tr>\n",
              "    <tr>\n",
              "      <th>Llanedyrn</th>\n",
              "      <td>13.8</td>\n",
              "      <td>7.06</td>\n",
              "      <td>5.34</td>\n",
              "      <td>0.20</td>\n",
              "      <td>0.20</td>\n",
              "    </tr>\n",
              "  </tbody>\n",
              "</table>\n",
              "</div>"
            ],
            "text/plain": [
              "             Al    Fe    Mg    Ca    Na\n",
              "Site                                   \n",
              "Llanedyrn  14.4  7.00  4.30  0.15  0.51\n",
              "Llanedyrn  13.8  7.08  3.43  0.12  0.17\n",
              "Llanedyrn  14.6  7.09  3.88  0.13  0.20\n",
              "Llanedyrn  11.5  6.37  5.64  0.16  0.14\n",
              "Llanedyrn  13.8  7.06  5.34  0.20  0.20"
            ]
          },
          "metadata": {},
          "execution_count": 12
        }
      ]
    },
    {
      "cell_type": "code",
      "metadata": {
        "id": "ktIqYJikPeQI"
      },
      "source": [
        "#perfroming PCA with 3 components\n",
        "pca = PCA(n_components=3, svd_solver='full')"
      ],
      "execution_count": 13,
      "outputs": []
    },
    {
      "cell_type": "code",
      "metadata": {
        "id": "Rwlc6dYcPeKm"
      },
      "source": [
        "pca_scores = pca.fit_transform(df_scaled)"
      ],
      "execution_count": 14,
      "outputs": []
    },
    {
      "cell_type": "code",
      "metadata": {
        "colab": {
          "base_uri": "https://localhost:8080/"
        },
        "id": "sQBjofmSPjd2",
        "outputId": "4761ef4e-366b-45e4-b2be-30220c101e3c"
      },
      "source": [
        "pca_scores.shape"
      ],
      "execution_count": 15,
      "outputs": [
        {
          "output_type": "execute_result",
          "data": {
            "text/plain": [
              "(26, 3)"
            ]
          },
          "metadata": {},
          "execution_count": 15
        }
      ]
    },
    {
      "cell_type": "code",
      "metadata": {
        "id": "7DvIlZ_dR3NG"
      },
      "source": [
        "scores_pd = pd.DataFrame(data = pca_scores,columns = ['PC1', 'PC2', 'PC3'],index = df.index)"
      ],
      "execution_count": 16,
      "outputs": []
    },
    {
      "cell_type": "code",
      "metadata": {
        "colab": {
          "base_uri": "https://localhost:8080/",
          "height": 886
        },
        "id": "Igx_bltgR3Gc",
        "outputId": "159f9bce-628c-4a2c-da90-3099911489b2"
      },
      "source": [
        "scores_pd"
      ],
      "execution_count": 17,
      "outputs": [
        {
          "output_type": "execute_result",
          "data": {
            "text/html": [
              "<div>\n",
              "<style scoped>\n",
              "    .dataframe tbody tr th:only-of-type {\n",
              "        vertical-align: middle;\n",
              "    }\n",
              "\n",
              "    .dataframe tbody tr th {\n",
              "        vertical-align: top;\n",
              "    }\n",
              "\n",
              "    .dataframe thead th {\n",
              "        text-align: right;\n",
              "    }\n",
              "</style>\n",
              "<table border=\"1\" class=\"dataframe\">\n",
              "  <thead>\n",
              "    <tr style=\"text-align: right;\">\n",
              "      <th></th>\n",
              "      <th>PC1</th>\n",
              "      <th>PC2</th>\n",
              "      <th>PC3</th>\n",
              "    </tr>\n",
              "    <tr>\n",
              "      <th>Site</th>\n",
              "      <th></th>\n",
              "      <th></th>\n",
              "      <th></th>\n",
              "    </tr>\n",
              "  </thead>\n",
              "  <tbody>\n",
              "    <tr>\n",
              "      <th>Llanedyrn</th>\n",
              "      <td>-1.778026</td>\n",
              "      <td>2.289445</td>\n",
              "      <td>-0.075289</td>\n",
              "    </tr>\n",
              "    <tr>\n",
              "      <th>Llanedyrn</th>\n",
              "      <td>-0.611193</td>\n",
              "      <td>0.122065</td>\n",
              "      <td>-0.499044</td>\n",
              "    </tr>\n",
              "    <tr>\n",
              "      <th>Llanedyrn</th>\n",
              "      <td>-0.722428</td>\n",
              "      <td>0.370209</td>\n",
              "      <td>-0.207550</td>\n",
              "    </tr>\n",
              "    <tr>\n",
              "      <th>Llanedyrn</th>\n",
              "      <td>-1.417696</td>\n",
              "      <td>-0.555600</td>\n",
              "      <td>-0.557590</td>\n",
              "    </tr>\n",
              "    <tr>\n",
              "      <th>Llanedyrn</th>\n",
              "      <td>-1.486801</td>\n",
              "      <td>-0.004081</td>\n",
              "      <td>0.195248</td>\n",
              "    </tr>\n",
              "    <tr>\n",
              "      <th>Llanedyrn</th>\n",
              "      <td>-1.259044</td>\n",
              "      <td>-0.092347</td>\n",
              "      <td>-0.783259</td>\n",
              "    </tr>\n",
              "    <tr>\n",
              "      <th>Llanedyrn</th>\n",
              "      <td>-1.180703</td>\n",
              "      <td>-0.607921</td>\n",
              "      <td>-0.575010</td>\n",
              "    </tr>\n",
              "    <tr>\n",
              "      <th>Llanedyrn</th>\n",
              "      <td>-1.490385</td>\n",
              "      <td>-0.498745</td>\n",
              "      <td>-0.336582</td>\n",
              "    </tr>\n",
              "    <tr>\n",
              "      <th>Llanedyrn</th>\n",
              "      <td>-2.076010</td>\n",
              "      <td>0.000500</td>\n",
              "      <td>0.220714</td>\n",
              "    </tr>\n",
              "    <tr>\n",
              "      <th>Llanedyrn</th>\n",
              "      <td>-2.311320</td>\n",
              "      <td>-0.376341</td>\n",
              "      <td>0.800851</td>\n",
              "    </tr>\n",
              "    <tr>\n",
              "      <th>Llanedyrn</th>\n",
              "      <td>-2.621615</td>\n",
              "      <td>1.952241</td>\n",
              "      <td>0.094513</td>\n",
              "    </tr>\n",
              "    <tr>\n",
              "      <th>Llanedyrn</th>\n",
              "      <td>-2.155016</td>\n",
              "      <td>-0.220571</td>\n",
              "      <td>0.828020</td>\n",
              "    </tr>\n",
              "    <tr>\n",
              "      <th>Llanedyrn</th>\n",
              "      <td>-1.431624</td>\n",
              "      <td>0.007079</td>\n",
              "      <td>-0.106344</td>\n",
              "    </tr>\n",
              "    <tr>\n",
              "      <th>Llanedyrn</th>\n",
              "      <td>-1.413437</td>\n",
              "      <td>-0.013782</td>\n",
              "      <td>-0.037041</td>\n",
              "    </tr>\n",
              "    <tr>\n",
              "      <th>Caldicot</th>\n",
              "      <td>-1.153767</td>\n",
              "      <td>-1.634243</td>\n",
              "      <td>0.411643</td>\n",
              "    </tr>\n",
              "    <tr>\n",
              "      <th>Caldicot</th>\n",
              "      <td>-1.145386</td>\n",
              "      <td>-1.490205</td>\n",
              "      <td>0.286453</td>\n",
              "    </tr>\n",
              "    <tr>\n",
              "      <th>IsleThorns</th>\n",
              "      <td>2.668073</td>\n",
              "      <td>0.029649</td>\n",
              "      <td>0.126326</td>\n",
              "    </tr>\n",
              "    <tr>\n",
              "      <th>IsleThorns</th>\n",
              "      <td>2.135919</td>\n",
              "      <td>-0.119176</td>\n",
              "      <td>-0.680174</td>\n",
              "    </tr>\n",
              "    <tr>\n",
              "      <th>IsleThorns</th>\n",
              "      <td>2.585526</td>\n",
              "      <td>0.262264</td>\n",
              "      <td>-0.096612</td>\n",
              "    </tr>\n",
              "    <tr>\n",
              "      <th>IsleThorns</th>\n",
              "      <td>2.561672</td>\n",
              "      <td>0.138060</td>\n",
              "      <td>-0.121480</td>\n",
              "    </tr>\n",
              "    <tr>\n",
              "      <th>IsleThorns</th>\n",
              "      <td>2.615076</td>\n",
              "      <td>0.654624</td>\n",
              "      <td>0.983277</td>\n",
              "    </tr>\n",
              "    <tr>\n",
              "      <th>AshleyRails</th>\n",
              "      <td>2.415728</td>\n",
              "      <td>0.048399</td>\n",
              "      <td>0.193736</td>\n",
              "    </tr>\n",
              "    <tr>\n",
              "      <th>AshleyRails</th>\n",
              "      <td>2.505373</td>\n",
              "      <td>0.053793</td>\n",
              "      <td>0.342508</td>\n",
              "    </tr>\n",
              "    <tr>\n",
              "      <th>AshleyRails</th>\n",
              "      <td>2.565084</td>\n",
              "      <td>0.032170</td>\n",
              "      <td>-0.376411</td>\n",
              "    </tr>\n",
              "    <tr>\n",
              "      <th>AshleyRails</th>\n",
              "      <td>1.786069</td>\n",
              "      <td>-0.239541</td>\n",
              "      <td>-0.799486</td>\n",
              "    </tr>\n",
              "    <tr>\n",
              "      <th>AshleyRails</th>\n",
              "      <td>2.415928</td>\n",
              "      <td>-0.107947</td>\n",
              "      <td>0.768582</td>\n",
              "    </tr>\n",
              "  </tbody>\n",
              "</table>\n",
              "</div>"
            ],
            "text/plain": [
              "                  PC1       PC2       PC3\n",
              "Site                                     \n",
              "Llanedyrn   -1.778026  2.289445 -0.075289\n",
              "Llanedyrn   -0.611193  0.122065 -0.499044\n",
              "Llanedyrn   -0.722428  0.370209 -0.207550\n",
              "Llanedyrn   -1.417696 -0.555600 -0.557590\n",
              "Llanedyrn   -1.486801 -0.004081  0.195248\n",
              "Llanedyrn   -1.259044 -0.092347 -0.783259\n",
              "Llanedyrn   -1.180703 -0.607921 -0.575010\n",
              "Llanedyrn   -1.490385 -0.498745 -0.336582\n",
              "Llanedyrn   -2.076010  0.000500  0.220714\n",
              "Llanedyrn   -2.311320 -0.376341  0.800851\n",
              "Llanedyrn   -2.621615  1.952241  0.094513\n",
              "Llanedyrn   -2.155016 -0.220571  0.828020\n",
              "Llanedyrn   -1.431624  0.007079 -0.106344\n",
              "Llanedyrn   -1.413437 -0.013782 -0.037041\n",
              "Caldicot    -1.153767 -1.634243  0.411643\n",
              "Caldicot    -1.145386 -1.490205  0.286453\n",
              "IsleThorns   2.668073  0.029649  0.126326\n",
              "IsleThorns   2.135919 -0.119176 -0.680174\n",
              "IsleThorns   2.585526  0.262264 -0.096612\n",
              "IsleThorns   2.561672  0.138060 -0.121480\n",
              "IsleThorns   2.615076  0.654624  0.983277\n",
              "AshleyRails  2.415728  0.048399  0.193736\n",
              "AshleyRails  2.505373  0.053793  0.342508\n",
              "AshleyRails  2.565084  0.032170 -0.376411\n",
              "AshleyRails  1.786069 -0.239541 -0.799486\n",
              "AshleyRails  2.415928 -0.107947  0.768582"
            ]
          },
          "metadata": {},
          "execution_count": 17
        }
      ]
    },
    {
      "cell_type": "code",
      "metadata": {
        "id": "R1Q6DJOIR3AT"
      },
      "source": [
        "loadings_pd = pd.DataFrame(data = pca.components_.T\n",
        "                           ,columns = ['PC1', 'PC2', 'PC3']\n",
        "                           ,index = df.columns)"
      ],
      "execution_count": 18,
      "outputs": []
    },
    {
      "cell_type": "code",
      "metadata": {
        "colab": {
          "base_uri": "https://localhost:8080/",
          "height": 204
        },
        "id": "k1P2bI-fSIza",
        "outputId": "8a5d2cee-dda0-4fbb-8ed8-55367b3bf187"
      },
      "source": [
        "loadings_pd"
      ],
      "execution_count": 19,
      "outputs": [
        {
          "output_type": "execute_result",
          "data": {
            "text/html": [
              "<div>\n",
              "<style scoped>\n",
              "    .dataframe tbody tr th:only-of-type {\n",
              "        vertical-align: middle;\n",
              "    }\n",
              "\n",
              "    .dataframe tbody tr th {\n",
              "        vertical-align: top;\n",
              "    }\n",
              "\n",
              "    .dataframe thead th {\n",
              "        text-align: right;\n",
              "    }\n",
              "</style>\n",
              "<table border=\"1\" class=\"dataframe\">\n",
              "  <thead>\n",
              "    <tr style=\"text-align: right;\">\n",
              "      <th></th>\n",
              "      <th>PC1</th>\n",
              "      <th>PC2</th>\n",
              "      <th>PC3</th>\n",
              "    </tr>\n",
              "  </thead>\n",
              "  <tbody>\n",
              "    <tr>\n",
              "      <th>Al</th>\n",
              "      <td>0.445434</td>\n",
              "      <td>0.356524</td>\n",
              "      <td>0.694985</td>\n",
              "    </tr>\n",
              "    <tr>\n",
              "      <th>Fe</th>\n",
              "      <td>-0.478132</td>\n",
              "      <td>0.041175</td>\n",
              "      <td>-0.157338</td>\n",
              "    </tr>\n",
              "    <tr>\n",
              "      <th>Mg</th>\n",
              "      <td>-0.486541</td>\n",
              "      <td>-0.049607</td>\n",
              "      <td>0.158560</td>\n",
              "    </tr>\n",
              "    <tr>\n",
              "      <th>Ca</th>\n",
              "      <td>-0.449054</td>\n",
              "      <td>-0.344146</td>\n",
              "      <td>0.683443</td>\n",
              "    </tr>\n",
              "    <tr>\n",
              "      <th>Na</th>\n",
              "      <td>-0.366888</td>\n",
              "      <td>0.866197</td>\n",
              "      <td>0.002043</td>\n",
              "    </tr>\n",
              "  </tbody>\n",
              "</table>\n",
              "</div>"
            ],
            "text/plain": [
              "         PC1       PC2       PC3\n",
              "Al  0.445434  0.356524  0.694985\n",
              "Fe -0.478132  0.041175 -0.157338\n",
              "Mg -0.486541 -0.049607  0.158560\n",
              "Ca -0.449054 -0.344146  0.683443\n",
              "Na -0.366888  0.866197  0.002043"
            ]
          },
          "metadata": {},
          "execution_count": 19
        }
      ]
    },
    {
      "cell_type": "markdown",
      "metadata": {
        "id": "AQOx1fxwP2T2"
      },
      "source": [
        "3.  Plot the cumulative explained variance graph.  What percent of the variance do the first 2 and 3 components describe?"
      ]
    },
    {
      "cell_type": "code",
      "metadata": {
        "colab": {
          "base_uri": "https://localhost:8080/"
        },
        "id": "Gsa8nb3oPvnl",
        "outputId": "80dd1ffd-12b3-4abe-bb81-36b0beb32295"
      },
      "source": [
        "pca.explained_variance_"
      ],
      "execution_count": 20,
      "outputs": [
        {
          "output_type": "execute_result",
          "data": {
            "text/plain": [
              "array([4.03290887, 0.63316224, 0.25395987])"
            ]
          },
          "metadata": {},
          "execution_count": 20
        }
      ]
    },
    {
      "cell_type": "code",
      "metadata": {
        "colab": {
          "base_uri": "https://localhost:8080/"
        },
        "id": "KNd7B91cPxJR",
        "outputId": "821079d1-f3c3-4708-9718-db1dc337a200"
      },
      "source": [
        "pca.explained_variance_ratio_*100"
      ],
      "execution_count": 21,
      "outputs": [
        {
          "output_type": "execute_result",
          "data": {
            "text/plain": [
              "array([77.55593977, 12.17619687,  4.88384364])"
            ]
          },
          "metadata": {},
          "execution_count": 21
        }
      ]
    },
    {
      "cell_type": "code",
      "metadata": {
        "colab": {
          "base_uri": "https://localhost:8080/",
          "height": 283
        },
        "id": "ZTE4fRHjQW7y",
        "outputId": "21563b70-7e26-4e9c-a59c-acf212522d87"
      },
      "source": [
        "plt.plot(range(1,pca.n_components+1), np.cumsum(pca.explained_variance_ratio_),'-o')\n",
        "plt.xlabel('Number of components')\n",
        "plt.ylabel('Cumulative explained variance')\n",
        "plt.ylim(0,1)\n",
        "plt.show()"
      ],
      "execution_count": 22,
      "outputs": [
        {
          "output_type": "display_data",
          "data": {
            "image/png": "[encoded data removed]",
            "text/plain": [
              "<Figure size 432x288 with 1 Axes>"
            ]
          },
          "metadata": {
            "needs_background": "light"
          }
        }
      ]
    },
    {
      "cell_type": "markdown",
      "metadata": {
        "id": "q0rDa6gJ8Lgo"
      },
      "source": [
        "The first two Principal components describe 90 percent of the variance while the first three principal components describe about 95 percent of the variance."
      ]
    },
    {
      "cell_type": "markdown",
      "metadata": {
        "id": "3MG-gjD5QyAg"
      },
      "source": [
        "4.  Plot the scores-loadings graph for PC1-PC2.  Visualize the different sites with a different colour or symbol."
      ]
    },
    {
      "cell_type": "code",
      "metadata": {
        "id": "f201e4RR9KPT"
      },
      "source": [
        "def myplot(scores,loadings,loading_labels=None,score_labels=None):\n",
        "    # adjusting the scores to fit in (-1,1)\n",
        "    xt = scores[:,0]\n",
        "    yt = scores[:,1]\n",
        "    n = loadings.shape[0]\n",
        "    scalext = 1.0/(xt.max() - xt.min())\n",
        "    scaleyt = 1.0/(yt.max() - yt.min())\n",
        "    xt_scaled = xt * scalext\n",
        "    yt_scaled = yt * scaleyt\n",
        "    # adjusting the loadings to fit in (-1,1)\n",
        "    p = loadings\n",
        "    p_scaled = MaxAbsScaler().fit_transform(p)\n",
        "    \n",
        "    #plt.scatter(xs * scalex,ys * scaley, s=10)\n",
        "    for (x,y), label in zip(np.vstack((xt_scaled, yt_scaled)).T,score_labels):\n",
        "        if label == 'AshleyRails':\n",
        "          plt.text(x, y, 'AshRl', ha='center', size=10, color = 'green')\n",
        "        elif label == 'Caldicot':\n",
        "          plt.text(x, y, 'Cald', ha='center', size=10, color = 'orange')\n",
        "        elif label == 'IsleThorns':\n",
        "          plt.text(x, y, 'IsTh', ha='center', size=10, color = 'red')\n",
        "        else:\n",
        "          plt.text(x, y, 'Llan', ha='center', size=10, color = 'blue')\n",
        "            \n",
        "    \n",
        "    for i in range(n):\n",
        "        plt.arrow(0, 0, p_scaled[i,0], p_scaled[i,1], color = 'black',alpha = 0.5)\n",
        "        if loading_labels is None:\n",
        "            plt.text(p_scaled[i,0], p_scaled[i,1], \"Var\"+str(i+1), color = 'g', ha = 'center', va = 'center')\n",
        "        else:\n",
        "            plt.text(p_scaled[i,0], p_scaled[i,1], loading_labels[i], color = 'black', ha = 'center', va = 'center', size=16)\n",
        "    plt.xlim(-1,1)\n",
        "    plt.ylim(-1,1)\n",
        "    plt.xlabel(\"PC{}\".format(1), fontsize=20);\n",
        "    plt.ylabel(\"PC{}\".format(2), fontsize=20);\n",
        "    plt.tick_params(labelsize=16)\n",
        "    plt.grid()"
      ],
      "execution_count": 23,
      "outputs": []
    },
    {
      "cell_type": "code",
      "metadata": {
        "colab": {
          "base_uri": "https://localhost:8080/",
          "height": 573
        },
        "id": "v1h8ZoTBPxDz",
        "outputId": "5172894c-33cf-4e13-93d4-95b204b3597b"
      },
      "source": [
        "plt.rcParams[\"figure.figsize\"] = [16,9]\n",
        "myplot(pca_scores[:,:2],loadings_pd.iloc[:,:2],loading_labels=loadings_pd.index,score_labels=scores_pd.index)\n",
        "plt.show()"
      ],
      "execution_count": 24,
      "outputs": [
        {
          "output_type": "display_data",
          "data": {
            "image/png": "[encoded data removed]",
            "text/plain": [
              "<Figure size 1152x648 with 1 Axes>"
            ]
          },
          "metadata": {
            "needs_background": "light"
          }
        }
      ]
    },
    {
      "cell_type": "markdown",
      "metadata": {
        "id": "h2Dv9Sy86qwq"
      },
      "source": [
        "5.  How does the map of scores-loadings explains the reason that your company uses the raw material from Isle Thorns and Ashley Rails to manufacture Product B?\n",
        "\n",
        "**ANSWER: As is evident from the graph, the sites Ashley Rail and Isle Thorns have the same raw materials thus it makes sense to use raw material from these sites to manufacture product B** "
      ]
    },
    {
      "cell_type": "markdown",
      "metadata": {
        "id": "M2TCN2QYMLxO"
      },
      "source": [
        "6.  Is the raw material from Caldicot a good replacement for Llanedyrn?  Yes or no and why?\n",
        "\n",
        "**Answer:\n",
        "Although the graph shows similar characteristics of both the Llanedyrn and Caldicot, the raw materials from Caldicot does not seem like the best replacement for Llandyrn. Samples from Caldicot does not contain the required concentration for Llandryn. For example Samples from Na have very high concentration while caldicot has lower amounts of Na which will affect the production of the product**"
      ]
    },
    {
      "cell_type": "markdown",
      "metadata": {
        "id": "y1SJ0WWnNmg6"
      },
      "source": [
        "7.  What  are  the  biggest  differences  in  the  two  big  clusters?   How  are  the  two  samples from the candidate Caldicot different than the Llanedyrn samples?\n",
        "\n",
        "**Answer: \n",
        "The samples from cluster IsleThorns and AshleyRails supply similar raw materials with almost similar concentration levels. The raw materials from the Llandryn and Caldicot cluster has significant difference in the concentration levels. Caldicot has lower concentration of Na while Llandryn has high concentration of Na.**\n"
      ]
    },
    {
      "cell_type": "markdown",
      "metadata": {
        "id": "ZN4KhTH_POBR"
      },
      "source": [
        "8.  Confirm the answers by producing the boxplot of the 5 variables grouped by the site of the raw material shown below."
      ]
    },
    {
      "cell_type": "code",
      "metadata": {
        "colab": {
          "base_uri": "https://localhost:8080/",
          "height": 730
        },
        "id": "My_j79lgNahl",
        "outputId": "bcbfdcdb-d9a8-4f9c-8c24-d95bf0241945"
      },
      "source": [
        "fig, axs = plt.subplots(2, 3,figsize=(15,12))   \n",
        "sns.boxplot(x=df.index, y=df['Al'], data=df,ax=axs[0,0]).set(title='Al')\n",
        "sns.boxplot(x=df.index, y='Fe', data=df,ax=axs[0,1]).set(title='Fe') \n",
        "sns.boxplot(x=df.index, y='Mg', data=df,ax=axs[0,2]).set(title='Mg') \n",
        "sns.boxplot(x=df.index, y='Ca', data=df,ax=axs[1,0]).set(title='Ca') \n",
        "sns.boxplot(x=df.index, y='Na', data=df,ax=axs[1,1]).set(title='Na') \n",
        "plt.show()"
      ],
      "execution_count": 25,
      "outputs": [
        {
          "output_type": "display_data",
          "data": {
            "image/png": "[encoded data removed]",
            "text/plain": [
              "<Figure size 1080x864 with 6 Axes>"
            ]
          },
          "metadata": {
            "needs_background": "light"
          }
        }
      ]
    }
  ]
}