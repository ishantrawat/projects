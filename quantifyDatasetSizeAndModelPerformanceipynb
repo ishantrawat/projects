{
  "nbformat": 4,
  "nbformat_minor": 0,
  "metadata": {
    "colab": {
      "name": "Ishant_assignment_06.ipynb",
      "provenance": [],
      "collapsed_sections": []
    },
    "kernelspec": {
      "name": "python3",
      "display_name": "Python 3"
    },
    "language_info": {
      "name": "python"
    }
  },
  "cells": [
    {
      "cell_type": "markdown",
      "source": [
        "Name: Ishant Rawat\n",
        "\n",
        "Student Number: 1007084824"
      ],
      "metadata": {
        "id": "VXURIAhhH2o8"
      }
    },
    {
      "cell_type": "code",
      "metadata": {
        "id": "B1DFjVAjKbxe"
      },
      "source": [
        "import pandas as pd\n",
        "import numpy as np\n",
        "import matplotlib.pyplot as plt \n",
        "%matplotlib inline\n",
        "from sklearn.model_selection import train_test_split\n",
        "from sklearn.tree import DecisionTreeClassifier\n",
        "from sklearn.metrics import roc_curve,auc\n",
        "from imblearn.over_sampling import RandomOverSampler\n",
        "from sklearn.model_selection import GridSearchCV\n",
        "from imblearn.over_sampling import SMOTE\n",
        "import seaborn as sns\n",
        "import warnings\n",
        "warnings.filterwarnings(\"ignore\")"
      ],
      "execution_count": 1,
      "outputs": []
    },
    {
      "cell_type": "code",
      "metadata": {
        "id": "9ScBkd_dKmZQ"
      },
      "source": [
        "mth_rolling_features = pd.read_excel('/content/mth_rolling_features.xlsx')\n",
        "mth_day_counts = pd.read_excel('/content/mth_day_counts.xlsx')\n",
        "days_since_last_txn = pd.read_excel('/content/days_since_last_txn.xlsx')\n",
        "retail_data_response = pd.read_csv('/content/Retail_Data_Response (1).csv')"
      ],
      "execution_count": 2,
      "outputs": []
    },
    {
      "cell_type": "code",
      "metadata": {
        "id": "6f7ce1ba",
        "colab": {
          "base_uri": "https://localhost:8080/"
        },
        "outputId": "f550c495-330a-42dc-d348-c2594f7e4aa7"
      },
      "source": [
        "mth_rolling_features.fillna(0,inplace=True)\n",
        "mth_rolling_features.drop('Unnamed: 0',axis=1,inplace = True)\n",
        "mth_day_counts.drop('Unnamed: 0',axis=1,inplace = True)\n",
        "monthly_features_outputs = mth_rolling_features.merge(mth_day_counts,on = ['CLNT_NO',\"ME_DT\"])\n",
        "days_since_last_txn.drop('Unnamed: 0',axis=1,inplace = True)\n",
        "monthly_features_outputs = monthly_features_outputs.merge(days_since_last_txn,on = ['CLNT_NO',\"ME_DT\"])\n",
        "monthly_features_outputs.rename({'CLNT_NO':'customer_id'},axis=1,inplace=True)\n",
        "monthly_features_outputs=monthly_features_outputs.merge(retail_data_response,on='customer_id')\n",
        "monthly_features_outputs.shape"
      ],
      "execution_count": 3,
      "outputs": [
        {
          "output_type": "execute_result",
          "data": {
            "text/plain": [
              "(323548, 31)"
            ]
          },
          "metadata": {},
          "execution_count": 3
        }
      ]
    },
    {
      "cell_type": "code",
      "source": [
        "monthly_features_outputs.isnull().sum()"
      ],
      "metadata": {
        "colab": {
          "base_uri": "https://localhost:8080/"
        },
        "id": "JyAn3bZHRgYy",
        "outputId": "15fa19b2-0098-4727-b0cc-b6c5e50e5d59"
      },
      "execution_count": 4,
      "outputs": [
        {
          "output_type": "execute_result",
          "data": {
            "text/plain": [
              "customer_id            0\n",
              "ME_DT                  0\n",
              "mth_txn_amt_sum        0\n",
              "mth_txn_cnt            0\n",
              "amt_sum_3M             0\n",
              "amt_mean_3M            0\n",
              "amt_max_3M             0\n",
              "txn_cnt_sum_3M         0\n",
              "txn_cnt_mean_3M        0\n",
              "txn_cnt_max_3M         0\n",
              "amt_sum_6M             0\n",
              "amt_mean_6M            0\n",
              "amt_max_6M             0\n",
              "txn_cnt_sum_6M         0\n",
              "txn_cnt_mean_6M        0\n",
              "txn_cnt_max_6M         0\n",
              "amt_sum_12M            0\n",
              "amt_mean_12M           0\n",
              "amt_max_12M            0\n",
              "txn_cnt_sum_12M        0\n",
              "txn_cnt_mean_12M       0\n",
              "txn_cnt_max_12M        0\n",
              "cnt_Friday             0\n",
              "cnt_Monday             0\n",
              "cnt_Saturday           0\n",
              "cnt_Sunday             0\n",
              "cnt_Thursday           0\n",
              "cnt_Tuesday            0\n",
              "cnt_Wednesday          0\n",
              "days_since_last_txn    0\n",
              "response               0\n",
              "dtype: int64"
            ]
          },
          "metadata": {},
          "execution_count": 4
        }
      ]
    },
    {
      "cell_type": "markdown",
      "metadata": {
        "id": "4MZqlwsXfhwt"
      },
      "source": [
        "1. Split the train/test sets with 9:1 ratio. This split should give you approximately 291k/32k samples in train/test set, respectively."
      ]
    },
    {
      "cell_type": "code",
      "metadata": {
        "id": "fhhLloOqMHrV"
      },
      "source": [
        "train,test = train_test_split(monthly_features_outputs, test_size=0.1, random_state = 1147)"
      ],
      "execution_count": 5,
      "outputs": []
    },
    {
      "cell_type": "code",
      "source": [
        "X_train = train.iloc[:,2:-1]\n",
        "y_train = train.iloc[:,-1]\n",
        "x_test = test.iloc[:,2:-1]\n",
        "y_test = test.iloc[:,-1]"
      ],
      "metadata": {
        "id": "K0eX1jt-dq1I"
      },
      "execution_count": 6,
      "outputs": []
    },
    {
      "cell_type": "code",
      "source": [
        "monthly_features_outputs.response.value_counts()"
      ],
      "metadata": {
        "colab": {
          "base_uri": "https://localhost:8080/"
        },
        "id": "bwK1CZXJePej",
        "outputId": "fd5a4a99-cb7a-4720-8000-bca8b6f718a9"
      },
      "execution_count": 7,
      "outputs": [
        {
          "output_type": "execute_result",
          "data": {
            "text/plain": [
              "0    293139\n",
              "1     30409\n",
              "Name: response, dtype: int64"
            ]
          },
          "metadata": {},
          "execution_count": 7
        }
      ]
    },
    {
      "cell_type": "code",
      "source": [
        "plt.figure(figsize=(8,5))\n",
        "sns.countplot(monthly_features_outputs.response)\n",
        "plt.xlabel('Response')\n",
        "plt.title('Number of responses')\n",
        "plt.show()"
      ],
      "metadata": {
        "colab": {
          "base_uri": "https://localhost:8080/",
          "height": 350
        },
        "id": "8sjlg7RNaeL8",
        "outputId": "5c51f521-b320-4763-cb37-8d432f4f54fc"
      },
      "execution_count": 8,
      "outputs": [
        {
          "output_type": "display_data",
          "data": {
            "image/png": "[encoded data removed]",
            "text/plain": [
              "<Figure size 576x360 with 1 Axes>"
            ]
          },
          "metadata": {
            "needs_background": "light"
          }
        }
      ]
    },
    {
      "cell_type": "markdown",
      "source": [
        "From the figure we can observe that we have an imbalanced dataset. We will perform random oversampling to handle the imbalanced dataset."
      ],
      "metadata": {
        "id": "SdvazloAbQeJ"
      }
    },
    {
      "cell_type": "markdown",
      "metadata": {
        "id": "3atO614QfxOQ"
      },
      "source": [
        "2. Initialize and create a for loop in which you take N samples (e.g. 50), build a tree model with the N samples and evaluate the test set AUC. Repeat the sampling process 10 times and append the test set AUC. The following table shows the desired output:"
      ]
    },
    {
      "cell_type": "code",
      "source": [
        "oversample = RandomOverSampler(sampling_strategy='minority') # random sampling to handle class imbalance\n",
        "X_train_sm,y_train_sm=oversample.fit_resample(X_train,y_train)"
      ],
      "metadata": {
        "id": "fJf3E3QfwGFa"
      },
      "execution_count": 9,
      "outputs": []
    },
    {
      "cell_type": "markdown",
      "source": [
        "Grid Seach for best model"
      ],
      "metadata": {
        "id": "flPJdW6rZzIQ"
      }
    },
    {
      "cell_type": "code",
      "metadata": {
        "colab": {
          "base_uri": "https://localhost:8080/"
        },
        "id": "g5mFxxWYha8W",
        "outputId": "d3daf3ce-820a-4ef6-ec05-1dacaaf4d49f"
      },
      "source": [
        "parameters = {'max_depth':[1,3,5,6,8,10]}\n",
        "\n",
        "clf_dt = DecisionTreeClassifier()\n",
        "clf = GridSearchCV(clf_dt, parameters, cv=10, n_jobs=-1)\n",
        "clf.fit(X_train_sm, y_train_sm)\n",
        "\n",
        "print('The best cross-validation score: {}%'.format(round(clf.best_score_*100,2)))\n",
        "print('The best parameter:\\n', clf.best_params_)"
      ],
      "execution_count": 10,
      "outputs": [
        {
          "output_type": "stream",
          "name": "stdout",
          "text": [
            "The best cross-validation score: 62.12%\n",
            "The best parameter:\n",
            " {'max_depth': 10}\n"
          ]
        }
      ]
    },
    {
      "cell_type": "code",
      "source": [
        "def sample(N):\n",
        "\n",
        "  auc_train = []\n",
        "  auc_test = []\n",
        "  \n",
        "  print(\"------------N = {}--------------------\".format(N))\n",
        "  for i  in range(10): \n",
        "    X_train = X_train_sm.sample(n = N)\n",
        "    indx = X_train.index\n",
        "    y_train = y_train_sm[indx]\n",
        "    dt = DecisionTreeClassifier(max_depth = 10, random_state=0)\n",
        "    dt.fit(X_train, y_train)\n",
        "    # Score train and test set \n",
        "    scores_train = dt.predict_proba(X_train)[:,1] \n",
        "    scores_test  = dt.predict_proba(x_test)[:,1]\n",
        "    # ROC Calc Train set \n",
        "    fpr_train, tpr_train, _ = roc_curve(y_train, scores_train)\n",
        "    # ROC Calc Test set w\n",
        "    fpr_test, tpr_test, _ = roc_curve(y_test, scores_test)\n",
        "    # Calculate the AUCs\n",
        "    auc_train.append(auc(fpr_train, tpr_train))\n",
        "    auc_test.append(auc(fpr_test, tpr_test))\n",
        "\n",
        "    print(\"sample = {}\".format(i))\n",
        "    print(\"Test AUC = {}\".format(auc_test[i]))\n",
        "  \n",
        "    print(\"------------------------------------\")\n",
        "  mean_auc = np.mean(auc_test)\n",
        "  std_auc = np.std(auc_test)\n",
        "  print(\"Mean auc for {} samples is {}\".format(N,mean_auc))\n",
        "  print(\"Mean std for {} samples is {}\".format(N,round(std_auc,6)))\n",
        "  return mean_auc, std_auc,auc_train,auc_test"
      ],
      "metadata": {
        "id": "GYhpaCdVKLbk"
      },
      "execution_count": 48,
      "outputs": []
    },
    {
      "cell_type": "code",
      "metadata": {
        "colab": {
          "base_uri": "https://localhost:8080/"
        },
        "id": "L_wNzyvyf7cr",
        "outputId": "1b0caf99-70b1-4c8e-f1b7-f20e2ff33fa6"
      },
      "source": [
        "mean_auc_50, std_auc_50,auc_train_50,auc_test_50 = sample(N=50)"
      ],
      "execution_count": 49,
      "outputs": [
        {
          "output_type": "stream",
          "name": "stdout",
          "text": [
            "------------N = 50--------------------\n",
            "sample = 0\n",
            "Test AUC = 0.5646658070435023\n",
            "------------------------------------\n",
            "sample = 1\n",
            "Test AUC = 0.5306239633476075\n",
            "------------------------------------\n",
            "sample = 2\n",
            "Test AUC = 0.5095316694683669\n",
            "------------------------------------\n",
            "sample = 3\n",
            "Test AUC = 0.5391638533121131\n",
            "------------------------------------\n",
            "sample = 4\n",
            "Test AUC = 0.5252594393056632\n",
            "------------------------------------\n",
            "sample = 5\n",
            "Test AUC = 0.5516808802839553\n",
            "------------------------------------\n",
            "sample = 6\n",
            "Test AUC = 0.5251314580122566\n",
            "------------------------------------\n",
            "sample = 7\n",
            "Test AUC = 0.5408506633176793\n",
            "------------------------------------\n",
            "sample = 8\n",
            "Test AUC = 0.4956647581540665\n",
            "------------------------------------\n",
            "sample = 9\n",
            "Test AUC = 0.5190188995891151\n",
            "------------------------------------\n",
            "Mean auc for 50 samples is 0.5301591391834326\n",
            "Mean std for 50 samples is 0.019074\n"
          ]
        }
      ]
    },
    {
      "cell_type": "markdown",
      "metadata": {
        "id": "vEcqgqzDgn3X"
      },
      "source": [
        "3. Repeat the procedure you performed in the previous step for different sample size N\n",
        "(e.g. 100, 500, 1000, 2000, 5000, 10000) "
      ]
    },
    {
      "cell_type": "markdown",
      "metadata": {
        "id": "xlENQ-dLgVpO"
      },
      "source": [
        "# N=100"
      ]
    },
    {
      "cell_type": "code",
      "metadata": {
        "colab": {
          "base_uri": "https://localhost:8080/"
        },
        "id": "QbNQNJK9Y9IU",
        "outputId": "7237f259-8f4f-4b23-cc43-adcb2af6c7b9"
      },
      "source": [
        "mean_auc_100, std_auc_100,auc_train_100,auc_test_100 = sample(N=100)"
      ],
      "execution_count": 36,
      "outputs": [
        {
          "output_type": "stream",
          "name": "stdout",
          "text": [
            "------------N = 100--------------------\n",
            "sample = 0\n",
            "Test AUC = 0.5304545970726195\n",
            "------------------------------------\n",
            "sample = 1\n",
            "Test AUC = 0.5395440883192875\n",
            "------------------------------------\n",
            "sample = 2\n",
            "Test AUC = 0.5296273058086097\n",
            "------------------------------------\n",
            "sample = 3\n",
            "Test AUC = 0.4681812313122865\n",
            "------------------------------------\n",
            "sample = 4\n",
            "Test AUC = 0.5065781758274339\n",
            "------------------------------------\n",
            "sample = 5\n",
            "Test AUC = 0.5368998967892795\n",
            "------------------------------------\n",
            "sample = 6\n",
            "Test AUC = 0.5373784588877297\n",
            "------------------------------------\n",
            "sample = 7\n",
            "Test AUC = 0.5196026750876173\n",
            "------------------------------------\n",
            "sample = 8\n",
            "Test AUC = 0.5293275527871091\n",
            "------------------------------------\n",
            "sample = 9\n",
            "Test AUC = 0.5170223119760797\n",
            "------------------------------------\n",
            "Mean auc for 100 samples is 0.5214616293868052\n",
            "Mean std for 100 samples is 0.020277\n"
          ]
        }
      ]
    },
    {
      "cell_type": "markdown",
      "metadata": {
        "id": "HcCCzNAEgX9s"
      },
      "source": [
        "# N = 500"
      ]
    },
    {
      "cell_type": "code",
      "metadata": {
        "colab": {
          "base_uri": "https://localhost:8080/"
        },
        "id": "0ImEw470ZAw5",
        "outputId": "3d0ae508-eb39-4b04-8100-ff4daadad43d"
      },
      "source": [
        "mean_auc_500, std_auc_500,auc_train_500,auc_test_500 = sample(N=500)"
      ],
      "execution_count": 37,
      "outputs": [
        {
          "output_type": "stream",
          "name": "stdout",
          "text": [
            "------------N = 500--------------------\n",
            "sample = 0\n",
            "Test AUC = 0.5407875453469866\n",
            "------------------------------------\n",
            "sample = 1\n",
            "Test AUC = 0.5502711001591515\n",
            "------------------------------------\n",
            "sample = 2\n",
            "Test AUC = 0.5410778220020642\n",
            "------------------------------------\n",
            "sample = 3\n",
            "Test AUC = 0.5504751105529465\n",
            "------------------------------------\n",
            "sample = 4\n",
            "Test AUC = 0.5510774360107518\n",
            "------------------------------------\n",
            "sample = 5\n",
            "Test AUC = 0.5324175251243983\n",
            "------------------------------------\n",
            "sample = 6\n",
            "Test AUC = 0.5458687741419385\n",
            "------------------------------------\n",
            "sample = 7\n",
            "Test AUC = 0.5351943186554077\n",
            "------------------------------------\n",
            "sample = 8\n",
            "Test AUC = 0.5318866695942336\n",
            "------------------------------------\n",
            "sample = 9\n",
            "Test AUC = 0.5500991438265165\n",
            "------------------------------------\n",
            "Mean auc for 500 samples is 0.5429155445414395\n",
            "Mean std for 500 samples is 0.007332\n"
          ]
        }
      ]
    },
    {
      "cell_type": "markdown",
      "metadata": {
        "id": "jPR4o11SgabN"
      },
      "source": [
        "# N = 1000"
      ]
    },
    {
      "cell_type": "code",
      "metadata": {
        "colab": {
          "base_uri": "https://localhost:8080/"
        },
        "id": "FMFVTBf8Zqve",
        "outputId": "c43b2900-2598-4f02-8501-51581c72f54f"
      },
      "source": [
        "mean_auc_1000, std_auc_1000,auc_train_1000,auc_test_1000 = sample(N=1000)"
      ],
      "execution_count": 38,
      "outputs": [
        {
          "output_type": "stream",
          "name": "stdout",
          "text": [
            "------------N = 1000--------------------\n",
            "sample = 0\n",
            "Test AUC = 0.5472438430190114\n",
            "------------------------------------\n",
            "sample = 1\n",
            "Test AUC = 0.5531289966183804\n",
            "------------------------------------\n",
            "sample = 2\n",
            "Test AUC = 0.5463585299884482\n",
            "------------------------------------\n",
            "sample = 3\n",
            "Test AUC = 0.5488924231024191\n",
            "------------------------------------\n",
            "sample = 4\n",
            "Test AUC = 0.5518794812052997\n",
            "------------------------------------\n",
            "sample = 5\n",
            "Test AUC = 0.5575956377387622\n",
            "------------------------------------\n",
            "sample = 6\n",
            "Test AUC = 0.5511194027763404\n",
            "------------------------------------\n",
            "sample = 7\n",
            "Test AUC = 0.5461572886627639\n",
            "------------------------------------\n",
            "sample = 8\n",
            "Test AUC = 0.5342827134629854\n",
            "------------------------------------\n",
            "sample = 9\n",
            "Test AUC = 0.5410624047258763\n",
            "------------------------------------\n",
            "Mean auc for 1000 samples is 0.5477720721300288\n",
            "Mean std for 1000 samples is 0.006216\n"
          ]
        }
      ]
    },
    {
      "cell_type": "markdown",
      "metadata": {
        "id": "bDKNYdUjgdBo"
      },
      "source": [
        "#N = 2000"
      ]
    },
    {
      "cell_type": "code",
      "metadata": {
        "colab": {
          "base_uri": "https://localhost:8080/"
        },
        "id": "A_hq3CPeZs4n",
        "outputId": "cbacf285-43a6-4179-c74c-93209a9559e0"
      },
      "source": [
        "mean_auc_2000, std_auc_2000,auc_train_2000,auc_test_2000 = sample(N=2000)"
      ],
      "execution_count": 39,
      "outputs": [
        {
          "output_type": "stream",
          "name": "stdout",
          "text": [
            "------------N = 2000--------------------\n",
            "sample = 0\n",
            "Test AUC = 0.554706431230613\n",
            "------------------------------------\n",
            "sample = 1\n",
            "Test AUC = 0.5656903566503786\n",
            "------------------------------------\n",
            "sample = 2\n",
            "Test AUC = 0.5555493635338903\n",
            "------------------------------------\n",
            "sample = 3\n",
            "Test AUC = 0.5586773028717194\n",
            "------------------------------------\n",
            "sample = 4\n",
            "Test AUC = 0.566599903222468\n",
            "------------------------------------\n",
            "sample = 5\n",
            "Test AUC = 0.5639791173105915\n",
            "------------------------------------\n",
            "sample = 6\n",
            "Test AUC = 0.5674449444927709\n",
            "------------------------------------\n",
            "sample = 7\n",
            "Test AUC = 0.5757418109705443\n",
            "------------------------------------\n",
            "sample = 8\n",
            "Test AUC = 0.5791808313357817\n",
            "------------------------------------\n",
            "sample = 9\n",
            "Test AUC = 0.5684942031377178\n",
            "------------------------------------\n",
            "Mean auc for 2000 samples is 0.5656064264756475\n",
            "Mean std for 2000 samples is 0.007552\n"
          ]
        }
      ]
    },
    {
      "cell_type": "markdown",
      "metadata": {
        "id": "higeiKhHgfRG"
      },
      "source": [
        "# N = 5000"
      ]
    },
    {
      "cell_type": "code",
      "metadata": {
        "colab": {
          "base_uri": "https://localhost:8080/"
        },
        "id": "fMMlZxuyZt1E",
        "outputId": "fba863c3-17a3-4ef9-e6fc-2d90d4a9b791"
      },
      "source": [
        "mean_auc_5000, std_auc_5000,auc_train_5000,auc_test_5000 = sample(N=5000)"
      ],
      "execution_count": 40,
      "outputs": [
        {
          "output_type": "stream",
          "name": "stdout",
          "text": [
            "------------N = 5000--------------------\n",
            "sample = 0\n",
            "Test AUC = 0.5794947205898395\n",
            "------------------------------------\n",
            "sample = 1\n",
            "Test AUC = 0.5796255380802805\n",
            "------------------------------------\n",
            "sample = 2\n",
            "Test AUC = 0.5977325192086619\n",
            "------------------------------------\n",
            "sample = 3\n",
            "Test AUC = 0.5869738672693352\n",
            "------------------------------------\n",
            "sample = 4\n",
            "Test AUC = 0.5810834664257484\n",
            "------------------------------------\n",
            "sample = 5\n",
            "Test AUC = 0.5769199179908312\n",
            "------------------------------------\n",
            "sample = 6\n",
            "Test AUC = 0.5878513653743416\n",
            "------------------------------------\n",
            "sample = 7\n",
            "Test AUC = 0.5860714363631787\n",
            "------------------------------------\n",
            "sample = 8\n",
            "Test AUC = 0.5897327429717416\n",
            "------------------------------------\n",
            "sample = 9\n",
            "Test AUC = 0.5939766782930234\n",
            "------------------------------------\n",
            "Mean auc for 5000 samples is 0.5859462252566983\n",
            "Mean std for 5000 samples is 0.006396\n"
          ]
        }
      ]
    },
    {
      "cell_type": "markdown",
      "metadata": {
        "id": "qsGybjToghO4"
      },
      "source": [
        "# N = 10000"
      ]
    },
    {
      "cell_type": "code",
      "metadata": {
        "colab": {
          "base_uri": "https://localhost:8080/"
        },
        "id": "_-c-hlkOaArS",
        "outputId": "ff7e839f-dd20-40c9-d72c-4f4f00d923db"
      },
      "source": [
        "mean_auc_10000, std_auc_10000,auc_train_10000,auc_test_10000 = sample(N=10000)"
      ],
      "execution_count": 41,
      "outputs": [
        {
          "output_type": "stream",
          "name": "stdout",
          "text": [
            "------------N = 10000--------------------\n",
            "sample = 0\n",
            "Test AUC = 0.6026120927162322\n",
            "------------------------------------\n",
            "sample = 1\n",
            "Test AUC = 0.5978419505427653\n",
            "------------------------------------\n",
            "sample = 2\n",
            "Test AUC = 0.5940388844291662\n",
            "------------------------------------\n",
            "sample = 3\n",
            "Test AUC = 0.5923357620950938\n",
            "------------------------------------\n",
            "sample = 4\n",
            "Test AUC = 0.5968611969646539\n",
            "------------------------------------\n",
            "sample = 5\n",
            "Test AUC = 0.595353923266046\n",
            "------------------------------------\n",
            "sample = 6\n",
            "Test AUC = 0.6017778647967532\n",
            "------------------------------------\n",
            "sample = 7\n",
            "Test AUC = 0.597887654151784\n",
            "------------------------------------\n",
            "sample = 8\n",
            "Test AUC = 0.5991287896375317\n",
            "------------------------------------\n",
            "sample = 9\n",
            "Test AUC = 0.5870082149020617\n",
            "------------------------------------\n",
            "Mean auc for 10000 samples is 0.5964846333502087\n",
            "Mean std for 10000 samples is 0.004368\n"
          ]
        }
      ]
    },
    {
      "cell_type": "markdown",
      "source": [
        "#N = 25000"
      ],
      "metadata": {
        "id": "ct43XMPsY3qi"
      }
    },
    {
      "cell_type": "code",
      "source": [
        "mean_auc_25000, std_auc_25000,auc_train_25000,auc_test_25000 = sample(N=25000)"
      ],
      "metadata": {
        "colab": {
          "base_uri": "https://localhost:8080/"
        },
        "id": "b3cNiBK3Y258",
        "outputId": "85983247-ea56-473b-8258-1dad53834ea8"
      },
      "execution_count": 42,
      "outputs": [
        {
          "output_type": "stream",
          "name": "stdout",
          "text": [
            "------------N = 25000--------------------\n",
            "sample = 0\n",
            "Test AUC = 0.6123694720030431\n",
            "------------------------------------\n",
            "sample = 1\n",
            "Test AUC = 0.6188223349117954\n",
            "------------------------------------\n",
            "sample = 2\n",
            "Test AUC = 0.6176543587649397\n",
            "------------------------------------\n",
            "sample = 3\n",
            "Test AUC = 0.6205606495842202\n",
            "------------------------------------\n",
            "sample = 4\n",
            "Test AUC = 0.6149581255366818\n",
            "------------------------------------\n",
            "sample = 5\n",
            "Test AUC = 0.6198276408938216\n",
            "------------------------------------\n",
            "sample = 6\n",
            "Test AUC = 0.6194608092951184\n",
            "------------------------------------\n",
            "sample = 7\n",
            "Test AUC = 0.6176255101098956\n",
            "------------------------------------\n",
            "sample = 8\n",
            "Test AUC = 0.6159670229161364\n",
            "------------------------------------\n",
            "sample = 9\n",
            "Test AUC = 0.6164510224574221\n",
            "------------------------------------\n",
            "Mean auc for 25000 samples is 0.6173696946473074\n",
            "Mean std for 25000 samples is 0.002377\n"
          ]
        }
      ]
    },
    {
      "cell_type": "markdown",
      "source": [
        "#N = 50000"
      ],
      "metadata": {
        "id": "QwQfTsfIZIeR"
      }
    },
    {
      "cell_type": "code",
      "source": [
        "mean_auc_50000, std_auc_50000,auc_train_50000,auc_test_50000 = sample(N=50000)"
      ],
      "metadata": {
        "colab": {
          "base_uri": "https://localhost:8080/"
        },
        "id": "9Z3EZasbZH5m",
        "outputId": "0d94a5ed-664a-4300-a342-3ca2dbddbbd5"
      },
      "execution_count": 43,
      "outputs": [
        {
          "output_type": "stream",
          "name": "stdout",
          "text": [
            "------------N = 50000--------------------\n",
            "sample = 0\n",
            "Test AUC = 0.6303239529985651\n",
            "------------------------------------\n",
            "sample = 1\n",
            "Test AUC = 0.6288891785377643\n",
            "------------------------------------\n",
            "sample = 2\n",
            "Test AUC = 0.6322531319838556\n",
            "------------------------------------\n",
            "sample = 3\n",
            "Test AUC = 0.6285454952296509\n",
            "------------------------------------\n",
            "sample = 4\n",
            "Test AUC = 0.6230005174521216\n",
            "------------------------------------\n",
            "sample = 5\n",
            "Test AUC = 0.6236664923179338\n",
            "------------------------------------\n",
            "sample = 6\n",
            "Test AUC = 0.6290845964293006\n",
            "------------------------------------\n",
            "sample = 7\n",
            "Test AUC = 0.6336445411598202\n",
            "------------------------------------\n",
            "sample = 8\n",
            "Test AUC = 0.633551444530531\n",
            "------------------------------------\n",
            "sample = 9\n",
            "Test AUC = 0.6187996733059037\n",
            "------------------------------------\n",
            "Mean auc for 50000 samples is 0.6281759023945447\n",
            "Mean std for 50000 samples is 0.004653\n"
          ]
        }
      ]
    },
    {
      "cell_type": "markdown",
      "source": [
        "# N = 100000"
      ],
      "metadata": {
        "id": "xQooNkJjZgg6"
      }
    },
    {
      "cell_type": "code",
      "source": [
        "mean_auc_100000, std_auc_100000,auc_train_100000,auc_test_100000 = sample(N=100000)"
      ],
      "metadata": {
        "colab": {
          "base_uri": "https://localhost:8080/"
        },
        "id": "f2zBxv-oZWTm",
        "outputId": "d070319b-a7f3-4917-e2d1-f8a7614def6f"
      },
      "execution_count": 44,
      "outputs": [
        {
          "output_type": "stream",
          "name": "stdout",
          "text": [
            "------------N = 100000--------------------\n",
            "sample = 0\n",
            "Test AUC = 0.6287819904285342\n",
            "------------------------------------\n",
            "sample = 1\n",
            "Test AUC = 0.6389176859541118\n",
            "------------------------------------\n",
            "sample = 2\n",
            "Test AUC = 0.6339163461726722\n",
            "------------------------------------\n",
            "sample = 3\n",
            "Test AUC = 0.6387981796873471\n",
            "------------------------------------\n",
            "sample = 4\n",
            "Test AUC = 0.6376280721971577\n",
            "------------------------------------\n",
            "sample = 5\n",
            "Test AUC = 0.6340695064066166\n",
            "------------------------------------\n",
            "sample = 6\n",
            "Test AUC = 0.6399000226560119\n",
            "------------------------------------\n",
            "sample = 7\n",
            "Test AUC = 0.6374234632371245\n",
            "------------------------------------\n",
            "sample = 8\n",
            "Test AUC = 0.6412977475448994\n",
            "------------------------------------\n",
            "sample = 9\n",
            "Test AUC = 0.634021201551797\n",
            "------------------------------------\n",
            "Mean auc for 100000 samples is 0.6364754215836272\n",
            "Mean std for 100000 samples is 0.003551\n"
          ]
        }
      ]
    },
    {
      "cell_type": "markdown",
      "metadata": {
        "id": "5N4-C3KlgtFg"
      },
      "source": [
        "4. Build a table that contains the values of:\n",
        "\n",
        "Sample size N\n",
        "\n",
        "Test AUC mean\n",
        "\n",
        "Test AUC standard deviation"
      ]
    },
    {
      "cell_type": "markdown",
      "metadata": {
        "id": "u706vDkAbQCL"
      },
      "source": [
        "# Summary Table"
      ]
    },
    {
      "cell_type": "markdown",
      "metadata": {
        "id": "ieL3cTebaQdb"
      },
      "source": [
        "| Sample size | Test AUC-Mean | Test AUC-STD |\n",
        "| --- | --- | --- |\n",
        "|50|0.53|0.019|\n",
        "| 100 | 0.52 | 0.020 |\n",
        "| 500 |0.542 | 0.007 |\n",
        "| 1000 |0.547 | 0.006 |\n",
        "| 2000 | 0.56 | 0.0073 |\n",
        "| 5000 | 0.585| 0.0063 |\n",
        "| 10000 | 0.596 | 0.0043|\n",
        "|25000|0.617|0.0023|\n",
        "|50000|0.62|0.004|\n",
        "|100000|0.63|0.0035|"
      ]
    },
    {
      "cell_type": "code",
      "metadata": {
        "id": "WQNWuIejcfx3"
      },
      "source": [
        "samples = [50,100,500,1000,2000,5000,10000,25000,50000,1000000]\n",
        "mean_auc_ = [mean_auc_50,mean_auc_100,mean_auc_500,mean_auc_1000,mean_auc_2000,mean_auc_5000,mean_auc_10000,mean_auc_25000,mean_auc_50000,mean_auc_100000]\n",
        "std_auc_ = [std_auc_50,std_auc_100,std_auc_500,std_auc_1000,std_auc_2000,std_auc_5000,std_auc_10000,std_auc_25000,std_auc_50000,std_auc_100000]\n",
        "table = {'Sample_size   ': samples,\n",
        "         'Test_AUC_mean  ': mean_auc_,\n",
        "          'Test_AUC_STD ':  std_auc_}\n",
        "table = pd.DataFrame(table)\n"
      ],
      "execution_count": 50,
      "outputs": []
    },
    {
      "cell_type": "code",
      "source": [
        "table"
      ],
      "metadata": {
        "colab": {
          "base_uri": "https://localhost:8080/",
          "height": 363
        },
        "id": "YJ_IJhz0Ifuo",
        "outputId": "193c2f4e-437b-47ca-a0ab-758b16a7ebb5"
      },
      "execution_count": 51,
      "outputs": [
        {
          "output_type": "execute_result",
          "data": {
            "text/html": [
              "<div>\n",
              "<style scoped>\n",
              "    .dataframe tbody tr th:only-of-type {\n",
              "        vertical-align: middle;\n",
              "    }\n",
              "\n",
              "    .dataframe tbody tr th {\n",
              "        vertical-align: top;\n",
              "    }\n",
              "\n",
              "    .dataframe thead th {\n",
              "        text-align: right;\n",
              "    }\n",
              "</style>\n",
              "<table border=\"1\" class=\"dataframe\">\n",
              "  <thead>\n",
              "    <tr style=\"text-align: right;\">\n",
              "      <th></th>\n",
              "      <th>Sample_size</th>\n",
              "      <th>Test_AUC_mean</th>\n",
              "      <th>Test_AUC_STD</th>\n",
              "    </tr>\n",
              "  </thead>\n",
              "  <tbody>\n",
              "    <tr>\n",
              "      <th>0</th>\n",
              "      <td>50</td>\n",
              "      <td>0.530159</td>\n",
              "      <td>0.019074</td>\n",
              "    </tr>\n",
              "    <tr>\n",
              "      <th>1</th>\n",
              "      <td>100</td>\n",
              "      <td>0.521462</td>\n",
              "      <td>0.020277</td>\n",
              "    </tr>\n",
              "    <tr>\n",
              "      <th>2</th>\n",
              "      <td>500</td>\n",
              "      <td>0.542916</td>\n",
              "      <td>0.007332</td>\n",
              "    </tr>\n",
              "    <tr>\n",
              "      <th>3</th>\n",
              "      <td>1000</td>\n",
              "      <td>0.547772</td>\n",
              "      <td>0.006216</td>\n",
              "    </tr>\n",
              "    <tr>\n",
              "      <th>4</th>\n",
              "      <td>2000</td>\n",
              "      <td>0.565606</td>\n",
              "      <td>0.007552</td>\n",
              "    </tr>\n",
              "    <tr>\n",
              "      <th>5</th>\n",
              "      <td>5000</td>\n",
              "      <td>0.585946</td>\n",
              "      <td>0.006396</td>\n",
              "    </tr>\n",
              "    <tr>\n",
              "      <th>6</th>\n",
              "      <td>10000</td>\n",
              "      <td>0.596485</td>\n",
              "      <td>0.004368</td>\n",
              "    </tr>\n",
              "    <tr>\n",
              "      <th>7</th>\n",
              "      <td>25000</td>\n",
              "      <td>0.617370</td>\n",
              "      <td>0.002377</td>\n",
              "    </tr>\n",
              "    <tr>\n",
              "      <th>8</th>\n",
              "      <td>50000</td>\n",
              "      <td>0.628176</td>\n",
              "      <td>0.004653</td>\n",
              "    </tr>\n",
              "    <tr>\n",
              "      <th>9</th>\n",
              "      <td>1000000</td>\n",
              "      <td>0.636475</td>\n",
              "      <td>0.003551</td>\n",
              "    </tr>\n",
              "  </tbody>\n",
              "</table>\n",
              "</div>"
            ],
            "text/plain": [
              "   Sample_size     Test_AUC_mean    Test_AUC_STD \n",
              "0              50         0.530159       0.019074\n",
              "1             100         0.521462       0.020277\n",
              "2             500         0.542916       0.007332\n",
              "3            1000         0.547772       0.006216\n",
              "4            2000         0.565606       0.007552\n",
              "5            5000         0.585946       0.006396\n",
              "6           10000         0.596485       0.004368\n",
              "7           25000         0.617370       0.002377\n",
              "8           50000         0.628176       0.004653\n",
              "9         1000000         0.636475       0.003551"
            ]
          },
          "metadata": {},
          "execution_count": 51
        }
      ]
    },
    {
      "cell_type": "markdown",
      "metadata": {
        "id": "zdjy5zzHg7zZ"
      },
      "source": [
        "5. Using the matplotlib function errorbar, plot the model performance captured in the\n",
        "test AUC mean and standard deviation as a function of the sample size. From this\n",
        "plot, can you estimate what is the minimum number of samples needed to model the\n",
        "behaviour adequately?"
      ]
    },
    {
      "cell_type": "code",
      "metadata": {
        "colab": {
          "base_uri": "https://localhost:8080/",
          "height": 414
        },
        "id": "5orbCLg2aP98",
        "outputId": "3313ecb0-6255-4830-a05c-34e144fa80a3"
      },
      "source": [
        "fig = plt.figure(figsize=(10,6))\n",
        "plt.errorbar(samples, mean_auc_, yerr=std_auc_)\n",
        "plt.xscale('log')\n",
        "plt.ylim((0,1))\n",
        "plt.xlabel('Sample size', fontsize=14)\n",
        "plt.ylabel('Test AUC', fontsize=14)\n",
        "plt.title('Model performance of AUC', fontsize=16)\n",
        "plt.grid()\n",
        "plt.show()"
      ],
      "execution_count": 47,
      "outputs": [
        {
          "output_type": "display_data",
          "data": {
            "image/png": "[encoded data removed]",
            "text/plain": [
              "<Figure size 720x432 with 1 Axes>"
            ]
          },
          "metadata": {
            "needs_background": "light"
          }
        }
      ]
    },
    {
      "cell_type": "markdown",
      "source": [
        "From the plot we can observe that the model performance improves slightly until a certain point in the graph (about 55000) samples. After this point, the perfromance of the model remains constant. Thus, we can say that the minimum number of samples required for the model to perform well is about 50000 where the auc is about 0.63. It is important to note that if we give more samples than required to our model it may lead to overfitting."
      ],
      "metadata": {
        "id": "orsX6uSGcPOF"
      }
    }
  ]
}
