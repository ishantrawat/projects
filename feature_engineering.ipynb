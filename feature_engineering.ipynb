{
  "nbformat": 4,
  "nbformat_minor": 0,
  "metadata": {
    "colab": {
      "name": "asnmt03_rawat_ishant.ipynb",
      "provenance": [],
      "collapsed_sections": []
    },
    "kernelspec": {
      "name": "python3",
      "display_name": "Python 3"
    },
    "language_info": {
      "name": "python"
    }
  },
  "cells": [
    {
      "cell_type": "code",
      "metadata": {
        "id": "GeGwC4ZDNXXG"
      },
      "source": [
        "import pandas as pd\n",
        "import numpy as np\n",
        "import matplotlib.pyplot as plt\n",
        "import seaborn as sns\n",
        "from pandas.tseries.offsets import Day\n",
        "from collections import Counter, OrderedDict\n",
        "import operator "
      ],
      "execution_count": 1,
      "outputs": []
    },
    {
      "cell_type": "code",
      "metadata": {
        "id": "APiDobzZNmp7"
      },
      "source": [
        "txn = pd.read_csv('/content/Retail_Data_Transactions.csv')"
      ],
      "execution_count": 2,
      "outputs": []
    },
    {
      "cell_type": "code",
      "metadata": {
        "colab": {
          "base_uri": "https://localhost:8080/",
          "height": 204
        },
        "id": "busi-iQZN6fe",
        "outputId": "74dc3bb2-203a-4126-c2ef-40664f5704ce"
      },
      "source": [
        "txn.head()"
      ],
      "execution_count": 3,
      "outputs": [
        {
          "output_type": "execute_result",
          "data": {
            "text/html": [
              "<div>\n",
              "<style scoped>\n",
              "    .dataframe tbody tr th:only-of-type {\n",
              "        vertical-align: middle;\n",
              "    }\n",
              "\n",
              "    .dataframe tbody tr th {\n",
              "        vertical-align: top;\n",
              "    }\n",
              "\n",
              "    .dataframe thead th {\n",
              "        text-align: right;\n",
              "    }\n",
              "</style>\n",
              "<table border=\"1\" class=\"dataframe\">\n",
              "  <thead>\n",
              "    <tr style=\"text-align: right;\">\n",
              "      <th></th>\n",
              "      <th>customer_id</th>\n",
              "      <th>trans_date</th>\n",
              "      <th>tran_amount</th>\n",
              "    </tr>\n",
              "  </thead>\n",
              "  <tbody>\n",
              "    <tr>\n",
              "      <th>0</th>\n",
              "      <td>CS5295</td>\n",
              "      <td>11-Feb-13</td>\n",
              "      <td>35</td>\n",
              "    </tr>\n",
              "    <tr>\n",
              "      <th>1</th>\n",
              "      <td>CS4768</td>\n",
              "      <td>15-Mar-15</td>\n",
              "      <td>39</td>\n",
              "    </tr>\n",
              "    <tr>\n",
              "      <th>2</th>\n",
              "      <td>CS2122</td>\n",
              "      <td>26-Feb-13</td>\n",
              "      <td>52</td>\n",
              "    </tr>\n",
              "    <tr>\n",
              "      <th>3</th>\n",
              "      <td>CS1217</td>\n",
              "      <td>16-Nov-11</td>\n",
              "      <td>99</td>\n",
              "    </tr>\n",
              "    <tr>\n",
              "      <th>4</th>\n",
              "      <td>CS1850</td>\n",
              "      <td>20-Nov-13</td>\n",
              "      <td>78</td>\n",
              "    </tr>\n",
              "  </tbody>\n",
              "</table>\n",
              "</div>"
            ],
            "text/plain": [
              "  customer_id trans_date  tran_amount\n",
              "0      CS5295  11-Feb-13           35\n",
              "1      CS4768  15-Mar-15           39\n",
              "2      CS2122  26-Feb-13           52\n",
              "3      CS1217  16-Nov-11           99\n",
              "4      CS1850  20-Nov-13           78"
            ]
          },
          "metadata": {},
          "execution_count": 3
        }
      ]
    },
    {
      "cell_type": "markdown",
      "metadata": {
        "id": "9Gx3DMG73v03"
      },
      "source": [
        "1.  Import the dataset as txn  and identify the number of rows"
      ]
    },
    {
      "cell_type": "code",
      "metadata": {
        "colab": {
          "base_uri": "https://localhost:8080/"
        },
        "id": "MzBCvrekN8Sa",
        "outputId": "58f3fc63-0b38-418e-b0a0-f3e25d68a167"
      },
      "source": [
        "print(' The number of rows are: {}' .format(txn.shape[0]))"
      ],
      "execution_count": 4,
      "outputs": [
        {
          "output_type": "stream",
          "name": "stdout",
          "text": [
            " The number of rows are: 125000\n"
          ]
        }
      ]
    },
    {
      "cell_type": "markdown",
      "metadata": {
        "id": "KAjd6X-I37qj"
      },
      "source": [
        "2.  The date-format in column ’trans_date’ is not standard. Create a new column ’txn_date’from ’trans_date’ with pd.todatetime and drop the column ’trans_date’."
      ]
    },
    {
      "cell_type": "code",
      "metadata": {
        "id": "En1QwyWWPEkp"
      },
      "source": [
        "txn['trans_date'] = pd.to_datetime(txn['trans_date'])\n",
        "txn.rename(columns={\"trans_date\":\"txn_date\"},inplace=True)"
      ],
      "execution_count": 5,
      "outputs": []
    },
    {
      "cell_type": "code",
      "metadata": {
        "colab": {
          "base_uri": "https://localhost:8080/",
          "height": 204
        },
        "id": "3O-1p2ziPw06",
        "outputId": "69a2a818-7f72-427d-f44b-e43161db8025"
      },
      "source": [
        "txn.head()"
      ],
      "execution_count": 6,
      "outputs": [
        {
          "output_type": "execute_result",
          "data": {
            "text/html": [
              "<div>\n",
              "<style scoped>\n",
              "    .dataframe tbody tr th:only-of-type {\n",
              "        vertical-align: middle;\n",
              "    }\n",
              "\n",
              "    .dataframe tbody tr th {\n",
              "        vertical-align: top;\n",
              "    }\n",
              "\n",
              "    .dataframe thead th {\n",
              "        text-align: right;\n",
              "    }\n",
              "</style>\n",
              "<table border=\"1\" class=\"dataframe\">\n",
              "  <thead>\n",
              "    <tr style=\"text-align: right;\">\n",
              "      <th></th>\n",
              "      <th>customer_id</th>\n",
              "      <th>txn_date</th>\n",
              "      <th>tran_amount</th>\n",
              "    </tr>\n",
              "  </thead>\n",
              "  <tbody>\n",
              "    <tr>\n",
              "      <th>0</th>\n",
              "      <td>CS5295</td>\n",
              "      <td>2013-02-11</td>\n",
              "      <td>35</td>\n",
              "    </tr>\n",
              "    <tr>\n",
              "      <th>1</th>\n",
              "      <td>CS4768</td>\n",
              "      <td>2015-03-15</td>\n",
              "      <td>39</td>\n",
              "    </tr>\n",
              "    <tr>\n",
              "      <th>2</th>\n",
              "      <td>CS2122</td>\n",
              "      <td>2013-02-26</td>\n",
              "      <td>52</td>\n",
              "    </tr>\n",
              "    <tr>\n",
              "      <th>3</th>\n",
              "      <td>CS1217</td>\n",
              "      <td>2011-11-16</td>\n",
              "      <td>99</td>\n",
              "    </tr>\n",
              "    <tr>\n",
              "      <th>4</th>\n",
              "      <td>CS1850</td>\n",
              "      <td>2013-11-20</td>\n",
              "      <td>78</td>\n",
              "    </tr>\n",
              "  </tbody>\n",
              "</table>\n",
              "</div>"
            ],
            "text/plain": [
              "  customer_id   txn_date  tran_amount\n",
              "0      CS5295 2013-02-11           35\n",
              "1      CS4768 2015-03-15           39\n",
              "2      CS2122 2013-02-26           52\n",
              "3      CS1217 2011-11-16           99\n",
              "4      CS1850 2013-11-20           78"
            ]
          },
          "metadata": {},
          "execution_count": 6
        }
      ]
    },
    {
      "cell_type": "markdown",
      "metadata": {
        "id": "83CwgnZERAnv"
      },
      "source": [
        "3.  Identify the min() and max() of column ’txndate’."
      ]
    },
    {
      "cell_type": "code",
      "metadata": {
        "colab": {
          "base_uri": "https://localhost:8080/"
        },
        "id": "dpyBbPOFP0y0",
        "outputId": "f8736a0d-6248-413f-bee9-49a92a55b877"
      },
      "source": [
        "print('Min of column txn_date {}'.format(txn['txn_date'].min()))\n",
        "print('Max of column txn_date {}'.format(txn['txn_date'].max()))"
      ],
      "execution_count": 7,
      "outputs": [
        {
          "output_type": "stream",
          "name": "stdout",
          "text": [
            "Min of column txn_date 2011-05-16 00:00:00\n",
            "Max of column txn_date 2015-03-16 00:00:00\n"
          ]
        }
      ]
    },
    {
      "cell_type": "markdown",
      "metadata": {
        "id": "h6w1kPRCRF8L"
      },
      "source": [
        "4.  Create  the  column  ’ME_DT’:  the  last  day  of  the  month  in  the  ’transdate’  column.DateOffset objects is a simple way to do this in pandas."
      ]
    },
    {
      "cell_type": "code",
      "metadata": {
        "id": "4XlxBzW1P_X9"
      },
      "source": [
        "txn['ME_DT'] = txn['txn_date'] + pd.offsets.MonthEnd(n=0)"
      ],
      "execution_count": 8,
      "outputs": []
    },
    {
      "cell_type": "code",
      "metadata": {
        "colab": {
          "base_uri": "https://localhost:8080/",
          "height": 204
        },
        "id": "x8zqQPw30caM",
        "outputId": "494ef702-fcd6-40d4-850b-16c94f14615d"
      },
      "source": [
        "txn.iloc[55:60,:]"
      ],
      "execution_count": 9,
      "outputs": [
        {
          "output_type": "execute_result",
          "data": {
            "text/html": [
              "<div>\n",
              "<style scoped>\n",
              "    .dataframe tbody tr th:only-of-type {\n",
              "        vertical-align: middle;\n",
              "    }\n",
              "\n",
              "    .dataframe tbody tr th {\n",
              "        vertical-align: top;\n",
              "    }\n",
              "\n",
              "    .dataframe thead th {\n",
              "        text-align: right;\n",
              "    }\n",
              "</style>\n",
              "<table border=\"1\" class=\"dataframe\">\n",
              "  <thead>\n",
              "    <tr style=\"text-align: right;\">\n",
              "      <th></th>\n",
              "      <th>customer_id</th>\n",
              "      <th>txn_date</th>\n",
              "      <th>tran_amount</th>\n",
              "      <th>ME_DT</th>\n",
              "    </tr>\n",
              "  </thead>\n",
              "  <tbody>\n",
              "    <tr>\n",
              "      <th>55</th>\n",
              "      <td>CS2662</td>\n",
              "      <td>2014-08-31</td>\n",
              "      <td>88</td>\n",
              "      <td>2014-08-31</td>\n",
              "    </tr>\n",
              "    <tr>\n",
              "      <th>56</th>\n",
              "      <td>CS2209</td>\n",
              "      <td>2012-03-12</td>\n",
              "      <td>35</td>\n",
              "      <td>2012-03-31</td>\n",
              "    </tr>\n",
              "    <tr>\n",
              "      <th>57</th>\n",
              "      <td>CS4530</td>\n",
              "      <td>2011-06-05</td>\n",
              "      <td>40</td>\n",
              "      <td>2011-06-30</td>\n",
              "    </tr>\n",
              "    <tr>\n",
              "      <th>58</th>\n",
              "      <td>CS2848</td>\n",
              "      <td>2013-02-04</td>\n",
              "      <td>53</td>\n",
              "      <td>2013-02-28</td>\n",
              "    </tr>\n",
              "    <tr>\n",
              "      <th>59</th>\n",
              "      <td>CS2596</td>\n",
              "      <td>2011-09-19</td>\n",
              "      <td>55</td>\n",
              "      <td>2011-09-30</td>\n",
              "    </tr>\n",
              "  </tbody>\n",
              "</table>\n",
              "</div>"
            ],
            "text/plain": [
              "   customer_id   txn_date  tran_amount      ME_DT\n",
              "55      CS2662 2014-08-31           88 2014-08-31\n",
              "56      CS2209 2012-03-12           35 2012-03-31\n",
              "57      CS4530 2011-06-05           40 2011-06-30\n",
              "58      CS2848 2013-02-04           53 2013-02-28\n",
              "59      CS2596 2011-09-19           55 2011-09-30"
            ]
          },
          "metadata": {},
          "execution_count": 9
        }
      ]
    },
    {
      "cell_type": "markdown",
      "metadata": {
        "id": "nwVRyGiDRMMH"
      },
      "source": [
        "5.  Create the column ’YEAR’: the year in the ’transdate’ column.  DatetimeIndex withattribute .year will help you do so."
      ]
    },
    {
      "cell_type": "code",
      "metadata": {
        "id": "WcGrGh3u0fBQ"
      },
      "source": [
        "txn['YEAR'] = txn['txn_date'].dt.year"
      ],
      "execution_count": 10,
      "outputs": []
    },
    {
      "cell_type": "code",
      "metadata": {
        "colab": {
          "base_uri": "https://localhost:8080/",
          "height": 204
        },
        "id": "mwoGoYaP2JAE",
        "outputId": "0a6b307b-6d34-4b71-d2b1-9c4a584b9b23"
      },
      "source": [
        "txn.head()"
      ],
      "execution_count": 11,
      "outputs": [
        {
          "output_type": "execute_result",
          "data": {
            "text/html": [
              "<div>\n",
              "<style scoped>\n",
              "    .dataframe tbody tr th:only-of-type {\n",
              "        vertical-align: middle;\n",
              "    }\n",
              "\n",
              "    .dataframe tbody tr th {\n",
              "        vertical-align: top;\n",
              "    }\n",
              "\n",
              "    .dataframe thead th {\n",
              "        text-align: right;\n",
              "    }\n",
              "</style>\n",
              "<table border=\"1\" class=\"dataframe\">\n",
              "  <thead>\n",
              "    <tr style=\"text-align: right;\">\n",
              "      <th></th>\n",
              "      <th>customer_id</th>\n",
              "      <th>txn_date</th>\n",
              "      <th>tran_amount</th>\n",
              "      <th>ME_DT</th>\n",
              "      <th>YEAR</th>\n",
              "    </tr>\n",
              "  </thead>\n",
              "  <tbody>\n",
              "    <tr>\n",
              "      <th>0</th>\n",
              "      <td>CS5295</td>\n",
              "      <td>2013-02-11</td>\n",
              "      <td>35</td>\n",
              "      <td>2013-02-28</td>\n",
              "      <td>2013</td>\n",
              "    </tr>\n",
              "    <tr>\n",
              "      <th>1</th>\n",
              "      <td>CS4768</td>\n",
              "      <td>2015-03-15</td>\n",
              "      <td>39</td>\n",
              "      <td>2015-03-31</td>\n",
              "      <td>2015</td>\n",
              "    </tr>\n",
              "    <tr>\n",
              "      <th>2</th>\n",
              "      <td>CS2122</td>\n",
              "      <td>2013-02-26</td>\n",
              "      <td>52</td>\n",
              "      <td>2013-02-28</td>\n",
              "      <td>2013</td>\n",
              "    </tr>\n",
              "    <tr>\n",
              "      <th>3</th>\n",
              "      <td>CS1217</td>\n",
              "      <td>2011-11-16</td>\n",
              "      <td>99</td>\n",
              "      <td>2011-11-30</td>\n",
              "      <td>2011</td>\n",
              "    </tr>\n",
              "    <tr>\n",
              "      <th>4</th>\n",
              "      <td>CS1850</td>\n",
              "      <td>2013-11-20</td>\n",
              "      <td>78</td>\n",
              "      <td>2013-11-30</td>\n",
              "      <td>2013</td>\n",
              "    </tr>\n",
              "  </tbody>\n",
              "</table>\n",
              "</div>"
            ],
            "text/plain": [
              "  customer_id   txn_date  tran_amount      ME_DT  YEAR\n",
              "0      CS5295 2013-02-11           35 2013-02-28  2013\n",
              "1      CS4768 2015-03-15           39 2015-03-31  2015\n",
              "2      CS2122 2013-02-26           52 2013-02-28  2013\n",
              "3      CS1217 2011-11-16           99 2011-11-30  2011\n",
              "4      CS1850 2013-11-20           78 2013-11-30  2013"
            ]
          },
          "metadata": {},
          "execution_count": 11
        }
      ]
    },
    {
      "cell_type": "markdown",
      "metadata": {
        "id": "oRFuV1zNRQKn"
      },
      "source": [
        "#1.2  Create features that capture annual spending"
      ]
    },
    {
      "cell_type": "markdown",
      "metadata": {
        "id": "CTLcIHb7RT8X"
      },
      "source": [
        "1.  Using groupby and NamedAgg createclntannualaggregations, the annual aggre-gations dataframe:  with sum, mean, std, var, sem, max, min, count as the aggregationfunctions.  A snapshot of the output table is shown below.  Notice that the output is atypical MultiIndex pandas dataframe."
      ]
    },
    {
      "cell_type": "code",
      "metadata": {
        "id": "CkEqmInDGnHN"
      },
      "source": [
        "clnt_annual_aggregations = txn.groupby(by=['customer_id','YEAR'])\\\n",
        "                            .agg(ann_txn_amt_sum = ('tran_amount','sum'),\\\n",
        "                            ann_txn_amt_mean=('tran_amount','mean'),\\\n",
        "                            ann_txn_amt_std = ('tran_amount','std'),\\\n",
        "                            ann_txn_amt_var = ('tran_amount','var'),\\\n",
        "                            ann_txn_amt_sem = ('tran_amount','sem'),\\\n",
        "                            ann_txn_amt_max = ('tran_amount','max'),\\\n",
        "                            ann_txn_amt_min = ('tran_amount','min'),\\\n",
        "                            ann_txn_amt_cnt = ('tran_amount','count'))\n"
      ],
      "execution_count": 12,
      "outputs": []
    },
    {
      "cell_type": "code",
      "metadata": {
        "colab": {
          "base_uri": "https://localhost:8080/",
          "height": 235
        },
        "id": "E_g9B5eSIwFn",
        "outputId": "d17cc428-7ecb-49ce-e467-b2aaeb90cdb3"
      },
      "source": [
        "clnt_annual_aggregations.head()\n"
      ],
      "execution_count": 13,
      "outputs": [
        {
          "output_type": "execute_result",
          "data": {
            "text/html": [
              "<div>\n",
              "<style scoped>\n",
              "    .dataframe tbody tr th:only-of-type {\n",
              "        vertical-align: middle;\n",
              "    }\n",
              "\n",
              "    .dataframe tbody tr th {\n",
              "        vertical-align: top;\n",
              "    }\n",
              "\n",
              "    .dataframe thead th {\n",
              "        text-align: right;\n",
              "    }\n",
              "</style>\n",
              "<table border=\"1\" class=\"dataframe\">\n",
              "  <thead>\n",
              "    <tr style=\"text-align: right;\">\n",
              "      <th></th>\n",
              "      <th></th>\n",
              "      <th>ann_txn_amt_sum</th>\n",
              "      <th>ann_txn_amt_mean</th>\n",
              "      <th>ann_txn_amt_std</th>\n",
              "      <th>ann_txn_amt_var</th>\n",
              "      <th>ann_txn_amt_sem</th>\n",
              "      <th>ann_txn_amt_max</th>\n",
              "      <th>ann_txn_amt_min</th>\n",
              "      <th>ann_txn_amt_cnt</th>\n",
              "    </tr>\n",
              "    <tr>\n",
              "      <th>customer_id</th>\n",
              "      <th>YEAR</th>\n",
              "      <th></th>\n",
              "      <th></th>\n",
              "      <th></th>\n",
              "      <th></th>\n",
              "      <th></th>\n",
              "      <th></th>\n",
              "      <th></th>\n",
              "      <th></th>\n",
              "    </tr>\n",
              "  </thead>\n",
              "  <tbody>\n",
              "    <tr>\n",
              "      <th rowspan=\"5\" valign=\"top\">CS1112</th>\n",
              "      <th>2011</th>\n",
              "      <td>212</td>\n",
              "      <td>70.666667</td>\n",
              "      <td>22.030282</td>\n",
              "      <td>485.333333</td>\n",
              "      <td>12.719189</td>\n",
              "      <td>96</td>\n",
              "      <td>56</td>\n",
              "      <td>3</td>\n",
              "    </tr>\n",
              "    <tr>\n",
              "      <th>2012</th>\n",
              "      <td>337</td>\n",
              "      <td>67.400000</td>\n",
              "      <td>12.720063</td>\n",
              "      <td>161.800000</td>\n",
              "      <td>5.688585</td>\n",
              "      <td>81</td>\n",
              "      <td>52</td>\n",
              "      <td>5</td>\n",
              "    </tr>\n",
              "    <tr>\n",
              "      <th>2013</th>\n",
              "      <td>212</td>\n",
              "      <td>70.666667</td>\n",
              "      <td>34.501208</td>\n",
              "      <td>1190.333333</td>\n",
              "      <td>19.919282</td>\n",
              "      <td>105</td>\n",
              "      <td>36</td>\n",
              "      <td>3</td>\n",
              "    </tr>\n",
              "    <tr>\n",
              "      <th>2014</th>\n",
              "      <td>212</td>\n",
              "      <td>70.666667</td>\n",
              "      <td>16.862186</td>\n",
              "      <td>284.333333</td>\n",
              "      <td>9.735388</td>\n",
              "      <td>90</td>\n",
              "      <td>59</td>\n",
              "      <td>3</td>\n",
              "    </tr>\n",
              "    <tr>\n",
              "      <th>2015</th>\n",
              "      <td>39</td>\n",
              "      <td>39.000000</td>\n",
              "      <td>NaN</td>\n",
              "      <td>NaN</td>\n",
              "      <td>NaN</td>\n",
              "      <td>39</td>\n",
              "      <td>39</td>\n",
              "      <td>1</td>\n",
              "    </tr>\n",
              "  </tbody>\n",
              "</table>\n",
              "</div>"
            ],
            "text/plain": [
              "                  ann_txn_amt_sum  ...  ann_txn_amt_cnt\n",
              "customer_id YEAR                   ...                 \n",
              "CS1112      2011              212  ...                3\n",
              "            2012              337  ...                5\n",
              "            2013              212  ...                3\n",
              "            2014              212  ...                3\n",
              "            2015               39  ...                1\n",
              "\n",
              "[5 rows x 8 columns]"
            ]
          },
          "metadata": {},
          "execution_count": 13
        }
      ]
    },
    {
      "cell_type": "markdown",
      "metadata": {
        "id": "CPwm68vVRY7g"
      },
      "source": [
        "2.  Plot the histogram of the sum and count."
      ]
    },
    {
      "cell_type": "code",
      "metadata": {
        "colab": {
          "base_uri": "https://localhost:8080/",
          "height": 441
        },
        "id": "k2h0LJjmLJjU",
        "outputId": "93b0c6af-ab23-471c-98c2-ca09ce93a241"
      },
      "source": [
        "f, (ax1, ax2) = plt.subplots(1, 2, sharey=True,figsize=(8,6))\n",
        "ax1.hist(clnt_annual_aggregations['ann_txn_amt_sum'])\n",
        "ax1.set_title('sum')\n",
        "ax1.set_xlabel('Transactions')\n",
        "ax2.hist(clnt_annual_aggregations['ann_txn_amt_cnt'])\n",
        "ax2.set_title('count')\n",
        "ax2.set_xlabel('Transactions')\n",
        "plt.tight_layout()"
      ],
      "execution_count": 14,
      "outputs": [
        {
          "output_type": "display_data",
          "data": {
            "image/png": "[encoded data removed]",
            "text/plain": [
              "<Figure size 576x432 with 2 Axes>"
            ]
          },
          "metadata": {
            "needs_background": "light"
          }
        }
      ]
    },
    {
      "cell_type": "markdown",
      "metadata": {
        "id": "QE6sWFPQReEI"
      },
      "source": [
        "3.  Reset  the  index  and  reshape  the  table  with  the  pivottable  function  to  create  theclntannualaggregationspivottable shown below with 40 columns (why 40?).You  should  expect  columns  with  NaN  values.   Impute  the  NaN  entries  when  youperform the pivottable function and explain your choice of values."
      ]
    },
    {
      "cell_type": "markdown",
      "metadata": {
        "id": "CX3WJsDNBhY3"
      },
      "source": [
        "**Answer:**\n",
        "\n",
        "**The dataset has 40 columns since the dataset contains information about five years from 2011 to 2015 where each year has 8 aggregations/features.\n",
        "We impute the Nan values by zero as the Nan values actually indicates that no transactions were made in that year.**"
      ]
    },
    {
      "cell_type": "code",
      "metadata": {
        "id": "wcYaTVKpxm3b",
        "colab": {
          "base_uri": "https://localhost:8080/",
          "height": 286
        },
        "outputId": "0e3dfc33-58d3-47ee-ed0f-5bedeef3b195"
      },
      "source": [
        "clnt_annual_aggregations.reset_index(inplace=True)\n",
        "clnt_annual_aggregations_pivot = clnt_annual_aggregations.pivot(index = 'customer_id',columns='YEAR')\n",
        "clnt_annual_aggregations_pivot.head()"
      ],
      "execution_count": 15,
      "outputs": [
        {
          "output_type": "execute_result",
          "data": {
            "text/html": [
              "<div>\n",
              "<style scoped>\n",
              "    .dataframe tbody tr th:only-of-type {\n",
              "        vertical-align: middle;\n",
              "    }\n",
              "\n",
              "    .dataframe tbody tr th {\n",
              "        vertical-align: top;\n",
              "    }\n",
              "\n",
              "    .dataframe thead tr th {\n",
              "        text-align: left;\n",
              "    }\n",
              "\n",
              "    .dataframe thead tr:last-of-type th {\n",
              "        text-align: right;\n",
              "    }\n",
              "</style>\n",
              "<table border=\"1\" class=\"dataframe\">\n",
              "  <thead>\n",
              "    <tr>\n",
              "      <th></th>\n",
              "      <th colspan=\"5\" halign=\"left\">ann_txn_amt_sum</th>\n",
              "      <th colspan=\"5\" halign=\"left\">ann_txn_amt_mean</th>\n",
              "      <th colspan=\"5\" halign=\"left\">ann_txn_amt_std</th>\n",
              "      <th colspan=\"5\" halign=\"left\">ann_txn_amt_var</th>\n",
              "      <th colspan=\"5\" halign=\"left\">ann_txn_amt_sem</th>\n",
              "      <th colspan=\"5\" halign=\"left\">ann_txn_amt_max</th>\n",
              "      <th colspan=\"5\" halign=\"left\">ann_txn_amt_min</th>\n",
              "      <th colspan=\"5\" halign=\"left\">ann_txn_amt_cnt</th>\n",
              "    </tr>\n",
              "    <tr>\n",
              "      <th>YEAR</th>\n",
              "      <th>2011</th>\n",
              "      <th>2012</th>\n",
              "      <th>2013</th>\n",
              "      <th>2014</th>\n",
              "      <th>2015</th>\n",
              "      <th>2011</th>\n",
              "      <th>2012</th>\n",
              "      <th>2013</th>\n",
              "      <th>2014</th>\n",
              "      <th>2015</th>\n",
              "      <th>2011</th>\n",
              "      <th>2012</th>\n",
              "      <th>2013</th>\n",
              "      <th>2014</th>\n",
              "      <th>2015</th>\n",
              "      <th>2011</th>\n",
              "      <th>2012</th>\n",
              "      <th>2013</th>\n",
              "      <th>2014</th>\n",
              "      <th>2015</th>\n",
              "      <th>2011</th>\n",
              "      <th>2012</th>\n",
              "      <th>2013</th>\n",
              "      <th>2014</th>\n",
              "      <th>2015</th>\n",
              "      <th>2011</th>\n",
              "      <th>2012</th>\n",
              "      <th>2013</th>\n",
              "      <th>2014</th>\n",
              "      <th>2015</th>\n",
              "      <th>2011</th>\n",
              "      <th>2012</th>\n",
              "      <th>2013</th>\n",
              "      <th>2014</th>\n",
              "      <th>2015</th>\n",
              "      <th>2011</th>\n",
              "      <th>2012</th>\n",
              "      <th>2013</th>\n",
              "      <th>2014</th>\n",
              "      <th>2015</th>\n",
              "    </tr>\n",
              "    <tr>\n",
              "      <th>customer_id</th>\n",
              "      <th></th>\n",
              "      <th></th>\n",
              "      <th></th>\n",
              "      <th></th>\n",
              "      <th></th>\n",
              "      <th></th>\n",
              "      <th></th>\n",
              "      <th></th>\n",
              "      <th></th>\n",
              "      <th></th>\n",
              "      <th></th>\n",
              "      <th></th>\n",
              "      <th></th>\n",
              "      <th></th>\n",
              "      <th></th>\n",
              "      <th></th>\n",
              "      <th></th>\n",
              "      <th></th>\n",
              "      <th></th>\n",
              "      <th></th>\n",
              "      <th></th>\n",
              "      <th></th>\n",
              "      <th></th>\n",
              "      <th></th>\n",
              "      <th></th>\n",
              "      <th></th>\n",
              "      <th></th>\n",
              "      <th></th>\n",
              "      <th></th>\n",
              "      <th></th>\n",
              "      <th></th>\n",
              "      <th></th>\n",
              "      <th></th>\n",
              "      <th></th>\n",
              "      <th></th>\n",
              "      <th></th>\n",
              "      <th></th>\n",
              "      <th></th>\n",
              "      <th></th>\n",
              "      <th></th>\n",
              "    </tr>\n",
              "  </thead>\n",
              "  <tbody>\n",
              "    <tr>\n",
              "      <th>CS1112</th>\n",
              "      <td>212.0</td>\n",
              "      <td>337.0</td>\n",
              "      <td>212.0</td>\n",
              "      <td>212.0</td>\n",
              "      <td>39.0</td>\n",
              "      <td>70.666667</td>\n",
              "      <td>67.400000</td>\n",
              "      <td>70.666667</td>\n",
              "      <td>70.666667</td>\n",
              "      <td>39.000000</td>\n",
              "      <td>22.030282</td>\n",
              "      <td>12.720063</td>\n",
              "      <td>34.501208</td>\n",
              "      <td>16.862186</td>\n",
              "      <td>NaN</td>\n",
              "      <td>485.333333</td>\n",
              "      <td>161.800000</td>\n",
              "      <td>1190.333333</td>\n",
              "      <td>284.333333</td>\n",
              "      <td>NaN</td>\n",
              "      <td>12.719189</td>\n",
              "      <td>5.688585</td>\n",
              "      <td>19.919282</td>\n",
              "      <td>9.735388</td>\n",
              "      <td>NaN</td>\n",
              "      <td>96.0</td>\n",
              "      <td>81.0</td>\n",
              "      <td>105.0</td>\n",
              "      <td>90.0</td>\n",
              "      <td>39.0</td>\n",
              "      <td>56.0</td>\n",
              "      <td>52.0</td>\n",
              "      <td>36.0</td>\n",
              "      <td>59.0</td>\n",
              "      <td>39.0</td>\n",
              "      <td>3.0</td>\n",
              "      <td>5.0</td>\n",
              "      <td>3.0</td>\n",
              "      <td>3.0</td>\n",
              "      <td>1.0</td>\n",
              "    </tr>\n",
              "    <tr>\n",
              "      <th>CS1113</th>\n",
              "      <td>244.0</td>\n",
              "      <td>374.0</td>\n",
              "      <td>426.0</td>\n",
              "      <td>226.0</td>\n",
              "      <td>220.0</td>\n",
              "      <td>81.333333</td>\n",
              "      <td>74.800000</td>\n",
              "      <td>85.200000</td>\n",
              "      <td>56.500000</td>\n",
              "      <td>73.333333</td>\n",
              "      <td>21.079216</td>\n",
              "      <td>17.035258</td>\n",
              "      <td>13.084342</td>\n",
              "      <td>27.958302</td>\n",
              "      <td>27.300794</td>\n",
              "      <td>444.333333</td>\n",
              "      <td>290.200000</td>\n",
              "      <td>171.200000</td>\n",
              "      <td>781.666667</td>\n",
              "      <td>745.333333</td>\n",
              "      <td>12.170091</td>\n",
              "      <td>7.618399</td>\n",
              "      <td>5.851496</td>\n",
              "      <td>13.979151</td>\n",
              "      <td>15.762121</td>\n",
              "      <td>94.0</td>\n",
              "      <td>95.0</td>\n",
              "      <td>97.0</td>\n",
              "      <td>97.0</td>\n",
              "      <td>98.0</td>\n",
              "      <td>57.0</td>\n",
              "      <td>51.0</td>\n",
              "      <td>65.0</td>\n",
              "      <td>36.0</td>\n",
              "      <td>44.0</td>\n",
              "      <td>3.0</td>\n",
              "      <td>5.0</td>\n",
              "      <td>5.0</td>\n",
              "      <td>4.0</td>\n",
              "      <td>3.0</td>\n",
              "    </tr>\n",
              "    <tr>\n",
              "      <th>CS1114</th>\n",
              "      <td>426.0</td>\n",
              "      <td>150.0</td>\n",
              "      <td>352.0</td>\n",
              "      <td>425.0</td>\n",
              "      <td>79.0</td>\n",
              "      <td>85.200000</td>\n",
              "      <td>75.000000</td>\n",
              "      <td>70.400000</td>\n",
              "      <td>70.833333</td>\n",
              "      <td>79.000000</td>\n",
              "      <td>9.731393</td>\n",
              "      <td>31.112698</td>\n",
              "      <td>24.885739</td>\n",
              "      <td>26.947480</td>\n",
              "      <td>NaN</td>\n",
              "      <td>94.700000</td>\n",
              "      <td>968.000000</td>\n",
              "      <td>619.300000</td>\n",
              "      <td>726.166667</td>\n",
              "      <td>NaN</td>\n",
              "      <td>4.352011</td>\n",
              "      <td>22.000000</td>\n",
              "      <td>11.129241</td>\n",
              "      <td>11.001263</td>\n",
              "      <td>NaN</td>\n",
              "      <td>97.0</td>\n",
              "      <td>97.0</td>\n",
              "      <td>105.0</td>\n",
              "      <td>95.0</td>\n",
              "      <td>79.0</td>\n",
              "      <td>76.0</td>\n",
              "      <td>53.0</td>\n",
              "      <td>43.0</td>\n",
              "      <td>37.0</td>\n",
              "      <td>79.0</td>\n",
              "      <td>5.0</td>\n",
              "      <td>2.0</td>\n",
              "      <td>5.0</td>\n",
              "      <td>6.0</td>\n",
              "      <td>1.0</td>\n",
              "    </tr>\n",
              "    <tr>\n",
              "      <th>CS1115</th>\n",
              "      <td>261.0</td>\n",
              "      <td>473.0</td>\n",
              "      <td>557.0</td>\n",
              "      <td>313.0</td>\n",
              "      <td>55.0</td>\n",
              "      <td>87.000000</td>\n",
              "      <td>67.571429</td>\n",
              "      <td>79.571429</td>\n",
              "      <td>78.250000</td>\n",
              "      <td>55.000000</td>\n",
              "      <td>15.000000</td>\n",
              "      <td>21.846870</td>\n",
              "      <td>10.533394</td>\n",
              "      <td>22.632941</td>\n",
              "      <td>NaN</td>\n",
              "      <td>225.000000</td>\n",
              "      <td>477.285714</td>\n",
              "      <td>110.952381</td>\n",
              "      <td>512.250000</td>\n",
              "      <td>NaN</td>\n",
              "      <td>8.660254</td>\n",
              "      <td>8.257341</td>\n",
              "      <td>3.981249</td>\n",
              "      <td>11.316470</td>\n",
              "      <td>NaN</td>\n",
              "      <td>102.0</td>\n",
              "      <td>104.0</td>\n",
              "      <td>94.0</td>\n",
              "      <td>98.0</td>\n",
              "      <td>55.0</td>\n",
              "      <td>72.0</td>\n",
              "      <td>41.0</td>\n",
              "      <td>66.0</td>\n",
              "      <td>50.0</td>\n",
              "      <td>55.0</td>\n",
              "      <td>3.0</td>\n",
              "      <td>7.0</td>\n",
              "      <td>7.0</td>\n",
              "      <td>4.0</td>\n",
              "      <td>1.0</td>\n",
              "    </tr>\n",
              "    <tr>\n",
              "      <th>CS1116</th>\n",
              "      <td>235.0</td>\n",
              "      <td>230.0</td>\n",
              "      <td>59.0</td>\n",
              "      <td>333.0</td>\n",
              "      <td>NaN</td>\n",
              "      <td>58.750000</td>\n",
              "      <td>76.666667</td>\n",
              "      <td>59.000000</td>\n",
              "      <td>66.600000</td>\n",
              "      <td>NaN</td>\n",
              "      <td>21.203380</td>\n",
              "      <td>30.138569</td>\n",
              "      <td>NaN</td>\n",
              "      <td>25.234896</td>\n",
              "      <td>NaN</td>\n",
              "      <td>449.583333</td>\n",
              "      <td>908.333333</td>\n",
              "      <td>NaN</td>\n",
              "      <td>636.800000</td>\n",
              "      <td>NaN</td>\n",
              "      <td>10.601690</td>\n",
              "      <td>17.400511</td>\n",
              "      <td>NaN</td>\n",
              "      <td>11.285389</td>\n",
              "      <td>NaN</td>\n",
              "      <td>87.0</td>\n",
              "      <td>105.0</td>\n",
              "      <td>59.0</td>\n",
              "      <td>96.0</td>\n",
              "      <td>NaN</td>\n",
              "      <td>41.0</td>\n",
              "      <td>45.0</td>\n",
              "      <td>59.0</td>\n",
              "      <td>40.0</td>\n",
              "      <td>NaN</td>\n",
              "      <td>4.0</td>\n",
              "      <td>3.0</td>\n",
              "      <td>1.0</td>\n",
              "      <td>5.0</td>\n",
              "      <td>NaN</td>\n",
              "    </tr>\n",
              "  </tbody>\n",
              "</table>\n",
              "</div>"
            ],
            "text/plain": [
              "            ann_txn_amt_sum                       ... ann_txn_amt_cnt               \n",
              "YEAR                   2011   2012   2013   2014  ...            2012 2013 2014 2015\n",
              "customer_id                                       ...                               \n",
              "CS1112                212.0  337.0  212.0  212.0  ...             5.0  3.0  3.0  1.0\n",
              "CS1113                244.0  374.0  426.0  226.0  ...             5.0  5.0  4.0  3.0\n",
              "CS1114                426.0  150.0  352.0  425.0  ...             2.0  5.0  6.0  1.0\n",
              "CS1115                261.0  473.0  557.0  313.0  ...             7.0  7.0  4.0  1.0\n",
              "CS1116                235.0  230.0   59.0  333.0  ...             3.0  1.0  5.0  NaN\n",
              "\n",
              "[5 rows x 40 columns]"
            ]
          },
          "metadata": {},
          "execution_count": 15
        }
      ]
    },
    {
      "cell_type": "code",
      "metadata": {
        "colab": {
          "base_uri": "https://localhost:8080/"
        },
        "id": "tm1nUpAEVU5A",
        "outputId": "33b4bd17-d340-460d-afca-ac3597cdf8df"
      },
      "source": [
        "#checking number of rows and columns\n",
        "print(clnt_annual_aggregations_pivot.shape)"
      ],
      "execution_count": 16,
      "outputs": [
        {
          "output_type": "stream",
          "name": "stdout",
          "text": [
            "(6889, 40)\n"
          ]
        }
      ]
    },
    {
      "cell_type": "code",
      "metadata": {
        "colab": {
          "base_uri": "https://localhost:8080/"
        },
        "id": "qLm3mFfiViqk",
        "outputId": "664cc3ef-befb-47f5-ad36-d2be3ffc3295"
      },
      "source": [
        "#checking null values\n",
        "clnt_annual_aggregations_pivot.isnull().sum()"
      ],
      "execution_count": 17,
      "outputs": [
        {
          "output_type": "execute_result",
          "data": {
            "text/plain": [
              "                  YEAR\n",
              "ann_txn_amt_sum   2011     388\n",
              "                  2012      80\n",
              "                  2013      85\n",
              "                  2014      88\n",
              "                  2015    2664\n",
              "ann_txn_amt_mean  2011     388\n",
              "                  2012      80\n",
              "                  2013      85\n",
              "                  2014      88\n",
              "                  2015    2664\n",
              "ann_txn_amt_std   2011    1485\n",
              "                  2012     431\n",
              "                  2013     417\n",
              "                  2014     386\n",
              "                  2015    5173\n",
              "ann_txn_amt_var   2011    1485\n",
              "                  2012     431\n",
              "                  2013     417\n",
              "                  2014     386\n",
              "                  2015    5173\n",
              "ann_txn_amt_sem   2011    1485\n",
              "                  2012     431\n",
              "                  2013     417\n",
              "                  2014     386\n",
              "                  2015    5173\n",
              "ann_txn_amt_max   2011     388\n",
              "                  2012      80\n",
              "                  2013      85\n",
              "                  2014      88\n",
              "                  2015    2664\n",
              "ann_txn_amt_min   2011     388\n",
              "                  2012      80\n",
              "                  2013      85\n",
              "                  2014      88\n",
              "                  2015    2664\n",
              "ann_txn_amt_cnt   2011     388\n",
              "                  2012      80\n",
              "                  2013      85\n",
              "                  2014      88\n",
              "                  2015    2664\n",
              "dtype: int64"
            ]
          },
          "metadata": {},
          "execution_count": 17
        }
      ]
    },
    {
      "cell_type": "code",
      "metadata": {
        "id": "gZvn9GDvVqtW"
      },
      "source": [
        "# Imputing nan values with zero\n",
        "clnt_annual_aggregations_pivot.fillna('0',inplace=True)"
      ],
      "execution_count": 18,
      "outputs": []
    },
    {
      "cell_type": "code",
      "metadata": {
        "colab": {
          "base_uri": "https://localhost:8080/"
        },
        "id": "9H9hmqXmCdZB",
        "outputId": "9d1e2b80-33ea-4650-a10e-b4ad0454b17f"
      },
      "source": [
        "#checking null values after imputation\n",
        "clnt_annual_aggregations_pivot.isnull().sum()"
      ],
      "execution_count": 19,
      "outputs": [
        {
          "output_type": "execute_result",
          "data": {
            "text/plain": [
              "                  YEAR\n",
              "ann_txn_amt_sum   2011    0\n",
              "                  2012    0\n",
              "                  2013    0\n",
              "                  2014    0\n",
              "                  2015    0\n",
              "ann_txn_amt_mean  2011    0\n",
              "                  2012    0\n",
              "                  2013    0\n",
              "                  2014    0\n",
              "                  2015    0\n",
              "ann_txn_amt_std   2011    0\n",
              "                  2012    0\n",
              "                  2013    0\n",
              "                  2014    0\n",
              "                  2015    0\n",
              "ann_txn_amt_var   2011    0\n",
              "                  2012    0\n",
              "                  2013    0\n",
              "                  2014    0\n",
              "                  2015    0\n",
              "ann_txn_amt_sem   2011    0\n",
              "                  2012    0\n",
              "                  2013    0\n",
              "                  2014    0\n",
              "                  2015    0\n",
              "ann_txn_amt_max   2011    0\n",
              "                  2012    0\n",
              "                  2013    0\n",
              "                  2014    0\n",
              "                  2015    0\n",
              "ann_txn_amt_min   2011    0\n",
              "                  2012    0\n",
              "                  2013    0\n",
              "                  2014    0\n",
              "                  2015    0\n",
              "ann_txn_amt_cnt   2011    0\n",
              "                  2012    0\n",
              "                  2013    0\n",
              "                  2014    0\n",
              "                  2015    0\n",
              "dtype: int64"
            ]
          },
          "metadata": {},
          "execution_count": 19
        }
      ]
    },
    {
      "cell_type": "markdown",
      "metadata": {
        "id": "iWYFGCl8SHkT"
      },
      "source": [
        "4.  The pivoted object you created is a MultiIndex object with hierarchical indexes.  Youcan  see  the  first  level  (i.e.   0)  in  the  snapshot  above  with  names  ’anntxnamtave’,’anntxnamtmax’  (and  more  as  indicated  by  the  ...)   and  the  second  level  (i.e.   1)with names ’2011’, ’2012’, etc.  You can confirm the multiple levels of the columns withthe following two expressions.What are your observations regarding the number of levels and the column names?"
      ]
    },
    {
      "cell_type": "markdown",
      "metadata": {
        "id": "Xo3X0uBeSIir"
      },
      "source": [
        "**Answer:**\n",
        "\n",
        "**We observe that the columns are categorized into first and second levels. The first level denotes the aggregation strategy while the second level denotes the Year.**"
      ]
    },
    {
      "cell_type": "code",
      "metadata": {
        "colab": {
          "base_uri": "https://localhost:8080/"
        },
        "id": "9H9cYm81CiGO",
        "outputId": "7cd3197e-5ba4-4e7a-a191-2484d98d8e19"
      },
      "source": [
        "#verify multiple levels of columns\n",
        "clnt_annual_aggregations_pivot.columns.nlevels\n",
        "clnt_annual_aggregations_pivot.columns"
      ],
      "execution_count": 20,
      "outputs": [
        {
          "output_type": "execute_result",
          "data": {
            "text/plain": [
              "MultiIndex([( 'ann_txn_amt_sum', 2011),\n",
              "            ( 'ann_txn_amt_sum', 2012),\n",
              "            ( 'ann_txn_amt_sum', 2013),\n",
              "            ( 'ann_txn_amt_sum', 2014),\n",
              "            ( 'ann_txn_amt_sum', 2015),\n",
              "            ('ann_txn_amt_mean', 2011),\n",
              "            ('ann_txn_amt_mean', 2012),\n",
              "            ('ann_txn_amt_mean', 2013),\n",
              "            ('ann_txn_amt_mean', 2014),\n",
              "            ('ann_txn_amt_mean', 2015),\n",
              "            ( 'ann_txn_amt_std', 2011),\n",
              "            ( 'ann_txn_amt_std', 2012),\n",
              "            ( 'ann_txn_amt_std', 2013),\n",
              "            ( 'ann_txn_amt_std', 2014),\n",
              "            ( 'ann_txn_amt_std', 2015),\n",
              "            ( 'ann_txn_amt_var', 2011),\n",
              "            ( 'ann_txn_amt_var', 2012),\n",
              "            ( 'ann_txn_amt_var', 2013),\n",
              "            ( 'ann_txn_amt_var', 2014),\n",
              "            ( 'ann_txn_amt_var', 2015),\n",
              "            ( 'ann_txn_amt_sem', 2011),\n",
              "            ( 'ann_txn_amt_sem', 2012),\n",
              "            ( 'ann_txn_amt_sem', 2013),\n",
              "            ( 'ann_txn_amt_sem', 2014),\n",
              "            ( 'ann_txn_amt_sem', 2015),\n",
              "            ( 'ann_txn_amt_max', 2011),\n",
              "            ( 'ann_txn_amt_max', 2012),\n",
              "            ( 'ann_txn_amt_max', 2013),\n",
              "            ( 'ann_txn_amt_max', 2014),\n",
              "            ( 'ann_txn_amt_max', 2015),\n",
              "            ( 'ann_txn_amt_min', 2011),\n",
              "            ( 'ann_txn_amt_min', 2012),\n",
              "            ( 'ann_txn_amt_min', 2013),\n",
              "            ( 'ann_txn_amt_min', 2014),\n",
              "            ( 'ann_txn_amt_min', 2015),\n",
              "            ( 'ann_txn_amt_cnt', 2011),\n",
              "            ( 'ann_txn_amt_cnt', 2012),\n",
              "            ( 'ann_txn_amt_cnt', 2013),\n",
              "            ( 'ann_txn_amt_cnt', 2014),\n",
              "            ( 'ann_txn_amt_cnt', 2015)],\n",
              "           names=[None, 'YEAR'])"
            ]
          },
          "metadata": {},
          "execution_count": 20
        }
      ]
    },
    {
      "cell_type": "code",
      "metadata": {
        "id": "p5GT-9vuC0kr"
      },
      "source": [
        "#creating single level for future use\n",
        "#collects level 1 fetaures\n",
        "level_0 = clnt_annual_aggregations_pivot.columns.get_level_values(0).astype(str)\n",
        "#collects level 2 features\n",
        "level_1 = clnt_annual_aggregations_pivot.columns.get_level_values(1).astype(str)\n",
        "clnt_annual_aggregations_pivot.columns = level_0 + '_' + level_1"
      ],
      "execution_count": 21,
      "outputs": []
    },
    {
      "cell_type": "markdown",
      "metadata": {
        "id": "2gHzcNeWR6wT"
      },
      "source": [
        "5.  Finally,  you  want  to  save  the  dataframeclntannualaggregationspivotas  an.xlsx  file  for  future  use  in  the  machine  learning  assignment.   To  do  so,  you  wantto  remove  the  two  levels  in  columns  and  create  a  single  level  with  column  names:’anntxnamtave2011’, ’anntxnamtave2012’, etc.  To do so, use the code snippetbelow prior to saving the dataframe as an Excel file."
      ]
    },
    {
      "cell_type": "code",
      "metadata": {
        "colab": {
          "base_uri": "https://localhost:8080/",
          "height": 255
        },
        "id": "CJ9oi39KDJYL",
        "outputId": "b88e9e09-b208-45af-d754-264a28a2cb25"
      },
      "source": [
        "clnt_annual_aggregations_pivot.to_excel(\"annual_features.xlsx\")\n",
        "clnt_annual_aggregations_pivot.head()"
      ],
      "execution_count": 22,
      "outputs": [
        {
          "output_type": "execute_result",
          "data": {
            "text/html": [
              "<div>\n",
              "<style scoped>\n",
              "    .dataframe tbody tr th:only-of-type {\n",
              "        vertical-align: middle;\n",
              "    }\n",
              "\n",
              "    .dataframe tbody tr th {\n",
              "        vertical-align: top;\n",
              "    }\n",
              "\n",
              "    .dataframe thead th {\n",
              "        text-align: right;\n",
              "    }\n",
              "</style>\n",
              "<table border=\"1\" class=\"dataframe\">\n",
              "  <thead>\n",
              "    <tr style=\"text-align: right;\">\n",
              "      <th></th>\n",
              "      <th>ann_txn_amt_sum_2011</th>\n",
              "      <th>ann_txn_amt_sum_2012</th>\n",
              "      <th>ann_txn_amt_sum_2013</th>\n",
              "      <th>ann_txn_amt_sum_2014</th>\n",
              "      <th>ann_txn_amt_sum_2015</th>\n",
              "      <th>ann_txn_amt_mean_2011</th>\n",
              "      <th>ann_txn_amt_mean_2012</th>\n",
              "      <th>ann_txn_amt_mean_2013</th>\n",
              "      <th>ann_txn_amt_mean_2014</th>\n",
              "      <th>ann_txn_amt_mean_2015</th>\n",
              "      <th>ann_txn_amt_std_2011</th>\n",
              "      <th>ann_txn_amt_std_2012</th>\n",
              "      <th>ann_txn_amt_std_2013</th>\n",
              "      <th>ann_txn_amt_std_2014</th>\n",
              "      <th>ann_txn_amt_std_2015</th>\n",
              "      <th>ann_txn_amt_var_2011</th>\n",
              "      <th>ann_txn_amt_var_2012</th>\n",
              "      <th>ann_txn_amt_var_2013</th>\n",
              "      <th>ann_txn_amt_var_2014</th>\n",
              "      <th>ann_txn_amt_var_2015</th>\n",
              "      <th>ann_txn_amt_sem_2011</th>\n",
              "      <th>ann_txn_amt_sem_2012</th>\n",
              "      <th>ann_txn_amt_sem_2013</th>\n",
              "      <th>ann_txn_amt_sem_2014</th>\n",
              "      <th>ann_txn_amt_sem_2015</th>\n",
              "      <th>ann_txn_amt_max_2011</th>\n",
              "      <th>ann_txn_amt_max_2012</th>\n",
              "      <th>ann_txn_amt_max_2013</th>\n",
              "      <th>ann_txn_amt_max_2014</th>\n",
              "      <th>ann_txn_amt_max_2015</th>\n",
              "      <th>ann_txn_amt_min_2011</th>\n",
              "      <th>ann_txn_amt_min_2012</th>\n",
              "      <th>ann_txn_amt_min_2013</th>\n",
              "      <th>ann_txn_amt_min_2014</th>\n",
              "      <th>ann_txn_amt_min_2015</th>\n",
              "      <th>ann_txn_amt_cnt_2011</th>\n",
              "      <th>ann_txn_amt_cnt_2012</th>\n",
              "      <th>ann_txn_amt_cnt_2013</th>\n",
              "      <th>ann_txn_amt_cnt_2014</th>\n",
              "      <th>ann_txn_amt_cnt_2015</th>\n",
              "    </tr>\n",
              "    <tr>\n",
              "      <th>customer_id</th>\n",
              "      <th></th>\n",
              "      <th></th>\n",
              "      <th></th>\n",
              "      <th></th>\n",
              "      <th></th>\n",
              "      <th></th>\n",
              "      <th></th>\n",
              "      <th></th>\n",
              "      <th></th>\n",
              "      <th></th>\n",
              "      <th></th>\n",
              "      <th></th>\n",
              "      <th></th>\n",
              "      <th></th>\n",
              "      <th></th>\n",
              "      <th></th>\n",
              "      <th></th>\n",
              "      <th></th>\n",
              "      <th></th>\n",
              "      <th></th>\n",
              "      <th></th>\n",
              "      <th></th>\n",
              "      <th></th>\n",
              "      <th></th>\n",
              "      <th></th>\n",
              "      <th></th>\n",
              "      <th></th>\n",
              "      <th></th>\n",
              "      <th></th>\n",
              "      <th></th>\n",
              "      <th></th>\n",
              "      <th></th>\n",
              "      <th></th>\n",
              "      <th></th>\n",
              "      <th></th>\n",
              "      <th></th>\n",
              "      <th></th>\n",
              "      <th></th>\n",
              "      <th></th>\n",
              "      <th></th>\n",
              "    </tr>\n",
              "  </thead>\n",
              "  <tbody>\n",
              "    <tr>\n",
              "      <th>CS1112</th>\n",
              "      <td>212</td>\n",
              "      <td>337</td>\n",
              "      <td>212</td>\n",
              "      <td>212</td>\n",
              "      <td>39</td>\n",
              "      <td>70.6667</td>\n",
              "      <td>67.4</td>\n",
              "      <td>70.6667</td>\n",
              "      <td>70.6667</td>\n",
              "      <td>39</td>\n",
              "      <td>22.0303</td>\n",
              "      <td>12.7201</td>\n",
              "      <td>34.5012</td>\n",
              "      <td>16.8622</td>\n",
              "      <td>0</td>\n",
              "      <td>485.333</td>\n",
              "      <td>161.8</td>\n",
              "      <td>1190.33</td>\n",
              "      <td>284.333</td>\n",
              "      <td>0</td>\n",
              "      <td>12.7192</td>\n",
              "      <td>5.68859</td>\n",
              "      <td>19.9193</td>\n",
              "      <td>9.73539</td>\n",
              "      <td>0</td>\n",
              "      <td>96</td>\n",
              "      <td>81</td>\n",
              "      <td>105</td>\n",
              "      <td>90</td>\n",
              "      <td>39</td>\n",
              "      <td>56</td>\n",
              "      <td>52</td>\n",
              "      <td>36</td>\n",
              "      <td>59</td>\n",
              "      <td>39</td>\n",
              "      <td>3</td>\n",
              "      <td>5</td>\n",
              "      <td>3</td>\n",
              "      <td>3</td>\n",
              "      <td>1</td>\n",
              "    </tr>\n",
              "    <tr>\n",
              "      <th>CS1113</th>\n",
              "      <td>244</td>\n",
              "      <td>374</td>\n",
              "      <td>426</td>\n",
              "      <td>226</td>\n",
              "      <td>220</td>\n",
              "      <td>81.3333</td>\n",
              "      <td>74.8</td>\n",
              "      <td>85.2</td>\n",
              "      <td>56.5</td>\n",
              "      <td>73.3333</td>\n",
              "      <td>21.0792</td>\n",
              "      <td>17.0353</td>\n",
              "      <td>13.0843</td>\n",
              "      <td>27.9583</td>\n",
              "      <td>27.3008</td>\n",
              "      <td>444.333</td>\n",
              "      <td>290.2</td>\n",
              "      <td>171.2</td>\n",
              "      <td>781.667</td>\n",
              "      <td>745.333</td>\n",
              "      <td>12.1701</td>\n",
              "      <td>7.6184</td>\n",
              "      <td>5.8515</td>\n",
              "      <td>13.9792</td>\n",
              "      <td>15.7621</td>\n",
              "      <td>94</td>\n",
              "      <td>95</td>\n",
              "      <td>97</td>\n",
              "      <td>97</td>\n",
              "      <td>98</td>\n",
              "      <td>57</td>\n",
              "      <td>51</td>\n",
              "      <td>65</td>\n",
              "      <td>36</td>\n",
              "      <td>44</td>\n",
              "      <td>3</td>\n",
              "      <td>5</td>\n",
              "      <td>5</td>\n",
              "      <td>4</td>\n",
              "      <td>3</td>\n",
              "    </tr>\n",
              "    <tr>\n",
              "      <th>CS1114</th>\n",
              "      <td>426</td>\n",
              "      <td>150</td>\n",
              "      <td>352</td>\n",
              "      <td>425</td>\n",
              "      <td>79</td>\n",
              "      <td>85.2</td>\n",
              "      <td>75</td>\n",
              "      <td>70.4</td>\n",
              "      <td>70.8333</td>\n",
              "      <td>79</td>\n",
              "      <td>9.73139</td>\n",
              "      <td>31.1127</td>\n",
              "      <td>24.8857</td>\n",
              "      <td>26.9475</td>\n",
              "      <td>0</td>\n",
              "      <td>94.7</td>\n",
              "      <td>968</td>\n",
              "      <td>619.3</td>\n",
              "      <td>726.167</td>\n",
              "      <td>0</td>\n",
              "      <td>4.35201</td>\n",
              "      <td>22</td>\n",
              "      <td>11.1292</td>\n",
              "      <td>11.0013</td>\n",
              "      <td>0</td>\n",
              "      <td>97</td>\n",
              "      <td>97</td>\n",
              "      <td>105</td>\n",
              "      <td>95</td>\n",
              "      <td>79</td>\n",
              "      <td>76</td>\n",
              "      <td>53</td>\n",
              "      <td>43</td>\n",
              "      <td>37</td>\n",
              "      <td>79</td>\n",
              "      <td>5</td>\n",
              "      <td>2</td>\n",
              "      <td>5</td>\n",
              "      <td>6</td>\n",
              "      <td>1</td>\n",
              "    </tr>\n",
              "    <tr>\n",
              "      <th>CS1115</th>\n",
              "      <td>261</td>\n",
              "      <td>473</td>\n",
              "      <td>557</td>\n",
              "      <td>313</td>\n",
              "      <td>55</td>\n",
              "      <td>87</td>\n",
              "      <td>67.5714</td>\n",
              "      <td>79.5714</td>\n",
              "      <td>78.25</td>\n",
              "      <td>55</td>\n",
              "      <td>15</td>\n",
              "      <td>21.8469</td>\n",
              "      <td>10.5334</td>\n",
              "      <td>22.6329</td>\n",
              "      <td>0</td>\n",
              "      <td>225</td>\n",
              "      <td>477.286</td>\n",
              "      <td>110.952</td>\n",
              "      <td>512.25</td>\n",
              "      <td>0</td>\n",
              "      <td>8.66025</td>\n",
              "      <td>8.25734</td>\n",
              "      <td>3.98125</td>\n",
              "      <td>11.3165</td>\n",
              "      <td>0</td>\n",
              "      <td>102</td>\n",
              "      <td>104</td>\n",
              "      <td>94</td>\n",
              "      <td>98</td>\n",
              "      <td>55</td>\n",
              "      <td>72</td>\n",
              "      <td>41</td>\n",
              "      <td>66</td>\n",
              "      <td>50</td>\n",
              "      <td>55</td>\n",
              "      <td>3</td>\n",
              "      <td>7</td>\n",
              "      <td>7</td>\n",
              "      <td>4</td>\n",
              "      <td>1</td>\n",
              "    </tr>\n",
              "    <tr>\n",
              "      <th>CS1116</th>\n",
              "      <td>235</td>\n",
              "      <td>230</td>\n",
              "      <td>59</td>\n",
              "      <td>333</td>\n",
              "      <td>0</td>\n",
              "      <td>58.75</td>\n",
              "      <td>76.6667</td>\n",
              "      <td>59</td>\n",
              "      <td>66.6</td>\n",
              "      <td>0</td>\n",
              "      <td>21.2034</td>\n",
              "      <td>30.1386</td>\n",
              "      <td>0</td>\n",
              "      <td>25.2349</td>\n",
              "      <td>0</td>\n",
              "      <td>449.583</td>\n",
              "      <td>908.333</td>\n",
              "      <td>0</td>\n",
              "      <td>636.8</td>\n",
              "      <td>0</td>\n",
              "      <td>10.6017</td>\n",
              "      <td>17.4005</td>\n",
              "      <td>0</td>\n",
              "      <td>11.2854</td>\n",
              "      <td>0</td>\n",
              "      <td>87</td>\n",
              "      <td>105</td>\n",
              "      <td>59</td>\n",
              "      <td>96</td>\n",
              "      <td>0</td>\n",
              "      <td>41</td>\n",
              "      <td>45</td>\n",
              "      <td>59</td>\n",
              "      <td>40</td>\n",
              "      <td>0</td>\n",
              "      <td>4</td>\n",
              "      <td>3</td>\n",
              "      <td>1</td>\n",
              "      <td>5</td>\n",
              "      <td>0</td>\n",
              "    </tr>\n",
              "  </tbody>\n",
              "</table>\n",
              "</div>"
            ],
            "text/plain": [
              "            ann_txn_amt_sum_2011  ... ann_txn_amt_cnt_2015\n",
              "customer_id                       ...                     \n",
              "CS1112                       212  ...                    1\n",
              "CS1113                       244  ...                    3\n",
              "CS1114                       426  ...                    1\n",
              "CS1115                       261  ...                    1\n",
              "CS1116                       235  ...                    0\n",
              "\n",
              "[5 rows x 40 columns]"
            ]
          },
          "metadata": {},
          "execution_count": 22
        }
      ]
    },
    {
      "cell_type": "markdown",
      "metadata": {
        "id": "3vNlqCTvT8Gl"
      },
      "source": [
        "6.  What are the possible disadvantages in capturing client transaction behavior with theannual features described in this section (if any)?"
      ]
    },
    {
      "cell_type": "markdown",
      "metadata": {
        "id": "J_0MPauAT9pa"
      },
      "source": [
        "**Answer:**\n",
        "\n",
        "**The categorization of transaction behaviour annually would not describe the complete pattern at different points in a year. We would not have information about the trajectory of transaction behaviour in a particular year.**"
      ]
    },
    {
      "cell_type": "markdown",
      "metadata": {
        "id": "ygscy4yLFSI7"
      },
      "source": [
        "#1.3  Create monthly aggregations"
      ]
    },
    {
      "cell_type": "markdown",
      "metadata": {
        "id": "PKNFvcvCUDT5"
      },
      "source": [
        "1.  Create the dataframe that captures the monthlysum and count of transactions per client (nameitclntmonthlyaggregations).Use   thegroupby function with the Named Aggregationfeature which was introduced in pandas version0.25.0.  Make sure that you name the columnsas shown in the figure sample on the right."
      ]
    },
    {
      "cell_type": "code",
      "metadata": {
        "id": "avgOLGE-DXNE"
      },
      "source": [
        "#monthly sum and count using namedagg\n",
        "clnt_monthly_aggregations = txn.groupby([\"customer_id\",\"ME_DT\"])\\\n",
        "                               .agg(mth_txn_amt_sum = pd.NamedAgg('tran_amount','sum'),\n",
        "                                mth_txn_cnt = pd.NamedAgg('tran_amount','count'))"
      ],
      "execution_count": 23,
      "outputs": []
    },
    {
      "cell_type": "code",
      "metadata": {
        "colab": {
          "base_uri": "https://localhost:8080/",
          "height": 390
        },
        "id": "6njEuGnhFwdp",
        "outputId": "39ce35fc-d0c2-4946-b77c-076dd20b6d38"
      },
      "source": [
        "clnt_monthly_aggregations.head(10)"
      ],
      "execution_count": 24,
      "outputs": [
        {
          "output_type": "execute_result",
          "data": {
            "text/html": [
              "<div>\n",
              "<style scoped>\n",
              "    .dataframe tbody tr th:only-of-type {\n",
              "        vertical-align: middle;\n",
              "    }\n",
              "\n",
              "    .dataframe tbody tr th {\n",
              "        vertical-align: top;\n",
              "    }\n",
              "\n",
              "    .dataframe thead th {\n",
              "        text-align: right;\n",
              "    }\n",
              "</style>\n",
              "<table border=\"1\" class=\"dataframe\">\n",
              "  <thead>\n",
              "    <tr style=\"text-align: right;\">\n",
              "      <th></th>\n",
              "      <th></th>\n",
              "      <th>mth_txn_amt_sum</th>\n",
              "      <th>mth_txn_cnt</th>\n",
              "    </tr>\n",
              "    <tr>\n",
              "      <th>customer_id</th>\n",
              "      <th>ME_DT</th>\n",
              "      <th></th>\n",
              "      <th></th>\n",
              "    </tr>\n",
              "  </thead>\n",
              "  <tbody>\n",
              "    <tr>\n",
              "      <th rowspan=\"10\" valign=\"top\">CS1112</th>\n",
              "      <th>2011-06-30</th>\n",
              "      <td>56</td>\n",
              "      <td>1</td>\n",
              "    </tr>\n",
              "    <tr>\n",
              "      <th>2011-08-31</th>\n",
              "      <td>96</td>\n",
              "      <td>1</td>\n",
              "    </tr>\n",
              "    <tr>\n",
              "      <th>2011-10-31</th>\n",
              "      <td>60</td>\n",
              "      <td>1</td>\n",
              "    </tr>\n",
              "    <tr>\n",
              "      <th>2012-04-30</th>\n",
              "      <td>56</td>\n",
              "      <td>1</td>\n",
              "    </tr>\n",
              "    <tr>\n",
              "      <th>2012-06-30</th>\n",
              "      <td>52</td>\n",
              "      <td>1</td>\n",
              "    </tr>\n",
              "    <tr>\n",
              "      <th>2012-07-31</th>\n",
              "      <td>81</td>\n",
              "      <td>1</td>\n",
              "    </tr>\n",
              "    <tr>\n",
              "      <th>2012-09-30</th>\n",
              "      <td>72</td>\n",
              "      <td>1</td>\n",
              "    </tr>\n",
              "    <tr>\n",
              "      <th>2012-12-31</th>\n",
              "      <td>76</td>\n",
              "      <td>1</td>\n",
              "    </tr>\n",
              "    <tr>\n",
              "      <th>2013-03-31</th>\n",
              "      <td>105</td>\n",
              "      <td>1</td>\n",
              "    </tr>\n",
              "    <tr>\n",
              "      <th>2013-07-31</th>\n",
              "      <td>36</td>\n",
              "      <td>1</td>\n",
              "    </tr>\n",
              "  </tbody>\n",
              "</table>\n",
              "</div>"
            ],
            "text/plain": [
              "                        mth_txn_amt_sum  mth_txn_cnt\n",
              "customer_id ME_DT                                   \n",
              "CS1112      2011-06-30               56            1\n",
              "            2011-08-31               96            1\n",
              "            2011-10-31               60            1\n",
              "            2012-04-30               56            1\n",
              "            2012-06-30               52            1\n",
              "            2012-07-31               81            1\n",
              "            2012-09-30               72            1\n",
              "            2012-12-31               76            1\n",
              "            2013-03-31              105            1\n",
              "            2013-07-31               36            1"
            ]
          },
          "metadata": {},
          "execution_count": 24
        }
      ]
    },
    {
      "cell_type": "markdown",
      "metadata": {
        "id": "h2ae4nwBULBF"
      },
      "source": [
        "2.  Create  a  histogram  of  both  columns  you  cre-ated.   What  are  your  observations?   What  arethe most common and maximum values for eachcolumn?  How do  they compare with the onesin section 1.2?"
      ]
    },
    {
      "cell_type": "code",
      "metadata": {
        "colab": {
          "base_uri": "https://localhost:8080/",
          "height": 441
        },
        "id": "HZrk-duZF7eW",
        "outputId": "25bc3ca3-db6f-4ec2-ebf1-b7ffe584e40e"
      },
      "source": [
        "f, (ax1, ax2) = plt.subplots(1, 2, sharey=True,figsize=(8,6))\n",
        "ax1.hist(clnt_monthly_aggregations[\"mth_txn_amt_sum\"],)\n",
        "ax1.set_title('Monthly sum')\n",
        "ax2.hist(clnt_monthly_aggregations[\"mth_txn_cnt\"])\n",
        "ax2.set_title('Montly count')\n",
        "plt.tight_layout()"
      ],
      "execution_count": 25,
      "outputs": [
        {
          "output_type": "display_data",
          "data": {
            "image/png": "[encoded data removed]",
            "text/plain": [
              "<Figure size 576x432 with 2 Axes>"
            ]
          },
          "metadata": {
            "needs_background": "light"
          }
        }
      ]
    },
    {
      "cell_type": "code",
      "metadata": {
        "colab": {
          "base_uri": "https://localhost:8080/"
        },
        "id": "wl6bKM9wHcQx",
        "outputId": "39373eb6-d1ec-43a0-b1af-54a4ce9490e8"
      },
      "source": [
        "clnt_monthly_aggregations['mth_txn_cnt'].describe()"
      ],
      "execution_count": 26,
      "outputs": [
        {
          "output_type": "execute_result",
          "data": {
            "text/plain": [
              "count    103234.000000\n",
              "mean          1.210841\n",
              "std           0.475437\n",
              "min           1.000000\n",
              "25%           1.000000\n",
              "50%           1.000000\n",
              "75%           1.000000\n",
              "max           6.000000\n",
              "Name: mth_txn_cnt, dtype: float64"
            ]
          },
          "metadata": {},
          "execution_count": 26
        }
      ]
    },
    {
      "cell_type": "code",
      "metadata": {
        "colab": {
          "base_uri": "https://localhost:8080/"
        },
        "id": "oc5uy6OIHdfz",
        "outputId": "450be63d-4a25-4ad9-f28d-d5ec9901a814"
      },
      "source": [
        "clnt_monthly_aggregations['mth_txn_amt_sum'].describe()"
      ],
      "execution_count": 27,
      "outputs": [
        {
          "output_type": "execute_result",
          "data": {
            "text/plain": [
              "count    103234.000000\n",
              "mean         78.694897\n",
              "std          41.529152\n",
              "min          10.000000\n",
              "25%          50.000000\n",
              "50%          72.000000\n",
              "75%          95.000000\n",
              "max         460.000000\n",
              "Name: mth_txn_amt_sum, dtype: float64"
            ]
          },
          "metadata": {},
          "execution_count": 27
        }
      ]
    },
    {
      "cell_type": "code",
      "metadata": {
        "colab": {
          "base_uri": "https://localhost:8080/"
        },
        "id": "sYm-J-3mlez8",
        "outputId": "dfd9a3ed-a1d9-4597-962f-145718dabefc"
      },
      "source": [
        "common_sum = Counter(clnt_monthly_aggregations.mth_txn_amt_sum).most_common(1)[0][0]\n",
        "print('Most common sum value {}'.format(common_sum))"
      ],
      "execution_count": 28,
      "outputs": [
        {
          "output_type": "stream",
          "name": "stdout",
          "text": [
            "Most common sum value 77\n"
          ]
        }
      ]
    },
    {
      "cell_type": "code",
      "metadata": {
        "colab": {
          "base_uri": "https://localhost:8080/"
        },
        "id": "dJTxTVxdl3Wt",
        "outputId": "96a1e7df-0eb3-4a6e-b391-965ada5244e2"
      },
      "source": [
        "common_count = Counter(clnt_monthly_aggregations['mth_txn_cnt']).most_common(1)[0][0]\n",
        "print('Most common count value {}'.format(common_count))"
      ],
      "execution_count": 29,
      "outputs": [
        {
          "output_type": "stream",
          "name": "stdout",
          "text": [
            "Most common count value 1\n"
          ]
        }
      ]
    },
    {
      "cell_type": "markdown",
      "metadata": {
        "id": "PQnZJzmAG9Zk"
      },
      "source": [
        "**Answer:**    \n",
        "**Monthlty sum: The monthly sum plot shows that the distribution is skewed and the maximum transaction is 460 dollars. The most common value is close to 77 dollars. The nature of the graph is very similar to the plot in 1.2**\n",
        "\n",
        "**Count:**\n",
        "\n",
        "**The plot for count shows the number of transactions customer made every month. The plot shows that most customers make one transaction every month while only one customer made six transactions in a month. The most common count value is 1. The plot in section 1.2 shows most customers made 2 to 5 transactions annualy.**"
      ]
    },
    {
      "cell_type": "markdown",
      "metadata": {
        "id": "32TIFmBZIUw1"
      },
      "source": [
        "# 1.4  Create the base table for the rolling window features\n"
      ]
    },
    {
      "cell_type": "markdown",
      "metadata": {
        "id": "tuNV11CgPZRp"
      },
      "source": [
        "1.  Create the numpy array of the unique elements in columns ’customerid’ and ’MEDT’of the txn table you created in section 1.1.  Confirm that you have 6,889 unique clientsand 47 unique month-end-dates."
      ]
    },
    {
      "cell_type": "code",
      "metadata": {
        "colab": {
          "base_uri": "https://localhost:8080/"
        },
        "id": "o1sRmEWAHPWh",
        "outputId": "fd267a3f-3681-4348-b9a1-55cb00f584a2"
      },
      "source": [
        "print('Number of unique clients: {}'.format(txn['customer_id'].nunique()))\n",
        "print('Number of unique dates: {}'.format(txn['ME_DT'].nunique()))"
      ],
      "execution_count": 30,
      "outputs": [
        {
          "output_type": "stream",
          "name": "stdout",
          "text": [
            "Number of unique clients: 6889\n",
            "Number of unique dates: 47\n"
          ]
        }
      ]
    },
    {
      "cell_type": "markdown",
      "metadata": {
        "id": "ne_qHmxHUYmC"
      },
      "source": [
        "2.  Use  itertools.product  to  generate  all  the  possible  combinations  of  ’customerid’  and’MEDT’.  Itertools  is  a  Python  module  that  iterates  over  data  in  a  computation-ally efficient way.  You can perform the same task with a for-loop, but the execution"
      ]
    },
    {
      "cell_type": "code",
      "metadata": {
        "id": "LDAxBlfbPsyA"
      },
      "source": [
        "clnt_no = txn['customer_id'].unique()\n",
        "me_dt = txn['ME_DT'].unique()"
      ],
      "execution_count": 31,
      "outputs": []
    },
    {
      "cell_type": "code",
      "metadata": {
        "id": "PZx8_R8xQBKb"
      },
      "source": [
        "from  itertools  import  product\n",
        "base_table = product(clnt_no , me_dt)"
      ],
      "execution_count": 32,
      "outputs": []
    },
    {
      "cell_type": "code",
      "metadata": {
        "colab": {
          "base_uri": "https://localhost:8080/"
        },
        "id": "zmDlp0kCOI-9",
        "outputId": "75fd2e11-0a46-4a31-b111-cf2053034ad4"
      },
      "source": [
        "type(base_table)"
      ],
      "execution_count": 33,
      "outputs": [
        {
          "output_type": "execute_result",
          "data": {
            "text/plain": [
              "itertools.product"
            ]
          },
          "metadata": {},
          "execution_count": 33
        }
      ]
    },
    {
      "cell_type": "markdown",
      "metadata": {
        "id": "sQkhTpn_UluF"
      },
      "source": [
        "3.  Next, you want to convert the itertools.product objectbasetableinto a pandas ob-ject calledbasetablepd.  To do so, use pd.DataFrame.fromrecords and name thecolumns ’CLNTNO’ and ’MEDT’."
      ]
    },
    {
      "cell_type": "code",
      "metadata": {
        "id": "oECAV3TRQHVE"
      },
      "source": [
        "base_table_pd = pd.DataFrame.from_records(base_table, columns=['CLNT_NO', 'ME_DT'])\n"
      ],
      "execution_count": 34,
      "outputs": []
    },
    {
      "cell_type": "markdown",
      "metadata": {
        "id": "2J31E2t3UpB4"
      },
      "source": [
        "4.  Finally, you want to validate that you created the table you originally wanted.  Thereare two checks you want to perform:Filter client CS1112 and confirm that the dates fall between the min and maxmonth-dates you identified in section \n",
        "\n",
        "1.1.  Also, confirm that the snapshot of clientCS1112 has 47 rows, one for each month in the dataset."
      ]
    },
    {
      "cell_type": "code",
      "metadata": {
        "colab": {
          "base_uri": "https://localhost:8080/",
          "height": 1000
        },
        "id": "e7fD7ymHv4XT",
        "outputId": "707141fe-b56a-4d34-b7ee-8a5427cf8045"
      },
      "source": [
        "base_table_pd[base_table_pd['CLNT_NO']=='CS1112']"
      ],
      "execution_count": 35,
      "outputs": [
        {
          "output_type": "execute_result",
          "data": {
            "text/html": [
              "<div>\n",
              "<style scoped>\n",
              "    .dataframe tbody tr th:only-of-type {\n",
              "        vertical-align: middle;\n",
              "    }\n",
              "\n",
              "    .dataframe tbody tr th {\n",
              "        vertical-align: top;\n",
              "    }\n",
              "\n",
              "    .dataframe thead th {\n",
              "        text-align: right;\n",
              "    }\n",
              "</style>\n",
              "<table border=\"1\" class=\"dataframe\">\n",
              "  <thead>\n",
              "    <tr style=\"text-align: right;\">\n",
              "      <th></th>\n",
              "      <th>CLNT_NO</th>\n",
              "      <th>ME_DT</th>\n",
              "    </tr>\n",
              "  </thead>\n",
              "  <tbody>\n",
              "    <tr>\n",
              "      <th>157027</th>\n",
              "      <td>CS1112</td>\n",
              "      <td>2013-02-28</td>\n",
              "    </tr>\n",
              "    <tr>\n",
              "      <th>157028</th>\n",
              "      <td>CS1112</td>\n",
              "      <td>2015-03-31</td>\n",
              "    </tr>\n",
              "    <tr>\n",
              "      <th>157029</th>\n",
              "      <td>CS1112</td>\n",
              "      <td>2011-11-30</td>\n",
              "    </tr>\n",
              "    <tr>\n",
              "      <th>157030</th>\n",
              "      <td>CS1112</td>\n",
              "      <td>2013-11-30</td>\n",
              "    </tr>\n",
              "    <tr>\n",
              "      <th>157031</th>\n",
              "      <td>CS1112</td>\n",
              "      <td>2014-03-31</td>\n",
              "    </tr>\n",
              "    <tr>\n",
              "      <th>157032</th>\n",
              "      <td>CS1112</td>\n",
              "      <td>2012-02-29</td>\n",
              "    </tr>\n",
              "    <tr>\n",
              "      <th>157033</th>\n",
              "      <td>CS1112</td>\n",
              "      <td>2015-01-31</td>\n",
              "    </tr>\n",
              "    <tr>\n",
              "      <th>157034</th>\n",
              "      <td>CS1112</td>\n",
              "      <td>2013-01-31</td>\n",
              "    </tr>\n",
              "    <tr>\n",
              "      <th>157035</th>\n",
              "      <td>CS1112</td>\n",
              "      <td>2013-08-31</td>\n",
              "    </tr>\n",
              "    <tr>\n",
              "      <th>157036</th>\n",
              "      <td>CS1112</td>\n",
              "      <td>2013-07-31</td>\n",
              "    </tr>\n",
              "    <tr>\n",
              "      <th>157037</th>\n",
              "      <td>CS1112</td>\n",
              "      <td>2013-03-31</td>\n",
              "    </tr>\n",
              "    <tr>\n",
              "      <th>157038</th>\n",
              "      <td>CS1112</td>\n",
              "      <td>2012-11-30</td>\n",
              "    </tr>\n",
              "    <tr>\n",
              "      <th>157039</th>\n",
              "      <td>CS1112</td>\n",
              "      <td>2013-05-31</td>\n",
              "    </tr>\n",
              "    <tr>\n",
              "      <th>157040</th>\n",
              "      <td>CS1112</td>\n",
              "      <td>2014-12-31</td>\n",
              "    </tr>\n",
              "    <tr>\n",
              "      <th>157041</th>\n",
              "      <td>CS1112</td>\n",
              "      <td>2014-01-31</td>\n",
              "    </tr>\n",
              "    <tr>\n",
              "      <th>157042</th>\n",
              "      <td>CS1112</td>\n",
              "      <td>2013-12-31</td>\n",
              "    </tr>\n",
              "    <tr>\n",
              "      <th>157043</th>\n",
              "      <td>CS1112</td>\n",
              "      <td>2014-07-31</td>\n",
              "    </tr>\n",
              "    <tr>\n",
              "      <th>157044</th>\n",
              "      <td>CS1112</td>\n",
              "      <td>2011-07-31</td>\n",
              "    </tr>\n",
              "    <tr>\n",
              "      <th>157045</th>\n",
              "      <td>CS1112</td>\n",
              "      <td>2012-03-31</td>\n",
              "    </tr>\n",
              "    <tr>\n",
              "      <th>157046</th>\n",
              "      <td>CS1112</td>\n",
              "      <td>2012-01-31</td>\n",
              "    </tr>\n",
              "    <tr>\n",
              "      <th>157047</th>\n",
              "      <td>CS1112</td>\n",
              "      <td>2013-04-30</td>\n",
              "    </tr>\n",
              "    <tr>\n",
              "      <th>157048</th>\n",
              "      <td>CS1112</td>\n",
              "      <td>2011-10-31</td>\n",
              "    </tr>\n",
              "    <tr>\n",
              "      <th>157049</th>\n",
              "      <td>CS1112</td>\n",
              "      <td>2011-12-31</td>\n",
              "    </tr>\n",
              "    <tr>\n",
              "      <th>157050</th>\n",
              "      <td>CS1112</td>\n",
              "      <td>2015-02-28</td>\n",
              "    </tr>\n",
              "    <tr>\n",
              "      <th>157051</th>\n",
              "      <td>CS1112</td>\n",
              "      <td>2013-10-31</td>\n",
              "    </tr>\n",
              "    <tr>\n",
              "      <th>157052</th>\n",
              "      <td>CS1112</td>\n",
              "      <td>2012-12-31</td>\n",
              "    </tr>\n",
              "    <tr>\n",
              "      <th>157053</th>\n",
              "      <td>CS1112</td>\n",
              "      <td>2014-05-31</td>\n",
              "    </tr>\n",
              "    <tr>\n",
              "      <th>157054</th>\n",
              "      <td>CS1112</td>\n",
              "      <td>2014-11-30</td>\n",
              "    </tr>\n",
              "    <tr>\n",
              "      <th>157055</th>\n",
              "      <td>CS1112</td>\n",
              "      <td>2014-04-30</td>\n",
              "    </tr>\n",
              "    <tr>\n",
              "      <th>157056</th>\n",
              "      <td>CS1112</td>\n",
              "      <td>2013-06-30</td>\n",
              "    </tr>\n",
              "    <tr>\n",
              "      <th>157057</th>\n",
              "      <td>CS1112</td>\n",
              "      <td>2014-06-30</td>\n",
              "    </tr>\n",
              "    <tr>\n",
              "      <th>157058</th>\n",
              "      <td>CS1112</td>\n",
              "      <td>2011-06-30</td>\n",
              "    </tr>\n",
              "    <tr>\n",
              "      <th>157059</th>\n",
              "      <td>CS1112</td>\n",
              "      <td>2014-08-31</td>\n",
              "    </tr>\n",
              "    <tr>\n",
              "      <th>157060</th>\n",
              "      <td>CS1112</td>\n",
              "      <td>2011-09-30</td>\n",
              "    </tr>\n",
              "    <tr>\n",
              "      <th>157061</th>\n",
              "      <td>CS1112</td>\n",
              "      <td>2012-05-31</td>\n",
              "    </tr>\n",
              "    <tr>\n",
              "      <th>157062</th>\n",
              "      <td>CS1112</td>\n",
              "      <td>2012-04-30</td>\n",
              "    </tr>\n",
              "    <tr>\n",
              "      <th>157063</th>\n",
              "      <td>CS1112</td>\n",
              "      <td>2012-08-31</td>\n",
              "    </tr>\n",
              "    <tr>\n",
              "      <th>157064</th>\n",
              "      <td>CS1112</td>\n",
              "      <td>2011-05-31</td>\n",
              "    </tr>\n",
              "    <tr>\n",
              "      <th>157065</th>\n",
              "      <td>CS1112</td>\n",
              "      <td>2012-07-31</td>\n",
              "    </tr>\n",
              "    <tr>\n",
              "      <th>157066</th>\n",
              "      <td>CS1112</td>\n",
              "      <td>2014-10-31</td>\n",
              "    </tr>\n",
              "    <tr>\n",
              "      <th>157067</th>\n",
              "      <td>CS1112</td>\n",
              "      <td>2012-10-31</td>\n",
              "    </tr>\n",
              "    <tr>\n",
              "      <th>157068</th>\n",
              "      <td>CS1112</td>\n",
              "      <td>2013-09-30</td>\n",
              "    </tr>\n",
              "    <tr>\n",
              "      <th>157069</th>\n",
              "      <td>CS1112</td>\n",
              "      <td>2011-08-31</td>\n",
              "    </tr>\n",
              "    <tr>\n",
              "      <th>157070</th>\n",
              "      <td>CS1112</td>\n",
              "      <td>2012-09-30</td>\n",
              "    </tr>\n",
              "    <tr>\n",
              "      <th>157071</th>\n",
              "      <td>CS1112</td>\n",
              "      <td>2014-09-30</td>\n",
              "    </tr>\n",
              "    <tr>\n",
              "      <th>157072</th>\n",
              "      <td>CS1112</td>\n",
              "      <td>2014-02-28</td>\n",
              "    </tr>\n",
              "    <tr>\n",
              "      <th>157073</th>\n",
              "      <td>CS1112</td>\n",
              "      <td>2012-06-30</td>\n",
              "    </tr>\n",
              "  </tbody>\n",
              "</table>\n",
              "</div>"
            ],
            "text/plain": [
              "       CLNT_NO      ME_DT\n",
              "157027  CS1112 2013-02-28\n",
              "157028  CS1112 2015-03-31\n",
              "157029  CS1112 2011-11-30\n",
              "157030  CS1112 2013-11-30\n",
              "157031  CS1112 2014-03-31\n",
              "157032  CS1112 2012-02-29\n",
              "157033  CS1112 2015-01-31\n",
              "157034  CS1112 2013-01-31\n",
              "157035  CS1112 2013-08-31\n",
              "157036  CS1112 2013-07-31\n",
              "157037  CS1112 2013-03-31\n",
              "157038  CS1112 2012-11-30\n",
              "157039  CS1112 2013-05-31\n",
              "157040  CS1112 2014-12-31\n",
              "157041  CS1112 2014-01-31\n",
              "157042  CS1112 2013-12-31\n",
              "157043  CS1112 2014-07-31\n",
              "157044  CS1112 2011-07-31\n",
              "157045  CS1112 2012-03-31\n",
              "157046  CS1112 2012-01-31\n",
              "157047  CS1112 2013-04-30\n",
              "157048  CS1112 2011-10-31\n",
              "157049  CS1112 2011-12-31\n",
              "157050  CS1112 2015-02-28\n",
              "157051  CS1112 2013-10-31\n",
              "157052  CS1112 2012-12-31\n",
              "157053  CS1112 2014-05-31\n",
              "157054  CS1112 2014-11-30\n",
              "157055  CS1112 2014-04-30\n",
              "157056  CS1112 2013-06-30\n",
              "157057  CS1112 2014-06-30\n",
              "157058  CS1112 2011-06-30\n",
              "157059  CS1112 2014-08-31\n",
              "157060  CS1112 2011-09-30\n",
              "157061  CS1112 2012-05-31\n",
              "157062  CS1112 2012-04-30\n",
              "157063  CS1112 2012-08-31\n",
              "157064  CS1112 2011-05-31\n",
              "157065  CS1112 2012-07-31\n",
              "157066  CS1112 2014-10-31\n",
              "157067  CS1112 2012-10-31\n",
              "157068  CS1112 2013-09-30\n",
              "157069  CS1112 2011-08-31\n",
              "157070  CS1112 2012-09-30\n",
              "157071  CS1112 2014-09-30\n",
              "157072  CS1112 2014-02-28\n",
              "157073  CS1112 2012-06-30"
            ]
          },
          "metadata": {},
          "execution_count": 35
        }
      ]
    },
    {
      "cell_type": "code",
      "metadata": {
        "colab": {
          "base_uri": "https://localhost:8080/"
        },
        "id": "zeXxRE7fv9a2",
        "outputId": "ca53aa13-5fc4-4b96-d08f-fc633c33a02a"
      },
      "source": [
        "print('Min date',base_table_pd[base_table_pd['CLNT_NO']=='CS1112']['ME_DT'].min())\n",
        "print('Max date',base_table_pd[base_table_pd['CLNT_NO']=='CS1112']['ME_DT'].max())"
      ],
      "execution_count": 36,
      "outputs": [
        {
          "output_type": "stream",
          "name": "stdout",
          "text": [
            "Min date 2011-05-31 00:00:00\n",
            "Max date 2015-03-31 00:00:00\n"
          ]
        }
      ]
    },
    {
      "cell_type": "markdown",
      "metadata": {
        "id": "CS8BUPxMU2Dr"
      },
      "source": [
        "Confirm that thebasetablepdhas 323,783 rows, which is the expected valueof combinations for 6,889 unique clients and 47 unique month-end dates."
      ]
    },
    {
      "cell_type": "code",
      "metadata": {
        "colab": {
          "base_uri": "https://localhost:8080/"
        },
        "id": "H2OLnEdZwxmY",
        "outputId": "9db08b1e-1797-4aeb-8f25-19442b8bdb2c"
      },
      "source": [
        "print('Number of rows {}' .format(base_table_pd.shape))"
      ],
      "execution_count": 37,
      "outputs": [
        {
          "output_type": "stream",
          "name": "stdout",
          "text": [
            "Number of rows (323783, 2)\n"
          ]
        }
      ]
    },
    {
      "cell_type": "code",
      "metadata": {
        "colab": {
          "base_uri": "https://localhost:8080/"
        },
        "id": "HxmI3pSOK0vf",
        "outputId": "b2c3aeea-9336-4ae4-b5fd-754042c61077"
      },
      "source": [
        "print('Number of clients {}' .format(base_table_pd['CLNT_NO'].unique().shape[0]))"
      ],
      "execution_count": 38,
      "outputs": [
        {
          "output_type": "stream",
          "name": "stdout",
          "text": [
            "Number of clients 6889\n"
          ]
        }
      ]
    },
    {
      "cell_type": "code",
      "metadata": {
        "colab": {
          "base_uri": "https://localhost:8080/"
        },
        "id": "bqM4-Qq_LYx2",
        "outputId": "54ad0274-15c1-4789-9681-cfe93427b015"
      },
      "source": [
        "print('Number of month dates {}'.format(base_table_pd['ME_DT'].unique().shape[0]))"
      ],
      "execution_count": 39,
      "outputs": [
        {
          "output_type": "stream",
          "name": "stdout",
          "text": [
            "Number of month dates 47\n"
          ]
        }
      ]
    },
    {
      "cell_type": "markdown",
      "metadata": {
        "id": "m8jWmBfJ17mE"
      },
      "source": [
        "#1.5  Create the monthly rolling window features"
      ]
    },
    {
      "cell_type": "markdown",
      "metadata": {
        "id": "Dk-JU4WUU-rO"
      },
      "source": [
        "1.  Left-join thebasetablepdwith theclntmonthlyaggregationstable from section1.3  on  [CLNTNO,  MEDT]  to  create  the  tablebaseclntmth.   Comment  on  the following questions in Markdow\n",
        "\n",
        "Why do some rows have NaN values?\n",
        "\n",
        "**Answer:**\n",
        "\n",
        "**The Nan values indicate that there were no transactions for that particular month.**\n",
        "\n",
        "What values will you choose to impute NaN values in the sum and count columns? Perform the imputation you suggest.\n",
        "\n",
        "**We impute the Nan Values with zero.**\n",
        "\n",
        "\n",
        "Confirm that the number of rows is what you expect.  What is the value?\n",
        "\n",
        "**The expected value for combination 6889 clients and 47 month end dates is 323783 which is verified in our analysis.**\n",
        "\n",
        "How are tables base_clnt_mth and clnt_monthly_aggregations different? Comment on the number of rows and the content of each table.\n",
        "\n",
        "**The primary difference is in the number of rows of both tables. The number of rows in clnt_monthly_transactions is less as it only denotes the monthly transaction behaviour of the customer while the table base_clnt_mth is product of month-end dates hence contains more number of rows. Also, the customer i and me_dt are seen as columns in base_clnt_mth and as index in clnt_monthly_transactions**"
      ]
    },
    {
      "cell_type": "code",
      "metadata": {
        "id": "C0SQ-XaIxIme"
      },
      "source": [
        "base_clnt_mth=base_table_pd.join(clnt_monthly_aggregations,on=['CLNT_NO','ME_DT'],how='left')"
      ],
      "execution_count": 40,
      "outputs": []
    },
    {
      "cell_type": "code",
      "metadata": {
        "colab": {
          "base_uri": "https://localhost:8080/",
          "height": 419
        },
        "id": "H5W22xUK2D53",
        "outputId": "0028c445-e989-421a-f66a-1e86ca969d51"
      },
      "source": [
        "base_clnt_mth"
      ],
      "execution_count": 41,
      "outputs": [
        {
          "output_type": "execute_result",
          "data": {
            "text/html": [
              "<div>\n",
              "<style scoped>\n",
              "    .dataframe tbody tr th:only-of-type {\n",
              "        vertical-align: middle;\n",
              "    }\n",
              "\n",
              "    .dataframe tbody tr th {\n",
              "        vertical-align: top;\n",
              "    }\n",
              "\n",
              "    .dataframe thead th {\n",
              "        text-align: right;\n",
              "    }\n",
              "</style>\n",
              "<table border=\"1\" class=\"dataframe\">\n",
              "  <thead>\n",
              "    <tr style=\"text-align: right;\">\n",
              "      <th></th>\n",
              "      <th>CLNT_NO</th>\n",
              "      <th>ME_DT</th>\n",
              "      <th>mth_txn_amt_sum</th>\n",
              "      <th>mth_txn_cnt</th>\n",
              "    </tr>\n",
              "  </thead>\n",
              "  <tbody>\n",
              "    <tr>\n",
              "      <th>0</th>\n",
              "      <td>CS5295</td>\n",
              "      <td>2013-02-28</td>\n",
              "      <td>35.0</td>\n",
              "      <td>1.0</td>\n",
              "    </tr>\n",
              "    <tr>\n",
              "      <th>1</th>\n",
              "      <td>CS5295</td>\n",
              "      <td>2015-03-31</td>\n",
              "      <td>NaN</td>\n",
              "      <td>NaN</td>\n",
              "    </tr>\n",
              "    <tr>\n",
              "      <th>2</th>\n",
              "      <td>CS5295</td>\n",
              "      <td>2011-11-30</td>\n",
              "      <td>132.0</td>\n",
              "      <td>2.0</td>\n",
              "    </tr>\n",
              "    <tr>\n",
              "      <th>3</th>\n",
              "      <td>CS5295</td>\n",
              "      <td>2013-11-30</td>\n",
              "      <td>NaN</td>\n",
              "      <td>NaN</td>\n",
              "    </tr>\n",
              "    <tr>\n",
              "      <th>4</th>\n",
              "      <td>CS5295</td>\n",
              "      <td>2014-03-31</td>\n",
              "      <td>NaN</td>\n",
              "      <td>NaN</td>\n",
              "    </tr>\n",
              "    <tr>\n",
              "      <th>...</th>\n",
              "      <td>...</td>\n",
              "      <td>...</td>\n",
              "      <td>...</td>\n",
              "      <td>...</td>\n",
              "    </tr>\n",
              "    <tr>\n",
              "      <th>323778</th>\n",
              "      <td>CS8077</td>\n",
              "      <td>2011-08-31</td>\n",
              "      <td>30.0</td>\n",
              "      <td>1.0</td>\n",
              "    </tr>\n",
              "    <tr>\n",
              "      <th>323779</th>\n",
              "      <td>CS8077</td>\n",
              "      <td>2012-09-30</td>\n",
              "      <td>NaN</td>\n",
              "      <td>NaN</td>\n",
              "    </tr>\n",
              "    <tr>\n",
              "      <th>323780</th>\n",
              "      <td>CS8077</td>\n",
              "      <td>2014-09-30</td>\n",
              "      <td>NaN</td>\n",
              "      <td>NaN</td>\n",
              "    </tr>\n",
              "    <tr>\n",
              "      <th>323781</th>\n",
              "      <td>CS8077</td>\n",
              "      <td>2014-02-28</td>\n",
              "      <td>NaN</td>\n",
              "      <td>NaN</td>\n",
              "    </tr>\n",
              "    <tr>\n",
              "      <th>323782</th>\n",
              "      <td>CS8077</td>\n",
              "      <td>2012-06-30</td>\n",
              "      <td>NaN</td>\n",
              "      <td>NaN</td>\n",
              "    </tr>\n",
              "  </tbody>\n",
              "</table>\n",
              "<p>323783 rows × 4 columns</p>\n",
              "</div>"
            ],
            "text/plain": [
              "       CLNT_NO      ME_DT  mth_txn_amt_sum  mth_txn_cnt\n",
              "0       CS5295 2013-02-28             35.0          1.0\n",
              "1       CS5295 2015-03-31              NaN          NaN\n",
              "2       CS5295 2011-11-30            132.0          2.0\n",
              "3       CS5295 2013-11-30              NaN          NaN\n",
              "4       CS5295 2014-03-31              NaN          NaN\n",
              "...        ...        ...              ...          ...\n",
              "323778  CS8077 2011-08-31             30.0          1.0\n",
              "323779  CS8077 2012-09-30              NaN          NaN\n",
              "323780  CS8077 2014-09-30              NaN          NaN\n",
              "323781  CS8077 2014-02-28              NaN          NaN\n",
              "323782  CS8077 2012-06-30              NaN          NaN\n",
              "\n",
              "[323783 rows x 4 columns]"
            ]
          },
          "metadata": {},
          "execution_count": 41
        }
      ]
    },
    {
      "cell_type": "code",
      "metadata": {
        "id": "IVJkc15c2FzI"
      },
      "source": [
        "base_clnt_mth=base_clnt_mth.fillna(0)"
      ],
      "execution_count": 42,
      "outputs": []
    },
    {
      "cell_type": "code",
      "metadata": {
        "colab": {
          "base_uri": "https://localhost:8080/"
        },
        "id": "z6nR9QOXQZaF",
        "outputId": "8cd552f4-64e1-415c-eb8e-3bf19c083cf6"
      },
      "source": [
        "print('Number of rows {}'.format(base_clnt_mth.shape[0]))"
      ],
      "execution_count": 43,
      "outputs": [
        {
          "output_type": "stream",
          "name": "stdout",
          "text": [
            "Number of rows 323783\n"
          ]
        }
      ]
    },
    {
      "cell_type": "markdown",
      "metadata": {
        "id": "83zXPn_xVhRn"
      },
      "source": [
        "2.  For the next step, the calculation of the rolling window features, you need to sort thedata first by ’CLNTNO’ and then by ’MEDT’ in ascending order.  This is necessaryto create the order for rolling windows, e.g.  2011-05-31, 2011-06-30, etc."
      ]
    },
    {
      "cell_type": "code",
      "metadata": {
        "colab": {
          "base_uri": "https://localhost:8080/",
          "height": 204
        },
        "id": "FLccMKrt2KzO",
        "outputId": "566fffe2-404c-4988-e8c8-93a8fbccd189"
      },
      "source": [
        "base_clnt_mth.sort_values(by=['CLNT_NO','ME_DT'],inplace=True)\n",
        "base_clnt_mth.head()"
      ],
      "execution_count": 44,
      "outputs": [
        {
          "output_type": "execute_result",
          "data": {
            "text/html": [
              "<div>\n",
              "<style scoped>\n",
              "    .dataframe tbody tr th:only-of-type {\n",
              "        vertical-align: middle;\n",
              "    }\n",
              "\n",
              "    .dataframe tbody tr th {\n",
              "        vertical-align: top;\n",
              "    }\n",
              "\n",
              "    .dataframe thead th {\n",
              "        text-align: right;\n",
              "    }\n",
              "</style>\n",
              "<table border=\"1\" class=\"dataframe\">\n",
              "  <thead>\n",
              "    <tr style=\"text-align: right;\">\n",
              "      <th></th>\n",
              "      <th>CLNT_NO</th>\n",
              "      <th>ME_DT</th>\n",
              "      <th>mth_txn_amt_sum</th>\n",
              "      <th>mth_txn_cnt</th>\n",
              "    </tr>\n",
              "  </thead>\n",
              "  <tbody>\n",
              "    <tr>\n",
              "      <th>157064</th>\n",
              "      <td>CS1112</td>\n",
              "      <td>2011-05-31</td>\n",
              "      <td>0.0</td>\n",
              "      <td>0.0</td>\n",
              "    </tr>\n",
              "    <tr>\n",
              "      <th>157058</th>\n",
              "      <td>CS1112</td>\n",
              "      <td>2011-06-30</td>\n",
              "      <td>56.0</td>\n",
              "      <td>1.0</td>\n",
              "    </tr>\n",
              "    <tr>\n",
              "      <th>157044</th>\n",
              "      <td>CS1112</td>\n",
              "      <td>2011-07-31</td>\n",
              "      <td>0.0</td>\n",
              "      <td>0.0</td>\n",
              "    </tr>\n",
              "    <tr>\n",
              "      <th>157069</th>\n",
              "      <td>CS1112</td>\n",
              "      <td>2011-08-31</td>\n",
              "      <td>96.0</td>\n",
              "      <td>1.0</td>\n",
              "    </tr>\n",
              "    <tr>\n",
              "      <th>157060</th>\n",
              "      <td>CS1112</td>\n",
              "      <td>2011-09-30</td>\n",
              "      <td>0.0</td>\n",
              "      <td>0.0</td>\n",
              "    </tr>\n",
              "  </tbody>\n",
              "</table>\n",
              "</div>"
            ],
            "text/plain": [
              "       CLNT_NO      ME_DT  mth_txn_amt_sum  mth_txn_cnt\n",
              "157064  CS1112 2011-05-31              0.0          0.0\n",
              "157058  CS1112 2011-06-30             56.0          1.0\n",
              "157044  CS1112 2011-07-31              0.0          0.0\n",
              "157069  CS1112 2011-08-31             96.0          1.0\n",
              "157060  CS1112 2011-09-30              0.0          0.0"
            ]
          },
          "metadata": {},
          "execution_count": 44
        }
      ]
    },
    {
      "cell_type": "markdown",
      "metadata": {
        "id": "0i1D7huLVo2h"
      },
      "source": [
        "3.  The idea behind rolling window features is captured in the image below.  You calculate some statistical properties (e.g.  average) based on a window that is sliding.  In theimage below, the window is 7 which means that the last 7 points are used at every rowto calculate the statistical property.\n",
        "\n",
        "Here, you have to calculate separately the 3, 6 and 12-month rolling window features(tables:rolling_features_3M, rolling_features_6M, rolling_features_12M)  for every client that calculates the aggregations ’sum’, mean’ and ’max’ for both columns’mthtxnamtsum’ and ’mthtxncnt’.  The steps to achieve this with base clnt mth as the starting dataframe are:\n",
        "\n",
        "groupby the client number\n",
        "\n",
        "select the two columns you want to aggregate\n",
        "\n",
        "use the rolling function with the appropriate \n",
        "windowsaggregate with ’sum’, mean’ and ’max’\n",
        "\n",
        "The output of the 3-month rolling window dataframe is shown below.  Also,  answerthe following questions in the .ipynb notebook as Markdown comments."
      ]
    },
    {
      "cell_type": "markdown",
      "metadata": {
        "id": "amrmfMQVWGFP"
      },
      "source": [
        "How many rows appear with NaN values at the beginning of each client for 3, 6and 12-month windows, respectively?  Why do they appear?\n",
        "\n",
        "**Answer:**\n",
        "\n",
        "**For 3 month window there are 2 null values.\n",
        "For 6 month window there are 5 null values.\n",
        "For 12 month window there are 11 null values.**\n",
        "**To calculate rolling window of n features, we require n rows. Since first two rows do not have sufficient values for 3 month rolling window we get nan values as in the output. same thing repeats for 6 and 12 month rolling window.**\n",
        "\n",
        "How many levels do the index and columns have? Are these MultiIndex dataframes?\n",
        "\n",
        "**Yes, these are Multiindex dataframes as they have two levels each.**\n",
        "\n",
        "Rename the columns as following: ’amtsum3M’, ’amtmean3M’, ’amtmax3M’,’txncntsum3M’, ’txncntmean3M’, ’txncntmax3M’ and follow the same nam-ing convention for 6M and 12M."
      ]
    },
    {
      "cell_type": "code",
      "metadata": {
        "id": "7sydcsIn2b8h"
      },
      "source": [
        "rolling_features_3M = base_clnt_mth.groupby('CLNT_NO').rolling(3).agg({'mth_txn_amt_sum':['sum','mean','max'],\n",
        "                                                                       'mth_txn_cnt' : ['sum','mean','max']})\n"
      ],
      "execution_count": 45,
      "outputs": []
    },
    {
      "cell_type": "code",
      "metadata": {
        "colab": {
          "base_uri": "https://localhost:8080/",
          "height": 266
        },
        "id": "aWStvKEW3J2S",
        "outputId": "ac552f83-ac34-41f9-ad2d-c1a92016da66"
      },
      "source": [
        "rolling_features_3M.head()"
      ],
      "execution_count": 46,
      "outputs": [
        {
          "output_type": "execute_result",
          "data": {
            "text/html": [
              "<div>\n",
              "<style scoped>\n",
              "    .dataframe tbody tr th:only-of-type {\n",
              "        vertical-align: middle;\n",
              "    }\n",
              "\n",
              "    .dataframe tbody tr th {\n",
              "        vertical-align: top;\n",
              "    }\n",
              "\n",
              "    .dataframe thead tr th {\n",
              "        text-align: left;\n",
              "    }\n",
              "\n",
              "    .dataframe thead tr:last-of-type th {\n",
              "        text-align: right;\n",
              "    }\n",
              "</style>\n",
              "<table border=\"1\" class=\"dataframe\">\n",
              "  <thead>\n",
              "    <tr>\n",
              "      <th></th>\n",
              "      <th></th>\n",
              "      <th colspan=\"3\" halign=\"left\">mth_txn_amt_sum</th>\n",
              "      <th colspan=\"3\" halign=\"left\">mth_txn_cnt</th>\n",
              "    </tr>\n",
              "    <tr>\n",
              "      <th></th>\n",
              "      <th></th>\n",
              "      <th>sum</th>\n",
              "      <th>mean</th>\n",
              "      <th>max</th>\n",
              "      <th>sum</th>\n",
              "      <th>mean</th>\n",
              "      <th>max</th>\n",
              "    </tr>\n",
              "    <tr>\n",
              "      <th>CLNT_NO</th>\n",
              "      <th></th>\n",
              "      <th></th>\n",
              "      <th></th>\n",
              "      <th></th>\n",
              "      <th></th>\n",
              "      <th></th>\n",
              "      <th></th>\n",
              "    </tr>\n",
              "  </thead>\n",
              "  <tbody>\n",
              "    <tr>\n",
              "      <th rowspan=\"5\" valign=\"top\">CS1112</th>\n",
              "      <th>157064</th>\n",
              "      <td>NaN</td>\n",
              "      <td>NaN</td>\n",
              "      <td>NaN</td>\n",
              "      <td>NaN</td>\n",
              "      <td>NaN</td>\n",
              "      <td>NaN</td>\n",
              "    </tr>\n",
              "    <tr>\n",
              "      <th>157058</th>\n",
              "      <td>NaN</td>\n",
              "      <td>NaN</td>\n",
              "      <td>NaN</td>\n",
              "      <td>NaN</td>\n",
              "      <td>NaN</td>\n",
              "      <td>NaN</td>\n",
              "    </tr>\n",
              "    <tr>\n",
              "      <th>157044</th>\n",
              "      <td>56.0</td>\n",
              "      <td>18.666667</td>\n",
              "      <td>56.0</td>\n",
              "      <td>1.0</td>\n",
              "      <td>0.333333</td>\n",
              "      <td>1.0</td>\n",
              "    </tr>\n",
              "    <tr>\n",
              "      <th>157069</th>\n",
              "      <td>152.0</td>\n",
              "      <td>50.666667</td>\n",
              "      <td>96.0</td>\n",
              "      <td>2.0</td>\n",
              "      <td>0.666667</td>\n",
              "      <td>1.0</td>\n",
              "    </tr>\n",
              "    <tr>\n",
              "      <th>157060</th>\n",
              "      <td>96.0</td>\n",
              "      <td>32.000000</td>\n",
              "      <td>96.0</td>\n",
              "      <td>1.0</td>\n",
              "      <td>0.333333</td>\n",
              "      <td>1.0</td>\n",
              "    </tr>\n",
              "  </tbody>\n",
              "</table>\n",
              "</div>"
            ],
            "text/plain": [
              "               mth_txn_amt_sum                  mth_txn_cnt               \n",
              "                           sum       mean   max         sum      mean  max\n",
              "CLNT_NO                                                                   \n",
              "CS1112  157064             NaN        NaN   NaN         NaN       NaN  NaN\n",
              "        157058             NaN        NaN   NaN         NaN       NaN  NaN\n",
              "        157044            56.0  18.666667  56.0         1.0  0.333333  1.0\n",
              "        157069           152.0  50.666667  96.0         2.0  0.666667  1.0\n",
              "        157060            96.0  32.000000  96.0         1.0  0.333333  1.0"
            ]
          },
          "metadata": {},
          "execution_count": 46
        }
      ]
    },
    {
      "cell_type": "code",
      "metadata": {
        "colab": {
          "base_uri": "https://localhost:8080/"
        },
        "id": "plRpc6IqQ5Wg",
        "outputId": "d945b538-ca3a-47c0-e3c4-dc7e3c43f698"
      },
      "source": [
        "#checking null values\n",
        "rolling_features_3M.isnull().sum()"
      ],
      "execution_count": 47,
      "outputs": [
        {
          "output_type": "execute_result",
          "data": {
            "text/plain": [
              "mth_txn_amt_sum  sum     13778\n",
              "                 mean    13778\n",
              "                 max     13778\n",
              "mth_txn_cnt      sum     13778\n",
              "                 mean    13778\n",
              "                 max     13778\n",
              "dtype: int64"
            ]
          },
          "metadata": {},
          "execution_count": 47
        }
      ]
    },
    {
      "cell_type": "code",
      "metadata": {
        "id": "EvrqcsGe3zyx"
      },
      "source": [
        "rolling_features_6M = base_clnt_mth.groupby('CLNT_NO').rolling(6).agg({'mth_txn_amt_sum':['sum','mean','max'],\n",
        "                                                                       'mth_txn_cnt' : ['sum','mean','max']})"
      ],
      "execution_count": 48,
      "outputs": []
    },
    {
      "cell_type": "code",
      "metadata": {
        "colab": {
          "base_uri": "https://localhost:8080/",
          "height": 421
        },
        "id": "c7B7aCTNr85U",
        "outputId": "27172c7d-bfa8-4782-f46d-144659b83ab9"
      },
      "source": [
        "rolling_features_6M.head(10)"
      ],
      "execution_count": 49,
      "outputs": [
        {
          "output_type": "execute_result",
          "data": {
            "text/html": [
              "<div>\n",
              "<style scoped>\n",
              "    .dataframe tbody tr th:only-of-type {\n",
              "        vertical-align: middle;\n",
              "    }\n",
              "\n",
              "    .dataframe tbody tr th {\n",
              "        vertical-align: top;\n",
              "    }\n",
              "\n",
              "    .dataframe thead tr th {\n",
              "        text-align: left;\n",
              "    }\n",
              "\n",
              "    .dataframe thead tr:last-of-type th {\n",
              "        text-align: right;\n",
              "    }\n",
              "</style>\n",
              "<table border=\"1\" class=\"dataframe\">\n",
              "  <thead>\n",
              "    <tr>\n",
              "      <th></th>\n",
              "      <th></th>\n",
              "      <th colspan=\"3\" halign=\"left\">mth_txn_amt_sum</th>\n",
              "      <th colspan=\"3\" halign=\"left\">mth_txn_cnt</th>\n",
              "    </tr>\n",
              "    <tr>\n",
              "      <th></th>\n",
              "      <th></th>\n",
              "      <th>sum</th>\n",
              "      <th>mean</th>\n",
              "      <th>max</th>\n",
              "      <th>sum</th>\n",
              "      <th>mean</th>\n",
              "      <th>max</th>\n",
              "    </tr>\n",
              "    <tr>\n",
              "      <th>CLNT_NO</th>\n",
              "      <th></th>\n",
              "      <th></th>\n",
              "      <th></th>\n",
              "      <th></th>\n",
              "      <th></th>\n",
              "      <th></th>\n",
              "      <th></th>\n",
              "    </tr>\n",
              "  </thead>\n",
              "  <tbody>\n",
              "    <tr>\n",
              "      <th rowspan=\"10\" valign=\"top\">CS1112</th>\n",
              "      <th>157064</th>\n",
              "      <td>NaN</td>\n",
              "      <td>NaN</td>\n",
              "      <td>NaN</td>\n",
              "      <td>NaN</td>\n",
              "      <td>NaN</td>\n",
              "      <td>NaN</td>\n",
              "    </tr>\n",
              "    <tr>\n",
              "      <th>157058</th>\n",
              "      <td>NaN</td>\n",
              "      <td>NaN</td>\n",
              "      <td>NaN</td>\n",
              "      <td>NaN</td>\n",
              "      <td>NaN</td>\n",
              "      <td>NaN</td>\n",
              "    </tr>\n",
              "    <tr>\n",
              "      <th>157044</th>\n",
              "      <td>NaN</td>\n",
              "      <td>NaN</td>\n",
              "      <td>NaN</td>\n",
              "      <td>NaN</td>\n",
              "      <td>NaN</td>\n",
              "      <td>NaN</td>\n",
              "    </tr>\n",
              "    <tr>\n",
              "      <th>157069</th>\n",
              "      <td>NaN</td>\n",
              "      <td>NaN</td>\n",
              "      <td>NaN</td>\n",
              "      <td>NaN</td>\n",
              "      <td>NaN</td>\n",
              "      <td>NaN</td>\n",
              "    </tr>\n",
              "    <tr>\n",
              "      <th>157060</th>\n",
              "      <td>NaN</td>\n",
              "      <td>NaN</td>\n",
              "      <td>NaN</td>\n",
              "      <td>NaN</td>\n",
              "      <td>NaN</td>\n",
              "      <td>NaN</td>\n",
              "    </tr>\n",
              "    <tr>\n",
              "      <th>157048</th>\n",
              "      <td>212.0</td>\n",
              "      <td>35.333333</td>\n",
              "      <td>96.0</td>\n",
              "      <td>3.0</td>\n",
              "      <td>0.500000</td>\n",
              "      <td>1.0</td>\n",
              "    </tr>\n",
              "    <tr>\n",
              "      <th>157029</th>\n",
              "      <td>212.0</td>\n",
              "      <td>35.333333</td>\n",
              "      <td>96.0</td>\n",
              "      <td>3.0</td>\n",
              "      <td>0.500000</td>\n",
              "      <td>1.0</td>\n",
              "    </tr>\n",
              "    <tr>\n",
              "      <th>157049</th>\n",
              "      <td>156.0</td>\n",
              "      <td>26.000000</td>\n",
              "      <td>96.0</td>\n",
              "      <td>2.0</td>\n",
              "      <td>0.333333</td>\n",
              "      <td>1.0</td>\n",
              "    </tr>\n",
              "    <tr>\n",
              "      <th>157046</th>\n",
              "      <td>156.0</td>\n",
              "      <td>26.000000</td>\n",
              "      <td>96.0</td>\n",
              "      <td>2.0</td>\n",
              "      <td>0.333333</td>\n",
              "      <td>1.0</td>\n",
              "    </tr>\n",
              "    <tr>\n",
              "      <th>157032</th>\n",
              "      <td>60.0</td>\n",
              "      <td>10.000000</td>\n",
              "      <td>60.0</td>\n",
              "      <td>1.0</td>\n",
              "      <td>0.166667</td>\n",
              "      <td>1.0</td>\n",
              "    </tr>\n",
              "  </tbody>\n",
              "</table>\n",
              "</div>"
            ],
            "text/plain": [
              "               mth_txn_amt_sum                  mth_txn_cnt               \n",
              "                           sum       mean   max         sum      mean  max\n",
              "CLNT_NO                                                                   \n",
              "CS1112  157064             NaN        NaN   NaN         NaN       NaN  NaN\n",
              "        157058             NaN        NaN   NaN         NaN       NaN  NaN\n",
              "        157044             NaN        NaN   NaN         NaN       NaN  NaN\n",
              "        157069             NaN        NaN   NaN         NaN       NaN  NaN\n",
              "        157060             NaN        NaN   NaN         NaN       NaN  NaN\n",
              "        157048           212.0  35.333333  96.0         3.0  0.500000  1.0\n",
              "        157029           212.0  35.333333  96.0         3.0  0.500000  1.0\n",
              "        157049           156.0  26.000000  96.0         2.0  0.333333  1.0\n",
              "        157046           156.0  26.000000  96.0         2.0  0.333333  1.0\n",
              "        157032            60.0  10.000000  60.0         1.0  0.166667  1.0"
            ]
          },
          "metadata": {},
          "execution_count": 49
        }
      ]
    },
    {
      "cell_type": "code",
      "metadata": {
        "colab": {
          "base_uri": "https://localhost:8080/"
        },
        "id": "i9GM1hEEQ-vJ",
        "outputId": "16118a9c-feae-4e78-db7a-b2d1133c9dd1"
      },
      "source": [
        "#checking null values\n",
        "rolling_features_6M.isnull().sum()"
      ],
      "execution_count": 50,
      "outputs": [
        {
          "output_type": "execute_result",
          "data": {
            "text/plain": [
              "mth_txn_amt_sum  sum     34445\n",
              "                 mean    34445\n",
              "                 max     34445\n",
              "mth_txn_cnt      sum     34445\n",
              "                 mean    34445\n",
              "                 max     34445\n",
              "dtype: int64"
            ]
          },
          "metadata": {},
          "execution_count": 50
        }
      ]
    },
    {
      "cell_type": "code",
      "metadata": {
        "id": "JGyTzRG63qXB"
      },
      "source": [
        "rolling_features_12M = base_clnt_mth.groupby('CLNT_NO').rolling(12).agg({'mth_txn_amt_sum':['sum','mean','max'],\n",
        "                                                                       'mth_txn_cnt' : ['sum','mean','max']})"
      ],
      "execution_count": 51,
      "outputs": []
    },
    {
      "cell_type": "code",
      "metadata": {
        "colab": {
          "base_uri": "https://localhost:8080/",
          "height": 576
        },
        "id": "i9hy3si3sA48",
        "outputId": "1f6780d8-4fca-4ee4-a640-3a344ed48b30"
      },
      "source": [
        "rolling_features_12M.head(15)"
      ],
      "execution_count": 52,
      "outputs": [
        {
          "output_type": "execute_result",
          "data": {
            "text/html": [
              "<div>\n",
              "<style scoped>\n",
              "    .dataframe tbody tr th:only-of-type {\n",
              "        vertical-align: middle;\n",
              "    }\n",
              "\n",
              "    .dataframe tbody tr th {\n",
              "        vertical-align: top;\n",
              "    }\n",
              "\n",
              "    .dataframe thead tr th {\n",
              "        text-align: left;\n",
              "    }\n",
              "\n",
              "    .dataframe thead tr:last-of-type th {\n",
              "        text-align: right;\n",
              "    }\n",
              "</style>\n",
              "<table border=\"1\" class=\"dataframe\">\n",
              "  <thead>\n",
              "    <tr>\n",
              "      <th></th>\n",
              "      <th></th>\n",
              "      <th colspan=\"3\" halign=\"left\">mth_txn_amt_sum</th>\n",
              "      <th colspan=\"3\" halign=\"left\">mth_txn_cnt</th>\n",
              "    </tr>\n",
              "    <tr>\n",
              "      <th></th>\n",
              "      <th></th>\n",
              "      <th>sum</th>\n",
              "      <th>mean</th>\n",
              "      <th>max</th>\n",
              "      <th>sum</th>\n",
              "      <th>mean</th>\n",
              "      <th>max</th>\n",
              "    </tr>\n",
              "    <tr>\n",
              "      <th>CLNT_NO</th>\n",
              "      <th></th>\n",
              "      <th></th>\n",
              "      <th></th>\n",
              "      <th></th>\n",
              "      <th></th>\n",
              "      <th></th>\n",
              "      <th></th>\n",
              "    </tr>\n",
              "  </thead>\n",
              "  <tbody>\n",
              "    <tr>\n",
              "      <th rowspan=\"15\" valign=\"top\">CS1112</th>\n",
              "      <th>157064</th>\n",
              "      <td>NaN</td>\n",
              "      <td>NaN</td>\n",
              "      <td>NaN</td>\n",
              "      <td>NaN</td>\n",
              "      <td>NaN</td>\n",
              "      <td>NaN</td>\n",
              "    </tr>\n",
              "    <tr>\n",
              "      <th>157058</th>\n",
              "      <td>NaN</td>\n",
              "      <td>NaN</td>\n",
              "      <td>NaN</td>\n",
              "      <td>NaN</td>\n",
              "      <td>NaN</td>\n",
              "      <td>NaN</td>\n",
              "    </tr>\n",
              "    <tr>\n",
              "      <th>157044</th>\n",
              "      <td>NaN</td>\n",
              "      <td>NaN</td>\n",
              "      <td>NaN</td>\n",
              "      <td>NaN</td>\n",
              "      <td>NaN</td>\n",
              "      <td>NaN</td>\n",
              "    </tr>\n",
              "    <tr>\n",
              "      <th>157069</th>\n",
              "      <td>NaN</td>\n",
              "      <td>NaN</td>\n",
              "      <td>NaN</td>\n",
              "      <td>NaN</td>\n",
              "      <td>NaN</td>\n",
              "      <td>NaN</td>\n",
              "    </tr>\n",
              "    <tr>\n",
              "      <th>157060</th>\n",
              "      <td>NaN</td>\n",
              "      <td>NaN</td>\n",
              "      <td>NaN</td>\n",
              "      <td>NaN</td>\n",
              "      <td>NaN</td>\n",
              "      <td>NaN</td>\n",
              "    </tr>\n",
              "    <tr>\n",
              "      <th>157048</th>\n",
              "      <td>NaN</td>\n",
              "      <td>NaN</td>\n",
              "      <td>NaN</td>\n",
              "      <td>NaN</td>\n",
              "      <td>NaN</td>\n",
              "      <td>NaN</td>\n",
              "    </tr>\n",
              "    <tr>\n",
              "      <th>157029</th>\n",
              "      <td>NaN</td>\n",
              "      <td>NaN</td>\n",
              "      <td>NaN</td>\n",
              "      <td>NaN</td>\n",
              "      <td>NaN</td>\n",
              "      <td>NaN</td>\n",
              "    </tr>\n",
              "    <tr>\n",
              "      <th>157049</th>\n",
              "      <td>NaN</td>\n",
              "      <td>NaN</td>\n",
              "      <td>NaN</td>\n",
              "      <td>NaN</td>\n",
              "      <td>NaN</td>\n",
              "      <td>NaN</td>\n",
              "    </tr>\n",
              "    <tr>\n",
              "      <th>157046</th>\n",
              "      <td>NaN</td>\n",
              "      <td>NaN</td>\n",
              "      <td>NaN</td>\n",
              "      <td>NaN</td>\n",
              "      <td>NaN</td>\n",
              "      <td>NaN</td>\n",
              "    </tr>\n",
              "    <tr>\n",
              "      <th>157032</th>\n",
              "      <td>NaN</td>\n",
              "      <td>NaN</td>\n",
              "      <td>NaN</td>\n",
              "      <td>NaN</td>\n",
              "      <td>NaN</td>\n",
              "      <td>NaN</td>\n",
              "    </tr>\n",
              "    <tr>\n",
              "      <th>157045</th>\n",
              "      <td>NaN</td>\n",
              "      <td>NaN</td>\n",
              "      <td>NaN</td>\n",
              "      <td>NaN</td>\n",
              "      <td>NaN</td>\n",
              "      <td>NaN</td>\n",
              "    </tr>\n",
              "    <tr>\n",
              "      <th>157062</th>\n",
              "      <td>268.0</td>\n",
              "      <td>22.333333</td>\n",
              "      <td>96.0</td>\n",
              "      <td>4.0</td>\n",
              "      <td>0.333333</td>\n",
              "      <td>1.0</td>\n",
              "    </tr>\n",
              "    <tr>\n",
              "      <th>157061</th>\n",
              "      <td>268.0</td>\n",
              "      <td>22.333333</td>\n",
              "      <td>96.0</td>\n",
              "      <td>4.0</td>\n",
              "      <td>0.333333</td>\n",
              "      <td>1.0</td>\n",
              "    </tr>\n",
              "    <tr>\n",
              "      <th>157073</th>\n",
              "      <td>264.0</td>\n",
              "      <td>22.000000</td>\n",
              "      <td>96.0</td>\n",
              "      <td>4.0</td>\n",
              "      <td>0.333333</td>\n",
              "      <td>1.0</td>\n",
              "    </tr>\n",
              "    <tr>\n",
              "      <th>157065</th>\n",
              "      <td>345.0</td>\n",
              "      <td>28.750000</td>\n",
              "      <td>96.0</td>\n",
              "      <td>5.0</td>\n",
              "      <td>0.416667</td>\n",
              "      <td>1.0</td>\n",
              "    </tr>\n",
              "  </tbody>\n",
              "</table>\n",
              "</div>"
            ],
            "text/plain": [
              "               mth_txn_amt_sum                  mth_txn_cnt               \n",
              "                           sum       mean   max         sum      mean  max\n",
              "CLNT_NO                                                                   \n",
              "CS1112  157064             NaN        NaN   NaN         NaN       NaN  NaN\n",
              "        157058             NaN        NaN   NaN         NaN       NaN  NaN\n",
              "        157044             NaN        NaN   NaN         NaN       NaN  NaN\n",
              "        157069             NaN        NaN   NaN         NaN       NaN  NaN\n",
              "        157060             NaN        NaN   NaN         NaN       NaN  NaN\n",
              "        157048             NaN        NaN   NaN         NaN       NaN  NaN\n",
              "        157029             NaN        NaN   NaN         NaN       NaN  NaN\n",
              "        157049             NaN        NaN   NaN         NaN       NaN  NaN\n",
              "        157046             NaN        NaN   NaN         NaN       NaN  NaN\n",
              "        157032             NaN        NaN   NaN         NaN       NaN  NaN\n",
              "        157045             NaN        NaN   NaN         NaN       NaN  NaN\n",
              "        157062           268.0  22.333333  96.0         4.0  0.333333  1.0\n",
              "        157061           268.0  22.333333  96.0         4.0  0.333333  1.0\n",
              "        157073           264.0  22.000000  96.0         4.0  0.333333  1.0\n",
              "        157065           345.0  28.750000  96.0         5.0  0.416667  1.0"
            ]
          },
          "metadata": {},
          "execution_count": 52
        }
      ]
    },
    {
      "cell_type": "code",
      "metadata": {
        "colab": {
          "base_uri": "https://localhost:8080/"
        },
        "id": "2Zq75dADRDDI",
        "outputId": "bec65df9-5282-44c6-a406-5cf3e11c3d45"
      },
      "source": [
        "#checking null values\n",
        "rolling_features_12M.isnull().sum()"
      ],
      "execution_count": 53,
      "outputs": [
        {
          "output_type": "execute_result",
          "data": {
            "text/plain": [
              "mth_txn_amt_sum  sum     75779\n",
              "                 mean    75779\n",
              "                 max     75779\n",
              "mth_txn_cnt      sum     75779\n",
              "                 mean    75779\n",
              "                 max     75779\n",
              "dtype: int64"
            ]
          },
          "metadata": {},
          "execution_count": 53
        }
      ]
    },
    {
      "cell_type": "code",
      "metadata": {
        "colab": {
          "base_uri": "https://localhost:8080/"
        },
        "id": "EW8sDqiZ4wwP",
        "outputId": "7790d2de-5096-47bd-dd70-5cb1cf2a162a"
      },
      "source": [
        "#checking level\n",
        "print('level of columns for window 3: {}'.format(rolling_features_3M.columns.nlevels))\n",
        "print('level of index for window 3 : {}'.format(rolling_features_3M.index.nlevels))\n",
        "print('level of columns for window 6: {}'.format(rolling_features_6M.columns.nlevels))\n",
        "print('level of index for window 6 : {}'.format(rolling_features_6M.index.nlevels))\n",
        "print('level of columns for window 12: {}'.format(rolling_features_12M.columns.nlevels))\n",
        "print('level of index for window 12 : {}'.format(rolling_features_12M.index.nlevels))"
      ],
      "execution_count": 54,
      "outputs": [
        {
          "output_type": "stream",
          "name": "stdout",
          "text": [
            "level of columns for window 3: 2\n",
            "level of index for window 3 : 2\n",
            "level of columns for window 6: 2\n",
            "level of index for window 6 : 2\n",
            "level of columns for window 12: 2\n",
            "level of index for window 12 : 2\n"
          ]
        }
      ]
    },
    {
      "cell_type": "code",
      "metadata": {
        "id": "5jSNx-9d5Aq7"
      },
      "source": [
        "#renaming columns\n",
        "rolling_features_3M.columns = rolling_features_3M.columns.to_flat_index()\n",
        "rolling_features_6M.columns = rolling_features_6M.columns.to_flat_index()\n",
        "rolling_features_12M.columns = rolling_features_12M.columns.to_flat_index()\n",
        "\n",
        "rolling_features_3M.rename(columns={('mth_txn_amt_sum', 'sum'):'amt_sum_3M',\n",
        "                                   ('mth_txn_amt_sum', 'mean'):'amt_mean_3M',\n",
        "                                   ('mth_txn_amt_sum', 'max'):'amt_max_3M',\n",
        "                                   ('mth_txn_cnt', 'sum'):'txn_cnt_sum_3M',\n",
        "                                   ('mth_txn_cnt', 'mean'):'txn_cnt_mean_3M',\n",
        "                                   ('mth_txn_cnt', 'max'):'txn_cnt_max_3M'},inplace=True)\n",
        "\n",
        "rolling_features_6M.rename(columns={('mth_txn_amt_sum', 'sum'):'amt_sum_6M',\n",
        "                                   ('mth_txn_amt_sum', 'mean'):'amt_mean_6M',\n",
        "                                   ('mth_txn_amt_sum', 'max'):'amt_max_6M',\n",
        "                                   ('mth_txn_cnt', 'sum'):'txn_cnt_sum_6M',\n",
        "                                   ('mth_txn_cnt', 'mean'):'txn_cnt_mean_6M',\n",
        "                                   ('mth_txn_cnt', 'max'):'txn_cnt_max_6M'},inplace=True)\n",
        "\n",
        "rolling_features_12M.rename(columns={('mth_txn_amt_sum', 'sum'):'amt_sum_12M',\n",
        "                                   ('mth_txn_amt_sum', 'mean'):'amt_mean_12M',\n",
        "                                   ('mth_txn_amt_sum', 'max'):'amt_max_12M',\n",
        "                                   ('mth_txn_cnt', 'sum'):'txn_cnt_sum_12M',\n",
        "                                   ('mth_txn_cnt', 'mean'):'txn_cnt_mean_12M',\n",
        "                                   ('mth_txn_cnt', 'max'):'txn_cnt_max_12M'},inplace=True)"
      ],
      "execution_count": 55,
      "outputs": []
    },
    {
      "cell_type": "code",
      "metadata": {
        "id": "AexyCSZS7Tso"
      },
      "source": [
        "rolling_features_3M = rolling_features_3M.droplevel(\"CLNT_NO\")\n",
        "rolling_features_6M = rolling_features_6M.droplevel(\"CLNT_NO\")\n",
        "rolling_features_12M = rolling_features_12M.droplevel(\"CLNT_NO\")"
      ],
      "execution_count": 56,
      "outputs": []
    },
    {
      "cell_type": "markdown",
      "metadata": {
        "id": "gJ0lsCuhWQqN"
      },
      "source": [
        "4.  Merge  the  4  tables:baseclntmth, rollingfeatures3M, rollingfeatures6M,rollingfeatures12Min  the  outputallrollingfeatures.   It  is  recommended  todrop the level:0 of the rolling features MultiIndex table and join withbaseclntmthon the indexes."
      ]
    },
    {
      "cell_type": "code",
      "metadata": {
        "id": "AQfCoyvhJ5sU"
      },
      "source": [
        "all_rolling_features = base_clnt_mth.merge(rolling_features_3M, how='left',on=base_clnt_mth.index)\n",
        "all_rolling_features.drop(columns='key_0',inplace=True)\n",
        "all_rolling_features = all_rolling_features.merge(rolling_features_6M, how='left',on=base_clnt_mth.index)\n",
        "all_rolling_features.drop(columns='key_0',inplace=True)\n",
        "all_rolling_features = all_rolling_features.merge(rolling_features_12M, how='left',on=base_clnt_mth.index)\n",
        "all_rolling_features.drop(columns='key_0',inplace=True)"
      ],
      "execution_count": 57,
      "outputs": []
    },
    {
      "cell_type": "code",
      "metadata": {
        "colab": {
          "base_uri": "https://localhost:8080/",
          "height": 309
        },
        "id": "ofqV3KuAKN97",
        "outputId": "e0ae36ea-deef-44b3-f9da-1457a17200c5"
      },
      "source": [
        "all_rolling_features.head()"
      ],
      "execution_count": 58,
      "outputs": [
        {
          "output_type": "execute_result",
          "data": {
            "text/html": [
              "<div>\n",
              "<style scoped>\n",
              "    .dataframe tbody tr th:only-of-type {\n",
              "        vertical-align: middle;\n",
              "    }\n",
              "\n",
              "    .dataframe tbody tr th {\n",
              "        vertical-align: top;\n",
              "    }\n",
              "\n",
              "    .dataframe thead th {\n",
              "        text-align: right;\n",
              "    }\n",
              "</style>\n",
              "<table border=\"1\" class=\"dataframe\">\n",
              "  <thead>\n",
              "    <tr style=\"text-align: right;\">\n",
              "      <th></th>\n",
              "      <th>CLNT_NO</th>\n",
              "      <th>ME_DT</th>\n",
              "      <th>mth_txn_amt_sum</th>\n",
              "      <th>mth_txn_cnt</th>\n",
              "      <th>amt_sum_3M</th>\n",
              "      <th>amt_mean_3M</th>\n",
              "      <th>amt_max_3M</th>\n",
              "      <th>txn_cnt_sum_3M</th>\n",
              "      <th>txn_cnt_mean_3M</th>\n",
              "      <th>txn_cnt_max_3M</th>\n",
              "      <th>amt_sum_6M</th>\n",
              "      <th>amt_mean_6M</th>\n",
              "      <th>amt_max_6M</th>\n",
              "      <th>txn_cnt_sum_6M</th>\n",
              "      <th>txn_cnt_mean_6M</th>\n",
              "      <th>txn_cnt_max_6M</th>\n",
              "      <th>amt_sum_12M</th>\n",
              "      <th>amt_mean_12M</th>\n",
              "      <th>amt_max_12M</th>\n",
              "      <th>txn_cnt_sum_12M</th>\n",
              "      <th>txn_cnt_mean_12M</th>\n",
              "      <th>txn_cnt_max_12M</th>\n",
              "    </tr>\n",
              "  </thead>\n",
              "  <tbody>\n",
              "    <tr>\n",
              "      <th>0</th>\n",
              "      <td>CS1112</td>\n",
              "      <td>2011-05-31</td>\n",
              "      <td>0.0</td>\n",
              "      <td>0.0</td>\n",
              "      <td>NaN</td>\n",
              "      <td>NaN</td>\n",
              "      <td>NaN</td>\n",
              "      <td>NaN</td>\n",
              "      <td>NaN</td>\n",
              "      <td>NaN</td>\n",
              "      <td>NaN</td>\n",
              "      <td>NaN</td>\n",
              "      <td>NaN</td>\n",
              "      <td>NaN</td>\n",
              "      <td>NaN</td>\n",
              "      <td>NaN</td>\n",
              "      <td>NaN</td>\n",
              "      <td>NaN</td>\n",
              "      <td>NaN</td>\n",
              "      <td>NaN</td>\n",
              "      <td>NaN</td>\n",
              "      <td>NaN</td>\n",
              "    </tr>\n",
              "    <tr>\n",
              "      <th>1</th>\n",
              "      <td>CS1112</td>\n",
              "      <td>2011-06-30</td>\n",
              "      <td>56.0</td>\n",
              "      <td>1.0</td>\n",
              "      <td>NaN</td>\n",
              "      <td>NaN</td>\n",
              "      <td>NaN</td>\n",
              "      <td>NaN</td>\n",
              "      <td>NaN</td>\n",
              "      <td>NaN</td>\n",
              "      <td>NaN</td>\n",
              "      <td>NaN</td>\n",
              "      <td>NaN</td>\n",
              "      <td>NaN</td>\n",
              "      <td>NaN</td>\n",
              "      <td>NaN</td>\n",
              "      <td>NaN</td>\n",
              "      <td>NaN</td>\n",
              "      <td>NaN</td>\n",
              "      <td>NaN</td>\n",
              "      <td>NaN</td>\n",
              "      <td>NaN</td>\n",
              "    </tr>\n",
              "    <tr>\n",
              "      <th>2</th>\n",
              "      <td>CS1112</td>\n",
              "      <td>2011-07-31</td>\n",
              "      <td>0.0</td>\n",
              "      <td>0.0</td>\n",
              "      <td>56.0</td>\n",
              "      <td>18.666667</td>\n",
              "      <td>56.0</td>\n",
              "      <td>1.0</td>\n",
              "      <td>0.333333</td>\n",
              "      <td>1.0</td>\n",
              "      <td>NaN</td>\n",
              "      <td>NaN</td>\n",
              "      <td>NaN</td>\n",
              "      <td>NaN</td>\n",
              "      <td>NaN</td>\n",
              "      <td>NaN</td>\n",
              "      <td>NaN</td>\n",
              "      <td>NaN</td>\n",
              "      <td>NaN</td>\n",
              "      <td>NaN</td>\n",
              "      <td>NaN</td>\n",
              "      <td>NaN</td>\n",
              "    </tr>\n",
              "    <tr>\n",
              "      <th>3</th>\n",
              "      <td>CS1112</td>\n",
              "      <td>2011-08-31</td>\n",
              "      <td>96.0</td>\n",
              "      <td>1.0</td>\n",
              "      <td>152.0</td>\n",
              "      <td>50.666667</td>\n",
              "      <td>96.0</td>\n",
              "      <td>2.0</td>\n",
              "      <td>0.666667</td>\n",
              "      <td>1.0</td>\n",
              "      <td>NaN</td>\n",
              "      <td>NaN</td>\n",
              "      <td>NaN</td>\n",
              "      <td>NaN</td>\n",
              "      <td>NaN</td>\n",
              "      <td>NaN</td>\n",
              "      <td>NaN</td>\n",
              "      <td>NaN</td>\n",
              "      <td>NaN</td>\n",
              "      <td>NaN</td>\n",
              "      <td>NaN</td>\n",
              "      <td>NaN</td>\n",
              "    </tr>\n",
              "    <tr>\n",
              "      <th>4</th>\n",
              "      <td>CS1112</td>\n",
              "      <td>2011-09-30</td>\n",
              "      <td>0.0</td>\n",
              "      <td>0.0</td>\n",
              "      <td>96.0</td>\n",
              "      <td>32.000000</td>\n",
              "      <td>96.0</td>\n",
              "      <td>1.0</td>\n",
              "      <td>0.333333</td>\n",
              "      <td>1.0</td>\n",
              "      <td>NaN</td>\n",
              "      <td>NaN</td>\n",
              "      <td>NaN</td>\n",
              "      <td>NaN</td>\n",
              "      <td>NaN</td>\n",
              "      <td>NaN</td>\n",
              "      <td>NaN</td>\n",
              "      <td>NaN</td>\n",
              "      <td>NaN</td>\n",
              "      <td>NaN</td>\n",
              "      <td>NaN</td>\n",
              "      <td>NaN</td>\n",
              "    </tr>\n",
              "  </tbody>\n",
              "</table>\n",
              "</div>"
            ],
            "text/plain": [
              "  CLNT_NO      ME_DT  ...  txn_cnt_mean_12M  txn_cnt_max_12M\n",
              "0  CS1112 2011-05-31  ...               NaN              NaN\n",
              "1  CS1112 2011-06-30  ...               NaN              NaN\n",
              "2  CS1112 2011-07-31  ...               NaN              NaN\n",
              "3  CS1112 2011-08-31  ...               NaN              NaN\n",
              "4  CS1112 2011-09-30  ...               NaN              NaN\n",
              "\n",
              "[5 rows x 22 columns]"
            ]
          },
          "metadata": {},
          "execution_count": 58
        }
      ]
    },
    {
      "cell_type": "markdown",
      "metadata": {
        "id": "L1WF8NkUWU-G"
      },
      "source": [
        "5.  Confirm that your final outputallrollingfeatureshas 323,783 rows and 22 columnsand save it as mthrollingfeatures.xlsx."
      ]
    },
    {
      "cell_type": "code",
      "metadata": {
        "colab": {
          "base_uri": "https://localhost:8080/"
        },
        "id": "vIPvYdCwKPDn",
        "outputId": "b306d2d8-0649-435e-dd43-c8e6701874e3"
      },
      "source": [
        "print('The dataframe has {} rows and {} columns' .format(all_rolling_features.shape[0],all_rolling_features.shape[1]))"
      ],
      "execution_count": 59,
      "outputs": [
        {
          "output_type": "stream",
          "name": "stdout",
          "text": [
            "The dataframe has 323783 rows and 22 columns\n"
          ]
        }
      ]
    },
    {
      "cell_type": "code",
      "metadata": {
        "id": "BH0XiJ88K9zI"
      },
      "source": [
        "all_rolling_features.to_excel('mth_rolling_features.xlsx',index=False)"
      ],
      "execution_count": 60,
      "outputs": []
    },
    {
      "cell_type": "markdown",
      "metadata": {
        "id": "rkQGYUCdLtyD"
      },
      "source": [
        "#1.6  Date-related features: date of the week"
      ]
    },
    {
      "cell_type": "markdown",
      "metadata": {
        "id": "NeG-bL-KWamG"
      },
      "source": [
        "1.  The  DatetimeIndex  object  you  used  earlier  allows  you  to  extract  many  componentsof  a  DateTime  object.   Here,  you  want  to  use  the  attributesdt.dayofweekand/ordt.dayname()to  extract  the  day  of  the  week  from  column  ’txndate’  of  thetxntable (with Monday=0, Sunday=6).  The expected output below shows both columns."
      ]
    },
    {
      "cell_type": "code",
      "metadata": {
        "colab": {
          "base_uri": "https://localhost:8080/",
          "height": 204
        },
        "id": "wa5dM9SwLrSE",
        "outputId": "77082b75-24dc-47df-8793-63aa689d0e4b"
      },
      "source": [
        "txn['day_of_the_week'] = txn['txn_date'].dt.dayofweek\n",
        "txn['day_name'] = txn['txn_date'].dt.day_name()\n",
        "txn.head()"
      ],
      "execution_count": 61,
      "outputs": [
        {
          "output_type": "execute_result",
          "data": {
            "text/html": [
              "<div>\n",
              "<style scoped>\n",
              "    .dataframe tbody tr th:only-of-type {\n",
              "        vertical-align: middle;\n",
              "    }\n",
              "\n",
              "    .dataframe tbody tr th {\n",
              "        vertical-align: top;\n",
              "    }\n",
              "\n",
              "    .dataframe thead th {\n",
              "        text-align: right;\n",
              "    }\n",
              "</style>\n",
              "<table border=\"1\" class=\"dataframe\">\n",
              "  <thead>\n",
              "    <tr style=\"text-align: right;\">\n",
              "      <th></th>\n",
              "      <th>customer_id</th>\n",
              "      <th>txn_date</th>\n",
              "      <th>tran_amount</th>\n",
              "      <th>ME_DT</th>\n",
              "      <th>YEAR</th>\n",
              "      <th>day_of_the_week</th>\n",
              "      <th>day_name</th>\n",
              "    </tr>\n",
              "  </thead>\n",
              "  <tbody>\n",
              "    <tr>\n",
              "      <th>0</th>\n",
              "      <td>CS5295</td>\n",
              "      <td>2013-02-11</td>\n",
              "      <td>35</td>\n",
              "      <td>2013-02-28</td>\n",
              "      <td>2013</td>\n",
              "      <td>0</td>\n",
              "      <td>Monday</td>\n",
              "    </tr>\n",
              "    <tr>\n",
              "      <th>1</th>\n",
              "      <td>CS4768</td>\n",
              "      <td>2015-03-15</td>\n",
              "      <td>39</td>\n",
              "      <td>2015-03-31</td>\n",
              "      <td>2015</td>\n",
              "      <td>6</td>\n",
              "      <td>Sunday</td>\n",
              "    </tr>\n",
              "    <tr>\n",
              "      <th>2</th>\n",
              "      <td>CS2122</td>\n",
              "      <td>2013-02-26</td>\n",
              "      <td>52</td>\n",
              "      <td>2013-02-28</td>\n",
              "      <td>2013</td>\n",
              "      <td>1</td>\n",
              "      <td>Tuesday</td>\n",
              "    </tr>\n",
              "    <tr>\n",
              "      <th>3</th>\n",
              "      <td>CS1217</td>\n",
              "      <td>2011-11-16</td>\n",
              "      <td>99</td>\n",
              "      <td>2011-11-30</td>\n",
              "      <td>2011</td>\n",
              "      <td>2</td>\n",
              "      <td>Wednesday</td>\n",
              "    </tr>\n",
              "    <tr>\n",
              "      <th>4</th>\n",
              "      <td>CS1850</td>\n",
              "      <td>2013-11-20</td>\n",
              "      <td>78</td>\n",
              "      <td>2013-11-30</td>\n",
              "      <td>2013</td>\n",
              "      <td>2</td>\n",
              "      <td>Wednesday</td>\n",
              "    </tr>\n",
              "  </tbody>\n",
              "</table>\n",
              "</div>"
            ],
            "text/plain": [
              "  customer_id   txn_date  tran_amount  ...  YEAR  day_of_the_week   day_name\n",
              "0      CS5295 2013-02-11           35  ...  2013                0     Monday\n",
              "1      CS4768 2015-03-15           39  ...  2015                6     Sunday\n",
              "2      CS2122 2013-02-26           52  ...  2013                1    Tuesday\n",
              "3      CS1217 2011-11-16           99  ...  2011                2  Wednesday\n",
              "4      CS1850 2013-11-20           78  ...  2013                2  Wednesday\n",
              "\n",
              "[5 rows x 7 columns]"
            ]
          },
          "metadata": {},
          "execution_count": 61
        }
      ]
    },
    {
      "cell_type": "markdown",
      "metadata": {
        "id": "3re8sUyCWdY2"
      },
      "source": [
        "2.  Create the bar plot that shows the count of transactions per day of the week."
      ]
    },
    {
      "cell_type": "code",
      "metadata": {
        "colab": {
          "base_uri": "https://localhost:8080/",
          "height": 295
        },
        "id": "OjxwL4LvL-rE",
        "outputId": "a887e93c-dc1a-4f16-ae88-66b7f1fafc50"
      },
      "source": [
        "fig = plt.figure()\n",
        "plt.bar(txn['day_of_the_week'],height=20,alpha=0.75)\n",
        "plt.title('Daily transaction count')\n",
        "plt.xlabel('Days')\n",
        "plt.ylabel('Count')\n",
        "plt.show()"
      ],
      "execution_count": 62,
      "outputs": [
        {
          "output_type": "display_data",
          "data": {
            "image/png": "[encoded data removed]",
            "text/plain": [
              "<Figure size 432x288 with 1 Axes>"
            ]
          },
          "metadata": {
            "needs_background": "light"
          }
        }
      ]
    },
    {
      "cell_type": "markdown",
      "metadata": {
        "id": "CKxJ3jPXWfg8"
      },
      "source": [
        "3.  Following the same logic as in section 1.2, generate the features that capture the countof  transactions  per  client,  year  and  day  of  the  week.   The  intermediate  MultiIndexdataframe (with nlevels=3) and the final pivoted output with a single index are shownin the snapshots below."
      ]
    },
    {
      "cell_type": "code",
      "metadata": {
        "colab": {
          "base_uri": "https://localhost:8080/",
          "height": 286
        },
        "id": "xsN31-fyMAaf",
        "outputId": "0b87cc42-44f9-4cf7-a9f7-232a7893388f"
      },
      "source": [
        "annual_day_of_week_counts_pivot = txn.groupby(['customer_id','YEAR','day_name'])['tran_amount'].count()\n",
        "annual_day_of_week_counts_pivot = annual_day_of_week_counts_pivot.unstack(level=1) \n",
        "annual_day_of_week_counts_pivot = annual_day_of_week_counts_pivot.unstack(level=1) \n",
        "annual_day_of_week_counts_pivot.fillna(0,inplace=True)\n",
        "annual_day_of_week_counts_pivot.head()"
      ],
      "execution_count": 63,
      "outputs": [
        {
          "output_type": "execute_result",
          "data": {
            "text/html": [
              "<div>\n",
              "<style scoped>\n",
              "    .dataframe tbody tr th:only-of-type {\n",
              "        vertical-align: middle;\n",
              "    }\n",
              "\n",
              "    .dataframe tbody tr th {\n",
              "        vertical-align: top;\n",
              "    }\n",
              "\n",
              "    .dataframe thead tr th {\n",
              "        text-align: left;\n",
              "    }\n",
              "\n",
              "    .dataframe thead tr:last-of-type th {\n",
              "        text-align: right;\n",
              "    }\n",
              "</style>\n",
              "<table border=\"1\" class=\"dataframe\">\n",
              "  <thead>\n",
              "    <tr>\n",
              "      <th>YEAR</th>\n",
              "      <th colspan=\"7\" halign=\"left\">2011</th>\n",
              "      <th colspan=\"7\" halign=\"left\">2012</th>\n",
              "      <th colspan=\"7\" halign=\"left\">2013</th>\n",
              "      <th colspan=\"7\" halign=\"left\">2014</th>\n",
              "      <th colspan=\"7\" halign=\"left\">2015</th>\n",
              "    </tr>\n",
              "    <tr>\n",
              "      <th>day_name</th>\n",
              "      <th>Friday</th>\n",
              "      <th>Monday</th>\n",
              "      <th>Saturday</th>\n",
              "      <th>Sunday</th>\n",
              "      <th>Thursday</th>\n",
              "      <th>Tuesday</th>\n",
              "      <th>Wednesday</th>\n",
              "      <th>Friday</th>\n",
              "      <th>Monday</th>\n",
              "      <th>Saturday</th>\n",
              "      <th>Sunday</th>\n",
              "      <th>Thursday</th>\n",
              "      <th>Tuesday</th>\n",
              "      <th>Wednesday</th>\n",
              "      <th>Friday</th>\n",
              "      <th>Monday</th>\n",
              "      <th>Saturday</th>\n",
              "      <th>Sunday</th>\n",
              "      <th>Thursday</th>\n",
              "      <th>Tuesday</th>\n",
              "      <th>Wednesday</th>\n",
              "      <th>Friday</th>\n",
              "      <th>Monday</th>\n",
              "      <th>Saturday</th>\n",
              "      <th>Sunday</th>\n",
              "      <th>Thursday</th>\n",
              "      <th>Tuesday</th>\n",
              "      <th>Wednesday</th>\n",
              "      <th>Friday</th>\n",
              "      <th>Monday</th>\n",
              "      <th>Saturday</th>\n",
              "      <th>Sunday</th>\n",
              "      <th>Thursday</th>\n",
              "      <th>Tuesday</th>\n",
              "      <th>Wednesday</th>\n",
              "    </tr>\n",
              "    <tr>\n",
              "      <th>customer_id</th>\n",
              "      <th></th>\n",
              "      <th></th>\n",
              "      <th></th>\n",
              "      <th></th>\n",
              "      <th></th>\n",
              "      <th></th>\n",
              "      <th></th>\n",
              "      <th></th>\n",
              "      <th></th>\n",
              "      <th></th>\n",
              "      <th></th>\n",
              "      <th></th>\n",
              "      <th></th>\n",
              "      <th></th>\n",
              "      <th></th>\n",
              "      <th></th>\n",
              "      <th></th>\n",
              "      <th></th>\n",
              "      <th></th>\n",
              "      <th></th>\n",
              "      <th></th>\n",
              "      <th></th>\n",
              "      <th></th>\n",
              "      <th></th>\n",
              "      <th></th>\n",
              "      <th></th>\n",
              "      <th></th>\n",
              "      <th></th>\n",
              "      <th></th>\n",
              "      <th></th>\n",
              "      <th></th>\n",
              "      <th></th>\n",
              "      <th></th>\n",
              "      <th></th>\n",
              "      <th></th>\n",
              "    </tr>\n",
              "  </thead>\n",
              "  <tbody>\n",
              "    <tr>\n",
              "      <th>CS1112</th>\n",
              "      <td>1.0</td>\n",
              "      <td>0.0</td>\n",
              "      <td>0.0</td>\n",
              "      <td>1.0</td>\n",
              "      <td>0.0</td>\n",
              "      <td>0.0</td>\n",
              "      <td>1.0</td>\n",
              "      <td>0.0</td>\n",
              "      <td>0.0</td>\n",
              "      <td>1.0</td>\n",
              "      <td>3.0</td>\n",
              "      <td>0.0</td>\n",
              "      <td>1.0</td>\n",
              "      <td>0.0</td>\n",
              "      <td>1.0</td>\n",
              "      <td>1.0</td>\n",
              "      <td>0.0</td>\n",
              "      <td>0.0</td>\n",
              "      <td>0.0</td>\n",
              "      <td>0.0</td>\n",
              "      <td>1.0</td>\n",
              "      <td>0.0</td>\n",
              "      <td>0.0</td>\n",
              "      <td>0.0</td>\n",
              "      <td>0.0</td>\n",
              "      <td>1.0</td>\n",
              "      <td>1.0</td>\n",
              "      <td>1.0</td>\n",
              "      <td>0.0</td>\n",
              "      <td>0.0</td>\n",
              "      <td>0.0</td>\n",
              "      <td>0.0</td>\n",
              "      <td>0.0</td>\n",
              "      <td>0.0</td>\n",
              "      <td>1.0</td>\n",
              "    </tr>\n",
              "    <tr>\n",
              "      <th>CS1113</th>\n",
              "      <td>1.0</td>\n",
              "      <td>1.0</td>\n",
              "      <td>0.0</td>\n",
              "      <td>1.0</td>\n",
              "      <td>0.0</td>\n",
              "      <td>0.0</td>\n",
              "      <td>0.0</td>\n",
              "      <td>2.0</td>\n",
              "      <td>1.0</td>\n",
              "      <td>0.0</td>\n",
              "      <td>0.0</td>\n",
              "      <td>0.0</td>\n",
              "      <td>1.0</td>\n",
              "      <td>1.0</td>\n",
              "      <td>0.0</td>\n",
              "      <td>1.0</td>\n",
              "      <td>1.0</td>\n",
              "      <td>0.0</td>\n",
              "      <td>0.0</td>\n",
              "      <td>2.0</td>\n",
              "      <td>1.0</td>\n",
              "      <td>0.0</td>\n",
              "      <td>0.0</td>\n",
              "      <td>1.0</td>\n",
              "      <td>0.0</td>\n",
              "      <td>0.0</td>\n",
              "      <td>3.0</td>\n",
              "      <td>0.0</td>\n",
              "      <td>0.0</td>\n",
              "      <td>2.0</td>\n",
              "      <td>0.0</td>\n",
              "      <td>0.0</td>\n",
              "      <td>0.0</td>\n",
              "      <td>0.0</td>\n",
              "      <td>1.0</td>\n",
              "    </tr>\n",
              "    <tr>\n",
              "      <th>CS1114</th>\n",
              "      <td>0.0</td>\n",
              "      <td>1.0</td>\n",
              "      <td>0.0</td>\n",
              "      <td>1.0</td>\n",
              "      <td>1.0</td>\n",
              "      <td>0.0</td>\n",
              "      <td>2.0</td>\n",
              "      <td>0.0</td>\n",
              "      <td>0.0</td>\n",
              "      <td>1.0</td>\n",
              "      <td>1.0</td>\n",
              "      <td>0.0</td>\n",
              "      <td>0.0</td>\n",
              "      <td>0.0</td>\n",
              "      <td>0.0</td>\n",
              "      <td>1.0</td>\n",
              "      <td>0.0</td>\n",
              "      <td>1.0</td>\n",
              "      <td>2.0</td>\n",
              "      <td>0.0</td>\n",
              "      <td>1.0</td>\n",
              "      <td>1.0</td>\n",
              "      <td>1.0</td>\n",
              "      <td>1.0</td>\n",
              "      <td>1.0</td>\n",
              "      <td>0.0</td>\n",
              "      <td>1.0</td>\n",
              "      <td>1.0</td>\n",
              "      <td>0.0</td>\n",
              "      <td>0.0</td>\n",
              "      <td>0.0</td>\n",
              "      <td>0.0</td>\n",
              "      <td>1.0</td>\n",
              "      <td>0.0</td>\n",
              "      <td>0.0</td>\n",
              "    </tr>\n",
              "    <tr>\n",
              "      <th>CS1115</th>\n",
              "      <td>0.0</td>\n",
              "      <td>0.0</td>\n",
              "      <td>1.0</td>\n",
              "      <td>1.0</td>\n",
              "      <td>0.0</td>\n",
              "      <td>0.0</td>\n",
              "      <td>1.0</td>\n",
              "      <td>1.0</td>\n",
              "      <td>1.0</td>\n",
              "      <td>0.0</td>\n",
              "      <td>2.0</td>\n",
              "      <td>1.0</td>\n",
              "      <td>1.0</td>\n",
              "      <td>1.0</td>\n",
              "      <td>0.0</td>\n",
              "      <td>1.0</td>\n",
              "      <td>2.0</td>\n",
              "      <td>0.0</td>\n",
              "      <td>2.0</td>\n",
              "      <td>0.0</td>\n",
              "      <td>2.0</td>\n",
              "      <td>0.0</td>\n",
              "      <td>0.0</td>\n",
              "      <td>0.0</td>\n",
              "      <td>0.0</td>\n",
              "      <td>2.0</td>\n",
              "      <td>0.0</td>\n",
              "      <td>2.0</td>\n",
              "      <td>0.0</td>\n",
              "      <td>0.0</td>\n",
              "      <td>0.0</td>\n",
              "      <td>0.0</td>\n",
              "      <td>1.0</td>\n",
              "      <td>0.0</td>\n",
              "      <td>0.0</td>\n",
              "    </tr>\n",
              "    <tr>\n",
              "      <th>CS1116</th>\n",
              "      <td>1.0</td>\n",
              "      <td>1.0</td>\n",
              "      <td>0.0</td>\n",
              "      <td>0.0</td>\n",
              "      <td>1.0</td>\n",
              "      <td>1.0</td>\n",
              "      <td>0.0</td>\n",
              "      <td>1.0</td>\n",
              "      <td>0.0</td>\n",
              "      <td>0.0</td>\n",
              "      <td>0.0</td>\n",
              "      <td>1.0</td>\n",
              "      <td>1.0</td>\n",
              "      <td>0.0</td>\n",
              "      <td>1.0</td>\n",
              "      <td>0.0</td>\n",
              "      <td>0.0</td>\n",
              "      <td>0.0</td>\n",
              "      <td>0.0</td>\n",
              "      <td>0.0</td>\n",
              "      <td>0.0</td>\n",
              "      <td>3.0</td>\n",
              "      <td>1.0</td>\n",
              "      <td>0.0</td>\n",
              "      <td>1.0</td>\n",
              "      <td>0.0</td>\n",
              "      <td>0.0</td>\n",
              "      <td>0.0</td>\n",
              "      <td>0.0</td>\n",
              "      <td>0.0</td>\n",
              "      <td>0.0</td>\n",
              "      <td>0.0</td>\n",
              "      <td>0.0</td>\n",
              "      <td>0.0</td>\n",
              "      <td>0.0</td>\n",
              "    </tr>\n",
              "  </tbody>\n",
              "</table>\n",
              "</div>"
            ],
            "text/plain": [
              "YEAR          2011                         ...   2015                           \n",
              "day_name    Friday Monday Saturday Sunday  ... Sunday Thursday Tuesday Wednesday\n",
              "customer_id                                ...                                  \n",
              "CS1112         1.0    0.0      0.0    1.0  ...    0.0      0.0     0.0       1.0\n",
              "CS1113         1.0    1.0      0.0    1.0  ...    0.0      0.0     0.0       1.0\n",
              "CS1114         0.0    1.0      0.0    1.0  ...    0.0      1.0     0.0       0.0\n",
              "CS1115         0.0    0.0      1.0    1.0  ...    0.0      1.0     0.0       0.0\n",
              "CS1116         1.0    1.0      0.0    0.0  ...    0.0      0.0     0.0       0.0\n",
              "\n",
              "[5 rows x 35 columns]"
            ]
          },
          "metadata": {},
          "execution_count": 63
        }
      ]
    },
    {
      "cell_type": "code",
      "metadata": {
        "colab": {
          "base_uri": "https://localhost:8080/",
          "height": 255
        },
        "id": "WvfNjRVeMnZL",
        "outputId": "93a5d16a-1398-4fce-d97f-74aa8c8a42ea"
      },
      "source": [
        "level_0 = annual_day_of_week_counts_pivot.columns.get_level_values(0).astype(str)\n",
        "level_1 = annual_day_of_week_counts_pivot.columns.get_level_values(1).astype(str)\n",
        "annual_day_of_week_counts_pivot.columns = 'cnt_'+ level_0 + '_' + level_1\n",
        "annual_day_of_week_counts_pivot = annual_day_of_week_counts_pivot.astype(int)\n",
        "annual_day_of_week_counts_pivot.head()"
      ],
      "execution_count": 64,
      "outputs": [
        {
          "output_type": "execute_result",
          "data": {
            "text/html": [
              "<div>\n",
              "<style scoped>\n",
              "    .dataframe tbody tr th:only-of-type {\n",
              "        vertical-align: middle;\n",
              "    }\n",
              "\n",
              "    .dataframe tbody tr th {\n",
              "        vertical-align: top;\n",
              "    }\n",
              "\n",
              "    .dataframe thead th {\n",
              "        text-align: right;\n",
              "    }\n",
              "</style>\n",
              "<table border=\"1\" class=\"dataframe\">\n",
              "  <thead>\n",
              "    <tr style=\"text-align: right;\">\n",
              "      <th></th>\n",
              "      <th>cnt_2011_Friday</th>\n",
              "      <th>cnt_2011_Monday</th>\n",
              "      <th>cnt_2011_Saturday</th>\n",
              "      <th>cnt_2011_Sunday</th>\n",
              "      <th>cnt_2011_Thursday</th>\n",
              "      <th>cnt_2011_Tuesday</th>\n",
              "      <th>cnt_2011_Wednesday</th>\n",
              "      <th>cnt_2012_Friday</th>\n",
              "      <th>cnt_2012_Monday</th>\n",
              "      <th>cnt_2012_Saturday</th>\n",
              "      <th>cnt_2012_Sunday</th>\n",
              "      <th>cnt_2012_Thursday</th>\n",
              "      <th>cnt_2012_Tuesday</th>\n",
              "      <th>cnt_2012_Wednesday</th>\n",
              "      <th>cnt_2013_Friday</th>\n",
              "      <th>cnt_2013_Monday</th>\n",
              "      <th>cnt_2013_Saturday</th>\n",
              "      <th>cnt_2013_Sunday</th>\n",
              "      <th>cnt_2013_Thursday</th>\n",
              "      <th>cnt_2013_Tuesday</th>\n",
              "      <th>cnt_2013_Wednesday</th>\n",
              "      <th>cnt_2014_Friday</th>\n",
              "      <th>cnt_2014_Monday</th>\n",
              "      <th>cnt_2014_Saturday</th>\n",
              "      <th>cnt_2014_Sunday</th>\n",
              "      <th>cnt_2014_Thursday</th>\n",
              "      <th>cnt_2014_Tuesday</th>\n",
              "      <th>cnt_2014_Wednesday</th>\n",
              "      <th>cnt_2015_Friday</th>\n",
              "      <th>cnt_2015_Monday</th>\n",
              "      <th>cnt_2015_Saturday</th>\n",
              "      <th>cnt_2015_Sunday</th>\n",
              "      <th>cnt_2015_Thursday</th>\n",
              "      <th>cnt_2015_Tuesday</th>\n",
              "      <th>cnt_2015_Wednesday</th>\n",
              "    </tr>\n",
              "    <tr>\n",
              "      <th>customer_id</th>\n",
              "      <th></th>\n",
              "      <th></th>\n",
              "      <th></th>\n",
              "      <th></th>\n",
              "      <th></th>\n",
              "      <th></th>\n",
              "      <th></th>\n",
              "      <th></th>\n",
              "      <th></th>\n",
              "      <th></th>\n",
              "      <th></th>\n",
              "      <th></th>\n",
              "      <th></th>\n",
              "      <th></th>\n",
              "      <th></th>\n",
              "      <th></th>\n",
              "      <th></th>\n",
              "      <th></th>\n",
              "      <th></th>\n",
              "      <th></th>\n",
              "      <th></th>\n",
              "      <th></th>\n",
              "      <th></th>\n",
              "      <th></th>\n",
              "      <th></th>\n",
              "      <th></th>\n",
              "      <th></th>\n",
              "      <th></th>\n",
              "      <th></th>\n",
              "      <th></th>\n",
              "      <th></th>\n",
              "      <th></th>\n",
              "      <th></th>\n",
              "      <th></th>\n",
              "      <th></th>\n",
              "    </tr>\n",
              "  </thead>\n",
              "  <tbody>\n",
              "    <tr>\n",
              "      <th>CS1112</th>\n",
              "      <td>1</td>\n",
              "      <td>0</td>\n",
              "      <td>0</td>\n",
              "      <td>1</td>\n",
              "      <td>0</td>\n",
              "      <td>0</td>\n",
              "      <td>1</td>\n",
              "      <td>0</td>\n",
              "      <td>0</td>\n",
              "      <td>1</td>\n",
              "      <td>3</td>\n",
              "      <td>0</td>\n",
              "      <td>1</td>\n",
              "      <td>0</td>\n",
              "      <td>1</td>\n",
              "      <td>1</td>\n",
              "      <td>0</td>\n",
              "      <td>0</td>\n",
              "      <td>0</td>\n",
              "      <td>0</td>\n",
              "      <td>1</td>\n",
              "      <td>0</td>\n",
              "      <td>0</td>\n",
              "      <td>0</td>\n",
              "      <td>0</td>\n",
              "      <td>1</td>\n",
              "      <td>1</td>\n",
              "      <td>1</td>\n",
              "      <td>0</td>\n",
              "      <td>0</td>\n",
              "      <td>0</td>\n",
              "      <td>0</td>\n",
              "      <td>0</td>\n",
              "      <td>0</td>\n",
              "      <td>1</td>\n",
              "    </tr>\n",
              "    <tr>\n",
              "      <th>CS1113</th>\n",
              "      <td>1</td>\n",
              "      <td>1</td>\n",
              "      <td>0</td>\n",
              "      <td>1</td>\n",
              "      <td>0</td>\n",
              "      <td>0</td>\n",
              "      <td>0</td>\n",
              "      <td>2</td>\n",
              "      <td>1</td>\n",
              "      <td>0</td>\n",
              "      <td>0</td>\n",
              "      <td>0</td>\n",
              "      <td>1</td>\n",
              "      <td>1</td>\n",
              "      <td>0</td>\n",
              "      <td>1</td>\n",
              "      <td>1</td>\n",
              "      <td>0</td>\n",
              "      <td>0</td>\n",
              "      <td>2</td>\n",
              "      <td>1</td>\n",
              "      <td>0</td>\n",
              "      <td>0</td>\n",
              "      <td>1</td>\n",
              "      <td>0</td>\n",
              "      <td>0</td>\n",
              "      <td>3</td>\n",
              "      <td>0</td>\n",
              "      <td>0</td>\n",
              "      <td>2</td>\n",
              "      <td>0</td>\n",
              "      <td>0</td>\n",
              "      <td>0</td>\n",
              "      <td>0</td>\n",
              "      <td>1</td>\n",
              "    </tr>\n",
              "    <tr>\n",
              "      <th>CS1114</th>\n",
              "      <td>0</td>\n",
              "      <td>1</td>\n",
              "      <td>0</td>\n",
              "      <td>1</td>\n",
              "      <td>1</td>\n",
              "      <td>0</td>\n",
              "      <td>2</td>\n",
              "      <td>0</td>\n",
              "      <td>0</td>\n",
              "      <td>1</td>\n",
              "      <td>1</td>\n",
              "      <td>0</td>\n",
              "      <td>0</td>\n",
              "      <td>0</td>\n",
              "      <td>0</td>\n",
              "      <td>1</td>\n",
              "      <td>0</td>\n",
              "      <td>1</td>\n",
              "      <td>2</td>\n",
              "      <td>0</td>\n",
              "      <td>1</td>\n",
              "      <td>1</td>\n",
              "      <td>1</td>\n",
              "      <td>1</td>\n",
              "      <td>1</td>\n",
              "      <td>0</td>\n",
              "      <td>1</td>\n",
              "      <td>1</td>\n",
              "      <td>0</td>\n",
              "      <td>0</td>\n",
              "      <td>0</td>\n",
              "      <td>0</td>\n",
              "      <td>1</td>\n",
              "      <td>0</td>\n",
              "      <td>0</td>\n",
              "    </tr>\n",
              "    <tr>\n",
              "      <th>CS1115</th>\n",
              "      <td>0</td>\n",
              "      <td>0</td>\n",
              "      <td>1</td>\n",
              "      <td>1</td>\n",
              "      <td>0</td>\n",
              "      <td>0</td>\n",
              "      <td>1</td>\n",
              "      <td>1</td>\n",
              "      <td>1</td>\n",
              "      <td>0</td>\n",
              "      <td>2</td>\n",
              "      <td>1</td>\n",
              "      <td>1</td>\n",
              "      <td>1</td>\n",
              "      <td>0</td>\n",
              "      <td>1</td>\n",
              "      <td>2</td>\n",
              "      <td>0</td>\n",
              "      <td>2</td>\n",
              "      <td>0</td>\n",
              "      <td>2</td>\n",
              "      <td>0</td>\n",
              "      <td>0</td>\n",
              "      <td>0</td>\n",
              "      <td>0</td>\n",
              "      <td>2</td>\n",
              "      <td>0</td>\n",
              "      <td>2</td>\n",
              "      <td>0</td>\n",
              "      <td>0</td>\n",
              "      <td>0</td>\n",
              "      <td>0</td>\n",
              "      <td>1</td>\n",
              "      <td>0</td>\n",
              "      <td>0</td>\n",
              "    </tr>\n",
              "    <tr>\n",
              "      <th>CS1116</th>\n",
              "      <td>1</td>\n",
              "      <td>1</td>\n",
              "      <td>0</td>\n",
              "      <td>0</td>\n",
              "      <td>1</td>\n",
              "      <td>1</td>\n",
              "      <td>0</td>\n",
              "      <td>1</td>\n",
              "      <td>0</td>\n",
              "      <td>0</td>\n",
              "      <td>0</td>\n",
              "      <td>1</td>\n",
              "      <td>1</td>\n",
              "      <td>0</td>\n",
              "      <td>1</td>\n",
              "      <td>0</td>\n",
              "      <td>0</td>\n",
              "      <td>0</td>\n",
              "      <td>0</td>\n",
              "      <td>0</td>\n",
              "      <td>0</td>\n",
              "      <td>3</td>\n",
              "      <td>1</td>\n",
              "      <td>0</td>\n",
              "      <td>1</td>\n",
              "      <td>0</td>\n",
              "      <td>0</td>\n",
              "      <td>0</td>\n",
              "      <td>0</td>\n",
              "      <td>0</td>\n",
              "      <td>0</td>\n",
              "      <td>0</td>\n",
              "      <td>0</td>\n",
              "      <td>0</td>\n",
              "      <td>0</td>\n",
              "    </tr>\n",
              "  </tbody>\n",
              "</table>\n",
              "</div>"
            ],
            "text/plain": [
              "             cnt_2011_Friday  ...  cnt_2015_Wednesday\n",
              "customer_id                   ...                    \n",
              "CS1112                     1  ...                   1\n",
              "CS1113                     1  ...                   1\n",
              "CS1114                     0  ...                   0\n",
              "CS1115                     0  ...                   0\n",
              "CS1116                     1  ...                   0\n",
              "\n",
              "[5 rows x 35 columns]"
            ]
          },
          "metadata": {},
          "execution_count": 64
        }
      ]
    },
    {
      "cell_type": "markdown",
      "metadata": {
        "id": "x6jGhXLtU8c_"
      },
      "source": [
        "4. Confirm that your output has the same number of rows as the final output in section 1.2and save it asannualdayofweekcountspivot.xlsx. How many features/columnsdid you create in this section?\n",
        "\n"
      ]
    },
    {
      "cell_type": "code",
      "metadata": {
        "colab": {
          "base_uri": "https://localhost:8080/"
        },
        "id": "f9NolSoPNVT6",
        "outputId": "9321bb95-d573-4156-b74c-3e30c359e1d6"
      },
      "source": [
        "print('Number of rows confirmation : {}'.format(annual_day_of_week_counts_pivot.shape[0] == clnt_annual_aggregations_pivot.shape[0]))"
      ],
      "execution_count": 86,
      "outputs": [
        {
          "output_type": "stream",
          "name": "stdout",
          "text": [
            "Number of rows confirmation : True\n"
          ]
        }
      ]
    },
    {
      "cell_type": "code",
      "metadata": {
        "colab": {
          "base_uri": "https://localhost:8080/"
        },
        "id": "vO3LPlEXuxxg",
        "outputId": "997f9f16-1501-461a-8dd4-14797dad1042"
      },
      "source": [
        "print('Number of features {}'.format(annual_day_of_week_counts_pivot.shape[1]))"
      ],
      "execution_count": 66,
      "outputs": [
        {
          "output_type": "stream",
          "name": "stdout",
          "text": [
            "Number of features 35\n"
          ]
        }
      ]
    },
    {
      "cell_type": "code",
      "metadata": {
        "id": "XJlZD5cQNfU-"
      },
      "source": [
        "#annual_day_of_week_counts_pivot.to_excel('annual_day_of_week_counts_pivot.xlsx')"
      ],
      "execution_count": 67,
      "outputs": []
    },
    {
      "cell_type": "markdown",
      "metadata": {
        "id": "1xO3Z95jVDYL"
      },
      "source": [
        "5.  Similarly,  generate  the  features  that  capture  the  count  of  transactions  per  client,month-end-date  and  day  of  the  week.   In  contrast  with  the  annual  pivot  table  inthe previous step, here you want to create the pivot with [’customerid’, ’MEDT’] asindex to obtain the following output dataframe."
      ]
    },
    {
      "cell_type": "code",
      "metadata": {
        "id": "WQ-vN-ScNi6c"
      },
      "source": [
        "month_df = txn.groupby(['customer_id','ME_DT','day_name'])['tran_amount'].count()\n",
        "month_df = month_df.unstack(level=2) \n",
        "month_df.fillna(0,inplace=True)"
      ],
      "execution_count": 68,
      "outputs": []
    },
    {
      "cell_type": "code",
      "metadata": {
        "colab": {
          "base_uri": "https://localhost:8080/",
          "height": 235
        },
        "id": "sTXyR0x6NzvR",
        "outputId": "2ffb5a29-e238-4212-9b07-ce5c53d395b8"
      },
      "source": [
        "month_df.columns = 'cnt_' + month_df.columns.values\n",
        "month_df = month_df.astype(int)\n",
        "month_df.head()"
      ],
      "execution_count": 69,
      "outputs": [
        {
          "output_type": "execute_result",
          "data": {
            "text/html": [
              "<div>\n",
              "<style scoped>\n",
              "    .dataframe tbody tr th:only-of-type {\n",
              "        vertical-align: middle;\n",
              "    }\n",
              "\n",
              "    .dataframe tbody tr th {\n",
              "        vertical-align: top;\n",
              "    }\n",
              "\n",
              "    .dataframe thead th {\n",
              "        text-align: right;\n",
              "    }\n",
              "</style>\n",
              "<table border=\"1\" class=\"dataframe\">\n",
              "  <thead>\n",
              "    <tr style=\"text-align: right;\">\n",
              "      <th></th>\n",
              "      <th></th>\n",
              "      <th>cnt_Friday</th>\n",
              "      <th>cnt_Monday</th>\n",
              "      <th>cnt_Saturday</th>\n",
              "      <th>cnt_Sunday</th>\n",
              "      <th>cnt_Thursday</th>\n",
              "      <th>cnt_Tuesday</th>\n",
              "      <th>cnt_Wednesday</th>\n",
              "    </tr>\n",
              "    <tr>\n",
              "      <th>customer_id</th>\n",
              "      <th>ME_DT</th>\n",
              "      <th></th>\n",
              "      <th></th>\n",
              "      <th></th>\n",
              "      <th></th>\n",
              "      <th></th>\n",
              "      <th></th>\n",
              "      <th></th>\n",
              "    </tr>\n",
              "  </thead>\n",
              "  <tbody>\n",
              "    <tr>\n",
              "      <th rowspan=\"5\" valign=\"top\">CS1112</th>\n",
              "      <th>2011-06-30</th>\n",
              "      <td>0</td>\n",
              "      <td>0</td>\n",
              "      <td>0</td>\n",
              "      <td>0</td>\n",
              "      <td>0</td>\n",
              "      <td>0</td>\n",
              "      <td>1</td>\n",
              "    </tr>\n",
              "    <tr>\n",
              "      <th>2011-08-31</th>\n",
              "      <td>1</td>\n",
              "      <td>0</td>\n",
              "      <td>0</td>\n",
              "      <td>0</td>\n",
              "      <td>0</td>\n",
              "      <td>0</td>\n",
              "      <td>0</td>\n",
              "    </tr>\n",
              "    <tr>\n",
              "      <th>2011-10-31</th>\n",
              "      <td>0</td>\n",
              "      <td>0</td>\n",
              "      <td>0</td>\n",
              "      <td>1</td>\n",
              "      <td>0</td>\n",
              "      <td>0</td>\n",
              "      <td>0</td>\n",
              "    </tr>\n",
              "    <tr>\n",
              "      <th>2012-04-30</th>\n",
              "      <td>0</td>\n",
              "      <td>0</td>\n",
              "      <td>0</td>\n",
              "      <td>1</td>\n",
              "      <td>0</td>\n",
              "      <td>0</td>\n",
              "      <td>0</td>\n",
              "    </tr>\n",
              "    <tr>\n",
              "      <th>2012-06-30</th>\n",
              "      <td>0</td>\n",
              "      <td>0</td>\n",
              "      <td>0</td>\n",
              "      <td>1</td>\n",
              "      <td>0</td>\n",
              "      <td>0</td>\n",
              "      <td>0</td>\n",
              "    </tr>\n",
              "  </tbody>\n",
              "</table>\n",
              "</div>"
            ],
            "text/plain": [
              "                        cnt_Friday  cnt_Monday  ...  cnt_Tuesday  cnt_Wednesday\n",
              "customer_id ME_DT                               ...                            \n",
              "CS1112      2011-06-30           0           0  ...            0              1\n",
              "            2011-08-31           1           0  ...            0              0\n",
              "            2011-10-31           0           0  ...            0              0\n",
              "            2012-04-30           0           0  ...            0              0\n",
              "            2012-06-30           0           0  ...            0              0\n",
              "\n",
              "[5 rows x 7 columns]"
            ]
          },
          "metadata": {},
          "execution_count": 69
        }
      ]
    },
    {
      "cell_type": "markdown",
      "metadata": {
        "id": "OYiMGQoBVP8n"
      },
      "source": [
        "6.  Join  withbasetablepdas  you  did  in  section  1.5  and  impute  with  your  choice  ofvalue for NaN. Save the final output asmthdaycounts.xlxs."
      ]
    },
    {
      "cell_type": "code",
      "metadata": {
        "colab": {
          "base_uri": "https://localhost:8080/",
          "height": 204
        },
        "id": "xSinX9HjN5Pz",
        "outputId": "5386d6c9-738b-49f9-e081-94934c8d5775"
      },
      "source": [
        "day_counts = base_table_pd.join(month_df,on = [\"CLNT_NO\", \"ME_DT\"])\n",
        "day_counts = day_counts.sort_values(by = [\"CLNT_NO\",\"ME_DT\"]).fillna(0)\n",
        "day_counts.head()"
      ],
      "execution_count": 70,
      "outputs": [
        {
          "output_type": "execute_result",
          "data": {
            "text/html": [
              "<div>\n",
              "<style scoped>\n",
              "    .dataframe tbody tr th:only-of-type {\n",
              "        vertical-align: middle;\n",
              "    }\n",
              "\n",
              "    .dataframe tbody tr th {\n",
              "        vertical-align: top;\n",
              "    }\n",
              "\n",
              "    .dataframe thead th {\n",
              "        text-align: right;\n",
              "    }\n",
              "</style>\n",
              "<table border=\"1\" class=\"dataframe\">\n",
              "  <thead>\n",
              "    <tr style=\"text-align: right;\">\n",
              "      <th></th>\n",
              "      <th>CLNT_NO</th>\n",
              "      <th>ME_DT</th>\n",
              "      <th>cnt_Friday</th>\n",
              "      <th>cnt_Monday</th>\n",
              "      <th>cnt_Saturday</th>\n",
              "      <th>cnt_Sunday</th>\n",
              "      <th>cnt_Thursday</th>\n",
              "      <th>cnt_Tuesday</th>\n",
              "      <th>cnt_Wednesday</th>\n",
              "    </tr>\n",
              "  </thead>\n",
              "  <tbody>\n",
              "    <tr>\n",
              "      <th>157064</th>\n",
              "      <td>CS1112</td>\n",
              "      <td>2011-05-31</td>\n",
              "      <td>0.0</td>\n",
              "      <td>0.0</td>\n",
              "      <td>0.0</td>\n",
              "      <td>0.0</td>\n",
              "      <td>0.0</td>\n",
              "      <td>0.0</td>\n",
              "      <td>0.0</td>\n",
              "    </tr>\n",
              "    <tr>\n",
              "      <th>157058</th>\n",
              "      <td>CS1112</td>\n",
              "      <td>2011-06-30</td>\n",
              "      <td>0.0</td>\n",
              "      <td>0.0</td>\n",
              "      <td>0.0</td>\n",
              "      <td>0.0</td>\n",
              "      <td>0.0</td>\n",
              "      <td>0.0</td>\n",
              "      <td>1.0</td>\n",
              "    </tr>\n",
              "    <tr>\n",
              "      <th>157044</th>\n",
              "      <td>CS1112</td>\n",
              "      <td>2011-07-31</td>\n",
              "      <td>0.0</td>\n",
              "      <td>0.0</td>\n",
              "      <td>0.0</td>\n",
              "      <td>0.0</td>\n",
              "      <td>0.0</td>\n",
              "      <td>0.0</td>\n",
              "      <td>0.0</td>\n",
              "    </tr>\n",
              "    <tr>\n",
              "      <th>157069</th>\n",
              "      <td>CS1112</td>\n",
              "      <td>2011-08-31</td>\n",
              "      <td>1.0</td>\n",
              "      <td>0.0</td>\n",
              "      <td>0.0</td>\n",
              "      <td>0.0</td>\n",
              "      <td>0.0</td>\n",
              "      <td>0.0</td>\n",
              "      <td>0.0</td>\n",
              "    </tr>\n",
              "    <tr>\n",
              "      <th>157060</th>\n",
              "      <td>CS1112</td>\n",
              "      <td>2011-09-30</td>\n",
              "      <td>0.0</td>\n",
              "      <td>0.0</td>\n",
              "      <td>0.0</td>\n",
              "      <td>0.0</td>\n",
              "      <td>0.0</td>\n",
              "      <td>0.0</td>\n",
              "      <td>0.0</td>\n",
              "    </tr>\n",
              "  </tbody>\n",
              "</table>\n",
              "</div>"
            ],
            "text/plain": [
              "       CLNT_NO      ME_DT  cnt_Friday  ...  cnt_Thursday  cnt_Tuesday  cnt_Wednesday\n",
              "157064  CS1112 2011-05-31         0.0  ...           0.0          0.0            0.0\n",
              "157058  CS1112 2011-06-30         0.0  ...           0.0          0.0            1.0\n",
              "157044  CS1112 2011-07-31         0.0  ...           0.0          0.0            0.0\n",
              "157069  CS1112 2011-08-31         1.0  ...           0.0          0.0            0.0\n",
              "157060  CS1112 2011-09-30         0.0  ...           0.0          0.0            0.0\n",
              "\n",
              "[5 rows x 9 columns]"
            ]
          },
          "metadata": {},
          "execution_count": 70
        }
      ]
    },
    {
      "cell_type": "code",
      "metadata": {
        "id": "3d8uWJY_ODeX"
      },
      "source": [
        "#month_end_aggregations.to_excel('mth_day_counts.xlsx')"
      ],
      "execution_count": 71,
      "outputs": []
    },
    {
      "cell_type": "markdown",
      "metadata": {
        "id": "bWATscZUVYUz"
      },
      "source": [
        "# 1.7  Date-related features: days since last transaction"
      ]
    },
    {
      "cell_type": "markdown",
      "metadata": {
        "id": "PzOSTSGRVaEn"
      },
      "source": [
        "1.  The  starting  point  is  again  thetxntable.   Recall  that  most  clients  have  a  singlepurchase  per  month,  but  some  clients  have  multiple  purchases  in  a  month.   Sinceyou want to calculate the ”days since last transaction”, you want to capture the lasttransaction in a month for every client."
      ]
    },
    {
      "cell_type": "code",
      "metadata": {
        "colab": {
          "base_uri": "https://localhost:8080/",
          "height": 235
        },
        "id": "Yrpm1tKDOIs5",
        "outputId": "3a742027-4b39-4165-cc30-ab66b920c0b7"
      },
      "source": [
        "last_monthly_purchase = pd.DataFrame(txn.groupby(['customer_id','ME_DT'])['txn_date'].max())\n",
        "last_monthly_purchase.rename(columns={'txn_date':'last_monthly_purchase'},inplace=True)\n",
        "last_monthly_purchase.head()"
      ],
      "execution_count": 72,
      "outputs": [
        {
          "output_type": "execute_result",
          "data": {
            "text/html": [
              "<div>\n",
              "<style scoped>\n",
              "    .dataframe tbody tr th:only-of-type {\n",
              "        vertical-align: middle;\n",
              "    }\n",
              "\n",
              "    .dataframe tbody tr th {\n",
              "        vertical-align: top;\n",
              "    }\n",
              "\n",
              "    .dataframe thead th {\n",
              "        text-align: right;\n",
              "    }\n",
              "</style>\n",
              "<table border=\"1\" class=\"dataframe\">\n",
              "  <thead>\n",
              "    <tr style=\"text-align: right;\">\n",
              "      <th></th>\n",
              "      <th></th>\n",
              "      <th>last_monthly_purchase</th>\n",
              "    </tr>\n",
              "    <tr>\n",
              "      <th>customer_id</th>\n",
              "      <th>ME_DT</th>\n",
              "      <th></th>\n",
              "    </tr>\n",
              "  </thead>\n",
              "  <tbody>\n",
              "    <tr>\n",
              "      <th rowspan=\"5\" valign=\"top\">CS1112</th>\n",
              "      <th>2011-06-30</th>\n",
              "      <td>2011-06-15</td>\n",
              "    </tr>\n",
              "    <tr>\n",
              "      <th>2011-08-31</th>\n",
              "      <td>2011-08-19</td>\n",
              "    </tr>\n",
              "    <tr>\n",
              "      <th>2011-10-31</th>\n",
              "      <td>2011-10-02</td>\n",
              "    </tr>\n",
              "    <tr>\n",
              "      <th>2012-04-30</th>\n",
              "      <td>2012-04-08</td>\n",
              "    </tr>\n",
              "    <tr>\n",
              "      <th>2012-06-30</th>\n",
              "      <td>2012-06-24</td>\n",
              "    </tr>\n",
              "  </tbody>\n",
              "</table>\n",
              "</div>"
            ],
            "text/plain": [
              "                       last_monthly_purchase\n",
              "customer_id ME_DT                           \n",
              "CS1112      2011-06-30            2011-06-15\n",
              "            2011-08-31            2011-08-19\n",
              "            2011-10-31            2011-10-02\n",
              "            2012-04-30            2012-04-08\n",
              "            2012-06-30            2012-06-24"
            ]
          },
          "metadata": {},
          "execution_count": 72
        }
      ]
    },
    {
      "cell_type": "markdown",
      "metadata": {
        "id": "m8_3-CgsVg2B"
      },
      "source": [
        "2.  Joinbasetablepdwithlastmonthlypurchaseas  you  did  in  section  1.5.   Thesnapshot below shows the output of the created objectlastmonthlypurchasebasefor client CS1112 who made her/his first purchase on June 2011, then no purchase onJuly and made a purchase again on August 2011.  What values will you use to imputethe NaT values here?  NaT stands for ”Not a Timestamp”."
      ]
    },
    {
      "cell_type": "code",
      "metadata": {
        "colab": {
          "base_uri": "https://localhost:8080/",
          "height": 204
        },
        "id": "2n9LEr0uOY5B",
        "outputId": "4e94d877-ac2e-4014-b88a-9ec218b61ee1"
      },
      "source": [
        "last_monthly_purchase_base = base_table_pd.join(last_monthly_purchase, on=['CLNT_NO','ME_DT'], how='left').sort_values(by=['CLNT_NO','ME_DT'])\n",
        "last_monthly_purchase_base.head()"
      ],
      "execution_count": 73,
      "outputs": [
        {
          "output_type": "execute_result",
          "data": {
            "text/html": [
              "<div>\n",
              "<style scoped>\n",
              "    .dataframe tbody tr th:only-of-type {\n",
              "        vertical-align: middle;\n",
              "    }\n",
              "\n",
              "    .dataframe tbody tr th {\n",
              "        vertical-align: top;\n",
              "    }\n",
              "\n",
              "    .dataframe thead th {\n",
              "        text-align: right;\n",
              "    }\n",
              "</style>\n",
              "<table border=\"1\" class=\"dataframe\">\n",
              "  <thead>\n",
              "    <tr style=\"text-align: right;\">\n",
              "      <th></th>\n",
              "      <th>CLNT_NO</th>\n",
              "      <th>ME_DT</th>\n",
              "      <th>last_monthly_purchase</th>\n",
              "    </tr>\n",
              "  </thead>\n",
              "  <tbody>\n",
              "    <tr>\n",
              "      <th>157064</th>\n",
              "      <td>CS1112</td>\n",
              "      <td>2011-05-31</td>\n",
              "      <td>NaT</td>\n",
              "    </tr>\n",
              "    <tr>\n",
              "      <th>157058</th>\n",
              "      <td>CS1112</td>\n",
              "      <td>2011-06-30</td>\n",
              "      <td>2011-06-15</td>\n",
              "    </tr>\n",
              "    <tr>\n",
              "      <th>157044</th>\n",
              "      <td>CS1112</td>\n",
              "      <td>2011-07-31</td>\n",
              "      <td>NaT</td>\n",
              "    </tr>\n",
              "    <tr>\n",
              "      <th>157069</th>\n",
              "      <td>CS1112</td>\n",
              "      <td>2011-08-31</td>\n",
              "      <td>2011-08-19</td>\n",
              "    </tr>\n",
              "    <tr>\n",
              "      <th>157060</th>\n",
              "      <td>CS1112</td>\n",
              "      <td>2011-09-30</td>\n",
              "      <td>NaT</td>\n",
              "    </tr>\n",
              "  </tbody>\n",
              "</table>\n",
              "</div>"
            ],
            "text/plain": [
              "       CLNT_NO      ME_DT last_monthly_purchase\n",
              "157064  CS1112 2011-05-31                   NaT\n",
              "157058  CS1112 2011-06-30            2011-06-15\n",
              "157044  CS1112 2011-07-31                   NaT\n",
              "157069  CS1112 2011-08-31            2011-08-19\n",
              "157060  CS1112 2011-09-30                   NaT"
            ]
          },
          "metadata": {},
          "execution_count": 73
        }
      ]
    },
    {
      "cell_type": "markdown",
      "metadata": {
        "id": "27NDLQvoVn8z"
      },
      "source": [
        "3.  To answer the imputation problem, we have to think what value should we use for sayJuly 2011 for ’lastmonthlypurchase’ ?  The answer is that in July the value for the last monthly purchase is the previous line value:  2011-06-15.  In other words, for everyclient we want to forward-fill the NaT values.While pandas fillna() method has a method to forward-fill,  here we want to use theapply  and  a  lambda  function  with  the  forward-fill  function  ffill(),  with  the  following expression:.apply(lambda x:  x.ffill()) applied on object last_monthly_purchase_base_grouped  by  CLNTNO.  Below,  I  am  showing  a  snapshot  for  lines[92:98] that confirm the transition between clients CS1113 and CS1114.You  can  also  recreate  the  forward-fill  with  the  fillna()  method,  however  there  is  adisadvantage and a reason the.apply() method is preferred here."
      ]
    },
    {
      "cell_type": "code",
      "metadata": {
        "id": "QcLlPZHyO3Xz"
      },
      "source": [
        "last_monthly_purchase_base = last_monthly_purchase_base.groupby('CLNT_NO').apply(lambda x: x.ffill())"
      ],
      "execution_count": 74,
      "outputs": []
    },
    {
      "cell_type": "code",
      "metadata": {
        "colab": {
          "base_uri": "https://localhost:8080/",
          "height": 235
        },
        "id": "5AFqBXSwPAJN",
        "outputId": "c3dba915-c1c9-4861-9fbe-3fa323ec9ed4"
      },
      "source": [
        "last_monthly_purchase_base[92:98]"
      ],
      "execution_count": 75,
      "outputs": [
        {
          "output_type": "execute_result",
          "data": {
            "text/html": [
              "<div>\n",
              "<style scoped>\n",
              "    .dataframe tbody tr th:only-of-type {\n",
              "        vertical-align: middle;\n",
              "    }\n",
              "\n",
              "    .dataframe tbody tr th {\n",
              "        vertical-align: top;\n",
              "    }\n",
              "\n",
              "    .dataframe thead th {\n",
              "        text-align: right;\n",
              "    }\n",
              "</style>\n",
              "<table border=\"1\" class=\"dataframe\">\n",
              "  <thead>\n",
              "    <tr style=\"text-align: right;\">\n",
              "      <th></th>\n",
              "      <th>CLNT_NO</th>\n",
              "      <th>ME_DT</th>\n",
              "      <th>last_monthly_purchase</th>\n",
              "    </tr>\n",
              "  </thead>\n",
              "  <tbody>\n",
              "    <tr>\n",
              "      <th>160011</th>\n",
              "      <td>CS1113</td>\n",
              "      <td>2015-02-28</td>\n",
              "      <td>2015-02-09</td>\n",
              "    </tr>\n",
              "    <tr>\n",
              "      <th>159989</th>\n",
              "      <td>CS1113</td>\n",
              "      <td>2015-03-31</td>\n",
              "      <td>2015-02-09</td>\n",
              "    </tr>\n",
              "    <tr>\n",
              "      <th>101134</th>\n",
              "      <td>CS1114</td>\n",
              "      <td>2011-05-31</td>\n",
              "      <td>NaT</td>\n",
              "    </tr>\n",
              "    <tr>\n",
              "      <th>101128</th>\n",
              "      <td>CS1114</td>\n",
              "      <td>2011-06-30</td>\n",
              "      <td>NaT</td>\n",
              "    </tr>\n",
              "    <tr>\n",
              "      <th>101114</th>\n",
              "      <td>CS1114</td>\n",
              "      <td>2011-07-31</td>\n",
              "      <td>2011-07-14</td>\n",
              "    </tr>\n",
              "    <tr>\n",
              "      <th>101139</th>\n",
              "      <td>CS1114</td>\n",
              "      <td>2011-08-31</td>\n",
              "      <td>2011-08-24</td>\n",
              "    </tr>\n",
              "  </tbody>\n",
              "</table>\n",
              "</div>"
            ],
            "text/plain": [
              "       CLNT_NO      ME_DT last_monthly_purchase\n",
              "160011  CS1113 2015-02-28            2015-02-09\n",
              "159989  CS1113 2015-03-31            2015-02-09\n",
              "101134  CS1114 2011-05-31                   NaT\n",
              "101128  CS1114 2011-06-30                   NaT\n",
              "101114  CS1114 2011-07-31            2011-07-14\n",
              "101139  CS1114 2011-08-31            2011-08-24"
            ]
          },
          "metadata": {},
          "execution_count": 75
        }
      ]
    },
    {
      "cell_type": "markdown",
      "metadata": {
        "id": "3R1JlAdEVv7J"
      },
      "source": [
        "4.  Subtract  the  two  date  columns  and  convert  the  output  to  .dt.days  to  calculate  thecolumn ’dayssincelasttxn’ as shown in the following snapshot."
      ]
    },
    {
      "cell_type": "code",
      "metadata": {
        "id": "JduZnSLqPAzo"
      },
      "source": [
        "last_monthly_purchase_base['days_since_last_txn'] = (last_monthly_purchase_base['ME_DT']-last_monthly_purchase_base['last_monthly_purchase']).dt.days"
      ],
      "execution_count": 76,
      "outputs": []
    },
    {
      "cell_type": "code",
      "metadata": {
        "colab": {
          "base_uri": "https://localhost:8080/",
          "height": 204
        },
        "id": "ZTrMmY9jPPsC",
        "outputId": "6530cb4e-0f0e-4e40-9b07-58e2138356a8"
      },
      "source": [
        "last_monthly_purchase_base.head()"
      ],
      "execution_count": 77,
      "outputs": [
        {
          "output_type": "execute_result",
          "data": {
            "text/html": [
              "<div>\n",
              "<style scoped>\n",
              "    .dataframe tbody tr th:only-of-type {\n",
              "        vertical-align: middle;\n",
              "    }\n",
              "\n",
              "    .dataframe tbody tr th {\n",
              "        vertical-align: top;\n",
              "    }\n",
              "\n",
              "    .dataframe thead th {\n",
              "        text-align: right;\n",
              "    }\n",
              "</style>\n",
              "<table border=\"1\" class=\"dataframe\">\n",
              "  <thead>\n",
              "    <tr style=\"text-align: right;\">\n",
              "      <th></th>\n",
              "      <th>CLNT_NO</th>\n",
              "      <th>ME_DT</th>\n",
              "      <th>last_monthly_purchase</th>\n",
              "      <th>days_since_last_txn</th>\n",
              "    </tr>\n",
              "  </thead>\n",
              "  <tbody>\n",
              "    <tr>\n",
              "      <th>157064</th>\n",
              "      <td>CS1112</td>\n",
              "      <td>2011-05-31</td>\n",
              "      <td>NaT</td>\n",
              "      <td>NaN</td>\n",
              "    </tr>\n",
              "    <tr>\n",
              "      <th>157058</th>\n",
              "      <td>CS1112</td>\n",
              "      <td>2011-06-30</td>\n",
              "      <td>2011-06-15</td>\n",
              "      <td>15.0</td>\n",
              "    </tr>\n",
              "    <tr>\n",
              "      <th>157044</th>\n",
              "      <td>CS1112</td>\n",
              "      <td>2011-07-31</td>\n",
              "      <td>2011-06-15</td>\n",
              "      <td>46.0</td>\n",
              "    </tr>\n",
              "    <tr>\n",
              "      <th>157069</th>\n",
              "      <td>CS1112</td>\n",
              "      <td>2011-08-31</td>\n",
              "      <td>2011-08-19</td>\n",
              "      <td>12.0</td>\n",
              "    </tr>\n",
              "    <tr>\n",
              "      <th>157060</th>\n",
              "      <td>CS1112</td>\n",
              "      <td>2011-09-30</td>\n",
              "      <td>2011-08-19</td>\n",
              "      <td>42.0</td>\n",
              "    </tr>\n",
              "  </tbody>\n",
              "</table>\n",
              "</div>"
            ],
            "text/plain": [
              "       CLNT_NO      ME_DT last_monthly_purchase  days_since_last_txn\n",
              "157064  CS1112 2011-05-31                   NaT                  NaN\n",
              "157058  CS1112 2011-06-30            2011-06-15                 15.0\n",
              "157044  CS1112 2011-07-31            2011-06-15                 46.0\n",
              "157069  CS1112 2011-08-31            2011-08-19                 12.0\n",
              "157060  CS1112 2011-09-30            2011-08-19                 42.0"
            ]
          },
          "metadata": {},
          "execution_count": 77
        }
      ]
    },
    {
      "cell_type": "markdown",
      "metadata": {
        "id": "a3YqX9KZVytQ"
      },
      "source": [
        "5.  Plot a histogram of the ’dayssincelasttxn’.  Based on the values you observe in thehistogram, impute the remaining NaN values (i.e.  for the initial months before a clientmakes a purchase).  Save the columns [’CLNTNO’, ’MEDT’, ’dayssincelasttxn’] asdayssincelasttxn.xlsx."
      ]
    },
    {
      "cell_type": "code",
      "metadata": {
        "colab": {
          "base_uri": "https://localhost:8080/",
          "height": 295
        },
        "id": "MjobUmt8PQHp",
        "outputId": "40e1ba73-271a-45f8-a938-9069d2212051"
      },
      "source": [
        "fig =  plt.figure()\n",
        "plt.hist(last_monthly_purchase_base['days_since_last_txn'])\n",
        "plt.title('Days since last transaction plot')\n",
        "plt.ylabel('Count')\n",
        "plt.xlabel('Days')\n",
        "plt.show()"
      ],
      "execution_count": 82,
      "outputs": [
        {
          "output_type": "display_data",
          "data": {
            "image/png": "[encoded data removed]",
            "text/plain": [
              "<Figure size 432x288 with 1 Axes>"
            ]
          },
          "metadata": {
            "needs_background": "light"
          }
        }
      ]
    },
    {
      "cell_type": "markdown",
      "metadata": {
        "id": "92_4DwH4XJqb"
      },
      "source": [
        "Since the distribution of data is skewed we replace the nan values with the median of the column."
      ]
    },
    {
      "cell_type": "code",
      "metadata": {
        "id": "NDiZweI3RcKX"
      },
      "source": [
        "median_last = last_monthly_purchase_base['days_since_last_txn'].median()"
      ],
      "execution_count": 79,
      "outputs": []
    },
    {
      "cell_type": "code",
      "metadata": {
        "id": "Bjd7BnrCwcUW",
        "colab": {
          "base_uri": "https://localhost:8080/",
          "height": 204
        },
        "outputId": "751f2f89-dc42-4a49-cdf5-95e6d636e417"
      },
      "source": [
        "last_monthly_purchase_base['days_since_last_txn'] = last_monthly_purchase_base['days_since_last_txn'].fillna(median_last)\n",
        "last_monthly_purchase_base.head()"
      ],
      "execution_count": 80,
      "outputs": [
        {
          "output_type": "execute_result",
          "data": {
            "text/html": [
              "<div>\n",
              "<style scoped>\n",
              "    .dataframe tbody tr th:only-of-type {\n",
              "        vertical-align: middle;\n",
              "    }\n",
              "\n",
              "    .dataframe tbody tr th {\n",
              "        vertical-align: top;\n",
              "    }\n",
              "\n",
              "    .dataframe thead th {\n",
              "        text-align: right;\n",
              "    }\n",
              "</style>\n",
              "<table border=\"1\" class=\"dataframe\">\n",
              "  <thead>\n",
              "    <tr style=\"text-align: right;\">\n",
              "      <th></th>\n",
              "      <th>CLNT_NO</th>\n",
              "      <th>ME_DT</th>\n",
              "      <th>last_monthly_purchase</th>\n",
              "      <th>days_since_last_txn</th>\n",
              "    </tr>\n",
              "  </thead>\n",
              "  <tbody>\n",
              "    <tr>\n",
              "      <th>157064</th>\n",
              "      <td>CS1112</td>\n",
              "      <td>2011-05-31</td>\n",
              "      <td>NaT</td>\n",
              "      <td>51.0</td>\n",
              "    </tr>\n",
              "    <tr>\n",
              "      <th>157058</th>\n",
              "      <td>CS1112</td>\n",
              "      <td>2011-06-30</td>\n",
              "      <td>2011-06-15</td>\n",
              "      <td>15.0</td>\n",
              "    </tr>\n",
              "    <tr>\n",
              "      <th>157044</th>\n",
              "      <td>CS1112</td>\n",
              "      <td>2011-07-31</td>\n",
              "      <td>2011-06-15</td>\n",
              "      <td>46.0</td>\n",
              "    </tr>\n",
              "    <tr>\n",
              "      <th>157069</th>\n",
              "      <td>CS1112</td>\n",
              "      <td>2011-08-31</td>\n",
              "      <td>2011-08-19</td>\n",
              "      <td>12.0</td>\n",
              "    </tr>\n",
              "    <tr>\n",
              "      <th>157060</th>\n",
              "      <td>CS1112</td>\n",
              "      <td>2011-09-30</td>\n",
              "      <td>2011-08-19</td>\n",
              "      <td>42.0</td>\n",
              "    </tr>\n",
              "  </tbody>\n",
              "</table>\n",
              "</div>"
            ],
            "text/plain": [
              "       CLNT_NO      ME_DT last_monthly_purchase  days_since_last_txn\n",
              "157064  CS1112 2011-05-31                   NaT                 51.0\n",
              "157058  CS1112 2011-06-30            2011-06-15                 15.0\n",
              "157044  CS1112 2011-07-31            2011-06-15                 46.0\n",
              "157069  CS1112 2011-08-31            2011-08-19                 12.0\n",
              "157060  CS1112 2011-09-30            2011-08-19                 42.0"
            ]
          },
          "metadata": {},
          "execution_count": 80
        }
      ]
    },
    {
      "cell_type": "code",
      "metadata": {
        "id": "R1kKd3KZRv1a"
      },
      "source": [
        "last_monthly_purchase_base[['CLNT_NO','ME_DT','days_since_last_txn']].to_excel('days_since_last_txn.xlsx',index=False)"
      ],
      "execution_count": 81,
      "outputs": []
    }
  ]
}
